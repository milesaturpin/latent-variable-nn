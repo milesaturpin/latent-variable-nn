{
 "cells": [
  {
   "cell_type": "code",
   "execution_count": 1,
   "metadata": {},
   "outputs": [
    {
     "name": "stderr",
     "output_type": "stream",
     "text": [
      "/Users/milesturpin/miniconda3/envs/latent2/lib/python3.7/site-packages/tensorflow/python/framework/dtypes.py:516: FutureWarning: Passing (type, 1) or '1type' as a synonym of type is deprecated; in a future version of numpy, it will be understood as (type, (1,)) / '(1,)type'.\n",
      "  _np_qint8 = np.dtype([(\"qint8\", np.int8, 1)])\n",
      "/Users/milesturpin/miniconda3/envs/latent2/lib/python3.7/site-packages/tensorflow/python/framework/dtypes.py:517: FutureWarning: Passing (type, 1) or '1type' as a synonym of type is deprecated; in a future version of numpy, it will be understood as (type, (1,)) / '(1,)type'.\n",
      "  _np_quint8 = np.dtype([(\"quint8\", np.uint8, 1)])\n",
      "/Users/milesturpin/miniconda3/envs/latent2/lib/python3.7/site-packages/tensorflow/python/framework/dtypes.py:518: FutureWarning: Passing (type, 1) or '1type' as a synonym of type is deprecated; in a future version of numpy, it will be understood as (type, (1,)) / '(1,)type'.\n",
      "  _np_qint16 = np.dtype([(\"qint16\", np.int16, 1)])\n",
      "/Users/milesturpin/miniconda3/envs/latent2/lib/python3.7/site-packages/tensorflow/python/framework/dtypes.py:519: FutureWarning: Passing (type, 1) or '1type' as a synonym of type is deprecated; in a future version of numpy, it will be understood as (type, (1,)) / '(1,)type'.\n",
      "  _np_quint16 = np.dtype([(\"quint16\", np.uint16, 1)])\n",
      "/Users/milesturpin/miniconda3/envs/latent2/lib/python3.7/site-packages/tensorflow/python/framework/dtypes.py:520: FutureWarning: Passing (type, 1) or '1type' as a synonym of type is deprecated; in a future version of numpy, it will be understood as (type, (1,)) / '(1,)type'.\n",
      "  _np_qint32 = np.dtype([(\"qint32\", np.int32, 1)])\n",
      "/Users/milesturpin/miniconda3/envs/latent2/lib/python3.7/site-packages/tensorflow/python/framework/dtypes.py:525: FutureWarning: Passing (type, 1) or '1type' as a synonym of type is deprecated; in a future version of numpy, it will be understood as (type, (1,)) / '(1,)type'.\n",
      "  np_resource = np.dtype([(\"resource\", np.ubyte, 1)])\n"
     ]
    }
   ],
   "source": [
    "import os\n",
    "from six.moves import urllib\n",
    "import numpy as np\n",
    "import pandas as pd\n",
    "import warnings\n",
    "\n",
    "from matplotlib import pyplot as plt\n",
    "#import seaborn as sns\n",
    "\n",
    "from IPython.core.pylabtools import figsize\n",
    "#figsize(11, 9)\n",
    "import time\n",
    "import tensorflow as tf\n",
    "import tensorflow_probability as tfp\n",
    "\n",
    "import sys\n",
    "sys.path.insert(1, '/Users/milesturpin/Dev/latent_variable_nn')\n",
    "sys.path.insert(1, '/Users/milesturpin/Dev/latent_variable_nn/models')\n",
    "\n",
    "from models.multilevel_layers import MultilevelDense\n",
    "\n",
    "from sklearn.model_selection import train_test_split\n",
    "from sklearn.metrics import mean_squared_error, r2_score\n",
    "\n",
    "from tensorflow.keras.utils import to_categorical\n",
    "\n",
    "from tensorflow.keras.layers import Input\n",
    "from tensorflow.keras.models import Model, Sequential\n",
    "import datetime\n",
    "\n",
    "\n",
    "tfd = tfp.distributions"
   ]
  },
  {
   "cell_type": "code",
   "execution_count": 2,
   "metadata": {},
   "outputs": [],
   "source": [
    "%load_ext tensorboard"
   ]
  },
  {
   "cell_type": "markdown",
   "metadata": {
    "toc-hr-collapsed": false
   },
   "source": [
    "# Fake data"
   ]
  },
  {
   "cell_type": "code",
   "execution_count": 3,
   "metadata": {},
   "outputs": [],
   "source": [
    "np.random.seed(7)"
   ]
  },
  {
   "cell_type": "markdown",
   "metadata": {},
   "source": [
    "#### diff data"
   ]
  },
  {
   "cell_type": "code",
   "execution_count": 4,
   "metadata": {},
   "outputs": [],
   "source": [
    "np.random.seed(7)\n",
    "\n",
    "n1=20+20\n",
    "x1 = np.random.randn(n1)\n",
    "gid1 = np.zeros(n1)\n",
    "y1 = 2*x1 + np.random.randn(n1)\n",
    "\n",
    "n2=10+10\n",
    "x2 = np.random.randn(n2)\n",
    "gid2 = np.zeros(n2) + 1\n",
    "y2 = 1.5*x2 + 2 +  np.random.randn(n2)\n",
    "\n",
    "n3=5+5\n",
    "x3 = np.random.randn(n3)\n",
    "gid3 = np.zeros(n3) + 2\n",
    "y3 = 1*x3 + 2 + np.random.randn(n3)"
   ]
  },
  {
   "cell_type": "markdown",
   "metadata": {},
   "source": [
    "#### same data"
   ]
  },
  {
   "cell_type": "code",
   "execution_count": 5,
   "metadata": {},
   "outputs": [],
   "source": [
    "np.random.seed(8)\n",
    "\n",
    "n1=20+20\n",
    "x1 = np.random.randn(n1)\n",
    "gid1 = (np.zeros(n1)).astype(np.int32)\n",
    "y1 = 1.2*x1 + np.random.randn(n1)/2\n",
    "\n",
    "n2=10+10\n",
    "x2 = np.random.randn(n2)\n",
    "gid2 = (np.zeros(n2) + 1).astype(np.int32)\n",
    "y2 = 0.8*x2 +  np.random.randn(n2)/2\n",
    "\n",
    "n3=5+5\n",
    "x3 = np.random.randn(n3)\n",
    "gid3 = (np.zeros(n3) + 2).astype(np.int32)\n",
    "y3 = x3 + np.random.randn(n3)/2"
   ]
  },
  {
   "cell_type": "code",
   "execution_count": 6,
   "metadata": {},
   "outputs": [
    {
     "data": {
      "text/plain": [
       "(-4, 4.5)"
      ]
     },
     "execution_count": 6,
     "metadata": {},
     "output_type": "execute_result"
    },
    {
     "data": {
      "image/png": "[encoded data removed]",
      "text/plain": [
       "<Figure size 360x360 with 1 Axes>"
      ]
     },
     "metadata": {
      "needs_background": "light"
     },
     "output_type": "display_data"
    }
   ],
   "source": [
    "plt.figure(figsize=(5,5))\n",
    "plt.scatter(x1,y1)\n",
    "plt.scatter(x2,y2)\n",
    "plt.scatter(x3,y3)\n",
    "plt.grid(True)\n",
    "plt.ylim([-4,4.5])\n",
    "plt.xlim([-4,4.5])"
   ]
  },
  {
   "cell_type": "code",
   "execution_count": 7,
   "metadata": {},
   "outputs": [],
   "source": [
    "x = np.concatenate([x1,x2,x3])\n",
    "gid = np.concatenate([gid1,gid2,gid3]).astype(np.int32)\n",
    "y = np.concatenate([y1,y2,y3])"
   ]
  },
  {
   "cell_type": "code",
   "execution_count": 8,
   "metadata": {},
   "outputs": [
    {
     "data": {
      "image/png": "[encoded data removed]",
      "text/plain": [
       "<Figure size 432x288 with 1 Axes>"
      ]
     },
     "metadata": {
      "needs_background": "light"
     },
     "output_type": "display_data"
    }
   ],
   "source": [
    "plt.scatter(x,y)\n",
    "plt.grid(True)"
   ]
  },
  {
   "cell_type": "code",
   "execution_count": null,
   "metadata": {},
   "outputs": [],
   "source": []
  },
  {
   "cell_type": "code",
   "execution_count": 9,
   "metadata": {},
   "outputs": [],
   "source": [
    "x_train, x_test, y_train, y_test, gid_train, gid_test = train_test_split(x, y, gid, stratify=gid)"
   ]
  },
  {
   "cell_type": "code",
   "execution_count": 10,
   "metadata": {},
   "outputs": [],
   "source": [
    "def regression(x, y, gid):\n",
    "    \n",
    "    x_train, x_test, y_train, y_test, gid_train, gid_test = train_test_split(\n",
    "        x, y, gid, stratify=gid, random_state=9, test_size=0.5)\n",
    "    \n",
    "    if len(x_train.shape) == 1:\n",
    "        x_train = np.expand_dims(x_train, axis=1)\n",
    "        x_test = np.expand_dims(x_test, axis=1)\n",
    "    \n",
    "    model = tf.keras.models.Sequential([\n",
    "        #tf.keras.layers.Dense(4),\n",
    "        tf.keras.layers.Dense(1)\n",
    "    ])\n",
    "\n",
    "    model.compile(optimizer=tf.keras.optimizers.Adam(learning_rate=1),\n",
    "                  loss='mse', metrics=['mse'])\n",
    "    \n",
    "    model.fit(x_train, y_train, batch_size=len(x), epochs=200, verbose=False)\n",
    "    \n",
    "    print('MSE', round(mean_squared_error(y_test, model.predict(x_test)), 3))\n",
    "    print('R2', round(r2_score(y_test, model.predict(x_test)), 3))\n",
    "    \n",
    "    m, b = model.get_weights()\n",
    "    m, b = round(m[0,0], 3), round(b[0], 3)\n",
    "    print(m,b)\n",
    "    \n",
    "    return model, (m, b)"
   ]
  },
  {
   "cell_type": "code",
   "execution_count": 11,
   "metadata": {},
   "outputs": [
    {
     "name": "stdout",
     "output_type": "stream",
     "text": [
      "MSE 0.349\n",
      "R2 0.744\n",
      "1.037 0.083\n"
     ]
    }
   ],
   "source": [
    "model, (m, b) = regression(x, y, gid)"
   ]
  },
  {
   "cell_type": "code",
   "execution_count": 12,
   "metadata": {},
   "outputs": [],
   "source": [
    "xs = np.linspace(-3, 3, 5)\n",
    "ys = m*xs + b"
   ]
  },
  {
   "cell_type": "code",
   "execution_count": 13,
   "metadata": {},
   "outputs": [
    {
     "data": {
      "image/png": "[encoded data removed]",
      "text/plain": [
       "<Figure size 432x288 with 1 Axes>"
      ]
     },
     "metadata": {
      "needs_background": "light"
     },
     "output_type": "display_data"
    }
   ],
   "source": [
    "plt.scatter(x,y)\n",
    "plt.plot(xs,ys)\n",
    "plt.grid(True)"
   ]
  },
  {
   "cell_type": "code",
   "execution_count": 14,
   "metadata": {},
   "outputs": [
    {
     "name": "stdout",
     "output_type": "stream",
     "text": [
      "MSE 0.259\n",
      "R2 0.796\n",
      "1.199 0.101\n",
      "MSE 0.156\n",
      "R2 0.839\n",
      "0.621 0.014\n",
      "MSE 0.777\n",
      "R2 0.547\n",
      "0.877 -0.592\n"
     ]
    }
   ],
   "source": [
    "model1, (m1, b1) = regression(x1, y1, gid1)\n",
    "model2, (m2, b2) = regression(x2, y2, gid2)\n",
    "model3, (m3, b3) = regression(x3, y3, gid3)"
   ]
  },
  {
   "cell_type": "code",
   "execution_count": 15,
   "metadata": {},
   "outputs": [],
   "source": [
    "xs = np.linspace(-3, 3, 5)\n",
    "ys1 = m1*xs + b1\n",
    "ys2 = m2*xs + b2\n",
    "ys3 = m3*xs + b3"
   ]
  },
  {
   "cell_type": "code",
   "execution_count": 16,
   "metadata": {},
   "outputs": [
    {
     "data": {
      "image/png": "[encoded data removed]",
      "text/plain": [
       "<Figure size 432x288 with 1 Axes>"
      ]
     },
     "metadata": {
      "needs_background": "light"
     },
     "output_type": "display_data"
    }
   ],
   "source": [
    "plt.scatter(x1,y1)\n",
    "plt.scatter(x2,y2)\n",
    "plt.scatter(x3,y3)\n",
    "plt.plot(xs,ys1)\n",
    "plt.plot(xs,ys2)\n",
    "plt.plot(xs,ys3)\n",
    "plt.grid(True)"
   ]
  },
  {
   "cell_type": "markdown",
   "metadata": {},
   "source": [
    "### Dense variational"
   ]
  },
  {
   "cell_type": "code",
   "execution_count": 17,
   "metadata": {},
   "outputs": [],
   "source": [
    "negloglik = lambda y, rv_y: -rv_y.log_prob(y)"
   ]
  },
  {
   "cell_type": "code",
   "execution_count": 18,
   "metadata": {},
   "outputs": [],
   "source": [
    "# Specify the surrogate posterior over `keras.layers.Dense` `kernel` and `bias`.\n",
    "def posterior_mean_field(kernel_size, bias_size=0, dtype=None):\n",
    "    n = kernel_size + bias_size\n",
    "    c = np.log(np.expm1(1.))\n",
    "    return tf.keras.Sequential([\n",
    "        tfp.layers.VariableLayer(2 * n, dtype=dtype),\n",
    "        tfp.layers.DistributionLambda(lambda t: tfd.Independent(\n",
    "            tfd.Normal(loc=t[..., :n],\n",
    "                       scale=tf.nn.softplus(t[..., n:])),\n",
    "            reinterpreted_batch_ndims=1)),\n",
    "    ])\n"
   ]
  },
  {
   "cell_type": "code",
   "execution_count": 19,
   "metadata": {},
   "outputs": [],
   "source": [
    "# Specify the prior over `keras.layers.Dense` `kernel` and `bias`.\n",
    "def prior_trainable(kernel_size, bias_size=0, dtype=None):\n",
    "    n = kernel_size + bias_size\n",
    "    return tf.keras.Sequential([\n",
    "        tfp.layers.VariableLayer(n, dtype=dtype),\n",
    "        tfp.layers.DistributionLambda(lambda t: tfd.Independent(\n",
    "            tfd.Normal(loc=t, scale=1),\n",
    "            reinterpreted_batch_ndims=1)),\n",
    "    ])"
   ]
  },
  {
   "cell_type": "code",
   "execution_count": 20,
   "metadata": {},
   "outputs": [],
   "source": [
    "def bayesian_regression(x, y, gid):\n",
    "    \n",
    "    x_train, x_test, y_train, y_test, gid_train, gid_test = train_test_split(\n",
    "        x, y, gid, stratify=gid, random_state=9, test_size=0.5)\n",
    "    \n",
    "    if len(x_train.shape) == 1:\n",
    "        x_train = np.expand_dims(x_train, axis=1)\n",
    "        x_test = np.expand_dims(x_test, axis=1)\n",
    "    \n",
    "    model = tf.keras.models.Sequential([\n",
    "        tfp.layers.DenseVariational(1, posterior_mean_field, prior_trainable, kl_weight=1/x.shape[0])\n",
    "    ])\n",
    "\n",
    "    model.compile(optimizer=tf.keras.optimizers.Adam(learning_rate=.1),\n",
    "                  loss='mse', metrics=['mse'])\n",
    "    \n",
    "    model.fit(x_train, y_train, batch_size=len(x), epochs=1000, verbose=False)\n",
    "    \n",
    "    print('MSE', round(mean_squared_error(y_test, model.predict(x_test)), 3))\n",
    "    print('R2', round(r2_score(y_test, model.predict(x_test)), 3))\n",
    "    \n",
    "    kernel, prior = model.get_weights()\n",
    "    \n",
    "    \n",
    "    #m, b = round(m[0,0], 3), round(b[0], 3)\n",
    "    print(kernel, prior)\n",
    "    \n",
    "    return model, (kernel, prior)"
   ]
  },
  {
   "cell_type": "code",
   "execution_count": 21,
   "metadata": {},
   "outputs": [
    {
     "name": "stdout",
     "output_type": "stream",
     "text": [
      "MSE 0.343\n",
      "R2 0.739\n",
      "[ 1.0718454   0.08979125 -2.6977458  -2.594351  ] [0.96258473 0.08254317]\n"
     ]
    }
   ],
   "source": [
    "model, (kernel, prior) = bayesian_regression(x, y, gid)"
   ]
  },
  {
   "cell_type": "code",
   "execution_count": 22,
   "metadata": {},
   "outputs": [],
   "source": [
    "def get_pred_matrix(xs, kernel, prior):\n",
    "    m_mu, b_mu, m_sig, b_sig = kernel\n",
    "    m_sig, b_sig = tf.nn.softplus([ m_sig, b_sig])\n",
    "    \n",
    "    m_range = np.linspace(-2*m_sig, 2*m_sig, 10)\n",
    "    b_range = np.linspace(-2*b_sig, 2*b_sig, 10)\n",
    "    \n",
    "    pred_matrix = np.outer(m_mu+m_range[::-1], xs) + np.expand_dims(b_mu + b_range[::-1],axis=1)\n",
    "    return pred_matrix"
   ]
  },
  {
   "cell_type": "code",
   "execution_count": 23,
   "metadata": {},
   "outputs": [
    {
     "data": {
      "image/png": "[encoded data removed]",
      "text/plain": [
       "<Figure size 432x288 with 1 Axes>"
      ]
     },
     "metadata": {
      "needs_background": "light"
     },
     "output_type": "display_data"
    }
   ],
   "source": [
    "xs = np.linspace(-3, 3, 5)\n",
    "pred_matrix = get_pred_matrix(xs, kernel, prior)\n",
    "\n",
    "plt.scatter(x,y)\n",
    "plt.plot(xs,np.mean(pred_matrix, axis=0))\n",
    "plt.fill_between(xs, np.max(pred_matrix, axis=0),  np.min(pred_matrix, axis=0), alpha=0.5)\n",
    "plt.grid(True)"
   ]
  },
  {
   "cell_type": "code",
   "execution_count": 24,
   "metadata": {},
   "outputs": [
    {
     "data": {
      "text/plain": [
       "array([[-3.37278635, -1.56946121,  0.23386393,  2.03718907,  3.84051421],\n",
       "       [-3.31788827, -1.55802025,  0.20184778,  1.9617158 ,  3.72158382],\n",
       "       [-3.26299019, -1.54657928,  0.16983162,  1.88624253,  3.60265344],\n",
       "       [-3.20809211, -1.53513832,  0.13781547,  1.81076926,  3.48372306],\n",
       "       [-3.15319403, -1.52369735,  0.10579932,  1.735296  ,  3.36479267],\n",
       "       [-3.09829595, -1.51225639,  0.07378317,  1.65982273,  3.24586229],\n",
       "       [-3.04339787, -1.50081543,  0.04176702,  1.58434946,  3.12693191],\n",
       "       [-2.98849979, -1.48937446,  0.00975087,  1.5088762 ,  3.00800153],\n",
       "       [-2.93360171, -1.4779335 , -0.02226528,  1.43340293,  2.88907114],\n",
       "       [-2.87870363, -1.46649253, -0.05428144,  1.35792966,  2.77014076]])"
      ]
     },
     "execution_count": 24,
     "metadata": {},
     "output_type": "execute_result"
    }
   ],
   "source": [
    "pred_matrix"
   ]
  },
  {
   "cell_type": "markdown",
   "metadata": {},
   "source": [
    "#### by group"
   ]
  },
  {
   "cell_type": "code",
   "execution_count": null,
   "metadata": {},
   "outputs": [],
   "source": []
  },
  {
   "cell_type": "code",
   "execution_count": null,
   "metadata": {},
   "outputs": [],
   "source": []
  },
  {
   "cell_type": "code",
   "execution_count": 25,
   "metadata": {},
   "outputs": [
    {
     "name": "stdout",
     "output_type": "stream",
     "text": [
      "MSE 0.256\n",
      "R2 0.774\n",
      "[ 1.2634829   0.14238125 -2.4198961  -2.3136544 ] [1.1340898  0.03032509]\n",
      "MSE 0.968\n",
      "R2 0.259\n",
      "[ 0.61774445  0.0346334  -1.4502054  -1.6355808 ] [0.6581986  0.06867726]\n",
      "MSE 1.557\n",
      "R2 0.105\n",
      "[ 0.85085696 -0.74781156 -1.6747102  -1.6333011 ] [ 0.856289  -0.5019836]\n"
     ]
    }
   ],
   "source": [
    "model1, (kernel1, prior1) = bayesian_regression(x1, y1, gid1)\n",
    "model2, (kernel2, prior2) = bayesian_regression(x2, y2, gid2)\n",
    "model3, (kernel3, prior3) = bayesian_regression(x3, y3, gid3)"
   ]
  },
  {
   "cell_type": "code",
   "execution_count": 26,
   "metadata": {},
   "outputs": [],
   "source": [
    "xs = np.linspace(-2, 2, 5)\n",
    "ys1 = m1*xs + b1\n",
    "ys2 = m2*xs + b2\n",
    "ys3 = m3*xs + b3"
   ]
  },
  {
   "cell_type": "code",
   "execution_count": 27,
   "metadata": {},
   "outputs": [
    {
     "data": {
      "image/png": "[encoded data removed]",
      "text/plain": [
       "<Figure size 432x288 with 1 Axes>"
      ]
     },
     "metadata": {
      "needs_background": "light"
     },
     "output_type": "display_data"
    }
   ],
   "source": [
    "plt.scatter(x1,y1)\n",
    "plt.scatter(x2,y2)\n",
    "plt.scatter(x3,y3)\n",
    "\n",
    "xs = np.linspace(-3, 3, 10)\n",
    "\n",
    "pred_matrix = get_pred_matrix(xs, kernel1, prior1)\n",
    "plt.plot(xs,np.mean(pred_matrix, axis=0))\n",
    "plt.fill_between(xs, np.max(pred_matrix, axis=0),  np.min(pred_matrix, axis=0), alpha=0.15)\n",
    "\n",
    "pred_matrix = get_pred_matrix(xs, kernel2, prior2)\n",
    "plt.plot(xs,np.mean(pred_matrix, axis=0))\n",
    "plt.fill_between(xs, np.max(pred_matrix, axis=0),  np.min(pred_matrix, axis=0), alpha=0.15)\n",
    "\n",
    "pred_matrix = get_pred_matrix(xs, kernel3, prior3)\n",
    "plt.plot(xs,np.mean(pred_matrix, axis=0))\n",
    "plt.fill_between(xs, np.max(pred_matrix, axis=0),  np.min(pred_matrix, axis=0), alpha=0.15)\n",
    "\n",
    "plt.grid(True)"
   ]
  },
  {
   "cell_type": "markdown",
   "metadata": {},
   "source": [
    "### one hot / deep "
   ]
  },
  {
   "cell_type": "code",
   "execution_count": null,
   "metadata": {},
   "outputs": [],
   "source": []
  },
  {
   "cell_type": "code",
   "execution_count": 28,
   "metadata": {},
   "outputs": [],
   "source": [
    "def deep_regression(x, y, gid):\n",
    "    \n",
    "    x_train, x_test, y_train, y_test, gid_train, gid_test = train_test_split(\n",
    "        x, y, gid, stratify=gid, random_state=9, shuffle=True, test_size=0.5)\n",
    "    \n",
    "    if len(x_train.shape) == 1:\n",
    "        x_train = np.expand_dims(x_train, axis=1)\n",
    "        x_test = np.expand_dims(x_test, axis=1)\n",
    "    \n",
    "    model = tf.keras.models.Sequential([\n",
    "        tf.keras.layers.Dense(4, activation='sigmoid'),\n",
    "        tf.keras.layers.Dense(1)\n",
    "    ])\n",
    "\n",
    "    model.compile(optimizer=tf.keras.optimizers.Adam(learning_rate=.01),\n",
    "                  loss='mse', metrics=['mse'])\n",
    "    \n",
    "    model.fit(x_train, y_train, batch_size=len(x), epochs=1000, verbose=False)\n",
    "    \n",
    "    print('MSE', round(mean_squared_error(y_test, model.predict(x_test)), 3))\n",
    "    print('R2', round(r2_score(y_test, model.predict(x_test)), 3))\n",
    "    \n",
    "    return model"
   ]
  },
  {
   "cell_type": "code",
   "execution_count": 29,
   "metadata": {},
   "outputs": [
    {
     "name": "stdout",
     "output_type": "stream",
     "text": [
      "MSE 0.312\n",
      "R2 0.771\n"
     ]
    }
   ],
   "source": [
    "xp = np.concatenate([np.expand_dims(x,axis=1), to_categorical(gid)], axis=1)\n",
    "model = deep_regression(xp, y, gid)"
   ]
  },
  {
   "cell_type": "code",
   "execution_count": 30,
   "metadata": {},
   "outputs": [],
   "source": [
    "xs = np.linspace(-3, 3, 5)\n",
    "xs = np.expand_dims(xs, 1)\n",
    "xs = np.concatenate([xs, np.tile(np.array([0,0,0]), 5).reshape((5,3))], axis=1)\n",
    "ys = model.predict(xs)"
   ]
  },
  {
   "cell_type": "code",
   "execution_count": 31,
   "metadata": {},
   "outputs": [
    {
     "data": {
      "image/png": "[encoded data removed]",
      "text/plain": [
       "<Figure size 432x288 with 1 Axes>"
      ]
     },
     "metadata": {
      "needs_background": "light"
     },
     "output_type": "display_data"
    }
   ],
   "source": [
    "plt.scatter(x,y)\n",
    "plt.plot(np.linspace(-3, 3, 5),ys)\n",
    "plt.grid(True)"
   ]
  },
  {
   "cell_type": "code",
   "execution_count": 32,
   "metadata": {},
   "outputs": [],
   "source": [
    "xs1 = np.linspace(-3, 3, 5)\n",
    "xs1 = np.expand_dims(xs1, 1)\n",
    "xs1 = np.concatenate([xs1, np.tile(np.array([1,0,0]), 5).reshape((5,3))], axis=1)\n",
    "ys1 = model.predict(xs1)\n",
    "\n",
    "xs2 = np.linspace(-3, 3, 5)\n",
    "xs2 = np.expand_dims(xs2, 1)\n",
    "xs2 = np.concatenate([xs2, np.tile(np.array([0,1,0]), 5).reshape((5,3))], axis=1)\n",
    "ys2 = model.predict(xs2)\n",
    "\n",
    "xs3 = np.linspace(-3, 3, 5)\n",
    "xs3 = np.expand_dims(xs3, 1)\n",
    "xs3 = np.concatenate([xs3, np.tile(np.array([0,0,1]), 5).reshape((5,3))], axis=1)\n",
    "ys3 = model.predict(xs3)"
   ]
  },
  {
   "cell_type": "code",
   "execution_count": 33,
   "metadata": {},
   "outputs": [
    {
     "data": {
      "image/png": "[encoded data removed]",
      "text/plain": [
       "<Figure size 432x288 with 1 Axes>"
      ]
     },
     "metadata": {
      "needs_background": "light"
     },
     "output_type": "display_data"
    }
   ],
   "source": [
    "plt.scatter(x1,y1)\n",
    "plt.scatter(x2,y2)\n",
    "plt.scatter(x3,y3)\n",
    "\n",
    "plt.plot(np.linspace(-3, 3, 5),ys1)\n",
    "plt.plot(np.linspace(-3, 3, 5),ys2)\n",
    "plt.plot(np.linspace(-3, 3, 5),ys3)\n",
    "plt.grid(True)"
   ]
  },
  {
   "cell_type": "markdown",
   "metadata": {},
   "source": [
    "### one hot deep bayesian regression"
   ]
  },
  {
   "cell_type": "code",
   "execution_count": 34,
   "metadata": {},
   "outputs": [],
   "source": [
    "def deep_bayesian_regression(x, y, gid):\n",
    "    \n",
    "    x_train, x_test, y_train, y_test, gid_train, gid_test = train_test_split(\n",
    "        x, y, gid, stratify=gid, random_state=9, test_size=0.5)\n",
    "    \n",
    "    if len(x_train.shape) == 1:\n",
    "        x_train = np.expand_dims(x_train, axis=1)\n",
    "        x_test = np.expand_dims(x_test, axis=1)\n",
    "    \n",
    "    model = tf.keras.models.Sequential([\n",
    "        tfp.layers.DenseVariational(4, posterior_mean_field, prior_trainable, kl_weight=1/x.shape[0],\n",
    "                                    activation='sigmoid'),\n",
    "        tfp.layers.DenseVariational(1, posterior_mean_field, prior_trainable, kl_weight=1/x.shape[0])\n",
    "    ])\n",
    "\n",
    "    model.compile(optimizer=tf.keras.optimizers.Adam(learning_rate=.1),\n",
    "                  loss='mse', metrics=['mse'])\n",
    "    \n",
    "    model.fit(x_train, y_train, batch_size=len(x), epochs=1000, verbose=False)\n",
    "    \n",
    "    print('MSE', round(mean_squared_error(y_test, model.predict(x_test)), 3))\n",
    "    print('R2', round(r2_score(y_test, model.predict(x_test)), 3))\n",
    "    \n",
    "    return model"
   ]
  },
  {
   "cell_type": "code",
   "execution_count": 35,
   "metadata": {},
   "outputs": [
    {
     "name": "stdout",
     "output_type": "stream",
     "text": [
      "MSE 0.459\n",
      "R2 0.628\n"
     ]
    }
   ],
   "source": [
    "xp = np.concatenate([np.expand_dims(x,axis=1), to_categorical(gid)], axis=1)\n",
    "model = deep_bayesian_regression(xp, y, gid)"
   ]
  },
  {
   "cell_type": "code",
   "execution_count": 36,
   "metadata": {},
   "outputs": [],
   "source": [
    "x_plot = np.linspace(-3, 3, 5)\n",
    "xs = np.expand_dims(x_plot, 1)\n",
    "xs = np.concatenate([xs, np.tile(np.array([0,0,0]), 5).reshape((5,3))], axis=1)\n",
    "ys = model.predict(xs)\n",
    "\n",
    "pred_matrix = np.concatenate([model.predict(xs) for _ in range(100)], axis=1).T"
   ]
  },
  {
   "cell_type": "code",
   "execution_count": 37,
   "metadata": {},
   "outputs": [
    {
     "data": {
      "image/png": "[encoded data removed]",
      "text/plain": [
       "<Figure size 432x288 with 1 Axes>"
      ]
     },
     "metadata": {
      "needs_background": "light"
     },
     "output_type": "display_data"
    }
   ],
   "source": [
    "\n",
    "#pred_matrix = get_one_hot_pred_matrix(xs, kernel, prior)\n",
    "\n",
    "plt.scatter(x,y)\n",
    "#plt.plot(xs,np.mean(pred_matrix, axis=0))\n",
    "#plt.fill_between(xs, np.max(pred_matrix, axis=0),  np.min(pred_matrix, axis=0), alpha=0.5)\n",
    "for _ in range(20):\n",
    "    plt.plot(x_plot, model.predict(xs))\n",
    "plt.grid(True)"
   ]
  },
  {
   "cell_type": "code",
   "execution_count": 38,
   "metadata": {},
   "outputs": [],
   "source": [
    "xs1 = np.linspace(-3, 3, 5)\n",
    "xs1 = np.expand_dims(xs1, 1)\n",
    "xs1 = np.concatenate([xs1, np.tile(np.array([1,0,0]), 5).reshape((5,3))], axis=1)\n",
    "pred_matrix1 = np.concatenate([model.predict(xs1) for _ in range(100)], axis=1).T\n",
    "\n",
    "xs2 = np.linspace(-3, 3, 5)\n",
    "xs2 = np.expand_dims(xs2, 1)\n",
    "xs2 = np.concatenate([xs2, np.tile(np.array([0,1,0]), 5).reshape((5,3))], axis=1)\n",
    "pred_matrix2 = np.concatenate([model.predict(xs2) for _ in range(100)], axis=1).T\n",
    "\n",
    "xs3 = np.linspace(-3, 3, 5)\n",
    "xs3 = np.expand_dims(xs3, 1)\n",
    "xs3 = np.concatenate([xs3, np.tile(np.array([0,0,1]), 5).reshape((5,3))], axis=1)\n",
    "pred_matrix3 = np.concatenate([model.predict(xs3) for _ in range(100)], axis=1).T"
   ]
  },
  {
   "cell_type": "code",
   "execution_count": 39,
   "metadata": {},
   "outputs": [
    {
     "data": {
      "image/png": "[encoded data removed]",
      "text/plain": [
       "<Figure size 432x288 with 1 Axes>"
      ]
     },
     "metadata": {
      "needs_background": "light"
     },
     "output_type": "display_data"
    }
   ],
   "source": [
    "plt.scatter(x1,y1)\n",
    "plt.scatter(x2,y2)\n",
    "plt.scatter(x3,y3)\n",
    "\n",
    "# plt.plot(np.linspace(-1, 1, 5),ys1)\n",
    "# plt.plot(np.linspace(-1, 1, 5),ys2)\n",
    "# plt.plot(np.linspace(-1, 1, 5),ys3)\n",
    "\n",
    "xs1 = np.linspace(-3, 3, 5)\n",
    "xs2 = np.linspace(-3, 3, 5)\n",
    "xs3 = np.linspace(-3, 3, 5)\n",
    "\n",
    "plt.plot(xs1,np.mean(pred_matrix1, axis=0))\n",
    "plt.fill_between(xs1, np.max(pred_matrix1, axis=0),  np.min(pred_matrix1, axis=0), alpha=0.2)\n",
    "\n",
    "plt.plot(xs2,np.mean(pred_matrix2, axis=0))\n",
    "plt.fill_between(xs2, np.max(pred_matrix2, axis=0),  np.min(pred_matrix2, axis=0), alpha=0.2)\n",
    "\n",
    "plt.plot(xs3,np.mean(pred_matrix3, axis=0))\n",
    "plt.fill_between(xs3, np.max(pred_matrix3, axis=0),  np.min(pred_matrix3, axis=0), alpha=0.2)\n",
    "plt.grid(True)"
   ]
  },
  {
   "cell_type": "markdown",
   "metadata": {},
   "source": [
    "### Hierarchical"
   ]
  },
  {
   "cell_type": "code",
   "execution_count": 228,
   "metadata": {},
   "outputs": [
    {
     "name": "stdout",
     "output_type": "stream",
     "text": [
      "The autoreload extension is already loaded. To reload it, use:\n",
      "  %reload_ext autoreload\n"
     ]
    }
   ],
   "source": [
    "from models.multilevel_layers import MultilevelDense, MyDense\n",
    "\n",
    "%load_ext autoreload\n",
    "%autoreload 2"
   ]
  },
  {
   "cell_type": "code",
   "execution_count": 229,
   "metadata": {},
   "outputs": [],
   "source": [
    "\n",
    "\n",
    "class MultilevelRegression(tf.keras.models.Model):\n",
    "    \n",
    "    def __init__(self, optimizer, loss_fn, train_size):\n",
    "        super(MultilevelRegression, self).__init__()\n",
    "        self.optimizer = optimizer\n",
    "        self.loss_fn = loss_fn\n",
    "        self.train_size = train_size\n",
    "        #self.ml_dense = MultilevelDense(1, num_groups=3, multilevel_weights=True, multilevel_bias=True)\n",
    "        self.ml_dense = MyDense(1)\n",
    "        #self.dense = tf.keras.layers.Dense(1)\n",
    "        \n",
    "        current_time = datetime.datetime.now().strftime(\"%Y%m%d-%H%M%S\")\n",
    "        train_log_dir = '../experiments/tensorboard/' + current_time\n",
    "        self.train_summary_writer = tf.summary.create_file_writer(train_log_dir)\n",
    "        \n",
    "        \n",
    "        \n",
    "    def call(self, inputs):\n",
    "        x, gid = inputs\n",
    "        out = self.ml_dense([x, gid])\n",
    "        #out = self.dense(x)\n",
    "        #print(out)\n",
    "        return out\n",
    "        \n",
    "    def create_batch_generator(self, data, batch_size, num_epochs):\n",
    "        generator = tf.data.Dataset.from_tensor_slices(tuple(data))\n",
    "        generator = generator.batch(batch_size)\n",
    "        generator = generator.repeat(num_epochs)\n",
    "        return generator\n",
    "\n",
    "    def train(self, train_data, test_data, batch_size, num_epochs, eval_every=1, print_freq=10):\n",
    "\n",
    "        # TODO: find less hacky way to build model, get summary\n",
    "        #inputs, _ = train_data[:-1], train_data[-1]\n",
    "        #inputs = [x[:5] for x in inputs]\n",
    "        #_ = self(inputs)\n",
    "        ## Try to print summary of param counts, won't work for some models\n",
    "        #try:\n",
    "        #    self.summary()\n",
    "        #except:\n",
    "        #    print('Configuration not amenable to `summary`.')\n",
    "\n",
    "        # Stateful Keras object for keeping track of mean loss\n",
    "        train_loss = tf.keras.metrics.Mean('train_loss')\n",
    "\n",
    "        last_time = time.time()\n",
    "        #for epoch in range(1, num_epochs+1):\n",
    "        #    print('--- Epoch {} ---'.format(epoch))\n",
    "\n",
    "        train_generator = self.create_batch_generator(train_data, batch_size, num_epochs)\n",
    "\n",
    "        for step, batch in enumerate(train_generator):\n",
    "            loss = self.train_step(batch)\n",
    "            train_loss(loss)\n",
    "\n",
    "            # Print out train loss every 1/print_freq thru train set\n",
    "            #num_batches = np.ceil(len(train_data[0])/batch_size)\n",
    "            #if (step+1) % np.ceil(num_batches/print_freq) == 0 or (step+1) == num_batches:\n",
    "            if (step+1) % print_freq == 0:\n",
    "                print('Step {} - train loss: {:.5f}, time elapsed: {:d}s'.format(\n",
    "                    step+1, train_loss.result().numpy(),\n",
    "                    round(time.time()-last_time)))\n",
    "\n",
    "                last_time = time.time()\n",
    "                \n",
    "                \n",
    "                with self.train_summary_writer.as_default():\n",
    "                    #print(self.dense.get_weights()[0])\n",
    "                    #print(self.ml_dense.get_weights())\n",
    "                    tf.summary.scalar('loss', train_loss.result(), step=step)\n",
    "                    #print(self.dense.get_weights()[0])\n",
    "                    #tf.summary.scalar('dense/w', self.dense.get_weights()[0][0][0], step=step)\n",
    "                    #tf.summary.scalar('dense/b', self.dense.get_weights()[1][0], step=step)\n",
    "                    \n",
    "                    \n",
    "                    \n",
    "                train_loss.reset_states()\n",
    "\n",
    "        #if epoch % eval_every == 0 or epoch == num_epochs:\n",
    "        #    self.logger.info('Evaluating test set...')\n",
    "        #    self.log_group_test_performance(test_data, epoch=epoch)\n",
    "        #    self.save_weights()\n",
    "\n",
    "    def train_step(self, batch):\n",
    "        inputs, labels = batch[:-1], batch[-1]\n",
    "        #print(inputs, labels)\n",
    "        with tf.GradientTape() as tape:\n",
    "            pred = self(inputs)\n",
    "            #print(pred[0,0])\n",
    "            #pred = tf.squeeze(pred)\n",
    "            #print(pred[0])\n",
    "            #print(labels.shape,pred.shape)\n",
    "            #print((labels-pred).shape, labels-pred)\n",
    "            \n",
    "            loss = self.loss_fn(labels, pred)\n",
    "            # Only need to add KL loss once per epoch\n",
    "            #loss += sum(self.losses) / self.train_size\n",
    "            \n",
    "            #with self.train_summary_writer.as_default():\n",
    "            #    tf.summary.scalar('kl loss', sum(self.losses), step=self.optimizer.iterations)\n",
    "                \n",
    "        grads = tape.gradient(loss, self.trainable_weights)\n",
    "        self.optimizer.apply_gradients(zip(grads, self.trainable_weights))\n",
    "        \n",
    "        #print(grads)\n",
    "        \n",
    "        #with self.train_summary_writer.as_default():\n",
    "        #    tf.summary.histogram('grads', grads[0], step=self.optimizer.iterations)\n",
    "        return loss"
   ]
  },
  {
   "cell_type": "code",
   "execution_count": 226,
   "metadata": {},
   "outputs": [],
   "source": [
    "def prep_data(x, y, gid):\n",
    "    x_train, x_test, y_train, y_test, gid_train, gid_test = train_test_split(\n",
    "        x, y, gid, stratify=gid, random_state=9, test_size=0.5)\n",
    "\n",
    "    x_train = x_train.astype(np.float32)\n",
    "    x_test = x_test.astype(np.float32)\n",
    "    y_train = y_train.astype(np.float32)\n",
    "    y_test = y_test.astype(np.float32)\n",
    "    \n",
    "    if len(x_train.shape) == 1:\n",
    "        x_train = np.expand_dims(x_train, axis=1)\n",
    "        x_test = np.expand_dims(x_test, axis=1)\n",
    "        \n",
    "    if len(y_train.shape) == 1:\n",
    "        y_train = np.expand_dims(y_train, axis=1)\n",
    "        y_test = np.expand_dims(y_test, axis=1)\n",
    "\n",
    "    #x_train = np.concatenate([x_train,np.zeros((len(x_train), 1)).astype(np.float32)], axis=1)\n",
    "    #x_test = np.concatenate([x_test,np.zeros((len(x_train), 1)).astype(np.float32)], axis=1)\n",
    "    \n",
    "    train_data = [x_train, gid_train, y_train]\n",
    "    test_data = [x_test, gid_test, y_test]\n",
    "    \n",
    "    return train_data, test_data"
   ]
  },
  {
   "cell_type": "code",
   "execution_count": 49,
   "metadata": {
    "collapsed": true,
    "jupyter": {
     "outputs_hidden": true,
     "source_hidden": true
    }
   },
   "outputs": [
    {
     "data": {
      "text/plain": [
       "\"def multilevel_regression(x, y, gid):\\n    x_train, x_test, y_train, y_test, gid_train, gid_test = train_test_split(\\n        x, y, gid, stratify=gid, random_state=9)\\n\\n    x_train = x_train.astype(np.float32)\\n    x_test = x_test.astype(np.float32)\\n\\n\\n    if len(x_train.shape) == 1:\\n        x_train = np.expand_dims(x_train, axis=1)\\n        x_test = np.expand_dims(x_test, axis=1)\\n\\n    x_train = np.concatenate([x_train,x_train], axis=1)\\n    x_test = np.concatenate([x_test,x_test], axis=1)\\n    \\n#     model = tf.keras.models.Sequential([\\n#         #tfp.layers.DenseVariational(2, posterior_mean_field, prior_trainable, kl_weight=1/x.shape[0],\\n#         #                            activation='sigmoid'),\\n#         #tfp.layers.DenseVariational(1, posterior_mean_field, prior_trainable, kl_weight=1/x.shape[0])\\n#         self.ml_dense = MultilevelDense(62, num_groups=self.num_groups[0], activation='softmax')\\n        \\n#     ])\\n    print(x_train.dtype, y_train.dtype, gid_train.dtype)\\n    \\n    x_input = Input(shape=(2,), dtype=tf.float32)\\n    gid_input = Input(shape=(1,), dtype=tf.int32)\\n    ml_dense = MultilevelDense(1, num_groups=3, multilevel_weights=True, multilevel_bias=True)\\n    #print(ml_dense, ml_dense.get_weights())\\n    \\n    out = ml_dense([x_input, gid_input])\\n    model = Model(inputs=[x_input, gid_input], outputs=[out])\\n    \\n    #print('before', x_train.shape, gid_train.shape)\\n    model([x_train, gid_train])\\n\\n    model.compile(optimizer=tf.keras.optimizers.Adam(learning_rate=.1),\\n                  loss='mse', metrics=['mse'])\\n    \\n    model.fit([x_train, gid_train], y_train, batch_size=len(x), epochs=1000, verbose=False)\\n    \\n    #print(model([x_test, gid_test]).shape)\\n    #preds = model([x_test, gid_test])\\n    #print(preds.shape,type(preds),  y_test.shape)\\n    #print(preds, y_test)\\n    #print('MSE', round(mean_squared_error(y_test, preds), 3))\\n    #print('R2', round(r2_score(y_test, preds), 3))\\n    \\n    return model\""
      ]
     },
     "execution_count": 49,
     "metadata": {},
     "output_type": "execute_result"
    }
   ],
   "source": [
    "\n",
    "\n",
    "\"\"\"def multilevel_regression(x, y, gid):\n",
    "    x_train, x_test, y_train, y_test, gid_train, gid_test = train_test_split(\n",
    "        x, y, gid, stratify=gid, random_state=9, test_size=0.5)\n",
    "\n",
    "    x_train = x_train.astype(np.float32)\n",
    "    x_test = x_test.astype(np.float32)\n",
    "\n",
    "\n",
    "    if len(x_train.shape) == 1:\n",
    "        x_train = np.expand_dims(x_train, axis=1)\n",
    "        x_test = np.expand_dims(x_test, axis=1)\n",
    "\n",
    "    x_train = np.concatenate([x_train,x_train], axis=1)\n",
    "    x_test = np.concatenate([x_test,x_test], axis=1)\n",
    "    \n",
    "#     model = tf.keras.models.Sequential([\n",
    "#         #tfp.layers.DenseVariational(2, posterior_mean_field, prior_trainable, kl_weight=1/x.shape[0],\n",
    "#         #                            activation='sigmoid'),\n",
    "#         #tfp.layers.DenseVariational(1, posterior_mean_field, prior_trainable, kl_weight=1/x.shape[0])\n",
    "#         self.ml_dense = MultilevelDense(62, num_groups=self.num_groups[0], activation='softmax')\n",
    "        \n",
    "#     ])\n",
    "    print(x_train.dtype, y_train.dtype, gid_train.dtype)\n",
    "    \n",
    "    x_input = Input(shape=(2,), dtype=tf.float32)\n",
    "    gid_input = Input(shape=(1,), dtype=tf.int32)\n",
    "    ml_dense = MultilevelDense(1, num_groups=3, multilevel_weights=True, multilevel_bias=True)\n",
    "    #print(ml_dense, ml_dense.get_weights())\n",
    "    \n",
    "    out = ml_dense([x_input, gid_input])\n",
    "    model = Model(inputs=[x_input, gid_input], outputs=[out])\n",
    "    \n",
    "    #print('before', x_train.shape, gid_train.shape)\n",
    "    model([x_train, gid_train])\n",
    "\n",
    "    model.compile(optimizer=tf.keras.optimizers.Adam(learning_rate=.1),\n",
    "                  loss='mse', metrics=['mse'])\n",
    "    \n",
    "    model.fit([x_train, gid_train], y_train, batch_size=len(x), epochs=1000, verbose=False)\n",
    "    \n",
    "    #print(model([x_test, gid_test]).shape)\n",
    "    #preds = model([x_test, gid_test])\n",
    "    #print(preds.shape,type(preds),  y_test.shape)\n",
    "    #print(preds, y_test)\n",
    "    #print('MSE', round(mean_squared_error(y_test, preds), 3))\n",
    "    #print('R2', round(r2_score(y_test, preds), 3))\n",
    "    \n",
    "    return model\"\"\""
   ]
  },
  {
   "cell_type": "code",
   "execution_count": 181,
   "metadata": {},
   "outputs": [],
   "source": [
    "train_data, test_data = prep_data(x, y, gid)"
   ]
  },
  {
   "cell_type": "code",
   "execution_count": 230,
   "metadata": {},
   "outputs": [
    {
     "name": "stdout",
     "output_type": "stream",
     "text": [
      "[array([[-0.05820599]], dtype=float32), array([0.], dtype=float32)]\n",
      "Step 1 - train loss: 2.11356, time elapsed: 0s\n",
      "[array([[0.2601629]], dtype=float32), array([0.04563709], dtype=float32)]\n",
      "Step 2 - train loss: 1.27342, time elapsed: 0s\n",
      "[array([[0.48542553]], dtype=float32), array([0.0734857], dtype=float32)]\n",
      "Step 3 - train loss: 0.85485, time elapsed: 0s\n",
      "[array([[0.6449251]], dtype=float32), array([0.08968087], dtype=float32)]\n",
      "Step 4 - train loss: 0.64594, time elapsed: 0s\n",
      "[array([[0.75795126]], dtype=float32), array([0.09836458], dtype=float32)]\n",
      "Step 5 - train loss: 0.54144, time elapsed: 0s\n",
      "[array([[0.83811694]], dtype=float32), array([0.10231192], dtype=float32)]\n",
      "Step 6 - train loss: 0.48902, time elapsed: 0s\n",
      "[array([[0.89503276]], dtype=float32), array([0.10336438], dtype=float32)]\n",
      "Step 7 - train loss: 0.46263, time elapsed: 0s\n",
      "[array([[0.9354868]], dtype=float32), array([0.10272904], dtype=float32)]\n",
      "Step 8 - train loss: 0.44928, time elapsed: 0s\n",
      "[array([[0.96427596]], dtype=float32), array([0.10118458], dtype=float32)]\n",
      "Step 9 - train loss: 0.44250, time elapsed: 0s\n",
      "[array([[0.984792]], dtype=float32), array([0.09922253], dtype=float32)]\n",
      "Step 10 - train loss: 0.43902, time elapsed: 0s\n"
     ]
    }
   ],
   "source": [
    "optimizer = tf.keras.optimizers.SGD(learning_rate=0.003)\n",
    "loss_fn = tf.keras.losses.MSE\n",
    "\n",
    "model = MultilevelRegression(optimizer, loss_fn, train_size=len(train_data[0]))\n",
    "model.train(train_data, test_data, batch_size=50, num_epochs=10, print_freq=1)"
   ]
  },
  {
   "cell_type": "code",
   "execution_count": 231,
   "metadata": {},
   "outputs": [
    {
     "data": {
      "text/plain": [
       "[array([[0.99943453]], dtype=float32), array([0.09714379], dtype=float32)]"
      ]
     },
     "execution_count": 231,
     "metadata": {},
     "output_type": "execute_result"
    }
   ],
   "source": [
    "model.get_weights()"
   ]
  },
  {
   "cell_type": "code",
   "execution_count": 232,
   "metadata": {},
   "outputs": [
    {
     "name": "stdout",
     "output_type": "stream",
     "text": [
      "[array([[0.99943453]], dtype=float32), array([0.09714379], dtype=float32)]\n",
      "[array([[0.99943453]], dtype=float32), array([0.09714379], dtype=float32)]\n",
      "[array([[0.99943453]], dtype=float32), array([0.09714379], dtype=float32)]\n",
      "[array([[0.99943453]], dtype=float32), array([0.09714379], dtype=float32)]\n",
      "[array([[0.99943453]], dtype=float32), array([0.09714379], dtype=float32)]\n",
      "[array([[0.99943453]], dtype=float32), array([0.09714379], dtype=float32)]\n",
      "[array([[0.99943453]], dtype=float32), array([0.09714379], dtype=float32)]\n",
      "[array([[0.99943453]], dtype=float32), array([0.09714379], dtype=float32)]\n",
      "[array([[0.99943453]], dtype=float32), array([0.09714379], dtype=float32)]\n",
      "[array([[0.99943453]], dtype=float32), array([0.09714379], dtype=float32)]\n",
      "[array([[0.99943453]], dtype=float32), array([0.09714379], dtype=float32)]\n",
      "[array([[0.99943453]], dtype=float32), array([0.09714379], dtype=float32)]\n",
      "[array([[0.99943453]], dtype=float32), array([0.09714379], dtype=float32)]\n",
      "[array([[0.99943453]], dtype=float32), array([0.09714379], dtype=float32)]\n",
      "[array([[0.99943453]], dtype=float32), array([0.09714379], dtype=float32)]\n",
      "[array([[0.99943453]], dtype=float32), array([0.09714379], dtype=float32)]\n",
      "[array([[0.99943453]], dtype=float32), array([0.09714379], dtype=float32)]\n",
      "[array([[0.99943453]], dtype=float32), array([0.09714379], dtype=float32)]\n",
      "[array([[0.99943453]], dtype=float32), array([0.09714379], dtype=float32)]\n",
      "[array([[0.99943453]], dtype=float32), array([0.09714379], dtype=float32)]\n",
      "[array([[0.99943453]], dtype=float32), array([0.09714379], dtype=float32)]\n",
      "[array([[0.99943453]], dtype=float32), array([0.09714379], dtype=float32)]\n",
      "[array([[0.99943453]], dtype=float32), array([0.09714379], dtype=float32)]\n",
      "[array([[0.99943453]], dtype=float32), array([0.09714379], dtype=float32)]\n",
      "[array([[0.99943453]], dtype=float32), array([0.09714379], dtype=float32)]\n",
      "[array([[0.99943453]], dtype=float32), array([0.09714379], dtype=float32)]\n",
      "[array([[0.99943453]], dtype=float32), array([0.09714379], dtype=float32)]\n",
      "[array([[0.99943453]], dtype=float32), array([0.09714379], dtype=float32)]\n",
      "[array([[0.99943453]], dtype=float32), array([0.09714379], dtype=float32)]\n",
      "[array([[0.99943453]], dtype=float32), array([0.09714379], dtype=float32)]\n",
      "[array([[0.99943453]], dtype=float32), array([0.09714379], dtype=float32)]\n",
      "[array([[0.99943453]], dtype=float32), array([0.09714379], dtype=float32)]\n",
      "[array([[0.99943453]], dtype=float32), array([0.09714379], dtype=float32)]\n",
      "[array([[0.99943453]], dtype=float32), array([0.09714379], dtype=float32)]\n",
      "[array([[0.99943453]], dtype=float32), array([0.09714379], dtype=float32)]\n",
      "[array([[0.99943453]], dtype=float32), array([0.09714379], dtype=float32)]\n",
      "[array([[0.99943453]], dtype=float32), array([0.09714379], dtype=float32)]\n",
      "[array([[0.99943453]], dtype=float32), array([0.09714379], dtype=float32)]\n",
      "[array([[0.99943453]], dtype=float32), array([0.09714379], dtype=float32)]\n",
      "[array([[0.99943453]], dtype=float32), array([0.09714379], dtype=float32)]\n",
      "[array([[0.99943453]], dtype=float32), array([0.09714379], dtype=float32)]\n",
      "[array([[0.99943453]], dtype=float32), array([0.09714379], dtype=float32)]\n",
      "[array([[0.99943453]], dtype=float32), array([0.09714379], dtype=float32)]\n",
      "[array([[0.99943453]], dtype=float32), array([0.09714379], dtype=float32)]\n",
      "[array([[0.99943453]], dtype=float32), array([0.09714379], dtype=float32)]\n",
      "[array([[0.99943453]], dtype=float32), array([0.09714379], dtype=float32)]\n",
      "[array([[0.99943453]], dtype=float32), array([0.09714379], dtype=float32)]\n",
      "[array([[0.99943453]], dtype=float32), array([0.09714379], dtype=float32)]\n",
      "[array([[0.99943453]], dtype=float32), array([0.09714379], dtype=float32)]\n",
      "[array([[0.99943453]], dtype=float32), array([0.09714379], dtype=float32)]\n",
      "[array([[0.99943453]], dtype=float32), array([0.09714379], dtype=float32)]\n",
      "[array([[0.99943453]], dtype=float32), array([0.09714379], dtype=float32)]\n",
      "[array([[0.99943453]], dtype=float32), array([0.09714379], dtype=float32)]\n",
      "[array([[0.99943453]], dtype=float32), array([0.09714379], dtype=float32)]\n",
      "[array([[0.99943453]], dtype=float32), array([0.09714379], dtype=float32)]\n",
      "[array([[0.99943453]], dtype=float32), array([0.09714379], dtype=float32)]\n",
      "[array([[0.99943453]], dtype=float32), array([0.09714379], dtype=float32)]\n",
      "[array([[0.99943453]], dtype=float32), array([0.09714379], dtype=float32)]\n",
      "[array([[0.99943453]], dtype=float32), array([0.09714379], dtype=float32)]\n",
      "[array([[0.99943453]], dtype=float32), array([0.09714379], dtype=float32)]\n",
      "[array([[0.99943453]], dtype=float32), array([0.09714379], dtype=float32)]\n",
      "[array([[0.99943453]], dtype=float32), array([0.09714379], dtype=float32)]\n",
      "[array([[0.99943453]], dtype=float32), array([0.09714379], dtype=float32)]\n",
      "[array([[0.99943453]], dtype=float32), array([0.09714379], dtype=float32)]\n",
      "[array([[0.99943453]], dtype=float32), array([0.09714379], dtype=float32)]\n",
      "[array([[0.99943453]], dtype=float32), array([0.09714379], dtype=float32)]\n",
      "[array([[0.99943453]], dtype=float32), array([0.09714379], dtype=float32)]\n",
      "[array([[0.99943453]], dtype=float32), array([0.09714379], dtype=float32)]\n",
      "[array([[0.99943453]], dtype=float32), array([0.09714379], dtype=float32)]\n",
      "[array([[0.99943453]], dtype=float32), array([0.09714379], dtype=float32)]\n",
      "[array([[0.99943453]], dtype=float32), array([0.09714379], dtype=float32)]\n",
      "[array([[0.99943453]], dtype=float32), array([0.09714379], dtype=float32)]\n",
      "[array([[0.99943453]], dtype=float32), array([0.09714379], dtype=float32)]\n",
      "[array([[0.99943453]], dtype=float32), array([0.09714379], dtype=float32)]\n",
      "[array([[0.99943453]], dtype=float32), array([0.09714379], dtype=float32)]\n",
      "[array([[0.99943453]], dtype=float32), array([0.09714379], dtype=float32)]\n",
      "[array([[0.99943453]], dtype=float32), array([0.09714379], dtype=float32)]\n",
      "[array([[0.99943453]], dtype=float32), array([0.09714379], dtype=float32)]\n",
      "[array([[0.99943453]], dtype=float32), array([0.09714379], dtype=float32)]\n",
      "[array([[0.99943453]], dtype=float32), array([0.09714379], dtype=float32)]\n",
      "[array([[0.99943453]], dtype=float32), array([0.09714379], dtype=float32)]\n",
      "[array([[0.99943453]], dtype=float32), array([0.09714379], dtype=float32)]\n",
      "[array([[0.99943453]], dtype=float32), array([0.09714379], dtype=float32)]\n",
      "[array([[0.99943453]], dtype=float32), array([0.09714379], dtype=float32)]\n",
      "[array([[0.99943453]], dtype=float32), array([0.09714379], dtype=float32)]\n",
      "[array([[0.99943453]], dtype=float32), array([0.09714379], dtype=float32)]\n",
      "[array([[0.99943453]], dtype=float32), array([0.09714379], dtype=float32)]\n",
      "[array([[0.99943453]], dtype=float32), array([0.09714379], dtype=float32)]\n",
      "[array([[0.99943453]], dtype=float32), array([0.09714379], dtype=float32)]\n",
      "[array([[0.99943453]], dtype=float32), array([0.09714379], dtype=float32)]\n",
      "[array([[0.99943453]], dtype=float32), array([0.09714379], dtype=float32)]\n",
      "[array([[0.99943453]], dtype=float32), array([0.09714379], dtype=float32)]\n",
      "[array([[0.99943453]], dtype=float32), array([0.09714379], dtype=float32)]\n",
      "[array([[0.99943453]], dtype=float32), array([0.09714379], dtype=float32)]\n",
      "[array([[0.99943453]], dtype=float32), array([0.09714379], dtype=float32)]\n",
      "[array([[0.99943453]], dtype=float32), array([0.09714379], dtype=float32)]\n",
      "[array([[0.99943453]], dtype=float32), array([0.09714379], dtype=float32)]\n",
      "[array([[0.99943453]], dtype=float32), array([0.09714379], dtype=float32)]\n",
      "[array([[0.99943453]], dtype=float32), array([0.09714379], dtype=float32)]\n",
      "[array([[0.99943453]], dtype=float32), array([0.09714379], dtype=float32)]\n",
      "[array([[0.99943453]], dtype=float32), array([0.09714379], dtype=float32)]\n"
     ]
    }
   ],
   "source": [
    "x_plot = np.linspace(-3, 3, 10)\n",
    "xs = np.expand_dims(x_plot, 1).astype(np.float32)\n",
    "#xs = np.concatenate([xs,np.zeros((len(xs), 1)).astype(np.float32)],1)\n",
    "gids = (np.zeros((10,))+0 ).astype(np.int32)\n",
    "ys = model([xs, gids])\n",
    "\n",
    "pred_matrix = np.concatenate([model([xs, gids]) for _ in range(100)], axis=1).T"
   ]
  },
  {
   "cell_type": "code",
   "execution_count": 233,
   "metadata": {},
   "outputs": [
    {
     "data": {
      "image/png": "[encoded data removed]",
      "text/plain": [
       "<Figure size 432x288 with 1 Axes>"
      ]
     },
     "metadata": {
      "needs_background": "light"
     },
     "output_type": "display_data"
    }
   ],
   "source": [
    "#pred_matrix = get_one_hot_pred_matrix(xs, kernel, prior)\n",
    "\n",
    "plt.scatter(x,y)\n",
    "plt.plot(x_plot,np.mean(pred_matrix, axis=0))\n",
    "plt.fill_between(x_plot, np.max(pred_matrix, axis=0),  np.min(pred_matrix, axis=0), alpha=0.5)\n",
    "#for _ in range(20):\n",
    "#    plt.plot(x_plot,model([xs,gids]))\n",
    "plt.grid(True)"
   ]
  },
  {
   "cell_type": "code",
   "execution_count": 104,
   "metadata": {
    "collapsed": true,
    "jupyter": {
     "outputs_hidden": true
    }
   },
   "outputs": [
    {
     "ename": "InvalidArgumentError",
     "evalue": "Matrix size-incompatible: In[0]: [5,2], In[1]: [1,1] [Op:MatMul]",
     "output_type": "error",
     "traceback": [
      "\u001b[0;31m---------------------------------------------------------------------------\u001b[0m",
      "\u001b[0;31mInvalidArgumentError\u001b[0m                      Traceback (most recent call last)",
      "\u001b[0;32m<ipython-input-104-1df335e02eea>\u001b[0m in \u001b[0;36m<module>\u001b[0;34m\u001b[0m\n\u001b[1;32m      4\u001b[0m \u001b[0mxs1\u001b[0m \u001b[0;34m=\u001b[0m \u001b[0mnp\u001b[0m\u001b[0;34m.\u001b[0m\u001b[0mconcatenate\u001b[0m\u001b[0;34m(\u001b[0m\u001b[0;34m[\u001b[0m\u001b[0mxs1\u001b[0m\u001b[0;34m,\u001b[0m\u001b[0mnp\u001b[0m\u001b[0;34m.\u001b[0m\u001b[0mzeros\u001b[0m\u001b[0;34m(\u001b[0m\u001b[0;34m(\u001b[0m\u001b[0mlen\u001b[0m\u001b[0;34m(\u001b[0m\u001b[0mxs1\u001b[0m\u001b[0;34m)\u001b[0m\u001b[0;34m,\u001b[0m \u001b[0;36m1\u001b[0m\u001b[0;34m)\u001b[0m\u001b[0;34m)\u001b[0m\u001b[0;34m.\u001b[0m\u001b[0mastype\u001b[0m\u001b[0;34m(\u001b[0m\u001b[0mnp\u001b[0m\u001b[0;34m.\u001b[0m\u001b[0mfloat32\u001b[0m\u001b[0;34m)\u001b[0m\u001b[0;34m]\u001b[0m\u001b[0;34m,\u001b[0m \u001b[0maxis\u001b[0m\u001b[0;34m=\u001b[0m\u001b[0;36m1\u001b[0m\u001b[0;34m)\u001b[0m\u001b[0;34m\u001b[0m\u001b[0;34m\u001b[0m\u001b[0m\n\u001b[1;32m      5\u001b[0m \u001b[0mgids1\u001b[0m \u001b[0;34m=\u001b[0m \u001b[0;34m(\u001b[0m\u001b[0mnp\u001b[0m\u001b[0;34m.\u001b[0m\u001b[0mzeros\u001b[0m\u001b[0;34m(\u001b[0m\u001b[0;34m(\u001b[0m\u001b[0;36m10\u001b[0m\u001b[0;34m,\u001b[0m\u001b[0;34m)\u001b[0m\u001b[0;34m)\u001b[0m\u001b[0;34m+\u001b[0m\u001b[0;36m0\u001b[0m \u001b[0;34m)\u001b[0m\u001b[0;34m.\u001b[0m\u001b[0mastype\u001b[0m\u001b[0;34m(\u001b[0m\u001b[0mnp\u001b[0m\u001b[0;34m.\u001b[0m\u001b[0mint32\u001b[0m\u001b[0;34m)\u001b[0m\u001b[0;34m\u001b[0m\u001b[0;34m\u001b[0m\u001b[0m\n\u001b[0;32m----> 6\u001b[0;31m \u001b[0mpred_matrix1\u001b[0m \u001b[0;34m=\u001b[0m \u001b[0mnp\u001b[0m\u001b[0;34m.\u001b[0m\u001b[0mconcatenate\u001b[0m\u001b[0;34m(\u001b[0m\u001b[0;34m[\u001b[0m\u001b[0mmodel\u001b[0m\u001b[0;34m(\u001b[0m\u001b[0;34m[\u001b[0m\u001b[0mxs1\u001b[0m\u001b[0;34m,\u001b[0m \u001b[0mgids1\u001b[0m\u001b[0;34m]\u001b[0m\u001b[0;34m)\u001b[0m \u001b[0;32mfor\u001b[0m \u001b[0m_\u001b[0m \u001b[0;32min\u001b[0m \u001b[0mrange\u001b[0m\u001b[0;34m(\u001b[0m\u001b[0;36m100\u001b[0m\u001b[0;34m)\u001b[0m\u001b[0;34m]\u001b[0m\u001b[0;34m,\u001b[0m \u001b[0maxis\u001b[0m\u001b[0;34m=\u001b[0m\u001b[0;36m1\u001b[0m\u001b[0;34m)\u001b[0m\u001b[0;34m.\u001b[0m\u001b[0mT\u001b[0m\u001b[0;34m\u001b[0m\u001b[0;34m\u001b[0m\u001b[0m\n\u001b[0m\u001b[1;32m      7\u001b[0m \u001b[0;34m\u001b[0m\u001b[0m\n\u001b[1;32m      8\u001b[0m \u001b[0mxs2\u001b[0m \u001b[0;34m=\u001b[0m \u001b[0mnp\u001b[0m\u001b[0;34m.\u001b[0m\u001b[0mlinspace\u001b[0m\u001b[0;34m(\u001b[0m\u001b[0;34m-\u001b[0m\u001b[0;36m3\u001b[0m\u001b[0;34m,\u001b[0m \u001b[0;36m3\u001b[0m\u001b[0;34m,\u001b[0m \u001b[0;36m5\u001b[0m\u001b[0;34m)\u001b[0m\u001b[0;34m\u001b[0m\u001b[0;34m\u001b[0m\u001b[0m\n",
      "\u001b[0;32m<ipython-input-104-1df335e02eea>\u001b[0m in \u001b[0;36m<listcomp>\u001b[0;34m(.0)\u001b[0m\n\u001b[1;32m      4\u001b[0m \u001b[0mxs1\u001b[0m \u001b[0;34m=\u001b[0m \u001b[0mnp\u001b[0m\u001b[0;34m.\u001b[0m\u001b[0mconcatenate\u001b[0m\u001b[0;34m(\u001b[0m\u001b[0;34m[\u001b[0m\u001b[0mxs1\u001b[0m\u001b[0;34m,\u001b[0m\u001b[0mnp\u001b[0m\u001b[0;34m.\u001b[0m\u001b[0mzeros\u001b[0m\u001b[0;34m(\u001b[0m\u001b[0;34m(\u001b[0m\u001b[0mlen\u001b[0m\u001b[0;34m(\u001b[0m\u001b[0mxs1\u001b[0m\u001b[0;34m)\u001b[0m\u001b[0;34m,\u001b[0m \u001b[0;36m1\u001b[0m\u001b[0;34m)\u001b[0m\u001b[0;34m)\u001b[0m\u001b[0;34m.\u001b[0m\u001b[0mastype\u001b[0m\u001b[0;34m(\u001b[0m\u001b[0mnp\u001b[0m\u001b[0;34m.\u001b[0m\u001b[0mfloat32\u001b[0m\u001b[0;34m)\u001b[0m\u001b[0;34m]\u001b[0m\u001b[0;34m,\u001b[0m \u001b[0maxis\u001b[0m\u001b[0;34m=\u001b[0m\u001b[0;36m1\u001b[0m\u001b[0;34m)\u001b[0m\u001b[0;34m\u001b[0m\u001b[0;34m\u001b[0m\u001b[0m\n\u001b[1;32m      5\u001b[0m \u001b[0mgids1\u001b[0m \u001b[0;34m=\u001b[0m \u001b[0;34m(\u001b[0m\u001b[0mnp\u001b[0m\u001b[0;34m.\u001b[0m\u001b[0mzeros\u001b[0m\u001b[0;34m(\u001b[0m\u001b[0;34m(\u001b[0m\u001b[0;36m10\u001b[0m\u001b[0;34m,\u001b[0m\u001b[0;34m)\u001b[0m\u001b[0;34m)\u001b[0m\u001b[0;34m+\u001b[0m\u001b[0;36m0\u001b[0m \u001b[0;34m)\u001b[0m\u001b[0;34m.\u001b[0m\u001b[0mastype\u001b[0m\u001b[0;34m(\u001b[0m\u001b[0mnp\u001b[0m\u001b[0;34m.\u001b[0m\u001b[0mint32\u001b[0m\u001b[0;34m)\u001b[0m\u001b[0;34m\u001b[0m\u001b[0;34m\u001b[0m\u001b[0m\n\u001b[0;32m----> 6\u001b[0;31m \u001b[0mpred_matrix1\u001b[0m \u001b[0;34m=\u001b[0m \u001b[0mnp\u001b[0m\u001b[0;34m.\u001b[0m\u001b[0mconcatenate\u001b[0m\u001b[0;34m(\u001b[0m\u001b[0;34m[\u001b[0m\u001b[0mmodel\u001b[0m\u001b[0;34m(\u001b[0m\u001b[0;34m[\u001b[0m\u001b[0mxs1\u001b[0m\u001b[0;34m,\u001b[0m \u001b[0mgids1\u001b[0m\u001b[0;34m]\u001b[0m\u001b[0;34m)\u001b[0m \u001b[0;32mfor\u001b[0m \u001b[0m_\u001b[0m \u001b[0;32min\u001b[0m \u001b[0mrange\u001b[0m\u001b[0;34m(\u001b[0m\u001b[0;36m100\u001b[0m\u001b[0;34m)\u001b[0m\u001b[0;34m]\u001b[0m\u001b[0;34m,\u001b[0m \u001b[0maxis\u001b[0m\u001b[0;34m=\u001b[0m\u001b[0;36m1\u001b[0m\u001b[0;34m)\u001b[0m\u001b[0;34m.\u001b[0m\u001b[0mT\u001b[0m\u001b[0;34m\u001b[0m\u001b[0;34m\u001b[0m\u001b[0m\n\u001b[0m\u001b[1;32m      7\u001b[0m \u001b[0;34m\u001b[0m\u001b[0m\n\u001b[1;32m      8\u001b[0m \u001b[0mxs2\u001b[0m \u001b[0;34m=\u001b[0m \u001b[0mnp\u001b[0m\u001b[0;34m.\u001b[0m\u001b[0mlinspace\u001b[0m\u001b[0;34m(\u001b[0m\u001b[0;34m-\u001b[0m\u001b[0;36m3\u001b[0m\u001b[0;34m,\u001b[0m \u001b[0;36m3\u001b[0m\u001b[0;34m,\u001b[0m \u001b[0;36m5\u001b[0m\u001b[0;34m)\u001b[0m\u001b[0;34m\u001b[0m\u001b[0;34m\u001b[0m\u001b[0m\n",
      "\u001b[0;32m~/miniconda3/envs/latent2/lib/python3.7/site-packages/tensorflow/python/keras/engine/base_layer.py\u001b[0m in \u001b[0;36m__call__\u001b[0;34m(self, inputs, *args, **kwargs)\u001b[0m\n\u001b[1;32m    710\u001b[0m           with base_layer_utils.autocast_context_manager(\n\u001b[1;32m    711\u001b[0m               input_list, self._mixed_precision_policy.should_cast_variables):\n\u001b[0;32m--> 712\u001b[0;31m             \u001b[0moutputs\u001b[0m \u001b[0;34m=\u001b[0m \u001b[0mself\u001b[0m\u001b[0;34m.\u001b[0m\u001b[0mcall\u001b[0m\u001b[0;34m(\u001b[0m\u001b[0minputs\u001b[0m\u001b[0;34m,\u001b[0m \u001b[0;34m*\u001b[0m\u001b[0margs\u001b[0m\u001b[0;34m,\u001b[0m \u001b[0;34m**\u001b[0m\u001b[0mkwargs\u001b[0m\u001b[0;34m)\u001b[0m\u001b[0;34m\u001b[0m\u001b[0;34m\u001b[0m\u001b[0m\n\u001b[0m\u001b[1;32m    713\u001b[0m           \u001b[0mself\u001b[0m\u001b[0;34m.\u001b[0m\u001b[0m_handle_activity_regularization\u001b[0m\u001b[0;34m(\u001b[0m\u001b[0minputs\u001b[0m\u001b[0;34m,\u001b[0m \u001b[0moutputs\u001b[0m\u001b[0;34m)\u001b[0m\u001b[0;34m\u001b[0m\u001b[0;34m\u001b[0m\u001b[0m\n\u001b[1;32m    714\u001b[0m           \u001b[0mself\u001b[0m\u001b[0;34m.\u001b[0m\u001b[0m_set_mask_metadata\u001b[0m\u001b[0;34m(\u001b[0m\u001b[0minputs\u001b[0m\u001b[0;34m,\u001b[0m \u001b[0moutputs\u001b[0m\u001b[0;34m,\u001b[0m \u001b[0minput_masks\u001b[0m\u001b[0;34m)\u001b[0m\u001b[0;34m\u001b[0m\u001b[0;34m\u001b[0m\u001b[0m\n",
      "\u001b[0;32m<ipython-input-87-bfacf2ba46ec>\u001b[0m in \u001b[0;36mcall\u001b[0;34m(self, inputs)\u001b[0m\n\u001b[1;32m     18\u001b[0m         \u001b[0mx\u001b[0m\u001b[0;34m,\u001b[0m \u001b[0mgid\u001b[0m \u001b[0;34m=\u001b[0m \u001b[0minputs\u001b[0m\u001b[0;34m\u001b[0m\u001b[0;34m\u001b[0m\u001b[0m\n\u001b[1;32m     19\u001b[0m         \u001b[0;31m#out = self.ml_dense([x, gid])\u001b[0m\u001b[0;34m\u001b[0m\u001b[0;34m\u001b[0m\u001b[0;34m\u001b[0m\u001b[0m\n\u001b[0;32m---> 20\u001b[0;31m         \u001b[0mout\u001b[0m \u001b[0;34m=\u001b[0m \u001b[0mself\u001b[0m\u001b[0;34m.\u001b[0m\u001b[0mdense\u001b[0m\u001b[0;34m(\u001b[0m\u001b[0mx\u001b[0m\u001b[0;34m)\u001b[0m\u001b[0;34m\u001b[0m\u001b[0;34m\u001b[0m\u001b[0m\n\u001b[0m\u001b[1;32m     21\u001b[0m         \u001b[0;32mreturn\u001b[0m \u001b[0mout\u001b[0m\u001b[0;34m\u001b[0m\u001b[0;34m\u001b[0m\u001b[0m\n\u001b[1;32m     22\u001b[0m \u001b[0;34m\u001b[0m\u001b[0m\n",
      "\u001b[0;32m~/miniconda3/envs/latent2/lib/python3.7/site-packages/tensorflow/python/keras/engine/base_layer.py\u001b[0m in \u001b[0;36m__call__\u001b[0;34m(self, inputs, *args, **kwargs)\u001b[0m\n\u001b[1;32m    710\u001b[0m           with base_layer_utils.autocast_context_manager(\n\u001b[1;32m    711\u001b[0m               input_list, self._mixed_precision_policy.should_cast_variables):\n\u001b[0;32m--> 712\u001b[0;31m             \u001b[0moutputs\u001b[0m \u001b[0;34m=\u001b[0m \u001b[0mself\u001b[0m\u001b[0;34m.\u001b[0m\u001b[0mcall\u001b[0m\u001b[0;34m(\u001b[0m\u001b[0minputs\u001b[0m\u001b[0;34m,\u001b[0m \u001b[0;34m*\u001b[0m\u001b[0margs\u001b[0m\u001b[0;34m,\u001b[0m \u001b[0;34m**\u001b[0m\u001b[0mkwargs\u001b[0m\u001b[0;34m)\u001b[0m\u001b[0;34m\u001b[0m\u001b[0;34m\u001b[0m\u001b[0m\n\u001b[0m\u001b[1;32m    713\u001b[0m           \u001b[0mself\u001b[0m\u001b[0;34m.\u001b[0m\u001b[0m_handle_activity_regularization\u001b[0m\u001b[0;34m(\u001b[0m\u001b[0minputs\u001b[0m\u001b[0;34m,\u001b[0m \u001b[0moutputs\u001b[0m\u001b[0;34m)\u001b[0m\u001b[0;34m\u001b[0m\u001b[0;34m\u001b[0m\u001b[0m\n\u001b[1;32m    714\u001b[0m           \u001b[0mself\u001b[0m\u001b[0;34m.\u001b[0m\u001b[0m_set_mask_metadata\u001b[0m\u001b[0;34m(\u001b[0m\u001b[0minputs\u001b[0m\u001b[0;34m,\u001b[0m \u001b[0moutputs\u001b[0m\u001b[0;34m,\u001b[0m \u001b[0minput_masks\u001b[0m\u001b[0;34m)\u001b[0m\u001b[0;34m\u001b[0m\u001b[0;34m\u001b[0m\u001b[0m\n",
      "\u001b[0;32m~/miniconda3/envs/latent2/lib/python3.7/site-packages/tensorflow/python/keras/layers/core.py\u001b[0m in \u001b[0;36mcall\u001b[0;34m(self, inputs)\u001b[0m\n\u001b[1;32m   1046\u001b[0m       \u001b[0;32mif\u001b[0m \u001b[0;32mnot\u001b[0m \u001b[0mself\u001b[0m\u001b[0;34m.\u001b[0m\u001b[0m_mixed_precision_policy\u001b[0m\u001b[0;34m.\u001b[0m\u001b[0mshould_cast_variables\u001b[0m\u001b[0;34m:\u001b[0m\u001b[0;34m\u001b[0m\u001b[0;34m\u001b[0m\u001b[0m\n\u001b[1;32m   1047\u001b[0m         \u001b[0minputs\u001b[0m \u001b[0;34m=\u001b[0m \u001b[0mmath_ops\u001b[0m\u001b[0;34m.\u001b[0m\u001b[0mcast\u001b[0m\u001b[0;34m(\u001b[0m\u001b[0minputs\u001b[0m\u001b[0;34m,\u001b[0m \u001b[0mself\u001b[0m\u001b[0;34m.\u001b[0m\u001b[0mdtype\u001b[0m\u001b[0;34m)\u001b[0m\u001b[0;34m\u001b[0m\u001b[0;34m\u001b[0m\u001b[0m\n\u001b[0;32m-> 1048\u001b[0;31m       \u001b[0moutputs\u001b[0m \u001b[0;34m=\u001b[0m \u001b[0mgen_math_ops\u001b[0m\u001b[0;34m.\u001b[0m\u001b[0mmat_mul\u001b[0m\u001b[0;34m(\u001b[0m\u001b[0minputs\u001b[0m\u001b[0;34m,\u001b[0m \u001b[0mself\u001b[0m\u001b[0;34m.\u001b[0m\u001b[0mkernel\u001b[0m\u001b[0;34m)\u001b[0m\u001b[0;34m\u001b[0m\u001b[0;34m\u001b[0m\u001b[0m\n\u001b[0m\u001b[1;32m   1049\u001b[0m     \u001b[0;32mif\u001b[0m \u001b[0mself\u001b[0m\u001b[0;34m.\u001b[0m\u001b[0muse_bias\u001b[0m\u001b[0;34m:\u001b[0m\u001b[0;34m\u001b[0m\u001b[0;34m\u001b[0m\u001b[0m\n\u001b[1;32m   1050\u001b[0m       \u001b[0moutputs\u001b[0m \u001b[0;34m=\u001b[0m \u001b[0mnn\u001b[0m\u001b[0;34m.\u001b[0m\u001b[0mbias_add\u001b[0m\u001b[0;34m(\u001b[0m\u001b[0moutputs\u001b[0m\u001b[0;34m,\u001b[0m \u001b[0mself\u001b[0m\u001b[0;34m.\u001b[0m\u001b[0mbias\u001b[0m\u001b[0;34m)\u001b[0m\u001b[0;34m\u001b[0m\u001b[0;34m\u001b[0m\u001b[0m\n",
      "\u001b[0;32m~/miniconda3/envs/latent2/lib/python3.7/site-packages/tensorflow/python/ops/gen_math_ops.py\u001b[0m in \u001b[0;36mmat_mul\u001b[0;34m(a, b, transpose_a, transpose_b, name)\u001b[0m\n\u001b[1;32m   5913\u001b[0m       \u001b[0;32melse\u001b[0m\u001b[0;34m:\u001b[0m\u001b[0;34m\u001b[0m\u001b[0;34m\u001b[0m\u001b[0m\n\u001b[1;32m   5914\u001b[0m         \u001b[0mmessage\u001b[0m \u001b[0;34m=\u001b[0m \u001b[0me\u001b[0m\u001b[0;34m.\u001b[0m\u001b[0mmessage\u001b[0m\u001b[0;34m\u001b[0m\u001b[0;34m\u001b[0m\u001b[0m\n\u001b[0;32m-> 5915\u001b[0;31m       \u001b[0m_six\u001b[0m\u001b[0;34m.\u001b[0m\u001b[0mraise_from\u001b[0m\u001b[0;34m(\u001b[0m\u001b[0m_core\u001b[0m\u001b[0;34m.\u001b[0m\u001b[0m_status_to_exception\u001b[0m\u001b[0;34m(\u001b[0m\u001b[0me\u001b[0m\u001b[0;34m.\u001b[0m\u001b[0mcode\u001b[0m\u001b[0;34m,\u001b[0m \u001b[0mmessage\u001b[0m\u001b[0;34m)\u001b[0m\u001b[0;34m,\u001b[0m \u001b[0;32mNone\u001b[0m\u001b[0;34m)\u001b[0m\u001b[0;34m\u001b[0m\u001b[0;34m\u001b[0m\u001b[0m\n\u001b[0m\u001b[1;32m   5916\u001b[0m   \u001b[0;31m# Add nodes to the TensorFlow graph.\u001b[0m\u001b[0;34m\u001b[0m\u001b[0;34m\u001b[0m\u001b[0;34m\u001b[0m\u001b[0m\n\u001b[1;32m   5917\u001b[0m   \u001b[0;32mif\u001b[0m \u001b[0mtranspose_a\u001b[0m \u001b[0;32mis\u001b[0m \u001b[0;32mNone\u001b[0m\u001b[0;34m:\u001b[0m\u001b[0;34m\u001b[0m\u001b[0;34m\u001b[0m\u001b[0m\n",
      "\u001b[0;32m~/miniconda3/envs/latent2/lib/python3.7/site-packages/six.py\u001b[0m in \u001b[0;36mraise_from\u001b[0;34m(value, from_value)\u001b[0m\n",
      "\u001b[0;31mInvalidArgumentError\u001b[0m: Matrix size-incompatible: In[0]: [5,2], In[1]: [1,1] [Op:MatMul]"
     ]
    }
   ],
   "source": [
    "xs1 = np.linspace(-3, 3, 5)\n",
    "xs1 = np.expand_dims(xs1, 1)\n",
    "#xs1 = np.concatenate([xs1, np.tile(np.array([1,0,0]), 5).reshape((5,3))], axis=1)\n",
    "xs1 = np.concatenate([xs1,np.zeros((len(xs1), 1)).astype(np.float32)], axis=1)\n",
    "gids1 = (np.zeros((10,))+0 ).astype(np.int32)\n",
    "pred_matrix1 = np.concatenate([model([xs1, gids1]) for _ in range(100)], axis=1).T\n",
    "\n",
    "xs2 = np.linspace(-3, 3, 5)\n",
    "xs2 = np.expand_dims(xs2, 1)\n",
    "#xs2 = np.concatenate([xs2, np.tile(np.array([0,1,0]), 5).reshape((5,3))], axis=1)\n",
    "xs2 = np.concatenate([xs2,np.zeros((len(xs2), 1)).astype(np.float32)], axis=1)\n",
    "gids2 = (np.zeros((10,))+1 ).astype(np.int32)\n",
    "pred_matrix2 = np.concatenate([model([xs2, gids2]) for _ in range(100)], axis=1).T\n",
    "\n",
    "xs3 = np.linspace(-3, 3, 5)\n",
    "xs3 = np.expand_dims(xs3, 1)\n",
    "#xs3 = np.concatenate([xs3, np.tile(np.array([0,0,1]), 5).reshape((5,3))], axis=1)\n",
    "xs3 = np.concatenate([xs3,np.zeros((len(xs3), 1)).astype(np.float32)], axis=1)\n",
    "gids3 = (np.zeros((10,))+2 ).astype(np.int32)\n",
    "pred_matrix3 = np.concatenate([model([xs3, gids3]) for _ in range(100)], axis=1).T"
   ]
  },
  {
   "cell_type": "code",
   "execution_count": 181,
   "metadata": {},
   "outputs": [
    {
     "data": {
      "image/png": "[encoded data removed]",
      "text/plain": [
       "<Figure size 432x288 with 1 Axes>"
      ]
     },
     "metadata": {
      "needs_background": "light"
     },
     "output_type": "display_data"
    }
   ],
   "source": [
    "plt.scatter(x1,y1)\n",
    "plt.scatter(x2,y2)\n",
    "plt.scatter(x3,y3)\n",
    "\n",
    "# plt.plot(np.linspace(-1, 1, 5),ys1)\n",
    "# plt.plot(np.linspace(-1, 1, 5),ys2)\n",
    "# plt.plot(np.linspace(-1, 1, 5),ys3)\n",
    "\n",
    "xs1 = np.linspace(-3, 3, 5)\n",
    "xs2 = np.linspace(-3, 3, 5)\n",
    "xs3 = np.linspace(-3, 3, 5)\n",
    "\n",
    "plt.plot(xs1,np.mean(pred_matrix1, axis=0))\n",
    "plt.fill_between(xs1, np.max(pred_matrix1, axis=0),  np.min(pred_matrix1, axis=0), alpha=0.2)\n",
    "\n",
    "plt.plot(xs2,np.mean(pred_matrix2, axis=0))\n",
    "plt.fill_between(xs2, np.max(pred_matrix2, axis=0),  np.min(pred_matrix2, axis=0), alpha=0.2)\n",
    "\n",
    "plt.plot(xs3,np.mean(pred_matrix3, axis=0))\n",
    "plt.fill_between(xs3, np.max(pred_matrix3, axis=0),  np.min(pred_matrix3, axis=0), alpha=0.2)\n",
    "plt.grid(True)"
   ]
  },
  {
   "cell_type": "code",
   "execution_count": 61,
   "metadata": {},
   "outputs": [
    {
     "data": {
      "text/plain": [
       "Reusing TensorBoard on port 6007 (pid 53096), started 0:53:24 ago. (Use '!kill 53096' to kill it.)"
      ]
     },
     "metadata": {},
     "output_type": "display_data"
    },
    {
     "data": {
      "text/html": [
       "\n",
       "      <iframe id=\"tensorboard-frame-f59c2aba2f3a0c7a\" width=\"100%\" height=\"800\" frameborder=\"0\">\n",
       "      </iframe>\n",
       "      <script>\n",
       "        (function() {\n",
       "          const frame = document.getElementById(\"tensorboard-frame-f59c2aba2f3a0c7a\");\n",
       "          const url = new URL(\"/\", window.location);\n",
       "          url.port = 6007;\n",
       "          frame.src = url;\n",
       "        })();\n",
       "      </script>\n",
       "  "
      ],
      "text/plain": [
       "<IPython.core.display.HTML object>"
      ]
     },
     "metadata": {},
     "output_type": "display_data"
    }
   ],
   "source": [
    "%tensorboard --logdir ../experiments/tensorboard"
   ]
  },
  {
   "cell_type": "code",
   "execution_count": null,
   "metadata": {},
   "outputs": [],
   "source": []
  },
  {
   "cell_type": "markdown",
   "metadata": {},
   "source": [
    "# Radon"
   ]
  },
  {
   "cell_type": "code",
   "execution_count": 9,
   "metadata": {},
   "outputs": [],
   "source": [
    "# We'll use the following directory to store files we download as well as our\n",
    "# preprocessed dataset.\n",
    "CACHE_DIR = os.path.join(os.sep, 'tmp', 'radon')\n",
    "\n",
    "\n",
    "def cache_or_download_file(cache_dir, url_base, filename):\n",
    "    \"\"\"Read a cached file or download it.\"\"\"\n",
    "    filepath = os.path.join(cache_dir, filename)\n",
    "    if tf.io.gfile.exists(filepath):\n",
    "        return filepath\n",
    "    if not tf.io.gfile.exists(cache_dir):\n",
    "        tf.io.gfile.makedirs(cache_dir)\n",
    "    url = os.path.join(url_base, filename)\n",
    "    print(\"Downloading {url} to {filepath}.\".format(url=url, filepath=filepath))\n",
    "    urllib.request.urlretrieve(url, filepath)\n",
    "    return filepath\n",
    "\n",
    "\n",
    "def download_radon_dataset(cache_dir=CACHE_DIR):\n",
    "    \"\"\"Download the radon dataset and read as Pandas dataframe.\"\"\"\n",
    "    url_base = 'http://www.stat.columbia.edu/~gelman/arm/examples/radon/'\n",
    "    # Alternative source:\n",
    "    # url_base = ('https://raw.githubusercontent.com/pymc-devs/uq_chapter/'\n",
    "    #             'master/reference/data/')\n",
    "    srrs2 = pd.read_csv(cache_or_download_file(cache_dir, url_base, 'srrs2.dat'))\n",
    "    srrs2.rename(columns=str.strip, inplace=True)\n",
    "    cty = pd.read_csv(cache_or_download_file(cache_dir, url_base, 'cty.dat'))\n",
    "    cty.rename(columns=str.strip, inplace=True)\n",
    "    return srrs2, cty\n",
    "\n",
    "\n",
    "def preprocess_radon_dataset(srrs2, cty, state='MN'):\n",
    "    \"\"\"Preprocess radon dataset as done in \"Bayesian Data Analysis\" book.\"\"\"\n",
    "    srrs2 = srrs2[srrs2.state==state].copy()\n",
    "    cty = cty[cty.st==state].copy()\n",
    "    \n",
    "    # We will now join datasets on Federal Information Processing Standards\n",
    "    # (FIPS) id, ie, codes that link geographic units, counties and county\n",
    "    # equivalents. http://jeffgill.org/Teaching/rpqm_9.pdf\n",
    "    srrs2['fips'] = 1000 * srrs2.stfips + srrs2.cntyfips\n",
    "    cty['fips'] = 1000 * cty.stfips + cty.ctfips\n",
    "  \n",
    "    df = srrs2.merge(cty[['fips', 'Uppm']], on='fips')\n",
    "    df = df.drop_duplicates(subset='idnum')\n",
    "    df = df.rename(index=str, columns={'Uppm': 'uranium_ppm'})\n",
    "    \n",
    "    # For any missing or invalid activity readings, we'll use a value of `0.1`.\n",
    "    df['radon'] = df.activity.apply(lambda x: x if x > 0. else 0.1)\n",
    "    \n",
    "    # Remap categories to start from 0 and end at max(category).\n",
    "    county_name = sorted(df.county.unique())\n",
    "    df['county'] = df.county.astype(\n",
    "        pd.api.types.CategoricalDtype(categories=county_name)).cat.codes\n",
    "    county_name = map(str.strip, county_name)\n",
    "    \n",
    "    df['log_radon'] = df['radon'].apply(np.log)\n",
    "    df['log_uranium_ppm'] = df['uranium_ppm'].apply(np.log) \n",
    "    df = df[['log_radon', 'floor', 'county', 'log_uranium_ppm']]\n",
    "   \n",
    "    return df, county_name"
   ]
  },
  {
   "cell_type": "code",
   "execution_count": 10,
   "metadata": {},
   "outputs": [
    {
     "name": "stdout",
     "output_type": "stream",
     "text": [
      "Downloading http://www.stat.columbia.edu/~gelman/arm/examples/radon/srrs2.dat to /tmp/radon/srrs2.dat.\n",
      "Downloading http://www.stat.columbia.edu/~gelman/arm/examples/radon/cty.dat to /tmp/radon/cty.dat.\n"
     ]
    }
   ],
   "source": [
    "radon, county_name = preprocess_radon_dataset(*download_radon_dataset())"
   ]
  },
  {
   "cell_type": "code",
   "execution_count": 17,
   "metadata": {},
   "outputs": [],
   "source": [
    "# Save processed data. (So we can later read it in R.)\n",
    "with open(os.path.join(CACHE_DIR, 'radon.csv'), 'w') as f:\n",
    "    radon.to_csv(f, index=False)"
   ]
  },
  {
   "cell_type": "code",
   "execution_count": 19,
   "metadata": {},
   "outputs": [
    {
     "data": {
      "text/html": [
       "<div>\n",
       "<style scoped>\n",
       "    .dataframe tbody tr th:only-of-type {\n",
       "        vertical-align: middle;\n",
       "    }\n",
       "\n",
       "    .dataframe tbody tr th {\n",
       "        vertical-align: top;\n",
       "    }\n",
       "\n",
       "    .dataframe thead th {\n",
       "        text-align: right;\n",
       "    }\n",
       "</style>\n",
       "<table border=\"1\" class=\"dataframe\">\n",
       "  <thead>\n",
       "    <tr style=\"text-align: right;\">\n",
       "      <th></th>\n",
       "      <th>log_radon</th>\n",
       "      <th>floor</th>\n",
       "      <th>county</th>\n",
       "      <th>log_uranium_ppm</th>\n",
       "    </tr>\n",
       "  </thead>\n",
       "  <tbody>\n",
       "    <tr>\n",
       "      <th>0</th>\n",
       "      <td>0.788457</td>\n",
       "      <td>1</td>\n",
       "      <td>0</td>\n",
       "      <td>-0.689048</td>\n",
       "    </tr>\n",
       "    <tr>\n",
       "      <th>1</th>\n",
       "      <td>0.788457</td>\n",
       "      <td>0</td>\n",
       "      <td>0</td>\n",
       "      <td>-0.689048</td>\n",
       "    </tr>\n",
       "    <tr>\n",
       "      <th>2</th>\n",
       "      <td>1.064711</td>\n",
       "      <td>0</td>\n",
       "      <td>0</td>\n",
       "      <td>-0.689048</td>\n",
       "    </tr>\n",
       "    <tr>\n",
       "      <th>3</th>\n",
       "      <td>0.000000</td>\n",
       "      <td>0</td>\n",
       "      <td>0</td>\n",
       "      <td>-0.689048</td>\n",
       "    </tr>\n",
       "    <tr>\n",
       "      <th>4</th>\n",
       "      <td>1.131402</td>\n",
       "      <td>0</td>\n",
       "      <td>1</td>\n",
       "      <td>-0.847313</td>\n",
       "    </tr>\n",
       "  </tbody>\n",
       "</table>\n",
       "</div>"
      ],
      "text/plain": [
       "   log_radon  floor  county  log_uranium_ppm\n",
       "0   0.788457      1       0        -0.689048\n",
       "1   0.788457      0       0        -0.689048\n",
       "2   1.064711      0       0        -0.689048\n",
       "3   0.000000      0       0        -0.689048\n",
       "4   1.131402      0       1        -0.847313"
      ]
     },
     "execution_count": 19,
     "metadata": {},
     "output_type": "execute_result"
    }
   ],
   "source": [
    "radon.head()"
   ]
  },
  {
   "cell_type": "code",
   "execution_count": 20,
   "metadata": {},
   "outputs": [
    {
     "data": {
      "image/png": "[encoded data removed]",
      "text/plain": [
       "<Figure size 1584x360 with 1 Axes>"
      ]
     },
     "metadata": {
      "needs_background": "light"
     },
     "output_type": "display_data"
    }
   ],
   "source": [
    "\n",
    "fig, ax = plt.subplots(figsize=(22, 5));\n",
    "county_freq = radon['county'].value_counts()\n",
    "county_freq.plot(kind='bar', color='#436bad');\n",
    "plt.xlabel('County index')\n",
    "plt.ylabel('Number of radon readings')\n",
    "plt.title('Number of radon readings per county', fontsize=16)\n",
    "county_freq = np.array(zip(county_freq.index, county_freq.values))  # We'll use this later."
   ]
  },
  {
   "cell_type": "code",
   "execution_count": 21,
   "metadata": {},
   "outputs": [
    {
     "data": {
      "image/png": "[encoded data removed]",
      "text/plain": [
       "<Figure size 720x288 with 2 Axes>"
      ]
     },
     "metadata": {
      "needs_background": "light"
     },
     "output_type": "display_data"
    }
   ],
   "source": [
    "\n",
    "fig, ax = plt.subplots(ncols=2, figsize=[10, 4]);\n",
    "\n",
    "radon['log_radon'].plot(kind='density', ax=ax[0]);\n",
    "ax[0].set_xlabel('log(radon)')\n",
    "\n",
    "radon['floor'].value_counts().plot(kind='bar', ax=ax[1]);\n",
    "ax[1].set_xlabel('Floor');\n",
    "ax[1].set_ylabel('Count');\n",
    "\n",
    "fig.subplots_adjust(wspace=0.25)"
   ]
  },
  {
   "cell_type": "code",
   "execution_count": 22,
   "metadata": {},
   "outputs": [],
   "source": [
    "inv_scale_transform = lambda y: np.log(y)  # Not using TF here.\n",
    "fwd_scale_transform = tf.exp"
   ]
  },
  {
   "cell_type": "code",
   "execution_count": 35,
   "metadata": {},
   "outputs": [],
   "source": [
    "def make_weights_prior(num_counties, dtype):\n",
    "    \"\"\"Returns a `len(log_uranium_ppm)` batch of univariate Normal.\"\"\"\n",
    "    raw_prior_scale = tf.Variable(initial_value=np.array(inv_scale_transform(1.), dtype=dtype))\n",
    "    return tfp.distributions.Independent(\n",
    "        tfp.distributions.Normal(\n",
    "            loc=tf.zeros(num_counties, dtype=dtype),\n",
    "            scale=fwd_scale_transform(raw_prior_scale)),\n",
    "        reinterpreted_batch_ndims=1)\n",
    "\n",
    "\n",
    "#make_weights_prior = tf.make_template(\n",
    "#    name_='make_weights_prior', func_=_make_weights_prior)"
   ]
  },
  {
   "cell_type": "code",
   "execution_count": null,
   "metadata": {},
   "outputs": [],
   "source": []
  },
  {
   "cell_type": "code",
   "execution_count": 45,
   "metadata": {},
   "outputs": [],
   "source": [
    "def make_log_radon_likelihood(\n",
    "    random_effect_weights, floor, county, log_county_uranium_ppm, init_log_radon_stddev):\n",
    "    \n",
    "    raw_likelihood_scale = tf.Variable(initial_value=np.array(\n",
    "            inv_scale_transform(init_log_radon_stddev), dtype=dtype))\n",
    "    fixed_effect_weights = tf.Variable(initial_value=np.array([0., 1.], dtype=dtype))\n",
    "    fixed_effects = fixed_effect_weights[0] + fixed_effect_weights[1] * floor\n",
    "    random_effects = tf.cast(tf.gather(\n",
    "        random_effect_weights * log_county_uranium_ppm,\n",
    "        indices=tf.cast(county, tf.int32),\n",
    "        axis=-1), tf.float32)\n",
    "    linear_predictor = fixed_effects + random_effects\n",
    "    return tfp.distributions.Normal(\n",
    "        loc=linear_predictor, scale=fwd_scale_transform(raw_likelihood_scale))"
   ]
  },
  {
   "cell_type": "code",
   "execution_count": 55,
   "metadata": {},
   "outputs": [],
   "source": [
    "def joint_log_prob(\n",
    "    random_effect_weights, log_radon, floor, county, log_county_uranium_ppm, dtype):\n",
    "    num_counties = len(log_county_uranium_ppm)\n",
    "    rv_weights = make_weights_prior(num_counties, dtype)\n",
    "    rv_radon = make_log_radon_likelihood(\n",
    "        random_effect_weights,\n",
    "        floor,\n",
    "        county,\n",
    "        log_county_uranium_ppm,\n",
    "        init_log_radon_stddev=radon.log_radon.values.std())\n",
    "    #print(random_effect_weights, log_radon)\n",
    "    #print(rv_weights.log_prob(random_effect_weights)\n",
    "    #        , tf.reduce_sum(rv_radon.log_prob(log_radon), axis=-1))\n",
    "    return (rv_weights.log_prob(random_effect_weights)\n",
    "            + tf.reduce_sum(rv_radon.log_prob(log_radon), axis=-1))"
   ]
  },
  {
   "cell_type": "markdown",
   "metadata": {},
   "source": [
    "### Expectation Maximization"
   ]
  },
  {
   "cell_type": "code",
   "execution_count": 47,
   "metadata": {},
   "outputs": [],
   "source": [
    "\n",
    "# Specify unnormalized posterior.\n",
    "\n",
    "dtype = np.float32\n",
    "\n",
    "log_county_uranium_ppm = radon[\n",
    "    ['county', 'log_uranium_ppm']].drop_duplicates().values[:, 1]\n",
    "log_county_uranium_ppm = log_county_uranium_ppm.astype(dtype)\n",
    "\n",
    "def unnormalized_posterior_log_prob(random_effect_weights):\n",
    "    return joint_log_prob(\n",
    "        random_effect_weights=random_effect_weights,\n",
    "        log_radon=dtype(radon.log_radon.values),\n",
    "        floor=dtype(radon.floor.values),\n",
    "        county=np.int32(radon.county.values),\n",
    "        log_county_uranium_ppm=log_county_uranium_ppm,\n",
    "        dtype=dtype)"
   ]
  },
  {
   "cell_type": "code",
   "execution_count": 56,
   "metadata": {},
   "outputs": [
    {
     "name": "stderr",
     "output_type": "stream",
     "text": [
      "/Users/milesturpin/miniconda3/lib/python3.6/site-packages/tensorflow_probability/python/mcmc/internal/util.py:494: UserWarning: `step_size` is not a `tf.Tensor`, Python number, or Numpy array. If this parameter is mutable (e.g., a `tf.Variable`), then the behavior implied by `store_parameters_in_results` will silently change on 2019-08-01. Please consult the docstring for `store_parameters_in_results` details and use `store_parameters_in_results=True` to silence this warning.\n",
      "  param_name))\n",
      "/Users/milesturpin/miniconda3/lib/python3.6/site-packages/tensorflow_probability/python/mcmc/sample.py:335: UserWarning: Tracing all kernel results by default is deprecated. Set the `trace_fn` argument to None (the future default value) or an explicit callback that traces the values you are interested in.\n",
      "  warnings.warn(\"Tracing all kernel results by default is deprecated. Set \"\n"
     ]
    }
   ],
   "source": [
    "\n",
    "# Set-up E-step.\n",
    "\n",
    "step_size = tf.Variable(\n",
    "    initial_value=np.array(0.2, dtype=dtype),\n",
    "    trainable=False)\n",
    "\n",
    "hmc = tfp.mcmc.HamiltonianMonteCarlo(\n",
    "    target_log_prob_fn=unnormalized_posterior_log_prob,\n",
    "    num_leapfrog_steps=2,\n",
    "    step_size=step_size,\n",
    "    step_size_update_fn=tfp.mcmc.make_simple_step_size_update_policy(\n",
    "      num_adaptation_steps=None),\n",
    "    state_gradients_are_stopped=True)\n",
    "\n"
   ]
  },
  {
   "cell_type": "code",
   "execution_count": null,
   "metadata": {},
   "outputs": [],
   "source": [
    "# @tf.function\n",
    "# def run_chain():\n",
    "#     [\n",
    "#         posterior_prob,\n",
    "#         posterior_centers,\n",
    "#         posterior_sds\n",
    "#     ], kernel_results = tfp.mcmc.sample_chain(\n",
    "#         num_results=number_of_steps,\n",
    "#         num_burnin_steps=burnin,\n",
    "#         current_state=initial_chain_state,\n",
    "#         kernel=hmc)\n",
    "#     return ([\n",
    "#         posterior_prob,\n",
    "#         posterior_centers,\n",
    "#         posterior_sds\n",
    "#     ], kernel_results)\n",
    "\n",
    "#init_random_weights = tf.placeholder(dtype, shape=[len(log_county_uranium_ppm)])\n",
    "init_random_weights = [tf.Variable(np.zeros(len(log_county_uranium_ppm)), dtype=dtype)]\n",
    "\n",
    "\n",
    "\n",
    "@tf.function\n",
    "def run_chain():\n",
    "    posterior_random_weights, kernel_results = tfp.mcmc.sample_chain(\n",
    "        num_results=3,\n",
    "        num_burnin_steps=0,\n",
    "        num_steps_between_results=0,\n",
    "        current_state=init_random_weights,\n",
    "        kernel=hmc)\n",
    "    return posterior_random_weights, kernel_results\n"
   ]
  },
  {
   "cell_type": "code",
   "execution_count": 63,
   "metadata": {},
   "outputs": [
    {
     "ename": "TypeError",
     "evalue": "minimize() missing 1 required positional argument: 'var_list'",
     "output_type": "error",
     "traceback": [
      "\u001b[0;31m---------------------------------------------------------------------------\u001b[0m",
      "\u001b[0;31mTypeError\u001b[0m                                 Traceback (most recent call last)",
      "\u001b[0;32m<ipython-input-63-32df9ddc3765>\u001b[0m in \u001b[0;36m<module>\u001b[0;34m\u001b[0m\n\u001b[1;32m     13\u001b[0m \u001b[0;34m\u001b[0m\u001b[0m\n\u001b[1;32m     14\u001b[0m \u001b[0moptimizer\u001b[0m \u001b[0;34m=\u001b[0m \u001b[0mtf\u001b[0m\u001b[0;34m.\u001b[0m\u001b[0mkeras\u001b[0m\u001b[0;34m.\u001b[0m\u001b[0moptimizers\u001b[0m\u001b[0;34m.\u001b[0m\u001b[0mAdam\u001b[0m\u001b[0;34m(\u001b[0m\u001b[0mlearning_rate\u001b[0m\u001b[0;34m=\u001b[0m\u001b[0mlearning_rate\u001b[0m\u001b[0;34m)\u001b[0m\u001b[0;34m\u001b[0m\u001b[0m\n\u001b[0;32m---> 15\u001b[0;31m train_op = optimizer.minimize(loss, \n\u001b[0m\u001b[1;32m     16\u001b[0m                               \u001b[0;31m#global_step=global_step\u001b[0m\u001b[0;34m\u001b[0m\u001b[0;34m\u001b[0m\u001b[0m\n\u001b[1;32m     17\u001b[0m                              )\n",
      "\u001b[0;31mTypeError\u001b[0m: minimize() missing 1 required positional argument: 'var_list'"
     ]
    }
   ],
   "source": [
    "# Set-up M-step.\n",
    "\n",
    "loss = -tf.reduce_mean(kernel_results.accepted_results.target_log_prob)\n",
    "\n",
    "#global_step = tf.train.get_or_create_global_step()\n",
    "global_step = tf.Variable(1, name='global_step')\n",
    "\n",
    "learning_rate = tf.keras.optimizers.schedules.ExponentialDecay(\n",
    "    initial_learning_rate=0.1,\n",
    "    #global_step=global_step,\n",
    "    decay_steps=2,\n",
    "    decay_rate=0.99)\n",
    "\n",
    "optimizer = tf.keras.optimizers.Adam(learning_rate=learning_rate)\n",
    "train_op = optimizer.minimize(loss, \n",
    "                              #global_step=global_step\n",
    "                             )"
   ]
  },
  {
   "cell_type": "code",
   "execution_count": 32,
   "metadata": {},
   "outputs": [
    {
     "data": {
      "text/plain": [
       "[<tf.Tensor: id=13, shape=(), dtype=float32, numpy=0.4>]"
      ]
     },
     "execution_count": 32,
     "metadata": {},
     "output_type": "execute_result"
    }
   ],
   "source": []
  },
  {
   "cell_type": "code",
   "execution_count": null,
   "metadata": {},
   "outputs": [],
   "source": [
    "maxiter = int(1500)\n",
    "num_accepted = 0\n",
    "num_drawn = 0\n",
    "for i in range(maxiter):\n",
    "    [\n",
    "        _,\n",
    "        global_step_,\n",
    "        loss_,\n",
    "        posterior_random_weights_,\n",
    "        kernel_results_,\n",
    "        step_size_,\n",
    "        prior_scale_,\n",
    "        likelihood_scale_,\n",
    "        fixed_effect_weights_,\n",
    "    ] = sess.run([\n",
    "        train_op,\n",
    "        global_step,\n",
    "        loss,\n",
    "        posterior_random_weights,\n",
    "        kernel_results,\n",
    "        step_size,\n",
    "        prior_scale,\n",
    "        likelihood_scale,\n",
    "        fixed_effect_weights,\n",
    "    ], feed_dict={init_random_weights: w_})\n",
    "    w_ = posterior_random_weights_[-1, :]\n",
    "    num_accepted += kernel_results_.is_accepted.sum()\n",
    "    num_drawn += kernel_results_.is_accepted.size\n",
    "    acceptance_rate = num_accepted / num_drawn\n",
    "    if i % 100 == 0 or i == maxiter - 1:\n",
    "         print('global_step:{:>4}  loss:{: 9.3f}  acceptance:{:.4f}  '\n",
    "            'step_size:{:.4f}  prior_scale:{:.4f}  likelihood_scale:{:.4f}  '\n",
    "            'fixed_effect_weights:{}'.format(\n",
    "                global_step_, loss_.mean(), acceptance_rate, step_size_,\n",
    "                prior_scale_, likelihood_scale_, fixed_effect_weights_))"
   ]
  },
  {
   "cell_type": "markdown",
   "metadata": {},
   "source": [
    "## One model"
   ]
  },
  {
   "cell_type": "code",
   "execution_count": 66,
   "metadata": {},
   "outputs": [
    {
     "data": {
      "text/html": [
       "<div>\n",
       "<style scoped>\n",
       "    .dataframe tbody tr th:only-of-type {\n",
       "        vertical-align: middle;\n",
       "    }\n",
       "\n",
       "    .dataframe tbody tr th {\n",
       "        vertical-align: top;\n",
       "    }\n",
       "\n",
       "    .dataframe thead th {\n",
       "        text-align: right;\n",
       "    }\n",
       "</style>\n",
       "<table border=\"1\" class=\"dataframe\">\n",
       "  <thead>\n",
       "    <tr style=\"text-align: right;\">\n",
       "      <th></th>\n",
       "      <th>log_radon</th>\n",
       "      <th>floor</th>\n",
       "      <th>county</th>\n",
       "      <th>log_uranium_ppm</th>\n",
       "    </tr>\n",
       "  </thead>\n",
       "  <tbody>\n",
       "    <tr>\n",
       "      <th>0</th>\n",
       "      <td>0.788457</td>\n",
       "      <td>1</td>\n",
       "      <td>0</td>\n",
       "      <td>-0.689048</td>\n",
       "    </tr>\n",
       "    <tr>\n",
       "      <th>1</th>\n",
       "      <td>0.788457</td>\n",
       "      <td>0</td>\n",
       "      <td>0</td>\n",
       "      <td>-0.689048</td>\n",
       "    </tr>\n",
       "    <tr>\n",
       "      <th>2</th>\n",
       "      <td>1.064711</td>\n",
       "      <td>0</td>\n",
       "      <td>0</td>\n",
       "      <td>-0.689048</td>\n",
       "    </tr>\n",
       "    <tr>\n",
       "      <th>3</th>\n",
       "      <td>0.000000</td>\n",
       "      <td>0</td>\n",
       "      <td>0</td>\n",
       "      <td>-0.689048</td>\n",
       "    </tr>\n",
       "    <tr>\n",
       "      <th>4</th>\n",
       "      <td>1.131402</td>\n",
       "      <td>0</td>\n",
       "      <td>1</td>\n",
       "      <td>-0.847313</td>\n",
       "    </tr>\n",
       "  </tbody>\n",
       "</table>\n",
       "</div>"
      ],
      "text/plain": [
       "   log_radon  floor  county  log_uranium_ppm\n",
       "0   0.788457      1       0        -0.689048\n",
       "1   0.788457      0       0        -0.689048\n",
       "2   1.064711      0       0        -0.689048\n",
       "3   0.000000      0       0        -0.689048\n",
       "4   1.131402      0       1        -0.847313"
      ]
     },
     "execution_count": 66,
     "metadata": {},
     "output_type": "execute_result"
    }
   ],
   "source": [
    "radon.head()"
   ]
  },
  {
   "cell_type": "code",
   "execution_count": 74,
   "metadata": {},
   "outputs": [],
   "source": [
    "from sklearn.model_selection import train_test_split\n",
    "\n",
    "x, y = radon[['floor', 'log_uranium_ppm']].values, radon['log_radon'].values\n",
    "x_train, x_test, y_train, y_test = train_test_split(x, y, random_state=3, test_size=0.5)"
   ]
  },
  {
   "cell_type": "code",
   "execution_count": 75,
   "metadata": {},
   "outputs": [
    {
     "data": {
      "text/plain": [
       "<tensorflow.python.keras.callbacks.History at 0x1a29c50ba8>"
      ]
     },
     "execution_count": 75,
     "metadata": {},
     "output_type": "execute_result"
    }
   ],
   "source": [
    "tfd = tfp.distributions\n",
    "\n",
    "negloglik = lambda y, p_y: -p_y.log_prob(y)\n",
    "\n",
    "model = tf.keras.Sequential([\n",
    "  #tfp.layers.DenseVariational(1, posterior_mean_field, prior_trainable),\n",
    "  tf.keras.layers.Dense(1),\n",
    "  tfp.layers.DistributionLambda(lambda t: tfd.Normal(loc=t, scale=1)),\n",
    "])\n",
    "\n",
    "# Do inference.\n",
    "model.compile(optimizer=tf.optimizers.Adam(learning_rate=0.05), loss=negloglik)\n",
    "model.fit(x, y, epochs=500, verbose=False)"
   ]
  },
  {
   "cell_type": "code",
   "execution_count": 76,
   "metadata": {},
   "outputs": [],
   "source": [
    "yhat = model(x_test)"
   ]
  },
  {
   "cell_type": "code",
   "execution_count": 77,
   "metadata": {},
   "outputs": [],
   "source": [
    "yhat_mean = yhat.mean()"
   ]
  },
  {
   "cell_type": "code",
   "execution_count": 83,
   "metadata": {},
   "outputs": [
    {
     "data": {
      "text/plain": [
       "[array([[-0.67041105],\n",
       "        [ 0.78343725]], dtype=float32), array([1.4535519], dtype=float32)]"
      ]
     },
     "execution_count": 83,
     "metadata": {},
     "output_type": "execute_result"
    }
   ],
   "source": [
    "model.get_weights()"
   ]
  },
  {
   "cell_type": "code",
   "execution_count": 81,
   "metadata": {},
   "outputs": [
    {
     "data": {
      "text/plain": [
       "<matplotlib.collections.PathCollection at 0x1a2a3263c8>"
      ]
     },
     "execution_count": 81,
     "metadata": {},
     "output_type": "execute_result"
    },
    {
     "data": {
      "image/png": "[encoded data removed]",
      "text/plain": [
       "<Figure size 432x288 with 1 Axes>"
      ]
     },
     "metadata": {
      "needs_background": "light"
     },
     "output_type": "display_data"
    }
   ],
   "source": [
    "plt.scatter(x_test[:,0], y_test, s=10, alpha=0.5)\n",
    "xs = np.linspace(0,1,4)\n",
    "yhats = \n",
    "plt.plot()"
   ]
  },
  {
   "cell_type": "markdown",
   "metadata": {},
   "source": [
    "## Variational Layer"
   ]
  },
  {
   "cell_type": "code",
   "execution_count": 84,
   "metadata": {},
   "outputs": [],
   "source": [
    "def prior_trainable(kernel_size, bias_size=0, dtype=None):\n",
    "    n = kernel_size + bias_size\n",
    "    return tf.keras.Sequential([\n",
    "        tfp.layers.VariableLayer(n, dtype=dtype),\n",
    "        tfp.layers.DistributionLambda(lambda t: tfd.Independent(\n",
    "            tfd.Normal(loc=t, scale=1),\n",
    "            reinterpreted_batch_ndims=1)),\n",
    "    ])"
   ]
  },
  {
   "cell_type": "code",
   "execution_count": 64,
   "metadata": {},
   "outputs": [],
   "source": [
    "def make_weights_prior(num_counties, dtype):\n",
    "    \"\"\"Returns a `len(log_uranium_ppm)` batch of univariate Normal.\"\"\"\n",
    "    raw_prior_scale = tf.Variable(initial_value=np.array(inv_scale_transform(1.), dtype=dtype))\n",
    "    return tfp.distributions.Independent(\n",
    "        tfp.distributions.Normal(\n",
    "            loc=tf.zeros(num_counties, dtype=dtype),\n",
    "            scale=fwd_scale_transform(raw_prior_scale)),\n",
    "        reinterpreted_batch_ndims=1)"
   ]
  },
  {
   "cell_type": "code",
   "execution_count": 65,
   "metadata": {},
   "outputs": [
    {
     "data": {
      "text/plain": [
       "array([-0.6890476 , -0.84731287, -0.11345877, -0.5933525 , -0.14289048,\n",
       "        0.3870567 ,  0.27161366,  0.2775787 , -0.33231547,  0.09586457,\n",
       "       -0.6082198 ,  0.27368456, -0.7353201 ,  0.34378117, -0.05986042,\n",
       "       -0.504996  ,  0.33956033, -0.6333907 , -0.02414516,  0.26385546,\n",
       "        0.15571232,  0.29502505,  0.41491365,  0.22420698,  0.19661064,\n",
       "       -0.09652081,  0.5035291 , -0.40059698, -0.75187224, -0.6633476 ,\n",
       "        0.30902028, -0.05338601,  0.10973294, -0.00780337, -0.8818289 ,\n",
       "        0.31102988, -0.6915964 , -0.6817089 ,  0.19444774,  0.44490373,\n",
       "        0.3947344 ,  0.14960034,  0.01376483,  0.16586183,  0.1404226 ,\n",
       "        0.02395087, -0.21005952, -0.09322665,  0.26093248,  0.39884993,\n",
       "        0.24804688,  0.40545177,  0.26522171,  0.24315009, -0.20473038,\n",
       "       -0.07402766, -0.16329217,  0.47860405,  0.26611108,  0.28114828,\n",
       "       -0.4180535 ,  0.36632225,  0.38057798,  0.1931461 ,  0.52802485,\n",
       "       -0.21204537,  0.06311563, -0.68343645,  0.23721212, -0.47467372,\n",
       "        0.11639541,  0.26980573,  0.47077832,  0.31602898, -0.04684007,\n",
       "        0.49759448,  0.15008241, -0.67202973,  0.21241419, -0.14748429,\n",
       "        0.1832378 ,  0.23603608,  0.46321186, -0.09002428,  0.355287  ],\n",
       "      dtype=float32)"
      ]
     },
     "execution_count": 65,
     "metadata": {},
     "output_type": "execute_result"
    }
   ],
   "source": [
    "log_county_uranium_ppm"
   ]
  },
  {
   "cell_type": "markdown",
   "metadata": {},
   "source": []
  }
 ],
 "metadata": {
  "kernelspec": {
   "display_name": "Python 3",
   "language": "python",
   "name": "python3"
  },
  "language_info": {
   "codemirror_mode": {
    "name": "ipython",
    "version": 3
   },
   "file_extension": ".py",
   "mimetype": "text/x-python",
   "name": "python",
   "nbconvert_exporter": "python",
   "pygments_lexer": "ipython3",
   "version": "3.7.4"
  }
 },
 "nbformat": 4,
 "nbformat_minor": 4
}
