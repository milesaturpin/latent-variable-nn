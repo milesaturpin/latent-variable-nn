{
 "cells": [
  {
   "cell_type": "code",
   "execution_count": 1,
   "metadata": {},
   "outputs": [],
   "source": [
    "import tensorflow as tf\n",
    "import tensorflow_probability as tfp\n",
    "import datetime\n",
    "\n",
    "import numpy as np\n",
    "from matplotlib import pyplot as plt\n",
    "import sys\n",
    "sys.path.insert(1, '/Users/milesturpin/Dev/latent_variable_nn')\n",
    "sys.path.insert(1, '/Users/milesturpin/Dev/latent_variable_nn/models')\n",
    "\n",
    "#from models.multilevel_layers import MultilevelDense\n",
    "\n",
    "from sklearn.model_selection import train_test_split\n",
    "from sklearn.metrics import mean_squared_error, r2_score\n",
    "\n",
    "from tensorflow.keras.utils import to_categorical\n",
    "\n",
    "from tensorflow.keras.layers import Input\n",
    "from tensorflow.keras.models import Model, Sequential\n",
    "\n",
    "from functools import reduce\n",
    "import ipdb\n",
    "\n",
    "import collections\n",
    "\n",
    "\n",
    "tfd = tfp.distributions"
   ]
  },
  {
   "cell_type": "code",
   "execution_count": 2,
   "metadata": {},
   "outputs": [],
   "source": [
    "%load_ext tensorboard"
   ]
  },
  {
   "cell_type": "markdown",
   "metadata": {},
   "source": [
    "# Single parameter"
   ]
  },
  {
   "cell_type": "markdown",
   "metadata": {},
   "source": [
    "## Data generation"
   ]
  },
  {
   "cell_type": "code",
   "execution_count": 3,
   "metadata": {},
   "outputs": [],
   "source": [
    "def data_generator(gid):\n",
    "    #x_tf = tf.cast(tf.convert_to_tensor(gid), tf.int32)\n",
    "    gid_tf = tf.cast(tf.convert_to_tensor(gid), tf.int32)\n",
    "    num_groups = tf.cast(tf.convert_to_tensor(max(gid) + 1), tf.int32)\n",
    "    \"\"\"Creates a joint distribution for the varying slope model.\"\"\"\n",
    "    return tfd.JointDistributionSequential([\n",
    "        tfd.Normal(loc=1., scale=0.1, name='w_z_0'),\n",
    "#         tfd.Independent(\n",
    "#             tfd.HalfCauchy(loc=tf.ones([num_groups])*0.1, scale=0.01, name='w_lambda_k'),\n",
    "#             reinterpreted_batch_ndims=1),\n",
    "        tfd.HalfCauchy(loc=1, scale=0.01, name='w_lambda_k'),\n",
    "\n",
    "        lambda w_lambda_k, w_z_0: tfd.Independent(tfd.Normal( \n",
    "            loc=tf.ones([num_groups])*w_z_0,\n",
    "            scale=w_lambda_k,\n",
    "            name='w_z_k'), reinterpreted_batch_ndims=1),\n",
    "\n",
    "        lambda w_z_k: tfd.MultivariateNormalDiag(  # y\n",
    "            loc=tf.gather(w_z_k, gid_tf, axis=-1) ,\n",
    "            scale_identity_multiplier=0.5,\n",
    "            name='x')\n",
    "   ])"
   ]
  },
  {
   "cell_type": "code",
   "execution_count": 4,
   "metadata": {},
   "outputs": [
    {
     "name": "stdout",
     "output_type": "stream",
     "text": [
      "Counter({14: 27, 15: 27, 7: 24, 6: 23, 13: 23, 18: 22, 10: 22, 19: 21, 5: 20, 1: 20, 8: 20, 3: 19, 12: 19, 9: 18, 16: 18, 17: 18, 11: 17, 2: 15, 4: 15, 0: 12})\n",
      "[<tf.Tensor: shape=(), dtype=float32, numpy=0.9242421>, <tf.Tensor: shape=(), dtype=float32, numpy=1.0104575>, <tf.Tensor: shape=(20,), dtype=float32, numpy=\n",
      "array([ 1.5396011 ,  0.8021826 ,  1.1984613 ,  1.0655437 , -0.22674459,\n",
      "       -0.15848154,  0.73196423,  0.39405507,  0.500525  ,  0.91956156,\n",
      "        2.0734231 ,  0.6850368 ,  0.97898316, -0.05928135,  1.8084259 ,\n",
      "       -0.21522802,  1.7886177 ,  0.9028492 , -0.22068304,  0.9235853 ],\n",
      "      dtype=float32)>]\n"
     ]
    }
   ],
   "source": [
    "ng=20\n",
    "avg_samp = 20\n",
    "np.random.seed(3229)\n",
    "gi = np.random.choice(ng, size=[ng*avg_samp])\n",
    "\n",
    "print(collections.Counter(gi))\n",
    "\n",
    "gen_process = data_generator(gi)\n",
    "tf.random.set_seed(1)\n",
    "gen = gen_process.sample(seed=7)\n",
    "\n",
    "xi=gen[-1].numpy()\n",
    "print(gen[:-1])"
   ]
  },
  {
   "cell_type": "code",
   "execution_count": 5,
   "metadata": {},
   "outputs": [],
   "source": [
    "yi = 2.*xi + 1. + np.random.randn(len(xi))/5"
   ]
  },
  {
   "cell_type": "code",
   "execution_count": 6,
   "metadata": {},
   "outputs": [],
   "source": [
    "x_train, x_test, y_train, y_test,  gid_train, gid_test = train_test_split(\n",
    "    xi, yi, gi, stratify=gi, random_state=9022, test_size=0.9)\n",
    "tts = [x_train, x_test, y_train, y_test, gid_train, gid_test]\n",
    "\n",
    "x_train = tf.convert_to_tensor(x_train)[...,tf.newaxis]\n",
    "x_test = tf.convert_to_tensor(x_test)[...,tf.newaxis]\n",
    "y_train = tf.convert_to_tensor(y_train)[...,tf.newaxis]\n",
    "y_test = tf.convert_to_tensor(y_test)[...,tf.newaxis]\n",
    "gid_train = tf.cast(tf.convert_to_tensor(gid_train), tf.int32)\n",
    "gid_test = tf.cast(tf.convert_to_tensor(gid_test), tf.int32)"
   ]
  },
  {
   "cell_type": "markdown",
   "metadata": {},
   "source": [
    "## Baseline model"
   ]
  },
  {
   "cell_type": "code",
   "execution_count": 7,
   "metadata": {},
   "outputs": [],
   "source": [
    "def mean_estimator_error(train, test):\n",
    "    return np.abs(np.mean(train) - np.mean(test))\n",
    "    "
   ]
  },
  {
   "cell_type": "code",
   "execution_count": 8,
   "metadata": {},
   "outputs": [],
   "source": [
    "check_tensor = lambda x: isinstance(x, tf.python.framework.ops.EagerTensor)"
   ]
  },
  {
   "cell_type": "code",
   "execution_count": 9,
   "metadata": {},
   "outputs": [],
   "source": [
    "def get_segments(data, gid, idx): \n",
    "    if check_tensor(data):\n",
    "        data = data.numpy()\n",
    "    if check_tensor(gid):\n",
    "        gid = gid.numpy()\n",
    "    return data[np.where(gid == idx)[0]]"
   ]
  },
  {
   "cell_type": "code",
   "execution_count": 10,
   "metadata": {},
   "outputs": [
    {
     "name": "stdout",
     "output_type": "stream",
     "text": [
      "Baseline estimator: 0.06372517\n"
     ]
    }
   ],
   "source": [
    "print('Baseline estimator:', mean_estimator_error(x_train, x_test))"
   ]
  },
  {
   "cell_type": "code",
   "execution_count": 11,
   "metadata": {},
   "outputs": [
    {
     "name": "stdout",
     "output_type": "stream",
     "text": [
      "Baseline estimator per group: 0.29663312\n",
      "Baseline estimator per group: 0.6617641\n",
      "Baseline estimator per group: 0.10195196\n",
      "Baseline estimator per group: 0.27956998\n",
      "Baseline estimator per group: 0.34731218\n",
      "Baseline estimator per group: 0.05775149\n",
      "Baseline estimator per group: 0.08168769\n",
      "Baseline estimator per group: 0.87159\n",
      "Baseline estimator per group: 0.010310769\n",
      "Baseline estimator per group: 0.23998612\n",
      "Baseline estimator per group: 0.496706\n",
      "Baseline estimator per group: 0.31026387\n",
      "Baseline estimator per group: 0.6093107\n",
      "Baseline estimator per group: 0.31341195\n",
      "Baseline estimator per group: 0.039975286\n",
      "Baseline estimator per group: 0.1481406\n",
      "Baseline estimator per group: 0.32705867\n",
      "Baseline estimator per group: 0.12343633\n",
      "Baseline estimator per group: 0.31735182\n",
      "Baseline estimator per group: 0.026184022\n"
     ]
    }
   ],
   "source": [
    "for i in range(ng):\n",
    "    train = get_segments(x_train, gid_train, i)\n",
    "    test = get_segments(x_test, gid_test, i)\n",
    "    print('Baseline estimator per group:', mean_estimator_error(train, test))"
   ]
  },
  {
   "cell_type": "code",
   "execution_count": 12,
   "metadata": {},
   "outputs": [
    {
     "data": {
      "image/png": "[encoded data removed]",
      "text/plain": [
       "<Figure size 936x360 with 2 Axes>"
      ]
     },
     "metadata": {
      "needs_background": "light"
     },
     "output_type": "display_data"
    }
   ],
   "source": [
    "fig, axes =plt.subplots(1,2, figsize=(13,5))\n",
    "for i in range(ng):\n",
    "    \n",
    "    axes[0].scatter(get_segments(x_train, gid_train, i), [i]*len(get_segments(x_train, gid_train, i)))\n",
    "\n",
    "    axes[1].scatter(get_segments(x_test, gid_test, i), [i]*len(get_segments(x_test, gid_test, i)))"
   ]
  },
  {
   "cell_type": "code",
   "execution_count": 13,
   "metadata": {},
   "outputs": [
    {
     "data": {
      "text/plain": [
       "<tf.Tensor: shape=(20,), dtype=float32, numpy=\n",
       "array([ 1.5396011 ,  0.8021826 ,  1.1984613 ,  1.0655437 , -0.22674459,\n",
       "       -0.15848154,  0.73196423,  0.39405507,  0.500525  ,  0.91956156,\n",
       "        2.0734231 ,  0.6850368 ,  0.97898316, -0.05928135,  1.8084259 ,\n",
       "       -0.21522802,  1.7886177 ,  0.9028492 , -0.22068304,  0.9235853 ],\n",
       "      dtype=float32)>"
      ]
     },
     "execution_count": 13,
     "metadata": {},
     "output_type": "execute_result"
    }
   ],
   "source": [
    "gen[2]"
   ]
  },
  {
   "cell_type": "markdown",
   "metadata": {},
   "source": [
    "## Model classes"
   ]
  },
  {
   "cell_type": "code",
   "execution_count": 15,
   "metadata": {},
   "outputs": [],
   "source": [
    "@tf.function\n",
    "def tf_gather(x, ind):\n",
    "    return tf.gather(x + 0, ind)"
   ]
  },
  {
   "cell_type": "code",
   "execution_count": 16,
   "metadata": {},
   "outputs": [],
   "source": [
    "# group_kl_weights should be [k1, k2, k3] / train_size"
   ]
  },
  {
   "cell_type": "code",
   "execution_count": 17,
   "metadata": {},
   "outputs": [],
   "source": [
    "var = HierarchicalVariableLayer([1,], 3, 1.)"
   ]
  },
  {
   "cell_type": "code",
   "execution_count": 18,
   "metadata": {},
   "outputs": [],
   "source": [
    "var.build(None)"
   ]
  },
  {
   "cell_type": "code",
   "execution_count": 19,
   "metadata": {},
   "outputs": [
    {
     "data": {
      "text/plain": [
       "<tf.Tensor: shape=(1, 1), dtype=float32, numpy=array([[-0.06573077]], dtype=float32)>"
      ]
     },
     "execution_count": 19,
     "metadata": {},
     "output_type": "execute_result"
    }
   ],
   "source": [
    "var.call(tf.convert_to_tensor([0]))"
   ]
  },
  {
   "cell_type": "code",
   "execution_count": 20,
   "metadata": {},
   "outputs": [
    {
     "data": {
      "text/plain": [
       "[<tf.Tensor: shape=(), dtype=float32, numpy=8.114257>,\n",
       " <tf.Tensor: shape=(), dtype=float32, numpy=0.15608111>,\n",
       " <tf.Tensor: shape=(), dtype=float32, numpy=3.032853>]"
      ]
     },
     "execution_count": 20,
     "metadata": {},
     "output_type": "execute_result"
    }
   ],
   "source": [
    "var.losses"
   ]
  },
  {
   "cell_type": "markdown",
   "metadata": {},
   "source": [
    "## Test KL and log prob terms"
   ]
  },
  {
   "cell_type": "code",
   "execution_count": 1820,
   "metadata": {
    "collapsed": true,
    "jupyter": {
     "outputs_hidden": true
    }
   },
   "outputs": [
    {
     "data": {
      "text/plain": [
       "<tf.Tensor: shape=(), dtype=float32, numpy=8.114258>"
      ]
     },
     "execution_count": 1820,
     "metadata": {},
     "output_type": "execute_result"
    }
   ],
   "source": [
    "# KL terms\n",
    "tfd.kl_divergence(tfd.Normal(0., tf.nn.softplus(-4.)), tfd.Normal(0. , 100.))"
   ]
  },
  {
   "cell_type": "code",
   "execution_count": 1013,
   "metadata": {
    "collapsed": true,
    "jupyter": {
     "outputs_hidden": true
    }
   },
   "outputs": [
    {
     "data": {
      "text/plain": [
       "<tf.Tensor: shape=(3,), dtype=float32, numpy=array([2.009158, 2.009158, 2.009158], dtype=float32)>"
      ]
     },
     "execution_count": 1013,
     "metadata": {},
     "output_type": "execute_result"
    }
   ],
   "source": [
    "# KL terms\n",
    "tfd.kl_divergence(tfd.Normal([-1.,  -1., -1.], tf.math.exp(-2.)), tfd.Normal(0. , 1.))"
   ]
  },
  {
   "cell_type": "code",
   "execution_count": 1014,
   "metadata": {
    "collapsed": true,
    "jupyter": {
     "outputs_hidden": true
    }
   },
   "outputs": [
    {
     "data": {
      "text/plain": [
       "<tf.Tensor: shape=(3,), dtype=float32, numpy=array([0.5898142, 2.0898142, 2.0898142], dtype=float32)>"
      ]
     },
     "execution_count": 1014,
     "metadata": {},
     "output_type": "execute_result"
    }
   ],
   "source": [
    "# KL terms\n",
    "tfd.kl_divergence(tfd.Normal([-1.,  2., 2.], tf.nn.softplus(1.)), tfd.Normal(0. , 1.))"
   ]
  },
  {
   "cell_type": "code",
   "execution_count": 1015,
   "metadata": {},
   "outputs": [],
   "source": [
    "def z_k_kl_loss_fn():\n",
    "#     z = tf.reduce_mean(\n",
    "#         tfd.Normal(tf.convert_to_tensor([1., -1., 1.]), \n",
    "#                    tf.convert_to_tensor([0.1, 0.1, 0.1]))\n",
    "#         .sample(100), axis=0)\n",
    "    mu0 = tf.reduce_mean(tfd.Normal(1., tf.nn.softplus(-2.)).sample(100), axis=0)\n",
    "    z = tf.reduce_mean(\n",
    "        tfd.Normal(\n",
    "            tf.convert_to_tensor([1.]), \n",
    "            tf.convert_to_tensor([2.]))\n",
    "        .sample(100), axis=0)\n",
    "    print(mu0)\n",
    "    print(z)\n",
    "    return -1 * tfd.Normal(mu0, 1).log_prob(z)"
   ]
  },
  {
   "cell_type": "code",
   "execution_count": 1016,
   "metadata": {
    "collapsed": true,
    "jupyter": {
     "outputs_hidden": true
    }
   },
   "outputs": [
    {
     "name": "stdout",
     "output_type": "stream",
     "text": [
      "tf.Tensor(0.99928784, shape=(), dtype=float32)\n",
      "tf.Tensor([1.1110892], shape=(1,), dtype=float32)\n"
     ]
    },
    {
     "data": {
      "text/plain": [
       "<tf.Tensor: shape=(1,), dtype=float32, numpy=array([0.9251883], dtype=float32)>"
      ]
     },
     "execution_count": 1016,
     "metadata": {},
     "output_type": "execute_result"
    }
   ],
   "source": [
    "z_k_kl_loss_fn()"
   ]
  },
  {
   "cell_type": "code",
   "execution_count": 1017,
   "metadata": {
    "collapsed": true,
    "jupyter": {
     "outputs_hidden": true
    }
   },
   "outputs": [
    {
     "data": {
      "text/plain": [
       "<tf.Tensor: shape=(1,), dtype=float32, numpy=array([8.291402], dtype=float32)>"
      ]
     },
     "execution_count": 1017,
     "metadata": {},
     "output_type": "execute_result"
    }
   ],
   "source": [
    "tfd.Normal(1, 0.0001).log_prob([1])"
   ]
  },
  {
   "cell_type": "code",
   "execution_count": 1018,
   "metadata": {
    "collapsed": true,
    "jupyter": {
     "outputs_hidden": true
    }
   },
   "outputs": [
    {
     "data": {
      "text/plain": [
       "<tf.Tensor: shape=(3,), dtype=float64, numpy=array([16., 16., 16.])>"
      ]
     },
     "execution_count": 1018,
     "metadata": {},
     "output_type": "execute_result"
    }
   ],
   "source": [
    "muk = tf.convert_to_tensor(np.ones([3,4])*10.)\n",
    "mu0 = tf.convert_to_tensor(np.ones([4])*12.)\n",
    "\n",
    "(tf.einsum('kd, kd  -> k', muk, muk) \n",
    " + tf.einsum('d,d -> ', mu0, mu0)\n",
    "            - 2 * tf.einsum('kd,d -> k', muk, mu0))"
   ]
  },
  {
   "cell_type": "code",
   "execution_count": 284,
   "metadata": {},
   "outputs": [],
   "source": [
    "def z_k_kl_loss_fn():\n",
    "    #sigma_k_pos = var_activation(self.sigma_k)\n",
    "    #tau_k = self.sample_posterior(self.tau_k_mu, var_activation(self.tau_k_sigma))        \n",
    "#     sigma_k_pos = tf.convert_to_tensor([0.1, 0.1, 0.1])\n",
    "    sigma_k_pos = tf.convert_to_tensor([tf.nn.softplus(-4.)])\n",
    "    tau_k_sq = tf.convert_to_tensor([1.05])\n",
    "    sigma0_pos = tf.convert_to_tensor([tf.nn.softplus(-4.)])\n",
    "    #mu_k = tf.convert_to_tensor([1., -1., 1.])\n",
    "    mu_k = tf.convert_to_tensor([-0.058])\n",
    "    mu0 = tf.convert_to_tensor(0.)\n",
    "    #z0 = self.sample_posterior(self.mu0, var_activation(self.sigma0))\n",
    "\n",
    "#     print(tf.reduce_sum(sigma_k_pos, axis=[-1]) \n",
    "#             , tf.reduce_sum(sigma0_pos, axis=[-1]) ,\n",
    "#         tf.einsum('i, i  -> i', mu_k, mu_k)\n",
    "#             , tf.einsum(', -> ', mu0, mu0)\n",
    "#             ,- 2 * tf.einsum('i, -> i', mu_k, mu0))\n",
    "    d = 1\n",
    "    z_k_log_prob = (\n",
    "        - 1/2 * d * np.log(2*np.pi) \n",
    "        - 1/2 * d * tf.math.log(tau_k_sq)\n",
    "        - 1/2/tau_k_sq * (\n",
    "            tf.reduce_sum(sigma_k_pos, axis=[-1]) \n",
    "            + tf.reduce_sum(sigma0_pos, axis=[-1]) \n",
    "            + tf.einsum('i, i  -> i', mu_k, mu_k)\n",
    "            + tf.einsum(', -> ', mu0, mu0)\n",
    "            - 2 * tf.einsum('i, -> i', mu_k, mu0)))\n",
    "\n",
    "    return -1* z_k_log_prob\n",
    "    #return -1 * tf.multiply(1, tf.reduce_sum(z_k_log_prob))"
   ]
  },
  {
   "cell_type": "code",
   "execution_count": 285,
   "metadata": {
    "collapsed": true,
    "jupyter": {
     "outputs_hidden": true
    }
   },
   "outputs": [
    {
     "data": {
      "text/plain": [
       "<tf.Tensor: shape=(1,), dtype=float32, numpy=array([0.96222115], dtype=float32)>"
      ]
     },
     "execution_count": 285,
     "metadata": {},
     "output_type": "execute_result"
    }
   ],
   "source": [
    "z_k_kl_loss_fn()"
   ]
  },
  {
   "cell_type": "code",
   "execution_count": 1023,
   "metadata": {},
   "outputs": [],
   "source": [
    "def z_k_kl_loss_fn(): \n",
    "    #tau_k = self.sample_posterior(self.tau_k_mu, var_activation(self.tau_k_sigma))  \n",
    "    #tau_k = tfd.Normal([-1,2,2], 0.1).sample()\n",
    "    #tau_k_sq = tau_k ** 2 \n",
    "    tau_k_sq = 1\n",
    "    z0 = tfd.Normal(1., tf.nn.softplus(0.1)).sample()\n",
    "    z0 = 0.\n",
    "    print(z0, tau_k_sq)\n",
    "    return tfd.kl_divergence(tfd.Normal([-1.,1.,1.], tf.nn.softplus(-2.)), tfd.Normal(z0, tau_k_sq))\n",
    "    \n"
   ]
  },
  {
   "cell_type": "code",
   "execution_count": 1024,
   "metadata": {
    "collapsed": true,
    "jupyter": {
     "outputs_hidden": true
    }
   },
   "outputs": [
    {
     "name": "stdout",
     "output_type": "stream",
     "text": [
      "0.0 1\n"
     ]
    },
    {
     "data": {
      "text/plain": [
       "<tf.Tensor: shape=(3,), dtype=float32, numpy=array([2.0721903, 2.0721903, 2.0721903], dtype=float32)>"
      ]
     },
     "execution_count": 1024,
     "metadata": {},
     "output_type": "execute_result"
    }
   ],
   "source": [
    "z_k_kl_loss_fn()"
   ]
  },
  {
   "cell_type": "markdown",
   "metadata": {},
   "source": [
    "## Training"
   ]
  },
  {
   "cell_type": "code",
   "execution_count": 409,
   "metadata": {},
   "outputs": [],
   "source": [
    "def train(x, y, model, loss_fn, optimizer, batch_size, epochs, log_file, kl_annealing, print_freq=1, verbose=False):\n",
    "    if isinstance(x, list):\n",
    "        train_size = len(x[0])\n",
    "    else:\n",
    "        train_size = len(x)\n",
    "    num_batches = int(np.ceil(train_size/batch_size))\n",
    "    train_summary_writer = tf.summary.create_file_writer(log_file)\n",
    "    \n",
    "    for epoch in range(epochs):\n",
    "        \n",
    "        for step in range(num_batches):\n",
    "            global_step = epoch*num_batches + step\n",
    "            start, end = batch_size*step, batch_size*(step+1)\n",
    "            # e.g. x = [xt, gid]\n",
    "            if isinstance(x, list):\n",
    "                xb = [xi[start:end] for xi in x]\n",
    "            else:\n",
    "                xb = x[start:end]\n",
    "            yb = y[start:end]\n",
    "            \n",
    "            \n",
    "            if kl_annealing:\n",
    "                kl_annealing_weight = tf.convert_to_tensor(min(1., (global_step/num_batches) / (epochs/2)))\n",
    "            else: \n",
    "                kl_annealing_weight = 1.\n",
    "            loss_dict, grad_dict = train_step(xb, yb, model, loss_fn, optimizer, kl_annealing_weight)\n",
    "            \n",
    "            #[loss, z0_kl_loss, tau_k_kl_loss, z_k_log_prob_loss] = losses\n",
    "            #[loss_grads, z0_kl_loss_grads, tau_k_kl_loss_grads, z_k_log_prob_loss_grads, total_loss_grads] = grads\n",
    "            \n",
    "            if epoch % print_freq == 0 and step+1 == num_batches:\n",
    "                if verbose:\n",
    "                    print('VARIABLES FOR GROUP')\n",
    "                    (mu_k, sigma_k, mu0, sigma0, tau_k_mu, tau_k_sigma, z0_prior_mean, \n",
    "                     z0_prior_variance, tau_k_prior_mean, tau_k_prior_variance) = model.get_weights()\n",
    "\n",
    "                    for w in model.variables:\n",
    "                        wg = w\n",
    "                        wg = np.squeeze(wg.numpy())\n",
    "                        # vector\n",
    "                        if len(wg.shape) >= 1:\n",
    "\n",
    "                            print('{:<70}{}'.format(w.name, wg))\n",
    "                        else:\n",
    "                            # scalar\n",
    "                            print('{:<70}{:<+.5}'.format(w.name, wg))\n",
    "                    print('\\n')\n",
    "\n",
    "                    print('KL LOSSES (scaled by {:.4})'.format(model.kl_weight))\n",
    "                    print('NOTE: scaling by ', num_batches)\n",
    "                    for name, kl in {'z0_kl_loss':  z0_kl_loss, \n",
    "                                     'tau_k_kl_loss':  tau_k_kl_loss, \n",
    "                                     'z_k_log_prob_loss':  z_k_log_prob_loss}.items():\n",
    "                        print('{:<15} = {:<10.3}'.format(name, kl.numpy()))\n",
    "                    print('\\n')\n",
    "\n",
    "                    print('GID, PRED, TRUE, LOSS')\n",
    "                    for i in range(len(pred)):\n",
    "                        print('{:<30}{:<+10.3}{:<+10.3}{:<5.3}'.format(\n",
    "                            xb[i], \n",
    "                            pred[i].numpy()[0], \n",
    "                            yb[i].numpy()[0], \n",
    "                            loss_fn(pred[i], yb[i])))\n",
    "                    print('LOSS: ',loss.numpy())\n",
    "                    print('\\n')\n",
    "\n",
    "                    print('GRADS')\n",
    "                    for i, var in enumerate(model.trainable_variables):\n",
    "\n",
    "                        def safe_grad_i(grad):\n",
    "                            if grad[i] is not None:\n",
    "                                print(grad[i].numpy())\n",
    "                            else:\n",
    "                                print(grad[i])\n",
    "\n",
    "                        print(var.name)\n",
    "                        print('LOSS GRADS')\n",
    "                        safe_grad_i(loss_grads)\n",
    "                        print('z0 KL GRADS')\n",
    "                        safe_grad_i(z0_kl_loss_grads)\n",
    "                        print('tau k KL GRADS')\n",
    "                        safe_grad_i(tau_k_kl_loss_grads)\n",
    "                        print('z k log prob GRADS')\n",
    "                        safe_grad_i(z_k_log_prob_loss_grads)\n",
    "                        print('TOTAL GRADS')\n",
    "                        safe_grad_i(total_loss_grads)\n",
    "                        print('\\n')\n",
    "                    print('\\n====================')\n",
    "                else:\n",
    "                    #print('Loss = {:<+10.2} z0_kl_loss = {:<+10.2} tau_k_kl_loss = {:<+10.2} z_k_log_prob_loss = {:<+10.2}'.format(\n",
    "                    #    loss, z0_kl_loss, tau_k_kl_loss, z_k_log_prob_loss))\n",
    "                    print(loss_dict['loss'], loss_dict['total_loss'])\n",
    " \n",
    "            \n",
    "                #import ipdb; ipdb.set_trace()\n",
    "\n",
    "                names = [model.name + \"/\" + layer.name +\"/\" + weight.name for layer in model.layers for weight in layer.trainable_weights]\n",
    "\n",
    "                with train_summary_writer.as_default():\n",
    "\n",
    "                    for loss_name, loss_val in loss_dict.items():\n",
    "                         tf.summary.scalar(loss_name, loss_val, step=global_step)\n",
    "\n",
    "                    for i, weight in enumerate(model.trainable_weights):\n",
    "\n",
    "                        tf.summary.histogram(names[i]+'/weight', weight, step=global_step)\n",
    "\n",
    "                        def safe_grad_tb(grad, grad_name):\n",
    "                            # Decided I only want to log non-zero grads\n",
    "                            if grad is not None:\n",
    "                                tf.summary.histogram(grad_name, grad, step=global_step)\n",
    "                            # Just return zero if grads are None\n",
    "                            #grad = tf.zeros_like(weights[i])\n",
    "\n",
    "                        #print(name, weights[i].name, weights[i], loss_grads[i], z_k_log_prob_loss_grads[i])\n",
    "\n",
    "                        for grad_name, grad_val in grad_dict.items():\n",
    "                            safe_grad_tb(grad_val, grad_name)\n",
    "\n",
    "    #                     safe_grad_tb(loss_grads[i], 'loss_grads')\n",
    "    #                     safe_grad_tb(z0_kl_loss_grads[i], 'z0_kl_loss_grads')\n",
    "    #                     safe_grad_tb(tau_k_kl_loss_grads[i], 'tau_k_kl_loss_grads')\n",
    "    #                     safe_grad_tb(z_k_log_prob_loss_grads[i], 'z_k_log_prob_loss_grads')\n",
    "                    \n",
    "                    \n",
    "            #do hist of losses across layers\n",
    "\n",
    "@tf.function            \n",
    "def train_step(xb, yb, model, loss_fn, optimizer, kl_annealing_weight):\n",
    "    # Needed so that I can call tape.gradient multiple times\n",
    "    with tf.GradientTape(persistent=True) as tape:\n",
    "\n",
    "        pred = model(xb)\n",
    "        loss = loss_fn(yb, pred)\n",
    "        \n",
    "        #z0_kl_loss, tau_k_kl_loss, z_k_log_prob_loss = model.losses\n",
    "        #total_loss = loss + kl_annealing_weight * (z0_kl_loss + tau_k_kl_loss + z_k_log_prob_loss)\n",
    "        \n",
    "       \n",
    "    \n",
    "        grads_dict = {}\n",
    "        loss_dict = {}\n",
    "#         #non_hier_losses = []\n",
    "#         for layer in model.layers:\n",
    "#             # hierarchical\n",
    "#             if layer.losses:\n",
    "#                 try:\n",
    "#                     if layer.multilevel_weights and layer.multilevel_bias:\n",
    "#                         (w_z0_kl_loss, w_tau_k_kl_loss, w_z_k_log_prob_loss, \n",
    "#                          b_z0_kl_loss, b_tau_k_kl_loss, b_z_k_log_prob_loss) = layer.losses\n",
    "\n",
    "#                         loss_names = [model.name+'/'+layer.name+'/'+loss_name for loss_name in \n",
    "#                                  ['w_z0_kl_loss', 'w_tau_k_kl_loss', 'w_z_k_log_prob_loss', \n",
    "#                                   'b_z0_kl_loss', 'b_tau_k_kl_loss', 'b_z_k_log_prob_loss']]\n",
    "\n",
    "#                         loss_dict = {**loss_dict, **{\n",
    "#                             loss_names[0]: w_z0_kl_loss, \n",
    "#                             loss_names[1]: w_tau_k_kl_loss, \n",
    "#                             loss_names[2]: w_z_k_log_prob_loss, \n",
    "#                             loss_names[3]: b_z0_kl_loss, \n",
    "#                             loss_names[4]: b_tau_k_kl_loss, \n",
    "#                             loss_names[5]: b_z_k_log_prob_loss}}\n",
    "#                     else:\n",
    "#                         print('NOT IMPLEMENTED')\n",
    "#                         raise NotImplementedError()\n",
    "\n",
    "\n",
    "#                 except:\n",
    "#                     print('Not tracking these losses in tensorboard')\n",
    "#                     raise NotImplementedError()\n",
    "#                     #non_hier_losses.append(layer.losses)\n",
    "                    \n",
    "#         kl_losses = [\n",
    "#             loss_val \n",
    "#             for loss_key, loss_val \n",
    "#             in loss_dict.items()\n",
    "#             if ('kl_loss' in loss_key) or ('log_prob_loss' in loss_key)]\n",
    "        \n",
    "#         total_loss = loss + kl_annealing_weight * sum(kl_losses)\n",
    "        total_loss = loss + kl_annealing_weight * sum(model.losses)\n",
    "          \n",
    "#     # Add loss and total loss to dict so that they show up in TB, put above the for loop or else\n",
    "#     # won't get total loss grads for every var\n",
    "    loss_dict['loss'] = loss\n",
    "    loss_dict['total_loss'] = total_loss\n",
    "#     # kl_loss: [list of grads for each var]\n",
    "    \n",
    "#     names = [model.name + \"/\" + layer.name +\"/\" + weight.name for layer in model.layers for weight in layer.trainable_weights]\n",
    "    \n",
    "#     for loss_key, loss_val in loss_dict.items():\n",
    "#         loss_name = re.search('/?([ a-zA-Z\\-\\:0-9\\_]*)$', loss_key).group(1)\n",
    "\n",
    "#         for i, weight in enumerate(model.trainable_weights):\n",
    "#             grads_dict[names[i]+'/'+loss_name+'/'+'grad'] = tape.gradient(loss_val, weight)\n",
    "        \n",
    "   \n",
    "    #print(model.losses)\n",
    "  \n",
    "    total_loss_grads = tape.gradient(total_loss, model.trainable_weights)\n",
    "#     loss_grads = []\n",
    "#     z0_kl_loss_grads = []\n",
    "#     tau_k_kl_loss_grads = []\n",
    "#     z_k_log_prob_loss_grads = []\n",
    "#     total_loss_grads = []\n",
    "#     for weight in model.trainable_weights:\n",
    "#         loss_grads              += [tape.gradient(loss, weight)]\n",
    "#         z0_kl_loss_grads        += [tape.gradient(z0_kl_loss, weight)]\n",
    "#         tau_k_kl_loss_grads     += [tape.gradient(tau_k_kl_loss, weight)]\n",
    "#         z_k_log_prob_loss_grads += [tape.gradient(z_k_log_prob_loss, weight)]\n",
    "#         total_loss_grads        += [tape.gradient(total_loss, weight)]\n",
    "\n",
    "    optimizer.apply_gradients(zip(total_loss_grads, model.trainable_weights))\n",
    "    del tape\n",
    "    \n",
    "    #return (\n",
    "    #    [loss, z0_kl_loss, tau_k_kl_loss, z_k_log_prob_loss], \n",
    "    #    [loss_grads, z0_kl_loss_grads, tau_k_kl_loss_grads, z_k_log_prob_loss_grads, total_loss_grads])\n",
    "    return loss_dict, grads_dict\n",
    "    "
   ]
  },
  {
   "cell_type": "code",
   "execution_count": 268,
   "metadata": {},
   "outputs": [],
   "source": [
    "import re\n"
   ]
  },
  {
   "cell_type": "code",
   "execution_count": 224,
   "metadata": {
    "collapsed": true,
    "jupyter": {
     "outputs_hidden": true
    }
   },
   "outputs": [
    {
     "data": {
      "text/plain": [
       "[<tf.Variable 'kernel/mu_k:0' shape=(20, 1) dtype=float32, numpy=\n",
       " array([[ 0.05021843],\n",
       "        [-0.0641843 ],\n",
       "        [ 0.00453139],\n",
       "        [-0.01994194],\n",
       "        [ 0.04216685],\n",
       "        [ 0.00260519],\n",
       "        [-0.05466994],\n",
       "        [-0.02628108],\n",
       "        [ 0.09117123],\n",
       "        [ 0.10458584],\n",
       "        [ 0.04092994],\n",
       "        [ 0.08738621],\n",
       "        [ 0.01955723],\n",
       "        [-0.05366224],\n",
       "        [ 0.23485689],\n",
       "        [ 0.07532229],\n",
       "        [-0.05454368],\n",
       "        [-0.08108396],\n",
       "        [ 0.05369604],\n",
       "        [ 0.1452418 ]], dtype=float32)>,\n",
       " <tf.Variable 'kernel/sigma_k:0' shape=(20, 1) dtype=float32, numpy=\n",
       " array([[-4.0002995],\n",
       "        [-4.00032  ],\n",
       "        [-4.000031 ],\n",
       "        [-4.000265 ],\n",
       "        [-4.0002503],\n",
       "        [-4.0002594],\n",
       "        [-4.000719 ],\n",
       "        [-4.0002866],\n",
       "        [-4.000257 ],\n",
       "        [-4.00051  ],\n",
       "        [-4.0005393],\n",
       "        [-4.0000663],\n",
       "        [-4.000345 ],\n",
       "        [-4.000182 ],\n",
       "        [-3.9987822],\n",
       "        [-4.000079 ],\n",
       "        [-3.9990706],\n",
       "        [-4.001205 ],\n",
       "        [-4.000253 ],\n",
       "        [-4.0019217]], dtype=float32)>,\n",
       " <tf.Variable 'kernel/mu0:0' shape=(1,) dtype=float32, numpy=array([0.01081533], dtype=float32)>,\n",
       " <tf.Variable 'kernel/sigma0:0' shape=(1,) dtype=float32, numpy=array([-3.975752], dtype=float32)>,\n",
       " <tf.Variable 'kernel/tau_k_mu:0' shape=(1,) dtype=float32, numpy=array([1.1281343], dtype=float32)>,\n",
       " <tf.Variable 'kernel/tau_k_sigma:0' shape=(1,) dtype=float32, numpy=array([-1.9509655], dtype=float32)>,\n",
       " <tf.Variable 'bias/mu_k:0' shape=(20, 1) dtype=float32, numpy=\n",
       " array([[ 0.02600733],\n",
       "        [ 0.05611792],\n",
       "        [ 0.01281685],\n",
       "        [-0.01507955],\n",
       "        [ 0.06358611],\n",
       "        [ 0.02400818],\n",
       "        [-0.00633718],\n",
       "        [-0.06644286],\n",
       "        [-0.0248081 ],\n",
       "        [-0.00598643],\n",
       "        [ 0.07189262],\n",
       "        [ 0.01172829],\n",
       "        [ 0.00107304],\n",
       "        [-0.02220482],\n",
       "        [ 0.2377844 ],\n",
       "        [ 0.02089247],\n",
       "        [-0.06351404],\n",
       "        [-0.18311752],\n",
       "        [-0.09332014],\n",
       "        [ 0.07262394]], dtype=float32)>,\n",
       " <tf.Variable 'bias/sigma_k:0' shape=(20, 1) dtype=float32, numpy=\n",
       " array([[-4.0002775],\n",
       "        [-4.000254 ],\n",
       "        [-4.0001106],\n",
       "        [-4.0003433],\n",
       "        [-4.000221 ],\n",
       "        [-4.0003757],\n",
       "        [-4.000109 ],\n",
       "        [-4.000453 ],\n",
       "        [-4.000381 ],\n",
       "        [-4.000652 ],\n",
       "        [-4.0003753],\n",
       "        [-4.000408 ],\n",
       "        [-4.0004144],\n",
       "        [-4.0002613],\n",
       "        [-4.0014024],\n",
       "        [-4.0004935],\n",
       "        [-4.0012493],\n",
       "        [-4.000414 ],\n",
       "        [-4.000315 ],\n",
       "        [-3.99957  ]], dtype=float32)>,\n",
       " <tf.Variable 'bias/mu0:0' shape=(1,) dtype=float32, numpy=array([0.00108116], dtype=float32)>,\n",
       " <tf.Variable 'bias/sigma0:0' shape=(1,) dtype=float32, numpy=array([-3.9770496], dtype=float32)>,\n",
       " <tf.Variable 'bias/tau_k_mu:0' shape=(1,) dtype=float32, numpy=array([1.0853319], dtype=float32)>,\n",
       " <tf.Variable 'bias/tau_k_sigma:0' shape=(1,) dtype=float32, numpy=array([-1.8996818], dtype=float32)>,\n",
       " <tf.Variable 'kernel/mu_k:0' shape=(20, 1) dtype=float32, numpy=\n",
       " array([[ 0.08258234],\n",
       "        [-0.01560442],\n",
       "        [ 0.02890382],\n",
       "        [-0.00316089],\n",
       "        [ 0.02076683],\n",
       "        [ 0.11789764],\n",
       "        [-0.09539485],\n",
       "        [-0.06652693],\n",
       "        [-0.00045058],\n",
       "        [ 0.0647746 ],\n",
       "        [ 0.05563336],\n",
       "        [ 0.03882164],\n",
       "        [-0.04186258],\n",
       "        [ 0.0244585 ],\n",
       "        [ 0.33062524],\n",
       "        [-0.09296778],\n",
       "        [-0.08221655],\n",
       "        [-0.15932566],\n",
       "        [ 0.03569994],\n",
       "        [ 0.21082182]], dtype=float32)>,\n",
       " <tf.Variable 'kernel/sigma_k:0' shape=(20, 1) dtype=float32, numpy=\n",
       " array([[-4.000028 ],\n",
       "        [-4.000338 ],\n",
       "        [-4.000046 ],\n",
       "        [-4.000379 ],\n",
       "        [-3.9998841],\n",
       "        [-4.0002327],\n",
       "        [-4.000205 ],\n",
       "        [-4.0002713],\n",
       "        [-4.0001693],\n",
       "        [-4.0004168],\n",
       "        [-4.000165 ],\n",
       "        [-3.9999454],\n",
       "        [-4.000271 ],\n",
       "        [-4.000132 ],\n",
       "        [-4.005151 ],\n",
       "        [-4.000303 ],\n",
       "        [-3.999672 ],\n",
       "        [-4.0016136],\n",
       "        [-4.0005803],\n",
       "        [-3.9989915]], dtype=float32)>,\n",
       " <tf.Variable 'kernel/mu0:0' shape=(1,) dtype=float32, numpy=array([0.00462974], dtype=float32)>,\n",
       " <tf.Variable 'kernel/sigma0:0' shape=(1,) dtype=float32, numpy=array([-3.9744654], dtype=float32)>,\n",
       " <tf.Variable 'kernel/tau_k_mu:0' shape=(1,) dtype=float32, numpy=array([1.178168], dtype=float32)>,\n",
       " <tf.Variable 'kernel/tau_k_sigma:0' shape=(1,) dtype=float32, numpy=array([-2.011272], dtype=float32)>,\n",
       " <tf.Variable 'bias/mu_k:0' shape=(20, 1) dtype=float32, numpy=\n",
       " array([[0.1967097 ],\n",
       "        [0.20701225],\n",
       "        [0.25421968],\n",
       "        [0.514469  ],\n",
       "        [0.09569614],\n",
       "        [0.00531012],\n",
       "        [0.21738046],\n",
       "        [0.11992262],\n",
       "        [0.22927696],\n",
       "        [0.26419362],\n",
       "        [0.38733646],\n",
       "        [0.34754843],\n",
       "        [0.34377792],\n",
       "        [0.10201047],\n",
       "        [0.8088665 ],\n",
       "        [0.15302347],\n",
       "        [0.54574674],\n",
       "        [0.35125118],\n",
       "        [0.01267624],\n",
       "        [0.25050265]], dtype=float32)>,\n",
       " <tf.Variable 'bias/sigma_k:0' shape=(20, 1) dtype=float32, numpy=\n",
       " array([[-3.9987056],\n",
       "        [-4.002998 ],\n",
       "        [-4.0008383],\n",
       "        [-3.9940403],\n",
       "        [-3.9999943],\n",
       "        [-3.9991572],\n",
       "        [-3.9993153],\n",
       "        [-4.0004582],\n",
       "        [-4.0039754],\n",
       "        [-3.9992955],\n",
       "        [-3.9997346],\n",
       "        [-3.9952798],\n",
       "        [-4.0026283],\n",
       "        [-4.000472 ],\n",
       "        [-3.9751954],\n",
       "        [-3.999462 ],\n",
       "        [-4.005975 ],\n",
       "        [-3.9916675],\n",
       "        [-4.0009923],\n",
       "        [-4.0003357]], dtype=float32)>,\n",
       " <tf.Variable 'bias/mu0:0' shape=(1,) dtype=float32, numpy=array([0.05354806], dtype=float32)>,\n",
       " <tf.Variable 'bias/sigma0:0' shape=(1,) dtype=float32, numpy=array([-3.9748032], dtype=float32)>,\n",
       " <tf.Variable 'bias/tau_k_mu:0' shape=(1,) dtype=float32, numpy=array([1.1726351], dtype=float32)>,\n",
       " <tf.Variable 'bias/tau_k_sigma:0' shape=(1,) dtype=float32, numpy=array([-1.9933841], dtype=float32)>]"
      ]
     },
     "execution_count": 224,
     "metadata": {},
     "output_type": "execute_result"
    }
   ],
   "source": [
    "model.trainable_variables"
   ]
  },
  {
   "cell_type": "code",
   "execution_count": 227,
   "metadata": {},
   "outputs": [
    {
     "data": {
      "text/plain": [
       "['kernel/mu_k:0',\n",
       " 'kernel/sigma_k:0',\n",
       " 'kernel/mu0:0',\n",
       " 'kernel/sigma0:0',\n",
       " 'kernel/tau_k_mu:0',\n",
       " 'kernel/tau_k_sigma:0',\n",
       " 'bias/mu_k:0',\n",
       " 'bias/sigma_k:0',\n",
       " 'bias/mu0:0',\n",
       " 'bias/sigma0:0',\n",
       " 'bias/tau_k_mu:0',\n",
       " 'bias/tau_k_sigma:0',\n",
       " 'kernel/mu_k:0',\n",
       " 'kernel/sigma_k:0',\n",
       " 'kernel/mu0:0',\n",
       " 'kernel/sigma0:0',\n",
       " 'kernel/tau_k_mu:0',\n",
       " 'kernel/tau_k_sigma:0',\n",
       " 'bias/mu_k:0',\n",
       " 'bias/sigma_k:0',\n",
       " 'bias/mu0:0',\n",
       " 'bias/sigma0:0',\n",
       " 'bias/tau_k_mu:0',\n",
       " 'bias/tau_k_sigma:0']"
      ]
     },
     "execution_count": 227,
     "metadata": {},
     "output_type": "execute_result"
    }
   ],
   "source": [
    "[x.name for x in model.trainable_weights]"
   ]
  },
  {
   "cell_type": "code",
   "execution_count": 15,
   "metadata": {},
   "outputs": [],
   "source": [
    "# model.call(gid_train)\n",
    "# # model.losses"
   ]
  },
  {
   "cell_type": "code",
   "execution_count": 16,
   "metadata": {},
   "outputs": [],
   "source": [
    "batch_size=40\n",
    "num_batches = np.ceil(len(x_train) / batch_size)\n",
    "#count_dict = collections.Counter(gid_train.numpy())\n",
    "#group_train_sizes = np.array([count_dict[i] for i in range(ng)])\n",
    "# I think this is actually not correct\n",
    "#group_kl_weights = group_train_sizes / num_batches"
   ]
  },
  {
   "cell_type": "code",
   "execution_count": 410,
   "metadata": {},
   "outputs": [
    {
     "name": "stdout",
     "output_type": "stream",
     "text": [
      "The autoreload extension is already loaded. To reload it, use:\n",
      "  %reload_ext autoreload\n"
     ]
    }
   ],
   "source": [
    "from models.multilevel_layers import MultilevelDense, MyDense, TFPMultilevelDense, MyMultilevelDense, TFPDense\n",
    "from models.multilevel_variables import HierarchicalVariableLayer\n",
    "\n",
    "%load_ext autoreload\n",
    "%autoreload 2"
   ]
  },
  {
   "cell_type": "code",
   "execution_count": 411,
   "metadata": {},
   "outputs": [],
   "source": [
    "class MyModel(tf.keras.Model):\n",
    "\n",
    "    def __init__(self,num_groups, kl_weight, *args, **kwargs):\n",
    "        super(MyModel, self).__init__(*args, **kwargs)\n",
    "\n",
    "        self.num_groups = num_groups\n",
    "        self.kl_weight = kl_weight\n",
    "        self.x_hier = HierarchicalVariableLayer(\n",
    "            variable_shape=[1], \n",
    "            num_groups=num_groups,\n",
    "        kl_weight=kl_weight)\n",
    "\n",
    "    @tf.function\n",
    "    def call(self, gid):\n",
    "        out = self.x_hier(gid)\n",
    "        return out"
   ]
  },
  {
   "cell_type": "code",
   "execution_count": 413,
   "metadata": {},
   "outputs": [],
   "source": [
    "loss_fn = tf.keras.losses.MeanSquaredError(\n",
    "    reduction=tf.keras.losses.Reduction.SUM)\n",
    "optimizer = tf.keras.optimizers.SGD(learning_rate=0.03)"
   ]
  },
  {
   "cell_type": "code",
   "execution_count": 239,
   "metadata": {},
   "outputs": [],
   "source": [
    "model = MyModel(\n",
    "    num_groups=tf.convert_to_tensor(ng),\n",
    "    kl_weight=tf.convert_to_tensor(1/num_batches, dtype=tf.float32))"
   ]
  },
  {
   "cell_type": "code",
   "execution_count": 240,
   "metadata": {},
   "outputs": [
    {
     "data": {
      "text/plain": [
       "[]"
      ]
     },
     "execution_count": 240,
     "metadata": {},
     "output_type": "execute_result"
    }
   ],
   "source": [
    "model.layers[0].losses"
   ]
  },
  {
   "cell_type": "code",
   "execution_count": 241,
   "metadata": {},
   "outputs": [
    {
     "data": {
      "text/plain": [
       "[]"
      ]
     },
     "execution_count": 241,
     "metadata": {},
     "output_type": "execute_result"
    }
   ],
   "source": [
    "model.losses"
   ]
  },
  {
   "cell_type": "code",
   "execution_count": 242,
   "metadata": {},
   "outputs": [
    {
     "ename": "TypeError",
     "evalue": "train() missing 1 required positional argument: 'kl_annealing'",
     "output_type": "error",
     "traceback": [
      "\u001b[0;31m---------------------------------------------------------------------------\u001b[0m",
      "\u001b[0;31mTypeError\u001b[0m                                 Traceback (most recent call last)",
      "\u001b[0;32m<ipython-input-242-152c2d092c5f>\u001b[0m in \u001b[0;36m<module>\u001b[0;34m\u001b[0m\n\u001b[1;32m      1\u001b[0m \u001b[0mcurrent_time\u001b[0m \u001b[0;34m=\u001b[0m \u001b[0mdatetime\u001b[0m\u001b[0;34m.\u001b[0m\u001b[0mdatetime\u001b[0m\u001b[0;34m.\u001b[0m\u001b[0mnow\u001b[0m\u001b[0;34m(\u001b[0m\u001b[0;34m)\u001b[0m\u001b[0;34m.\u001b[0m\u001b[0mstrftime\u001b[0m\u001b[0;34m(\u001b[0m\u001b[0;34m\"%Y%m%d-%H%M%S\"\u001b[0m\u001b[0;34m)\u001b[0m\u001b[0;34m\u001b[0m\u001b[0;34m\u001b[0m\u001b[0m\n\u001b[1;32m      2\u001b[0m \u001b[0mlog_dir\u001b[0m\u001b[0;34m=\u001b[0m\u001b[0;34m'../experiments/parameter_est/'\u001b[0m \u001b[0;34m+\u001b[0m \u001b[0mcurrent_time\u001b[0m\u001b[0;34m\u001b[0m\u001b[0;34m\u001b[0m\u001b[0m\n\u001b[0;32m----> 3\u001b[0;31m \u001b[0mtrain\u001b[0m\u001b[0;34m(\u001b[0m\u001b[0mgid_train\u001b[0m\u001b[0;34m,\u001b[0m \u001b[0mx_train\u001b[0m\u001b[0;34m,\u001b[0m \u001b[0mmodel\u001b[0m\u001b[0;34m,\u001b[0m \u001b[0mloss_fn\u001b[0m\u001b[0;34m,\u001b[0m \u001b[0moptimizer\u001b[0m\u001b[0;34m,\u001b[0m \u001b[0mbatch_size\u001b[0m\u001b[0;34m,\u001b[0m \u001b[0mepochs\u001b[0m\u001b[0;34m=\u001b[0m\u001b[0;36m400\u001b[0m\u001b[0;34m,\u001b[0m \u001b[0mlog_file\u001b[0m\u001b[0;34m=\u001b[0m\u001b[0mlog_dir\u001b[0m\u001b[0;34m,\u001b[0m \u001b[0mprint_freq\u001b[0m\u001b[0;34m=\u001b[0m\u001b[0;36m40\u001b[0m\u001b[0;34m,\u001b[0m \u001b[0mverbose\u001b[0m\u001b[0;34m=\u001b[0m\u001b[0;32mFalse\u001b[0m\u001b[0;34m)\u001b[0m\u001b[0;34m\u001b[0m\u001b[0;34m\u001b[0m\u001b[0m\n\u001b[0m",
      "\u001b[0;31mTypeError\u001b[0m: train() missing 1 required positional argument: 'kl_annealing'"
     ]
    }
   ],
   "source": [
    "current_time = datetime.datetime.now().strftime(\"%Y%m%d-%H%M%S\")\n",
    "log_dir='../experiments/parameter_est/' + current_time\n",
    "train(gid_train, x_train, model, loss_fn, optimizer, batch_size, epochs=400, log_file=log_dir, print_freq=40, verbose=False)"
   ]
  },
  {
   "cell_type": "code",
   "execution_count": null,
   "metadata": {},
   "outputs": [],
   "source": [
    "model.get_weights()"
   ]
  },
  {
   "cell_type": "code",
   "execution_count": null,
   "metadata": {},
   "outputs": [],
   "source": []
  },
  {
   "cell_type": "code",
   "execution_count": 840,
   "metadata": {},
   "outputs": [],
   "source": [
    "# mse = tf.keras.losses.MeanSquaredError(\n",
    "#     reduction=tf.keras.losses.Reduction.SUM)\n",
    "# model.compile(\n",
    "#     optimizer=tf.keras.optimizers.Adam(learning_rate=0.1), \n",
    "#     loss=mse,\n",
    "#     metrics=['mse'])"
   ]
  },
  {
   "cell_type": "code",
   "execution_count": 539,
   "metadata": {
    "collapsed": true,
    "jupyter": {
     "outputs_hidden": true
    }
   },
   "outputs": [
    {
     "name": "stdout",
     "output_type": "stream",
     "text": [
      "Epoch 1/100\n",
      "1/1 [==============================] - 0s 6ms/step - loss: 36.8087 - mse: 0.2208\n",
      "Epoch 2/100\n",
      "1/1 [==============================] - 0s 2ms/step - loss: 34.9425 - mse: 0.2704\n",
      "Epoch 3/100\n",
      "1/1 [==============================] - 0s 1ms/step - loss: 36.6155 - mse: 0.2947\n",
      "Epoch 4/100\n",
      "1/1 [==============================] - 0s 2ms/step - loss: 37.6814 - mse: 0.3016\n",
      "Epoch 5/100\n",
      "1/1 [==============================] - 0s 2ms/step - loss: 37.7255 - mse: 0.2958\n",
      "Epoch 6/100\n",
      "1/1 [==============================] - 0s 2ms/step - loss: 37.4542 - mse: 0.2971\n",
      "Epoch 7/100\n",
      "1/1 [==============================] - 0s 2ms/step - loss: 35.8812 - mse: 0.2884\n",
      "Epoch 8/100\n",
      "1/1 [==============================] - 0s 1ms/step - loss: 33.2825 - mse: 0.2724\n",
      "Epoch 9/100\n",
      "1/1 [==============================] - 0s 1ms/step - loss: 31.0849 - mse: 0.2658\n",
      "Epoch 10/100\n",
      "1/1 [==============================] - 0s 2ms/step - loss: 30.5241 - mse: 0.2598\n",
      "Epoch 11/100\n",
      "1/1 [==============================] - 0s 5ms/step - loss: 33.4622 - mse: 0.2636\n",
      "Epoch 12/100\n",
      "1/1 [==============================] - 0s 1ms/step - loss: 31.4770 - mse: 0.2736\n",
      "Epoch 13/100\n",
      "1/1 [==============================] - 0s 2ms/step - loss: 28.9716 - mse: 0.2854\n",
      "Epoch 14/100\n",
      "1/1 [==============================] - 0s 1ms/step - loss: 29.2166 - mse: 0.3077\n",
      "Epoch 15/100\n",
      "1/1 [==============================] - 0s 2ms/step - loss: 29.6135 - mse: 0.3239\n",
      "Epoch 16/100\n",
      "1/1 [==============================] - 0s 2ms/step - loss: 29.4943 - mse: 0.3389\n",
      "Epoch 17/100\n",
      "1/1 [==============================] - 0s 2ms/step - loss: 28.6330 - mse: 0.3515\n",
      "Epoch 18/100\n",
      "1/1 [==============================] - 0s 2ms/step - loss: 27.0709 - mse: 0.3595\n",
      "Epoch 19/100\n",
      "1/1 [==============================] - 0s 2ms/step - loss: 25.6099 - mse: 0.3627\n",
      "Epoch 20/100\n",
      "1/1 [==============================] - 0s 2ms/step - loss: 26.7899 - mse: 0.3632\n",
      "Epoch 21/100\n",
      "1/1 [==============================] - 0s 4ms/step - loss: 24.3305 - mse: 0.3701\n",
      "Epoch 22/100\n",
      "1/1 [==============================] - 0s 2ms/step - loss: 23.8319 - mse: 0.3821\n",
      "Epoch 23/100\n",
      "1/1 [==============================] - 0s 2ms/step - loss: 24.2277 - mse: 0.3882\n",
      "Epoch 24/100\n",
      "1/1 [==============================] - 0s 1ms/step - loss: 23.5083 - mse: 0.3852\n",
      "Epoch 25/100\n",
      "1/1 [==============================] - 0s 1ms/step - loss: 21.7576 - mse: 0.3757\n",
      "Epoch 26/100\n",
      "1/1 [==============================] - 0s 1ms/step - loss: 21.1213 - mse: 0.3653\n",
      "Epoch 27/100\n",
      "1/1 [==============================] - 0s 2ms/step - loss: 20.8381 - mse: 0.3673\n",
      "Epoch 28/100\n",
      "1/1 [==============================] - 0s 2ms/step - loss: 19.5480 - mse: 0.3768\n",
      "Epoch 29/100\n",
      "1/1 [==============================] - 0s 2ms/step - loss: 19.6219 - mse: 0.3872\n",
      "Epoch 30/100\n",
      "1/1 [==============================] - 0s 2ms/step - loss: 18.2360 - mse: 0.3940\n",
      "Epoch 31/100\n",
      "1/1 [==============================] - 0s 4ms/step - loss: 17.1558 - mse: 0.3954\n",
      "Epoch 32/100\n",
      "1/1 [==============================] - 0s 1ms/step - loss: 17.4958 - mse: 0.3914\n",
      "Epoch 33/100\n",
      "1/1 [==============================] - 0s 2ms/step - loss: 18.1282 - mse: 0.3955\n",
      "Epoch 34/100\n",
      "1/1 [==============================] - 0s 2ms/step - loss: 18.4169 - mse: 0.3899\n",
      "Epoch 35/100\n",
      "1/1 [==============================] - 0s 2ms/step - loss: 16.2632 - mse: 0.3798\n",
      "Epoch 36/100\n",
      "1/1 [==============================] - 0s 2ms/step - loss: 16.6016 - mse: 0.3732\n",
      "Epoch 37/100\n",
      "1/1 [==============================] - 0s 2ms/step - loss: 14.4777 - mse: 0.3876\n",
      "Epoch 38/100\n",
      "1/1 [==============================] - 0s 2ms/step - loss: 13.5048 - mse: 0.4035\n",
      "Epoch 39/100\n",
      "1/1 [==============================] - 0s 2ms/step - loss: 13.1434 - mse: 0.4110\n",
      "Epoch 40/100\n",
      "1/1 [==============================] - 0s 2ms/step - loss: 10.3220 - mse: 0.4054\n",
      "Epoch 41/100\n",
      "1/1 [==============================] - 0s 5ms/step - loss: 12.3552 - mse: 0.3934\n",
      "Epoch 42/100\n",
      "1/1 [==============================] - 0s 1ms/step - loss: 11.4957 - mse: 0.3839\n",
      "Epoch 43/100\n",
      "1/1 [==============================] - 0s 1ms/step - loss: 12.0647 - mse: 0.3804\n",
      "Epoch 44/100\n",
      "1/1 [==============================] - 0s 2ms/step - loss: 7.6628 - mse: 0.3903\n",
      "Epoch 45/100\n",
      "1/1 [==============================] - 0s 1ms/step - loss: 14.1146 - mse: 0.4074\n",
      "Epoch 46/100\n",
      "1/1 [==============================] - 0s 2ms/step - loss: 22.4101 - mse: 0.4121\n",
      "Epoch 47/100\n",
      "1/1 [==============================] - 0s 1ms/step - loss: 32.3839 - mse: 0.4110\n",
      "Epoch 48/100\n",
      "1/1 [==============================] - 0s 2ms/step - loss: 37.3882 - mse: 0.4052\n",
      "Epoch 49/100\n",
      "1/1 [==============================] - 0s 1ms/step - loss: 40.1500 - mse: 0.3956\n",
      "Epoch 50/100\n",
      "1/1 [==============================] - 0s 2ms/step - loss: 41.6593 - mse: 0.3829\n",
      "Epoch 51/100\n",
      "1/1 [==============================] - 0s 5ms/step - loss: 42.3806 - mse: 0.3680\n",
      "Epoch 52/100\n",
      "1/1 [==============================] - 0s 2ms/step - loss: 42.5784 - mse: 0.3516\n",
      "Epoch 53/100\n",
      "1/1 [==============================] - 0s 2ms/step - loss: 42.4225 - mse: 0.3347\n",
      "Epoch 54/100\n",
      "1/1 [==============================] - 0s 1ms/step - loss: 42.0183 - mse: 0.3177\n",
      "Epoch 55/100\n",
      "1/1 [==============================] - 0s 2ms/step - loss: 41.4513 - mse: 0.3012\n",
      "Epoch 56/100\n",
      "1/1 [==============================] - 0s 2ms/step - loss: 40.7871 - mse: 0.2855\n",
      "Epoch 57/100\n",
      "1/1 [==============================] - 0s 1ms/step - loss: 40.0775 - mse: 0.2710\n",
      "Epoch 58/100\n",
      "1/1 [==============================] - 0s 2ms/step - loss: 39.3620 - mse: 0.2580\n",
      "Epoch 59/100\n",
      "1/1 [==============================] - 0s 2ms/step - loss: 38.6773 - mse: 0.2465\n",
      "Epoch 60/100\n",
      "1/1 [==============================] - 0s 1ms/step - loss: 38.0578 - mse: 0.2367\n",
      "Epoch 61/100\n",
      "1/1 [==============================] - 0s 5ms/step - loss: 37.5285 - mse: 0.2287\n",
      "Epoch 62/100\n",
      "1/1 [==============================] - 0s 2ms/step - loss: 37.1124 - mse: 0.2223\n",
      "Epoch 63/100\n",
      "1/1 [==============================] - 0s 1ms/step - loss: 36.8296 - mse: 0.2177\n",
      "Epoch 64/100\n",
      "1/1 [==============================] - 0s 2ms/step - loss: 36.6641 - mse: 0.2148\n",
      "Epoch 65/100\n",
      "1/1 [==============================] - 0s 2ms/step - loss: 36.5766 - mse: 0.2137\n",
      "Epoch 66/100\n",
      "1/1 [==============================] - 0s 2ms/step - loss: 36.4600 - mse: 0.2144\n",
      "Epoch 67/100\n",
      "1/1 [==============================] - 0s 2ms/step - loss: 36.1593 - mse: 0.2173\n",
      "Epoch 68/100\n",
      "1/1 [==============================] - 0s 1ms/step - loss: 35.5023 - mse: 0.2225\n",
      "Epoch 69/100\n",
      "1/1 [==============================] - 0s 2ms/step - loss: 34.4091 - mse: 0.2303\n",
      "Epoch 70/100\n",
      "1/1 [==============================] - 0s 1ms/step - loss: 32.9609 - mse: 0.2411\n",
      "Epoch 71/100\n",
      "1/1 [==============================] - 0s 5ms/step - loss: 31.3213 - mse: 0.2548\n",
      "Epoch 72/100\n",
      "1/1 [==============================] - 0s 2ms/step - loss: 29.6273 - mse: 0.2714\n",
      "Epoch 73/100\n",
      "1/1 [==============================] - 0s 2ms/step - loss: 27.8770 - mse: 0.2908\n",
      "Epoch 74/100\n",
      "1/1 [==============================] - 0s 2ms/step - loss: 25.8855 - mse: 0.3124\n",
      "Epoch 75/100\n",
      "1/1 [==============================] - 0s 2ms/step - loss: 23.2572 - mse: 0.3357\n",
      "Epoch 76/100\n",
      "1/1 [==============================] - 0s 2ms/step - loss: 19.2191 - mse: 0.3605\n",
      "Epoch 77/100\n",
      "1/1 [==============================] - 0s 2ms/step - loss: 12.0057 - mse: 0.3864\n",
      "Epoch 78/100\n",
      "1/1 [==============================] - 0s 2ms/step - loss: 24.8586 - mse: 0.4126\n",
      "Epoch 79/100\n",
      "1/1 [==============================] - 0s 1ms/step - loss: 20.9276 - mse: 0.3915\n",
      "Epoch 80/100\n",
      "1/1 [==============================] - 0s 2ms/step - loss: 30.9434 - mse: 0.3728\n",
      "Epoch 81/100\n",
      "1/1 [==============================] - 0s 5ms/step - loss: 36.5091 - mse: 0.3557\n",
      "Epoch 82/100\n",
      "1/1 [==============================] - 0s 1ms/step - loss: 40.0913 - mse: 0.3395\n",
      "Epoch 83/100\n",
      "1/1 [==============================] - 0s 2ms/step - loss: 42.5745 - mse: 0.3243\n",
      "Epoch 84/100\n",
      "1/1 [==============================] - 0s 2ms/step - loss: 44.3578 - mse: 0.3097\n",
      "Epoch 85/100\n",
      "1/1 [==============================] - 0s 2ms/step - loss: 45.6622 - mse: 0.2957\n",
      "Epoch 86/100\n",
      "1/1 [==============================] - 0s 2ms/step - loss: 46.6287 - mse: 0.2825\n",
      "Epoch 87/100\n",
      "1/1 [==============================] - 0s 2ms/step - loss: 47.3407 - mse: 0.2698\n",
      "Epoch 88/100\n",
      "1/1 [==============================] - 0s 2ms/step - loss: 47.8646 - mse: 0.2579\n",
      "Epoch 89/100\n",
      "1/1 [==============================] - 0s 2ms/step - loss: 48.2432 - mse: 0.2467\n",
      "Epoch 90/100\n",
      "1/1 [==============================] - 0s 2ms/step - loss: 48.5151 - mse: 0.2363\n",
      "Epoch 91/100\n",
      "1/1 [==============================] - 0s 5ms/step - loss: 48.7032 - mse: 0.2267\n",
      "Epoch 92/100\n",
      "1/1 [==============================] - 0s 2ms/step - loss: 48.8249 - mse: 0.2178\n",
      "Epoch 93/100\n",
      "1/1 [==============================] - 0s 2ms/step - loss: 48.9011 - mse: 0.2098\n",
      "Epoch 94/100\n",
      "1/1 [==============================] - 0s 2ms/step - loss: 48.9390 - mse: 0.2026\n",
      "Epoch 95/100\n",
      "1/1 [==============================] - 0s 2ms/step - loss: 48.9499 - mse: 0.1962\n",
      "Epoch 96/100\n",
      "1/1 [==============================] - 0s 2ms/step - loss: 48.9395 - mse: 0.1905\n",
      "Epoch 97/100\n",
      "1/1 [==============================] - 0s 2ms/step - loss: 48.9121 - mse: 0.1856\n",
      "Epoch 98/100\n",
      "1/1 [==============================] - 0s 2ms/step - loss: 48.8719 - mse: 0.1813\n",
      "Epoch 99/100\n",
      "1/1 [==============================] - 0s 1ms/step - loss: 48.8201 - mse: 0.1776\n",
      "Epoch 100/100\n",
      "1/1 [==============================] - 0s 2ms/step - loss: 48.7586 - mse: 0.1744\n"
     ]
    },
    {
     "data": {
      "text/plain": [
       "<tensorflow.python.keras.callbacks.History at 0x7fb9614802d0>"
      ]
     },
     "execution_count": 539,
     "metadata": {},
     "output_type": "execute_result"
    }
   ],
   "source": [
    "# import datetime\n",
    "# current_time = datetime.datetime.now().strftime(\"%Y%m%d-%H%M%S\")\n",
    "# model.fit(x=gid_train, \n",
    "#           y=x_train, \n",
    "#           batch_size=batch_size, \n",
    "#           epochs=100, \n",
    "#           #verbose=False,\n",
    "#           callbacks=[tf.keras.callbacks.TensorBoard(log_dir='../experiments/parameter_est/' + current_time, \n",
    "#                                                     profile_batch='5',\n",
    "#                                                     histogram_freq=10)])"
   ]
  },
  {
   "cell_type": "code",
   "execution_count": 540,
   "metadata": {},
   "outputs": [],
   "source": [
    "#--host localhost"
   ]
  },
  {
   "cell_type": "markdown",
   "metadata": {},
   "source": [
    "## Results"
   ]
  },
  {
   "cell_type": "code",
   "execution_count": 300,
   "metadata": {},
   "outputs": [
    {
     "data": {
      "text/html": [
       "\n",
       "      <iframe id=\"tensorboard-frame-2c86a3124a82c768\" width=\"100%\" height=\"800\" frameborder=\"0\">\n",
       "      </iframe>\n",
       "      <script>\n",
       "        (function() {\n",
       "          const frame = document.getElementById(\"tensorboard-frame-2c86a3124a82c768\");\n",
       "          const url = new URL(\"/\", window.location);\n",
       "          url.port = 6009;\n",
       "          frame.src = url;\n",
       "        })();\n",
       "      </script>\n",
       "  "
      ],
      "text/plain": [
       "<IPython.core.display.HTML object>"
      ]
     },
     "metadata": {},
     "output_type": "display_data"
    }
   ],
   "source": [
    "%tensorboard --logdir=../experiments/reg/ --host localhost"
   ]
  },
  {
   "cell_type": "code",
   "execution_count": 112,
   "metadata": {},
   "outputs": [],
   "source": [
    "def hierarchical_estimator_error(pred, test):\n",
    "    return np.abs(pred - np.mean(test))"
   ]
  },
  {
   "cell_type": "code",
   "execution_count": 126,
   "metadata": {},
   "outputs": [
    {
     "name": "stdout",
     "output_type": "stream",
     "text": [
      "Baseline estimator per group: 0.29663312\n",
      "Hierarchical estimator per group: 0.025268435\n",
      "Baseline estimator per group: 0.6617641\n",
      "Hierarchical estimator per group: 0.6204231\n",
      "Baseline estimator per group: 0.10195196\n",
      "Hierarchical estimator per group: 0.34494805\n",
      "Baseline estimator per group: 0.27956998\n",
      "Hierarchical estimator per group: 0.13821113\n",
      "Baseline estimator per group: 0.34731218\n",
      "Hierarchical estimator per group: 0.48740125\n",
      "Baseline estimator per group: 0.05775149\n",
      "Hierarchical estimator per group: 0.103073485\n",
      "Baseline estimator per group: 0.08168769\n",
      "Hierarchical estimator per group: 0.082175136\n",
      "Baseline estimator per group: 0.87159\n",
      "Hierarchical estimator per group: 0.76381826\n",
      "Baseline estimator per group: 0.010310769\n",
      "Hierarchical estimator per group: 0.010443628\n",
      "Baseline estimator per group: 0.23998612\n",
      "Hierarchical estimator per group: 0.21066427\n",
      "Baseline estimator per group: 0.496706\n",
      "Hierarchical estimator per group: 0.63000953\n",
      "Baseline estimator per group: 0.31026387\n",
      "Hierarchical estimator per group: 0.25956023\n",
      "Baseline estimator per group: 0.6093107\n",
      "Hierarchical estimator per group: 0.61896944\n",
      "Baseline estimator per group: 0.31341195\n",
      "Hierarchical estimator per group: 0.3730344\n",
      "Baseline estimator per group: 0.039975286\n",
      "Hierarchical estimator per group: 0.10117853\n",
      "Baseline estimator per group: 0.1481406\n",
      "Hierarchical estimator per group: 0.027204692\n",
      "Baseline estimator per group: 0.32705867\n",
      "Hierarchical estimator per group: 0.082543135\n",
      "Baseline estimator per group: 0.12343633\n",
      "Hierarchical estimator per group: 0.07050705\n",
      "Baseline estimator per group: 0.31735182\n",
      "Hierarchical estimator per group: 0.10524163\n",
      "Baseline estimator per group: 0.026184022\n",
      "Hierarchical estimator per group: 0.013333559\n",
      "0.59238774 0.09890093\n"
     ]
    }
   ],
   "source": [
    "#def results():\n",
    "diffs = []\n",
    "for i in range(ng):\n",
    "    train_ = get_segments(x_train, gid_train, i)\n",
    "    test_ = get_segments(x_test, gid_test, i)\n",
    "    print('Baseline estimator per group:', mean_estimator_error(train_, test_))\n",
    "    print('Hierarchical estimator per group:', hierarchical_estimator_error(\n",
    "        model.get_weights()[0][i,0], test_))\n",
    "    \n",
    "    diffs.append(mean_estimator_error(train_, test_) - hierarchical_estimator_error(\n",
    "        model.get_weights()[0][i,0], test_))\n",
    "print(np.sum(diffs), np.mean(np.abs(diffs)))\n",
    "#results()"
   ]
  },
  {
   "cell_type": "code",
   "execution_count": 114,
   "metadata": {},
   "outputs": [
    {
     "data": {
      "text/plain": [
       "[array([[ 1.2882653 ],\n",
       "        [ 0.3490622 ],\n",
       "        [ 1.110391  ],\n",
       "        [ 1.3075151 ],\n",
       "        [-0.0568198 ],\n",
       "        [-0.11937688],\n",
       "        [ 0.65597844],\n",
       "        [-0.12673739],\n",
       "        [ 0.56109446],\n",
       "        [ 0.91523385],\n",
       "        [ 1.2472957 ],\n",
       "        [ 0.8837938 ],\n",
       "        [ 0.5632851 ],\n",
       "        [ 0.3530428 ],\n",
       "        [ 1.7981135 ],\n",
       "        [-0.18521176],\n",
       "        [ 1.8699464 ],\n",
       "        [ 0.8967029 ],\n",
       "        [-0.46931848],\n",
       "        [ 0.81488746]], dtype=float32), array([[-3.995164 ],\n",
       "        [-4.0083036],\n",
       "        [-3.9980886],\n",
       "        [-3.981401 ],\n",
       "        [-3.97807  ],\n",
       "        [-4.002018 ],\n",
       "        [-3.9552343],\n",
       "        [-4.000118 ],\n",
       "        [-4.015534 ],\n",
       "        [-4.0352   ],\n",
       "        [-3.9772925],\n",
       "        [-3.9988842],\n",
       "        [-3.983082 ],\n",
       "        [-3.9595332],\n",
       "        [-4.037818 ],\n",
       "        [-4.01772  ],\n",
       "        [-3.975266 ],\n",
       "        [-4.086849 ],\n",
       "        [-4.0236735],\n",
       "        [-3.962448 ]], dtype=float32), array([0.6795855], dtype=float32), array([-3.278553], dtype=float32), array([1.5537059], dtype=float32), array([-0.5277372], dtype=float32), 0.0, 100.0, 2.0, 0.2]"
      ]
     },
     "execution_count": 114,
     "metadata": {},
     "output_type": "execute_result"
    }
   ],
   "source": [
    "model.get_weights()"
   ]
  },
  {
   "cell_type": "code",
   "execution_count": 115,
   "metadata": {},
   "outputs": [
    {
     "name": "stdout",
     "output_type": "stream",
     "text": [
      "1.6101669\n",
      "0.3077212\n",
      "1.3533871\n",
      "1.448874\n",
      "-0.19690886\n",
      "-0.28020185\n",
      "0.655491\n",
      "-0.23450918\n",
      "0.5609616\n",
      "0.9445557\n",
      "1.3805993\n",
      "0.9344974\n",
      "0.57294387\n",
      "0.29342037\n",
      "1.9392673\n",
      "-0.30614766\n",
      "2.114462\n",
      "0.94963217\n",
      "-0.6814287\n",
      "0.8277379\n"
     ]
    }
   ],
   "source": [
    "for i in range(ng):\n",
    "    print(np.mean(get_segments(x_train, gid_train, i)))"
   ]
  },
  {
   "cell_type": "code",
   "execution_count": 116,
   "metadata": {},
   "outputs": [
    {
     "data": {
      "text/plain": [
       "0.70972604"
      ]
     },
     "execution_count": 116,
     "metadata": {},
     "output_type": "execute_result"
    }
   ],
   "source": [
    "np.mean([np.mean(get_segments(x_train, gid_train, i)) for i in range(ng)])"
   ]
  },
  {
   "cell_type": "code",
   "execution_count": 117,
   "metadata": {},
   "outputs": [
    {
     "data": {
      "text/plain": [
       "[<tf.Tensor: shape=(), dtype=float32, numpy=0.9242421>,\n",
       " <tf.Tensor: shape=(), dtype=float32, numpy=1.0104575>,\n",
       " <tf.Tensor: shape=(20,), dtype=float32, numpy=\n",
       " array([ 1.5396011 ,  0.8021826 ,  1.1984613 ,  1.0655437 , -0.22674459,\n",
       "        -0.15848154,  0.73196423,  0.39405507,  0.500525  ,  0.91956156,\n",
       "         2.0734231 ,  0.6850368 ,  0.97898316, -0.05928135,  1.8084259 ,\n",
       "        -0.21522802,  1.7886177 ,  0.9028492 , -0.22068304,  0.9235853 ],\n",
       "       dtype=float32)>]"
      ]
     },
     "execution_count": 117,
     "metadata": {},
     "output_type": "execute_result"
    }
   ],
   "source": [
    "gen[:-1]"
   ]
  },
  {
   "cell_type": "code",
   "execution_count": 118,
   "metadata": {},
   "outputs": [
    {
     "data": {
      "image/png": "[encoded data removed]",
      "text/plain": [
       "<Figure size 936x360 with 2 Axes>"
      ]
     },
     "metadata": {
      "needs_background": "light"
     },
     "output_type": "display_data"
    }
   ],
   "source": [
    "fig, axes =plt.subplots(1,2, figsize=(13,5))\n",
    "for i in range(ng):\n",
    "    \n",
    "    axes[0].scatter(get_segments(x_train, gid_train, i), [i]*len(get_segments(x_train, gid_train, i)))\n",
    "    axes[0].scatter(model.get_weights()[0][i,0], i, c='black')\n",
    "    axes[1].scatter(get_segments(x_test, gid_test, i), [i]*len(get_segments(x_test, gid_test, i)))\n",
    "    "
   ]
  },
  {
   "cell_type": "markdown",
   "metadata": {},
   "source": [
    "# Regression"
   ]
  },
  {
   "cell_type": "markdown",
   "metadata": {},
   "source": [
    "## Test layer"
   ]
  },
  {
   "cell_type": "code",
   "execution_count": 1280,
   "metadata": {},
   "outputs": [
    {
     "name": "stdout",
     "output_type": "stream",
     "text": [
      "[[3, 4], [3]]\n",
      "2 4\n"
     ]
    }
   ],
   "source": [
    "ml_dense = MyMultilevelDense(2, 5)\n",
    "ml_dense.build([[3,4], [3]])"
   ]
  },
  {
   "cell_type": "code",
   "execution_count": 1281,
   "metadata": {},
   "outputs": [
    {
     "name": "stdout",
     "output_type": "stream",
     "text": [
      "CPU times: user 240 ms, sys: 4.89 ms, total: 245 ms\n",
      "Wall time: 249 ms\n"
     ]
    },
    {
     "data": {
      "text/plain": [
       "<tf.Tensor: shape=(3, 2), dtype=float32, numpy=\n",
       "array([[0.07045714, 0.01027124],\n",
       "       [0.07348996, 0.00551677],\n",
       "       [0.0430214 , 0.02689526]], dtype=float32)>"
      ]
     },
     "execution_count": 1281,
     "metadata": {},
     "output_type": "execute_result"
    }
   ],
   "source": [
    "%%time\n",
    "#ml_dense([tf.zeros([3], dtype=np.float32), tf.convert_to_tensor([1,1,3])])\n",
    "ml_dense([tf.zeros([3,4], dtype=np.float32), tf.convert_to_tensor([1,1,3])])"
   ]
  },
  {
   "cell_type": "code",
   "execution_count": 1282,
   "metadata": {},
   "outputs": [
    {
     "name": "stdout",
     "output_type": "stream",
     "text": [
      "kernel/mu_k:0                                     (5, 8)\n",
      "kernel/sigma_k:0                                  (5, 8)\n",
      "kernel/mu0:0                                      (8,)\n",
      "kernel/sigma0:0                                   (8,)\n",
      "kernel/tau_k_mu:0                                 (8,)\n",
      "kernel/tau_k_sigma:0                              (8,)\n",
      "bias/mu_k:0                                       (5, 2)\n",
      "bias/sigma_k:0                                    (5, 2)\n",
      "bias/mu0:0                                        (2,)\n",
      "bias/sigma0:0                                     (2,)\n",
      "bias/tau_k_mu:0                                   (2,)\n",
      "bias/tau_k_sigma:0                                (2,)\n"
     ]
    }
   ],
   "source": [
    "for w in ml_dense.trainable_weights:\n",
    "    print('{:50}{}'.format(w.name, w.shape))"
   ]
  },
  {
   "cell_type": "code",
   "execution_count": 1283,
   "metadata": {},
   "outputs": [
    {
     "data": {
      "text/plain": [
       "<tf.Variable 'kernel/mu_k:0' shape=(5, 8) dtype=float32, numpy=\n",
       "array([[-0.08792584, -0.04422325,  0.00452912,  0.00027618, -0.05009226,\n",
       "         0.03459109, -0.01713903,  0.01372507],\n",
       "       [-0.0639912 , -0.05377474, -0.06974076, -0.00825747, -0.06106396,\n",
       "        -0.01943289, -0.00815277,  0.02065617],\n",
       "       [-0.06040412,  0.02254078,  0.10571667,  0.00901332,  0.0649086 ,\n",
       "         0.01182872,  0.037123  ,  0.07362203],\n",
       "       [ 0.03500663,  0.03235925,  0.04305859,  0.01620757,  0.0632214 ,\n",
       "         0.02054363, -0.04169431,  0.03894564],\n",
       "       [-0.05462474, -0.04887303,  0.04519743,  0.05429388,  0.06763227,\n",
       "         0.01567664, -0.08993569,  0.02938987]], dtype=float32)>"
      ]
     },
     "execution_count": 1283,
     "metadata": {},
     "output_type": "execute_result"
    }
   ],
   "source": [
    "ml_dense.w.mu_k"
   ]
  },
  {
   "cell_type": "code",
   "execution_count": 1284,
   "metadata": {},
   "outputs": [
    {
     "name": "stdout",
     "output_type": "stream",
     "text": [
      "[[90, 1], [90]]\n",
      "1 1\n"
     ]
    }
   ],
   "source": [
    "ml_dense = MyMultilevelDense(1, 10)\n",
    "ml_dense.build([[90,1], [90]])"
   ]
  },
  {
   "cell_type": "code",
   "execution_count": 1285,
   "metadata": {},
   "outputs": [
    {
     "name": "stdout",
     "output_type": "stream",
     "text": [
      "CPU times: user 3 µs, sys: 2 µs, total: 5 µs\n",
      "Wall time: 8.34 µs\n"
     ]
    }
   ],
   "source": [
    "%%time\n",
    "#ml_dense([tf.zeros([3], dtype=np.float32), tf.convert_to_tensor([1,1,3])])\n",
    "#ml_dense([x_train, gid_train])"
   ]
  },
  {
   "cell_type": "markdown",
   "metadata": {},
   "source": [
    "## Training"
   ]
  },
  {
   "cell_type": "code",
   "execution_count": 178,
   "metadata": {},
   "outputs": [],
   "source": [
    "x = Input(shape=[1], dtype=tf.float32, batch_size=batch_size)\n",
    "gid = Input(shape=[1], dtype=tf.int32, batch_size=batch_size)\n",
    "mldense = MyHierarchicalDense(units=1, num_groups=ng)\n",
    "out = mldense([x,gid])\n",
    "model = Model(\n",
    "    inputs=[\n",
    "        #[...,tf.newaxis]\n",
    "        x, gid], \n",
    "    outputs=out)"
   ]
  },
  {
   "cell_type": "code",
   "execution_count": 376,
   "metadata": {},
   "outputs": [],
   "source": [
    "mse = tf.keras.losses.MeanSquaredError(\n",
    "    reduction=tf.keras.losses.Reduction.SUM)\n",
    "model.compile(\n",
    "    optimizer=tf.keras.optimizers.RMSprop(learning_rate=.03), \n",
    "    loss=mse,\n",
    "    metrics=['mse'])\n",
    "current_time = datetime.datetime.now().strftime(\"%Y%m%d-%H%M%S\")\n"
   ]
  },
  {
   "cell_type": "code",
   "execution_count": 1288,
   "metadata": {},
   "outputs": [],
   "source": [
    "def train(x, gid, y, batch_size, epochs):\n",
    "    train_size = len(x_train)\n",
    "    num_batches = int(np.ceil(train_size/batch_size))\n",
    "    for epoch in range(epochs):\n",
    "        \n",
    "        for step in range(num_batches):\n",
    "            start, end = batch_size*step, batch_size*(step+1)\n",
    "            xb, gb, yb = x[start:end], gid[start:end], y[start:end]\n",
    "            print(xb, gb)"
   ]
  },
  {
   "cell_type": "code",
   "execution_count": 1112,
   "metadata": {
    "collapsed": true,
    "jupyter": {
     "outputs_hidden": true
    }
   },
   "outputs": [
    {
     "name": "stdout",
     "output_type": "stream",
     "text": [
      "tf.Tensor(\n",
      "[[-1.935814 ]\n",
      " [ 0.3821559]\n",
      " [-0.3130718]\n",
      " [-2.0906496]\n",
      " [ 4.534764 ]\n",
      " [-2.9042284]\n",
      " [ 0.7667914]\n",
      " [-0.7119204]\n",
      " [-1.5505925]\n",
      " [ 4.192281 ]], shape=(10, 1), dtype=float32) tf.Tensor([2 1 9 2 0 6 8 3 3 0], shape=(10,), dtype=int32)\n",
      "tf.Tensor(\n",
      "[[ 1.0052531 ]\n",
      " [-0.14195773]\n",
      " [ 1.4949565 ]\n",
      " [ 4.1666107 ]\n",
      " [ 0.23639482]\n",
      " [ 0.993534  ]\n",
      " [-2.9364228 ]\n",
      " [ 0.40740287]\n",
      " [ 0.26634115]\n",
      " [ 0.6095767 ]], shape=(10, 1), dtype=float32) tf.Tensor([1 9 7 0 9 5 6 4 8 9], shape=(10,), dtype=int32)\n",
      "tf.Tensor(\n",
      "[[-2.1530943 ]\n",
      " [ 1.1773572 ]\n",
      " [ 1.3904748 ]\n",
      " [-0.28979605]\n",
      " [-1.7900224 ]\n",
      " [ 0.66911846]\n",
      " [ 0.3653506 ]\n",
      " [-3.285636  ]\n",
      " [-2.0700195 ]\n",
      " [ 0.29815415]], shape=(10, 1), dtype=float32) tf.Tensor([6 9 7 3 3 5 1 6 2 8], shape=(10,), dtype=int32)\n",
      "tf.Tensor(\n",
      "[[ 0.91430527]\n",
      " [-2.604055  ]\n",
      " [ 0.72854304]\n",
      " [-0.37511706]\n",
      " [-2.0925765 ]\n",
      " [-2.0354784 ]\n",
      " [ 3.569264  ]\n",
      " [ 0.6930652 ]\n",
      " [ 0.29291657]\n",
      " [ 2.16003   ]], shape=(10, 1), dtype=float32) tf.Tensor([4 2 7 4 2 2 0 4 1 7], shape=(10,), dtype=int32)\n",
      "tf.Tensor(\n",
      "[[-0.2483496 ]\n",
      " [ 0.5955808 ]\n",
      " [ 0.8589088 ]\n",
      " [ 0.32659134]\n",
      " [-0.41076773]\n",
      " [ 0.2073052 ]\n",
      " [ 0.77159476]\n",
      " [ 0.2787308 ]\n",
      " [ 3.309495  ]\n",
      " [-3.0431004 ]], shape=(10, 1), dtype=float32) tf.Tensor([5 7 5 8 3 8 8 4 0 6], shape=(10,), dtype=int32)\n",
      "tf.Tensor(\n",
      "[[-1.935814 ]\n",
      " [ 0.3821559]\n",
      " [-0.3130718]\n",
      " [-2.0906496]\n",
      " [ 4.534764 ]\n",
      " [-2.9042284]\n",
      " [ 0.7667914]\n",
      " [-0.7119204]\n",
      " [-1.5505925]\n",
      " [ 4.192281 ]], shape=(10, 1), dtype=float32) tf.Tensor([2 1 9 2 0 6 8 3 3 0], shape=(10,), dtype=int32)\n",
      "tf.Tensor(\n",
      "[[ 1.0052531 ]\n",
      " [-0.14195773]\n",
      " [ 1.4949565 ]\n",
      " [ 4.1666107 ]\n",
      " [ 0.23639482]\n",
      " [ 0.993534  ]\n",
      " [-2.9364228 ]\n",
      " [ 0.40740287]\n",
      " [ 0.26634115]\n",
      " [ 0.6095767 ]], shape=(10, 1), dtype=float32) tf.Tensor([1 9 7 0 9 5 6 4 8 9], shape=(10,), dtype=int32)\n",
      "tf.Tensor(\n",
      "[[-2.1530943 ]\n",
      " [ 1.1773572 ]\n",
      " [ 1.3904748 ]\n",
      " [-0.28979605]\n",
      " [-1.7900224 ]\n",
      " [ 0.66911846]\n",
      " [ 0.3653506 ]\n",
      " [-3.285636  ]\n",
      " [-2.0700195 ]\n",
      " [ 0.29815415]], shape=(10, 1), dtype=float32) tf.Tensor([6 9 7 3 3 5 1 6 2 8], shape=(10,), dtype=int32)\n",
      "tf.Tensor(\n",
      "[[ 0.91430527]\n",
      " [-2.604055  ]\n",
      " [ 0.72854304]\n",
      " [-0.37511706]\n",
      " [-2.0925765 ]\n",
      " [-2.0354784 ]\n",
      " [ 3.569264  ]\n",
      " [ 0.6930652 ]\n",
      " [ 0.29291657]\n",
      " [ 2.16003   ]], shape=(10, 1), dtype=float32) tf.Tensor([4 2 7 4 2 2 0 4 1 7], shape=(10,), dtype=int32)\n",
      "tf.Tensor(\n",
      "[[-0.2483496 ]\n",
      " [ 0.5955808 ]\n",
      " [ 0.8589088 ]\n",
      " [ 0.32659134]\n",
      " [-0.41076773]\n",
      " [ 0.2073052 ]\n",
      " [ 0.77159476]\n",
      " [ 0.2787308 ]\n",
      " [ 3.309495  ]\n",
      " [-3.0431004 ]], shape=(10, 1), dtype=float32) tf.Tensor([5 7 5 8 3 8 8 4 0 6], shape=(10,), dtype=int32)\n"
     ]
    }
   ],
   "source": [
    "train(x_train, gid_train, y_train, 10, 2)"
   ]
  },
  {
   "cell_type": "code",
   "execution_count": 1294,
   "metadata": {
    "collapsed": true,
    "jupyter": {
     "outputs_hidden": true
    }
   },
   "outputs": [
    {
     "name": "stdout",
     "output_type": "stream",
     "text": [
      "WARNING:tensorflow:Model failed to serialize as JSON. Ignoring... Layer MyMultilevelDense has arguments in `__init__` and therefore must override `get_config`.\n",
      "Epoch 1/50\n",
      "1/1 [==============================] - 0s 8ms/step - loss: 904.5120 - mse: 17.4163\n",
      "Epoch 2/50\n",
      "1/1 [==============================] - 0s 1ms/step - loss: 303.6014 - mse: 4.2406\n",
      "Epoch 3/50\n",
      "1/1 [==============================] - 0s 2ms/step - loss: 1012.0451 - mse: 2.3462\n",
      "Epoch 4/50\n",
      "1/1 [==============================] - 0s 1ms/step - loss: 163.0171 - mse: 1.1594\n",
      "Epoch 5/50\n",
      "1/1 [==============================] - 0s 1ms/step - loss: 86.3440 - mse: 0.7449\n",
      "Epoch 6/50\n",
      "1/1 [==============================] - 0s 2ms/step - loss: 71.0054 - mse: 0.5587\n",
      "Epoch 7/50\n",
      "1/1 [==============================] - 0s 2ms/step - loss: 64.3862 - mse: 0.4468\n",
      "Epoch 8/50\n",
      "1/1 [==============================] - 0s 1ms/step - loss: 61.5073 - mse: 0.3980\n",
      "Epoch 9/50\n",
      "1/1 [==============================] - 0s 2ms/step - loss: 59.5262 - mse: 0.3674\n",
      "Epoch 10/50\n",
      "1/1 [==============================] - 0s 1ms/step - loss: 57.3353 - mse: 0.3324\n",
      "Epoch 11/50\n",
      "1/1 [==============================] - 0s 8ms/step - loss: 55.3476 - mse: 0.3016\n",
      "Epoch 12/50\n",
      "1/1 [==============================] - 0s 1ms/step - loss: 54.2306 - mse: 0.2881\n",
      "Epoch 13/50\n",
      "1/1 [==============================] - 0s 1ms/step - loss: 53.0437 - mse: 0.2729\n",
      "Epoch 14/50\n",
      "1/1 [==============================] - 0s 1ms/step - loss: 51.5876 - mse: 0.2523\n",
      "Epoch 15/50\n",
      "1/1 [==============================] - 0s 2ms/step - loss: 50.3550 - mse: 0.2363\n",
      "Epoch 16/50\n",
      "1/1 [==============================] - 0s 2ms/step - loss: 49.5583 - mse: 0.2286\n",
      "Epoch 17/50\n",
      "1/1 [==============================] - 0s 2ms/step - loss: 48.0412 - mse: 0.2063\n",
      "Epoch 18/50\n",
      "1/1 [==============================] - 0s 1ms/step - loss: 47.1385 - mse: 0.1964\n",
      "Epoch 19/50\n",
      "1/1 [==============================] - 0s 1ms/step - loss: 46.3142 - mse: 0.1877\n",
      "Epoch 20/50\n",
      "1/1 [==============================] - 0s 1ms/step - loss: 45.6719 - mse: 0.1826\n",
      "Epoch 21/50\n",
      "1/1 [==============================] - 0s 7ms/step - loss: 45.0974 - mse: 0.1789\n",
      "Epoch 22/50\n",
      "1/1 [==============================] - 0s 2ms/step - loss: 43.8231 - mse: 0.1612\n",
      "Epoch 23/50\n",
      "1/1 [==============================] - 0s 2ms/step - loss: 43.4773 - mse: 0.1620\n",
      "Epoch 24/50\n",
      "1/1 [==============================] - 0s 2ms/step - loss: 42.5544 - mse: 0.1510\n",
      "Epoch 25/50\n",
      "1/1 [==============================] - 0s 2ms/step - loss: 41.8213 - mse: 0.1439\n",
      "Epoch 26/50\n",
      "1/1 [==============================] - 0s 2ms/step - loss: 41.1936 - mse: 0.1386\n",
      "Epoch 27/50\n",
      "1/1 [==============================] - 0s 2ms/step - loss: 40.3466 - mse: 0.1291\n",
      "Epoch 28/50\n",
      "1/1 [==============================] - 0s 1ms/step - loss: 40.0314 - mse: 0.1305\n",
      "Epoch 29/50\n",
      "1/1 [==============================] - 0s 1ms/step - loss: 39.0504 - mse: 0.1178\n",
      "Epoch 30/50\n",
      "1/1 [==============================] - 0s 2ms/step - loss: 38.4647 - mse: 0.1135\n",
      "Epoch 31/50\n",
      "1/1 [==============================] - 0s 6ms/step - loss: 38.1579 - mse: 0.1149\n",
      "Epoch 32/50\n",
      "1/1 [==============================] - 0s 2ms/step - loss: 37.4957 - mse: 0.1094\n",
      "Epoch 33/50\n",
      "1/1 [==============================] - 0s 2ms/step - loss: 36.7565 - mse: 0.1022\n",
      "Epoch 34/50\n",
      "1/1 [==============================] - 0s 1ms/step - loss: 36.3452 - mse: 0.1021\n",
      "Epoch 35/50\n",
      "1/1 [==============================] - 0s 1ms/step - loss: 35.7708 - mse: 0.0985\n",
      "Epoch 36/50\n",
      "1/1 [==============================] - 0s 1ms/step - loss: 35.1394 - mse: 0.0942\n",
      "Epoch 37/50\n",
      "1/1 [==============================] - 0s 1ms/step - loss: 34.7706 - mse: 0.0953\n",
      "Epoch 38/50\n",
      "1/1 [==============================] - 0s 1ms/step - loss: 34.0390 - mse: 0.0896\n",
      "Epoch 39/50\n",
      "1/1 [==============================] - 0s 1ms/step - loss: 33.3171 - mse: 0.0841\n",
      "Epoch 40/50\n",
      "1/1 [==============================] - 0s 1ms/step - loss: 32.7923 - mse: 0.0831\n",
      "Epoch 41/50\n",
      "1/1 [==============================] - 0s 6ms/step - loss: 32.0734 - mse: 0.0782\n",
      "Epoch 42/50\n",
      "1/1 [==============================] - 0s 1ms/step - loss: 31.7081 - mse: 0.0811\n",
      "Epoch 43/50\n",
      "1/1 [==============================] - 0s 1ms/step - loss: 30.9988 - mse: 0.0747\n",
      "Epoch 44/50\n",
      "1/1 [==============================] - 0s 1ms/step - loss: 31.0054 - mse: 0.0778\n",
      "Epoch 45/50\n",
      "1/1 [==============================] - 0s 1ms/step - loss: 33.6776 - mse: 0.0701\n",
      "Epoch 46/50\n",
      "1/1 [==============================] - 0s 1ms/step - loss: 109.9055 - mse: 0.0990\n",
      "Epoch 47/50\n",
      "1/1 [==============================] - 0s 2ms/step - loss: 42.3973 - mse: 0.0781\n",
      "Epoch 48/50\n",
      "1/1 [==============================] - 0s 2ms/step - loss: 34.1388 - mse: 0.0669\n",
      "Epoch 49/50\n",
      "1/1 [==============================] - 0s 2ms/step - loss: 30.8528 - mse: 0.0563\n",
      "Epoch 50/50\n",
      "1/1 [==============================] - 0s 2ms/step - loss: 30.3249 - mse: 0.0556\n"
     ]
    },
    {
     "data": {
      "text/plain": [
       "<tensorflow.python.keras.callbacks.History at 0x7fb9509e5250>"
      ]
     },
     "execution_count": 1294,
     "metadata": {},
     "output_type": "execute_result"
    }
   ],
   "source": [
    "current_time = datetime.datetime.now().strftime(\"%Y%m%d-%H%M%S\")\n",
    "np.random.seed(4)\n",
    "model.fit(x=[x_train, gid_train], \n",
    "          y=(x_train*0.2+4.+ 0.2*np.random.randn(len(x_train))[...,tf.newaxis]), \n",
    "          batch_size=50, \n",
    "          epochs=50, \n",
    "         callbacks=[tf.keras.callbacks.TensorBoard(log_dir='../experiments/reg/' + current_time, \n",
    "                                                    profile_batch='5',\n",
    "                                                    histogram_freq=10)])\n"
   ]
  },
  {
   "cell_type": "code",
   "execution_count": null,
   "metadata": {},
   "outputs": [],
   "source": []
  },
  {
   "cell_type": "code",
   "execution_count": null,
   "metadata": {},
   "outputs": [],
   "source": []
  },
  {
   "cell_type": "code",
   "execution_count": null,
   "metadata": {},
   "outputs": [],
   "source": []
  },
  {
   "cell_type": "code",
   "execution_count": 334,
   "metadata": {},
   "outputs": [
    {
     "name": "stdout",
     "output_type": "stream",
     "text": [
      "The autoreload extension is already loaded. To reload it, use:\n",
      "  %reload_ext autoreload\n"
     ]
    }
   ],
   "source": [
    "from models.multilevel_layers import MyHierarchicalDense \n",
    "from models.multilevel_variables import HierarchicalVariableLayer \n",
    "\n",
    "%load_ext autoreload\n",
    "%autoreload 2"
   ]
  },
  {
   "cell_type": "code",
   "execution_count": 414,
   "metadata": {},
   "outputs": [],
   "source": [
    "class MyRegression(tf.keras.Model):\n",
    "\n",
    "    def __init__(self,num_groups, kl_weight, *args, **kwargs):\n",
    "        super(MyRegression, self).__init__(*args, **kwargs)\n",
    "\n",
    "        self.num_groups = num_groups\n",
    "        self.kl_weight = kl_weight\n",
    "    \n",
    "    def build(self, input_shape):\n",
    "        self.hier_dense = MyHierarchicalDense(\n",
    "            units=1., num_groups=self.num_groups, kl_weight=self.kl_weight)\n",
    "        #self.hier_dense2 = MyHierarchicalDense(\n",
    "        #    units=1., num_groups=self.num_groups, kl_weight=self.kl_weight)\n",
    "\n",
    "    @tf.function\n",
    "    def call(self, inputs):\n",
    "        x, gid = inputs\n",
    "        out = self.hier_dense([x,gid])\n",
    "        #out = self.hier_dense2([out,gid])\n",
    "        return out"
   ]
  },
  {
   "cell_type": "code",
   "execution_count": 415,
   "metadata": {},
   "outputs": [],
   "source": [
    "loss_fn = tf.keras.losses.MeanSquaredError(\n",
    "    reduction=tf.keras.losses.Reduction.SUM)\n",
    "optimizer = tf.keras.optimizers.SGD(learning_rate=0.03)"
   ]
  },
  {
   "cell_type": "code",
   "execution_count": 416,
   "metadata": {},
   "outputs": [],
   "source": [
    "model = MyRegression(\n",
    "    num_groups=tf.convert_to_tensor(ng),\n",
    "    kl_weight=tf.convert_to_tensor(1/num_batches, dtype=tf.float32))"
   ]
  },
  {
   "cell_type": "code",
   "execution_count": 417,
   "metadata": {},
   "outputs": [
    {
     "data": {
      "text/plain": [
       "[]"
      ]
     },
     "execution_count": 417,
     "metadata": {},
     "output_type": "execute_result"
    }
   ],
   "source": [
    "model.losses"
   ]
  },
  {
   "cell_type": "code",
   "execution_count": 418,
   "metadata": {},
   "outputs": [
    {
     "name": "stdout",
     "output_type": "stream",
     "text": [
      "tf.Tensor(348.0866, shape=(), dtype=float32) tf.Tensor(348.0866, shape=(), dtype=float32)\n",
      "tf.Tensor(2.4597263, shape=(), dtype=float32) tf.Tensor(10.271379, shape=(), dtype=float32)\n",
      "tf.Tensor(1.4271314, shape=(), dtype=float32) tf.Tensor(15.717338, shape=(), dtype=float32)\n",
      "tf.Tensor(1.021405, shape=(), dtype=float32) tf.Tensor(18.358376, shape=(), dtype=float32)\n",
      "tf.Tensor(0.8165754, shape=(), dtype=float32) tf.Tensor(28.76999, shape=(), dtype=float32)\n",
      "tf.Tensor(0.72400403, shape=(), dtype=float32) tf.Tensor(37.752964, shape=(), dtype=float32)\n",
      "tf.Tensor(0.6050414, shape=(), dtype=float32) tf.Tensor(43.71328, shape=(), dtype=float32)\n",
      "tf.Tensor(0.62477386, shape=(), dtype=float32) tf.Tensor(43.898438, shape=(), dtype=float32)\n",
      "tf.Tensor(0.69116884, shape=(), dtype=float32) tf.Tensor(58.824543, shape=(), dtype=float32)\n",
      "tf.Tensor(0.62869453, shape=(), dtype=float32) tf.Tensor(59.66864, shape=(), dtype=float32)\n",
      "tf.Tensor(0.8169169, shape=(), dtype=float32) tf.Tensor(73.85622, shape=(), dtype=float32)\n",
      "tf.Tensor(0.7088835, shape=(), dtype=float32) tf.Tensor(61.656612, shape=(), dtype=float32)\n",
      "tf.Tensor(0.7753564, shape=(), dtype=float32) tf.Tensor(65.87224, shape=(), dtype=float32)\n",
      "tf.Tensor(2.536163, shape=(), dtype=float32) tf.Tensor(82.428635, shape=(), dtype=float32)\n",
      "tf.Tensor(0.5228355, shape=(), dtype=float32) tf.Tensor(114.96219, shape=(), dtype=float32)\n",
      "tf.Tensor(0.55212665, shape=(), dtype=float32) tf.Tensor(111.88742, shape=(), dtype=float32)\n",
      "tf.Tensor(0.5705529, shape=(), dtype=float32) tf.Tensor(108.87555, shape=(), dtype=float32)\n",
      "tf.Tensor(0.57827365, shape=(), dtype=float32) tf.Tensor(105.90069, shape=(), dtype=float32)\n",
      "tf.Tensor(0.581193, shape=(), dtype=float32) tf.Tensor(102.8728, shape=(), dtype=float32)\n",
      "tf.Tensor(0.5820873, shape=(), dtype=float32) tf.Tensor(99.867226, shape=(), dtype=float32)\n"
     ]
    }
   ],
   "source": [
    "current_time = datetime.datetime.now().strftime(\"%Y%m%d-%H%M%S\")\n",
    "log_dir='../experiments/reg/' + current_time\n",
    "train([x_train, gid_train], y_train, model, loss_fn, optimizer, batch_size, \n",
    "      epochs=1000,log_file=log_dir, kl_annealing=True, print_freq=50, verbose=False)"
   ]
  },
  {
   "cell_type": "markdown",
   "metadata": {},
   "source": [
    "## Results"
   ]
  },
  {
   "cell_type": "code",
   "execution_count": 419,
   "metadata": {},
   "outputs": [
    {
     "name": "stdout",
     "output_type": "stream",
     "text": [
      "my_hierarchical_dense/kernel/mu_k:0\n",
      "[[1.8540583]\n",
      " [2.1155696]\n",
      " [1.9501009]\n",
      " [1.8496331]\n",
      " [1.9809445]\n",
      " [2.2064402]\n",
      " [1.9074934]\n",
      " [2.3581529]\n",
      " [2.237827 ]\n",
      " [1.7501265]\n",
      " [1.906312 ]\n",
      " [2.1442728]\n",
      " [2.1380768]\n",
      " [1.8555429]\n",
      " [1.9333036]\n",
      " [2.094352 ]\n",
      " [1.9682177]\n",
      " [2.0294816]\n",
      " [2.1625352]\n",
      " [1.9358708]]\n",
      "\n",
      "\n",
      "my_hierarchical_dense/kernel/sigma_k:0\n",
      "[[-4.6873603]\n",
      " [-4.6606197]\n",
      " [-4.66942  ]\n",
      " [-4.731823 ]\n",
      " [-4.6888494]\n",
      " [-4.732584 ]\n",
      " [-4.6867194]\n",
      " [-4.6222463]\n",
      " [-4.8056264]\n",
      " [-4.7837477]\n",
      " [-4.5943117]\n",
      " [-4.5908175]\n",
      " [-4.6859336]\n",
      " [-4.67978  ]\n",
      " [-4.415239 ]\n",
      " [-4.6695704]\n",
      " [-4.582283 ]\n",
      " [-4.6697316]\n",
      " [-4.779977 ]\n",
      " [-4.6771417]]\n",
      "\n",
      "\n",
      "my_hierarchical_dense/kernel/mu0:0\n",
      "[2.0188982]\n",
      "\n",
      "\n",
      "my_hierarchical_dense/kernel/sigma0:0\n",
      "[-9.110822]\n",
      "\n",
      "\n",
      "my_hierarchical_dense/kernel/tau_k_mu:0\n",
      "[1.4607567]\n",
      "\n",
      "\n",
      "my_hierarchical_dense/kernel/tau_k_sigma:0\n",
      "[-21.012466]\n",
      "\n",
      "\n",
      "my_hierarchical_dense/bias/mu_k:0\n",
      "[[0.9695971 ]\n",
      " [1.0875404 ]\n",
      " [1.0039214 ]\n",
      " [1.0588374 ]\n",
      " [1.328016  ]\n",
      " [1.0120103 ]\n",
      " [1.0355744 ]\n",
      " [0.9485525 ]\n",
      " [0.8348565 ]\n",
      " [0.95592666]\n",
      " [0.9767742 ]\n",
      " [0.9761659 ]\n",
      " [0.79590374]\n",
      " [1.1848134 ]\n",
      " [1.0397037 ]\n",
      " [1.1959817 ]\n",
      " [1.0758469 ]\n",
      " [1.1560149 ]\n",
      " [1.0158913 ]\n",
      " [1.1026888 ]]\n",
      "\n",
      "\n",
      "my_hierarchical_dense/bias/sigma_k:0\n",
      "[[-4.137149 ]\n",
      " [-4.39019  ]\n",
      " [-4.1310554]\n",
      " [-4.1089973]\n",
      " [-4.2850046]\n",
      " [-3.8192544]\n",
      " [-4.148189 ]\n",
      " [-4.2902474]\n",
      " [-3.7804425]\n",
      " [-4.1504307]\n",
      " [-4.14938  ]\n",
      " [-3.918126 ]\n",
      " [-4.049846 ]\n",
      " [-4.107787 ]\n",
      " [-4.238873 ]\n",
      " [-3.8200634]\n",
      " [-4.0319977]\n",
      " [-4.177718 ]\n",
      " [-4.2416177]\n",
      " [-4.155702 ]]\n",
      "\n",
      "\n",
      "my_hierarchical_dense/bias/mu0:0\n",
      "[1.0377314]\n",
      "\n",
      "\n",
      "my_hierarchical_dense/bias/sigma0:0\n",
      "[-1.8688606]\n",
      "\n",
      "\n",
      "my_hierarchical_dense/bias/tau_k_mu:0\n",
      "[1.4131112]\n",
      "\n",
      "\n",
      "my_hierarchical_dense/bias/tau_k_sigma:0\n",
      "[-0.68552387]\n",
      "\n",
      "\n",
      "my_hierarchical_dense/kernel/z0_prior_mean:0\n",
      "0.0\n",
      "\n",
      "\n",
      "my_hierarchical_dense/kernel/z0_prior_variance:0\n",
      "100.0\n",
      "\n",
      "\n",
      "my_hierarchical_dense/kernel/tau_k_prior_mean:0\n",
      "2.0\n",
      "\n",
      "\n",
      "my_hierarchical_dense/kernel/tau_k_prior_variance:0\n",
      "0.2\n",
      "\n",
      "\n",
      "my_hierarchical_dense/bias/z0_prior_mean:0\n",
      "0.0\n",
      "\n",
      "\n",
      "my_hierarchical_dense/bias/z0_prior_variance:0\n",
      "100.0\n",
      "\n",
      "\n",
      "my_hierarchical_dense/bias/tau_k_prior_mean:0\n",
      "2.0\n",
      "\n",
      "\n",
      "my_hierarchical_dense/bias/tau_k_prior_variance:0\n",
      "0.2\n",
      "\n",
      "\n"
     ]
    }
   ],
   "source": [
    "for w in model.weights:\n",
    "    print(w.name) \n",
    "    print(w.numpy())\n",
    "    print('\\n')"
   ]
  },
  {
   "cell_type": "code",
   "execution_count": 420,
   "metadata": {},
   "outputs": [
    {
     "data": {
      "image/png": "[encoded data removed]",
      "text/plain": [
       "<Figure size 432x288 with 1 Axes>"
      ]
     },
     "metadata": {
      "needs_background": "light"
     },
     "output_type": "display_data"
    }
   ],
   "source": [
    "np.random.seed(4)\n",
    "# ng\n",
    "for i in range(ng):\n",
    "    \n",
    "    tmp = get_segments(x_train, gid_train, i)\n",
    "    ytmp = get_segments(y_train, gid_train, i)\n",
    "    plt.scatter(tmp, ytmp)\n",
    "    plt.plot(np.linspace(-1,2,5), np.linspace(-1,2,5)* model.weights[0][i,0] + model.weights[6][i,0])"
   ]
  },
  {
   "cell_type": "code",
   "execution_count": 421,
   "metadata": {},
   "outputs": [
    {
     "name": "stdout",
     "output_type": "stream",
     "text": [
      "tf.Tensor(1.8540583, shape=(), dtype=float32)\n"
     ]
    },
    {
     "data": {
      "text/plain": [
       "<matplotlib.collections.PathCollection at 0x7fbf78321d90>"
      ]
     },
     "execution_count": 421,
     "metadata": {},
     "output_type": "execute_result"
    },
    {
     "data": {
      "image/png": "[encoded data removed]",
      "text/plain": [
       "<Figure size 432x288 with 1 Axes>"
      ]
     },
     "metadata": {
      "needs_background": "light"
     },
     "output_type": "display_data"
    }
   ],
   "source": [
    "print(model.weights[0][0,0])\n",
    "tmp = get_segments(x_train, gid_train, 0)\n",
    "plt.scatter(tmp,tmp*0.2+4.+0.2*np.random.randn(len(tmp))[...,tf.newaxis])"
   ]
  },
  {
   "cell_type": "code",
   "execution_count": 1300,
   "metadata": {
    "collapsed": true,
    "jupyter": {
     "outputs_hidden": true
    }
   },
   "outputs": [
    {
     "data": {
      "text/plain": [
       "Reusing TensorBoard on port 6008 (pid 61760), started 1 day, 22:13:30 ago. (Use '!kill 61760' to kill it.)"
      ]
     },
     "metadata": {},
     "output_type": "display_data"
    },
    {
     "data": {
      "text/html": [
       "\n",
       "      <iframe id=\"tensorboard-frame-4a38ce6de34c2b4\" width=\"100%\" height=\"800\" frameborder=\"0\">\n",
       "      </iframe>\n",
       "      <script>\n",
       "        (function() {\n",
       "          const frame = document.getElementById(\"tensorboard-frame-4a38ce6de34c2b4\");\n",
       "          const url = new URL(\"/\", window.location);\n",
       "          url.port = 6008;\n",
       "          frame.src = url;\n",
       "        })();\n",
       "      </script>\n",
       "  "
      ],
      "text/plain": [
       "<IPython.core.display.HTML object>"
      ]
     },
     "metadata": {},
     "output_type": "display_data"
    }
   ],
   "source": [
    "%tensorboard --logdir=../experiments/reg/ "
   ]
  },
  {
   "cell_type": "code",
   "execution_count": null,
   "metadata": {},
   "outputs": [],
   "source": []
  },
  {
   "cell_type": "code",
   "execution_count": null,
   "metadata": {},
   "outputs": [],
   "source": []
  },
  {
   "cell_type": "code",
   "execution_count": null,
   "metadata": {},
   "outputs": [],
   "source": []
  }
 ],
 "metadata": {
  "kernelspec": {
   "display_name": "Python 3",
   "language": "python",
   "name": "python3"
  },
  "language_info": {
   "codemirror_mode": {
    "name": "ipython",
    "version": 3
   },
   "file_extension": ".py",
   "mimetype": "text/x-python",
   "name": "python",
   "nbconvert_exporter": "python",
   "pygments_lexer": "ipython3",
   "version": "3.7.4"
  }
 },
 "nbformat": 4,
 "nbformat_minor": 4
}
