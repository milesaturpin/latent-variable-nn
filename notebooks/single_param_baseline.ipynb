{
 "cells": [
  {
   "cell_type": "code",
   "execution_count": 2,
   "metadata": {},
   "outputs": [],
   "source": [
    "import tensorflow as tf\n",
    "import tensorflow_probability as tfp\n",
    "\n",
    "import numpy as np\n",
    "from matplotlib import pyplot as plt\n",
    "import sys\n",
    "sys.path.insert(1, '/Users/milesturpin/Dev/latent_variable_nn')\n",
    "sys.path.insert(1, '/Users/milesturpin/Dev/latent_variable_nn/models')\n",
    "\n",
    "#from models.multilevel_layers import MultilevelDense\n",
    "\n",
    "from sklearn.model_selection import train_test_split\n",
    "from sklearn.metrics import mean_squared_error, r2_score\n",
    "\n",
    "from tensorflow.keras.utils import to_categorical\n",
    "\n",
    "from tensorflow.keras.layers import Input\n",
    "from tensorflow.keras.models import Model, Sequential\n",
    "\n",
    "from functools import reduce\n",
    "import ipdb\n",
    "\n",
    "\n",
    "tfd = tfp.distributions"
   ]
  },
  {
   "cell_type": "code",
   "execution_count": 3,
   "metadata": {},
   "outputs": [],
   "source": [
    "%load_ext tensorboard"
   ]
  },
  {
   "cell_type": "code",
   "execution_count": 4,
   "metadata": {},
   "outputs": [],
   "source": [
    "def data_generator(gid):\n",
    "    #x_tf = tf.cast(tf.convert_to_tensor(gid), tf.int32)\n",
    "    gid_tf = tf.cast(tf.convert_to_tensor(gid), tf.int32)\n",
    "    num_groups = tf.cast(tf.convert_to_tensor(max(gid) + 1), tf.int32)\n",
    "    \"\"\"Creates a joint distribution for the varying slope model.\"\"\"\n",
    "    return tfd.JointDistributionSequential([\n",
    "        tfd.Normal(loc=1., scale=0.1, name='w_z_0'),\n",
    "#         tfd.Independent(\n",
    "#             tfd.HalfCauchy(loc=tf.ones([num_groups])*0.1, scale=0.01, name='w_lambda_k'),\n",
    "#             reinterpreted_batch_ndims=1),\n",
    "        tfd.HalfCauchy(loc=1, scale=0.01, name='w_lambda_k'),\n",
    "\n",
    "        lambda w_lambda_k, w_z_0: tfd.Independent(tfd.Normal( \n",
    "            loc=tf.ones([num_groups])*w_z_0,\n",
    "            scale=w_lambda_k,\n",
    "            name='w_z_k'), reinterpreted_batch_ndims=1),\n",
    "\n",
    "        lambda w_z_k: tfd.MultivariateNormalDiag(  # y\n",
    "            loc=tf.gather(w_z_k, gid_tf, axis=-1) ,\n",
    "            scale_identity_multiplier=0.5,\n",
    "            name='x')\n",
    "   ])"
   ]
  },
  {
   "cell_type": "code",
   "execution_count": 405,
   "metadata": {},
   "outputs": [],
   "source": [
    "ng=10\n",
    "avg_samp = 50\n",
    "np.random.seed(35)\n",
    "gi = np.random.choice(ng, size=[ng*avg_samp])"
   ]
  },
  {
   "cell_type": "code",
   "execution_count": 406,
   "metadata": {},
   "outputs": [
    {
     "data": {
      "text/plain": [
       "Counter({9: 48, 7: 51, 1: 37, 0: 50, 8: 59, 2: 62, 5: 38, 3: 55, 6: 49, 4: 51})"
      ]
     },
     "execution_count": 406,
     "metadata": {},
     "output_type": "execute_result"
    }
   ],
   "source": [
    "import collections\n",
    "collections.Counter(gi)"
   ]
  },
  {
   "cell_type": "code",
   "execution_count": 407,
   "metadata": {},
   "outputs": [],
   "source": [
    "gen_process = data_generator(gi)"
   ]
  },
  {
   "cell_type": "code",
   "execution_count": 408,
   "metadata": {},
   "outputs": [],
   "source": [
    "tf.random.set_seed(5)\n",
    "gen = gen_process.sample(seed=7)"
   ]
  },
  {
   "cell_type": "code",
   "execution_count": 409,
   "metadata": {},
   "outputs": [
    {
     "data": {
      "text/plain": [
       "[<tf.Tensor: shape=(), dtype=float32, numpy=0.9272164>,\n",
       " <tf.Tensor: shape=(), dtype=float32, numpy=2.276844>,\n",
       " <tf.Tensor: shape=(10,), dtype=float32, numpy=\n",
       " array([ 4.289809  ,  0.56151044, -2.057742  , -1.2611173 ,  0.62570345,\n",
       "         0.6008022 , -2.8858562 ,  0.7954581 ,  0.58332413,  0.34865123],\n",
       "       dtype=float32)>]"
      ]
     },
     "execution_count": 409,
     "metadata": {},
     "output_type": "execute_result"
    }
   ],
   "source": [
    "xi=gen[-1].numpy()\n",
    "gen[:-1]"
   ]
  },
  {
   "cell_type": "code",
   "execution_count": 410,
   "metadata": {},
   "outputs": [],
   "source": [
    "yi = 2.*xi + 1. + np.random.randn(len(xi))/5"
   ]
  },
  {
   "cell_type": "code",
   "execution_count": 411,
   "metadata": {},
   "outputs": [],
   "source": [
    "x_train, x_test, y_train, y_test,  gid_train, gid_test = train_test_split(\n",
    "    xi, yi, gi, stratify=gi, random_state=9, test_size=0.9)\n",
    "tts = [x_train, x_test, y_train, y_test, gid_train, gid_test]\n",
    "\n",
    "x_train = tf.convert_to_tensor(x_train)[...,tf.newaxis]\n",
    "x_test = tf.convert_to_tensor(x_test)[...,tf.newaxis]\n",
    "y_train = tf.convert_to_tensor(y_train)[...,tf.newaxis]\n",
    "y_test = tf.convert_to_tensor(y_test)[...,tf.newaxis]\n",
    "gid_train = tf.cast(tf.convert_to_tensor(gid_train), tf.int32)\n",
    "gid_test = tf.cast(tf.convert_to_tensor(gid_test), tf.int32)"
   ]
  },
  {
   "cell_type": "markdown",
   "metadata": {},
   "source": [
    "## Baseline model"
   ]
  },
  {
   "cell_type": "code",
   "execution_count": 412,
   "metadata": {},
   "outputs": [],
   "source": [
    "def mean_estimator_error(train, test):\n",
    "    return np.abs(np.mean(train) - np.mean(test))\n",
    "    "
   ]
  },
  {
   "cell_type": "code",
   "execution_count": 413,
   "metadata": {},
   "outputs": [],
   "source": [
    "check_tensor = lambda x: isinstance(x, tf.python.framework.ops.EagerTensor)"
   ]
  },
  {
   "cell_type": "code",
   "execution_count": 414,
   "metadata": {},
   "outputs": [],
   "source": [
    "def get_segments(data, gid, idx): \n",
    "    if check_tensor(data):\n",
    "        data = data.numpy()\n",
    "    if check_tensor(gid):\n",
    "        gid = gid.numpy()\n",
    "    return data[np.where(gid == idx)[0]]"
   ]
  },
  {
   "cell_type": "code",
   "execution_count": 415,
   "metadata": {},
   "outputs": [
    {
     "name": "stdout",
     "output_type": "stream",
     "text": [
      "Baseline estimator: 0.033158585\n"
     ]
    }
   ],
   "source": [
    "print('Baseline estimator:', mean_estimator_error(x_train, x_test))"
   ]
  },
  {
   "cell_type": "code",
   "execution_count": 416,
   "metadata": {},
   "outputs": [
    {
     "name": "stdout",
     "output_type": "stream",
     "text": [
      "Baseline estimator per group: 0.24614668\n",
      "Baseline estimator per group: 0.023810059\n",
      "Baseline estimator per group: 0.065476894\n",
      "Baseline estimator per group: 0.40621316\n",
      "Baseline estimator per group: 0.31369454\n",
      "Baseline estimator per group: 0.16790938\n",
      "Baseline estimator per group: 0.028253317\n",
      "Baseline estimator per group: 0.367454\n",
      "Baseline estimator per group: 0.0071002245\n",
      "Baseline estimator per group: 0.06261778\n"
     ]
    }
   ],
   "source": [
    "for i in range(ng):\n",
    "    train = get_segments(x_train, gid_train, i)\n",
    "    test = get_segments(x_test, gid_test, i)\n",
    "    print('Baseline estimator per group:', mean_estimator_error(train, test))"
   ]
  },
  {
   "cell_type": "code",
   "execution_count": 417,
   "metadata": {},
   "outputs": [
    {
     "data": {
      "image/png": "[encoded data removed]",
      "text/plain": [
       "<Figure size 936x360 with 2 Axes>"
      ]
     },
     "metadata": {
      "needs_background": "light"
     },
     "output_type": "display_data"
    }
   ],
   "source": [
    "fig, axes =plt.subplots(1,2, figsize=(13,5))\n",
    "for i in range(ng):\n",
    "    \n",
    "    axes[0].scatter(get_segments(x_train, gid_train, i), [i]*len(get_segments(x_train, gid_train, i)))\n",
    "\n",
    "    axes[1].scatter(get_segments(x_test, gid_test, i), [i]*len(get_segments(x_test, gid_test, i)))"
   ]
  },
  {
   "cell_type": "code",
   "execution_count": 418,
   "metadata": {},
   "outputs": [
    {
     "data": {
      "text/plain": [
       "<tf.Tensor: shape=(10,), dtype=float32, numpy=\n",
       "array([ 4.289809  ,  0.56151044, -2.057742  , -1.2611173 ,  0.62570345,\n",
       "        0.6008022 , -2.8858562 ,  0.7954581 ,  0.58332413,  0.34865123],\n",
       "      dtype=float32)>"
      ]
     },
     "execution_count": 418,
     "metadata": {},
     "output_type": "execute_result"
    }
   ],
   "source": [
    "gen[2]"
   ]
  },
  {
   "cell_type": "markdown",
   "metadata": {},
   "source": [
    "## Model classes"
   ]
  },
  {
   "cell_type": "code",
   "execution_count": 1045,
   "metadata": {},
   "outputs": [],
   "source": [
    "class HierarchicalVariableLayer(tf.keras.layers.Layer):\n",
    "    \n",
    "    def __init__(self, variable_shape, num_groups, kl_weight,\n",
    "                 #prior_kl_weight, group_kl_weights, \n",
    "                 **kwargs):\n",
    "        super(HierarchicalVariableLayer, self).__init__(**kwargs)\n",
    "        self.variable_shape = variable_shape\n",
    "        # flatten out input into a vector\n",
    "        if isinstance(variable_shape, list) or isinstance(variable_shape, tuple):\n",
    "            self.units = reduce(lambda x, y: x*y, variable_shape)\n",
    "        else:\n",
    "            self.units = variable_shape\n",
    "        #    self.units = int(variable_shape)\n",
    "        \n",
    "        self.num_groups = num_groups\n",
    "\n",
    "#         self.prior_kl_weight = prior_kl_weight\n",
    "#         self.group_kl_weights = group_kl_weights\n",
    "        self.kl_weight = kl_weight\n",
    "\n",
    "        \n",
    "#         self.input_spec = [\n",
    "#             tf.keras.layers.InputSpec(min_ndim=2),\n",
    "#             tf.keras.layers.InputSpec(ndim=1)]\n",
    "        \n",
    "    def build(self, input_shape):\n",
    "        \n",
    "        # TODO: do something diff for only 1?\n",
    "#         x_input_shape, gid_input_shape = input_shape\n",
    "#         last_dim = x_input_shape[-1]\n",
    "#         self.input_spec = [\n",
    "#             tf.keras.layers.InputSpec(min_ndim=2, axes={-1: last_dim}),\n",
    "#             tf.keras.layers.InputSpec(ndim=1)]\n",
    "        \n",
    "        \n",
    "        # Mean of the variational posterior for group latents\n",
    "        self.mu_k = self.add_weight(\n",
    "            shape=(self.num_groups, self.units),\n",
    "            initializer='random_normal', name='mu_k')\n",
    "        # Variance of the variational posterior for group latents\n",
    "        self.sigma_k = self.add_weight(\n",
    "            shape=(self.num_groups, self.units),\n",
    "            initializer=tf.constant_initializer(-4.), name='sigma_k')\n",
    "\n",
    "        # Mean of the variational posterior for group prior z_0 \n",
    "        self.mu0 = self.add_weight(\n",
    "            shape=(self.units,),\n",
    "            initializer='zeros', name='mu0')\n",
    "        # Variance of the variational posterior for the group mean z_0\n",
    "        self.sigma0 = self.add_weight(\n",
    "            shape=(self.units,),\n",
    "            initializer=tf.constant_initializer(-4.), name='sigma0')\n",
    "        \n",
    "        # Fixed parameters for hyperprior over z_0 ~ N(0, v^-1)\n",
    "        self.z0_prior_mean = tf.Variable(0., trainable=False, name='z0_prior_mean')\n",
    "        self.z0_prior_variance = tf.Variable(100., trainable=False, name='z0_prior_variance')\n",
    "\n",
    "#         # Mean of the variational posterior for group prior variance tau_k \n",
    "        self.tau_k_mu = self.add_weight(\n",
    "            shape=[self.units],\n",
    "            #shape=(self.num_groups, self.units),\n",
    "            initializer=tf.constant_initializer(1.), name='tau_k_mu')\n",
    "        # Variance of the variational posterior for the group prior variance tau_k\n",
    "        self.tau_k_sigma = self.add_weight(\n",
    "            shape=[self.units],\n",
    "            #shape=(self.num_groups, self.units),\n",
    "            initializer=tf.constant_initializer(-1.), name='tau_k_sigma')        \n",
    "        \n",
    "#         # Fixed parameters for hyperprior over tau_k ~ N(0, tau_0)\n",
    "        self.tau_k_prior_mean = tf.Variable(1., trainable=False, name='tau_k_prior_mean')\n",
    "#         # Fixed hyperprior over tau_k, aka tau_0\n",
    "        self.tau_k_prior_variance = tf.Variable(1., trainable=False, name='tau_k_prior_variance')\n",
    "        \n",
    "        # Fixed parameters for hyperprior over tau_k ~ N(0, tau_0)\n",
    "        #self.tau_k_mu = tf.Variable(1., trainable=False, name='tau_k_mu')\n",
    "        # Fixed hyperprior over tau_k, aka tau_0\n",
    "        #self.tau_k_sigma = tf.Variable(0.1, trainable=False, name='tau_k_sigma')\n",
    "\n",
    "        super(HierarchicalVariableLayer, self).build(input_shape)\n",
    "        \n",
    "    \n",
    "    @tf.function\n",
    "    def sample_posterior(self, mu, sigma):\n",
    "        # By sampling after gather, I use different noise for each sample\n",
    "        eps = np.random.randn(*mu.shape)\n",
    "        samp = mu + sigma*eps\n",
    "        return samp\n",
    "\n",
    "    @tf.function\n",
    "    def compute_kl(self, mu1, sigma1, mu2, sigma2):\n",
    "        kl = (\n",
    "            tf.math.log(sigma2/sigma1)\n",
    "            + (sigma1**2 + (mu1-mu2)**2)/(2*sigma2**2)\n",
    "            - 0.5)\n",
    "        return kl\n",
    "    \n",
    "         \n",
    "    @tf.function\n",
    "    def call(self, gid):\n",
    "\n",
    "        #assert len(gid.shape) == 1, \"gid should be flat vector!\"\n",
    "        \n",
    "        var_activation = tf.math.softplus\n",
    "        sigma_k_pos = var_activation(self.sigma_k)\n",
    "        sigma0_pos = var_activation(self.sigma0)\n",
    "        tau_k_sigma_pos = var_activation(self.tau_k_sigma)\n",
    "        \n",
    "        \n",
    "        # KL between var post on z0 and fixed prior over z0        \n",
    "        z0_kl_loss_fn = lambda: tf.multiply(\n",
    "            self.kl_weight,\n",
    "            tf.reduce_sum(self.compute_kl(\n",
    "                self.mu0, \n",
    "                # Changed from sigma0_pos to this to make it work...\n",
    "                var_activation(self.sigma0),\n",
    "                self.z0_prior_mean, self.z0_prior_variance)))\n",
    "\n",
    "        tau_k_kl_loss_fn = lambda: tf.reduce_sum(\n",
    "            tf.multiply(\n",
    "            self.kl_weight,\n",
    "            self.compute_kl(\n",
    "                self.tau_k_mu, var_activation(self.tau_k_sigma),\n",
    "                self.tau_k_prior_mean, self.tau_k_prior_variance)))\n",
    "\n",
    "        def z_k_kl_loss_fn(): \n",
    "            sigma_k_pos = var_activation(self.sigma_k)\n",
    "            tau_k = self.sample_posterior(self.tau_k_mu, var_activation(self.tau_k_sigma))        \n",
    "            tau_k_sq = tau_k ** 2 \n",
    "            z0 = self.sample_posterior(self.mu0, var_activation(self.sigma0))\n",
    "            kl = self.compute_kl(self.mu_k, sigma_k_pos, z0, tau_k_sq)\n",
    "        \n",
    "            return tf.multiply(self.kl_weight, tf.reduce_sum(kl))\n",
    "        \n",
    "        def z_k_kl_loss_fn():\n",
    "            sigma_k_pos = var_activation(self.sigma_k)\n",
    "            tau_k = self.sample_posterior(self.tau_k_mu, var_activation(self.tau_k_sigma))        \n",
    "            tau_k_sq = tau_k ** 2 \n",
    "            sigma0_pos = var_activation(self.sigma0)\n",
    "            #z0 = self.sample_posterior(self.mu0, var_activation(self.sigma0))\n",
    "            \n",
    "#             tf.print(tf.reduce_sum(sigma_k_pos, axis=[-1]) \n",
    "#             , tf.reduce_sum(sigma0_pos, axis=[-1]) ,\n",
    "#                 tf.einsum('kd, kd  -> k', self.mu_k, self.mu_k)\n",
    "#             , tf.einsum('d,d -> ', self.mu0,self.mu0)\n",
    "#             , -2 * tf.einsum('kd,d -> k', self.mu_k, self.mu0))\n",
    "            \n",
    "            d = self.units\n",
    "            z_k_log_prob = (\n",
    "                - 1/2 * d * np.log(2*np.pi) \n",
    "                - 1/2 * d * tf.math.log(tau_k_sq)\n",
    "                - 1/2/tau_k_sq * (\n",
    "                    # NOTE: trace(sigma_k) sums over units\n",
    "                    tf.reduce_sum(sigma_k_pos, axis=[-1]) \n",
    "                    + tf.reduce_sum(sigma0_pos, axis=[-1]) \n",
    "                    + tf.einsum('kd, kd -> k', self.mu_k, self.mu_k)\n",
    "                    + tf.einsum('d, d -> ', self.mu0, self.mu0)\n",
    "                    - 2 * tf.einsum('kd, d -> k', self.mu_k, self.mu0)))\n",
    "            \n",
    "            return -1 * tf.multiply(self.kl_weight, tf.reduce_sum(z_k_log_prob))\n",
    "        \n",
    "#         def z_k_kl_loss_fn():\n",
    "#             z = self.sample_posterior(self.mu_k, var_activation(self.sigma_k))\n",
    "#             tau_k = self.sample_posterior(self.tau_k_mu, var_activation(self.tau_k_sigma))        \n",
    "#             tau_k_sq = tau_k ** 2 \n",
    "#             z0 = self.sample_posterior(self.mu0, var_activation(self.sigma0))\n",
    "#             return tf.reduce_sum(-1 * tfd.Normal(z0, tau_k_sq).log_prob(z))\n",
    "\n",
    "        \n",
    "        # Can access using model.metrics later once I do custom training\n",
    "        self.add_metric(z0_kl_loss_fn(), name='z0_kl_loss', aggregation='mean')\n",
    "        self.add_metric(tau_k_kl_loss_fn(), name='tau_k_kl_loss', aggregation='mean')\n",
    "        self.add_metric(z_k_kl_loss_fn(), name='z_k_kl_loss', aggregation='mean')\n",
    "        \n",
    "        self.add_loss(z0_kl_loss_fn)\n",
    "        self.add_loss(tau_k_kl_loss_fn)\n",
    "        self.add_loss(z_k_kl_loss_fn)\n",
    "        \n",
    "        gather = lambda x: tf.gather(x, gid)\n",
    "        z = self.sample_posterior(gather(self.mu_k), gather(sigma_k_pos))\n",
    "        var = tf.reshape(z, [-1, *self.variable_shape])\n",
    "        \n",
    "        return var\n",
    "    "
   ]
  },
  {
   "cell_type": "code",
   "execution_count": 1046,
   "metadata": {},
   "outputs": [],
   "source": [
    "@tf.function\n",
    "def tf_gather(x, ind):\n",
    "    return tf.gather(x + 0, ind)"
   ]
  },
  {
   "cell_type": "code",
   "execution_count": 1007,
   "metadata": {},
   "outputs": [],
   "source": [
    "# group_kl_weights should be [k1, k2, k3] / train_size"
   ]
  },
  {
   "cell_type": "markdown",
   "metadata": {},
   "source": [
    "## Single parameter"
   ]
  },
  {
   "cell_type": "code",
   "execution_count": 1008,
   "metadata": {},
   "outputs": [],
   "source": [
    "var = HierarchicalVariableLayer((50,200), 30, 1.)"
   ]
  },
  {
   "cell_type": "code",
   "execution_count": 1009,
   "metadata": {},
   "outputs": [],
   "source": [
    "from collections import Counter"
   ]
  },
  {
   "cell_type": "code",
   "execution_count": 1010,
   "metadata": {},
   "outputs": [
    {
     "data": {
      "text/plain": [
       "50"
      ]
     },
     "execution_count": 1010,
     "metadata": {},
     "output_type": "execute_result"
    }
   ],
   "source": [
    "len(x_train)"
   ]
  },
  {
   "cell_type": "code",
   "execution_count": 1011,
   "metadata": {},
   "outputs": [
    {
     "name": "stdout",
     "output_type": "stream",
     "text": [
      "2.0\n",
      "0.5\n"
     ]
    }
   ],
   "source": [
    "print(num_batches)\n",
    "print(1/num_batches)\n",
    "#print(group_kl_weights)"
   ]
  },
  {
   "cell_type": "code",
   "execution_count": 1012,
   "metadata": {},
   "outputs": [
    {
     "data": {
      "text/plain": [
       "<tf.Tensor: shape=(), dtype=float32, numpy=8.10517>"
      ]
     },
     "execution_count": 1012,
     "metadata": {},
     "output_type": "execute_result"
    }
   ],
   "source": [
    "# KL terms\n",
    "tfd.kl_divergence(tfd.Normal(0., tf.math.exp(-4.)), tfd.Normal(0. , 100.))"
   ]
  },
  {
   "cell_type": "code",
   "execution_count": 1013,
   "metadata": {},
   "outputs": [
    {
     "data": {
      "text/plain": [
       "<tf.Tensor: shape=(3,), dtype=float32, numpy=array([2.009158, 2.009158, 2.009158], dtype=float32)>"
      ]
     },
     "execution_count": 1013,
     "metadata": {},
     "output_type": "execute_result"
    }
   ],
   "source": [
    "# KL terms\n",
    "tfd.kl_divergence(tfd.Normal([-1.,  -1., -1.], tf.math.exp(-2.)), tfd.Normal(0. , 1.))"
   ]
  },
  {
   "cell_type": "code",
   "execution_count": 1014,
   "metadata": {},
   "outputs": [
    {
     "data": {
      "text/plain": [
       "<tf.Tensor: shape=(3,), dtype=float32, numpy=array([0.5898142, 2.0898142, 2.0898142], dtype=float32)>"
      ]
     },
     "execution_count": 1014,
     "metadata": {},
     "output_type": "execute_result"
    }
   ],
   "source": [
    "# KL terms\n",
    "tfd.kl_divergence(tfd.Normal([-1.,  2., 2.], tf.nn.softplus(1.)), tfd.Normal(0. , 1.))"
   ]
  },
  {
   "cell_type": "code",
   "execution_count": 1015,
   "metadata": {},
   "outputs": [],
   "source": [
    "def z_k_kl_loss_fn():\n",
    "#     z = tf.reduce_mean(\n",
    "#         tfd.Normal(tf.convert_to_tensor([1., -1., 1.]), \n",
    "#                    tf.convert_to_tensor([0.1, 0.1, 0.1]))\n",
    "#         .sample(100), axis=0)\n",
    "    mu0 = tf.reduce_mean(tfd.Normal(1., tf.nn.softplus(-2.)).sample(100), axis=0)\n",
    "    z = tf.reduce_mean(\n",
    "        tfd.Normal(\n",
    "            tf.convert_to_tensor([1.]), \n",
    "            tf.convert_to_tensor([2.]))\n",
    "        .sample(100), axis=0)\n",
    "    print(mu0)\n",
    "    print(z)\n",
    "    return -1 * tfd.Normal(mu0, 1).log_prob(z)"
   ]
  },
  {
   "cell_type": "code",
   "execution_count": 1016,
   "metadata": {},
   "outputs": [
    {
     "name": "stdout",
     "output_type": "stream",
     "text": [
      "tf.Tensor(0.99928784, shape=(), dtype=float32)\n",
      "tf.Tensor([1.1110892], shape=(1,), dtype=float32)\n"
     ]
    },
    {
     "data": {
      "text/plain": [
       "<tf.Tensor: shape=(1,), dtype=float32, numpy=array([0.9251883], dtype=float32)>"
      ]
     },
     "execution_count": 1016,
     "metadata": {},
     "output_type": "execute_result"
    }
   ],
   "source": [
    "z_k_kl_loss_fn()"
   ]
  },
  {
   "cell_type": "code",
   "execution_count": 1017,
   "metadata": {},
   "outputs": [
    {
     "data": {
      "text/plain": [
       "<tf.Tensor: shape=(1,), dtype=float32, numpy=array([8.291402], dtype=float32)>"
      ]
     },
     "execution_count": 1017,
     "metadata": {},
     "output_type": "execute_result"
    }
   ],
   "source": [
    "tfd.Normal(1, 0.0001).log_prob([1])"
   ]
  },
  {
   "cell_type": "code",
   "execution_count": 1018,
   "metadata": {},
   "outputs": [
    {
     "data": {
      "text/plain": [
       "<tf.Tensor: shape=(3,), dtype=float64, numpy=array([16., 16., 16.])>"
      ]
     },
     "execution_count": 1018,
     "metadata": {},
     "output_type": "execute_result"
    }
   ],
   "source": [
    "muk = tf.convert_to_tensor(np.ones([3,4])*10.)\n",
    "mu0 = tf.convert_to_tensor(np.ones([4])*12.)\n",
    "\n",
    "(tf.einsum('kd, kd  -> k', muk, muk) \n",
    " + tf.einsum('d,d -> ', mu0, mu0)\n",
    "            - 2 * tf.einsum('kd,d -> k', muk, mu0))"
   ]
  },
  {
   "cell_type": "code",
   "execution_count": 1019,
   "metadata": {},
   "outputs": [
    {
     "data": {
      "text/plain": [
       "<tf.Tensor: shape=(3, 4), dtype=float64, numpy=\n",
       "array([[10., 10., 10., 10.],\n",
       "       [10., 10., 10., 10.],\n",
       "       [10., 10., 10., 10.]])>"
      ]
     },
     "execution_count": 1019,
     "metadata": {},
     "output_type": "execute_result"
    }
   ],
   "source": [
    "muk"
   ]
  },
  {
   "cell_type": "code",
   "execution_count": 1020,
   "metadata": {},
   "outputs": [
    {
     "data": {
      "text/plain": [
       "<tf.Tensor: shape=(4,), dtype=float64, numpy=array([12., 12., 12., 12.])>"
      ]
     },
     "execution_count": 1020,
     "metadata": {},
     "output_type": "execute_result"
    }
   ],
   "source": [
    "mu0"
   ]
  },
  {
   "cell_type": "code",
   "execution_count": 1021,
   "metadata": {},
   "outputs": [],
   "source": [
    "def z_k_kl_loss_fn():\n",
    "    #sigma_k_pos = var_activation(self.sigma_k)\n",
    "    #tau_k = self.sample_posterior(self.tau_k_mu, var_activation(self.tau_k_sigma))        \n",
    "#     sigma_k_pos = tf.convert_to_tensor([0.1, 0.1, 0.1])\n",
    "    sigma_k_pos = tf.convert_to_tensor([2.])\n",
    "    tau_k_sq = tf.convert_to_tensor([1.])\n",
    "    sigma0_pos = tf.convert_to_tensor([tf.nn.softplus(-2.)])\n",
    "    #mu_k = tf.convert_to_tensor([1., -1., 1.])\n",
    "    mu_k = tf.convert_to_tensor([1.])\n",
    "    mu0 = tf.convert_to_tensor(1.)\n",
    "    #z0 = self.sample_posterior(self.mu0, var_activation(self.sigma0))\n",
    "\n",
    "#     print(tf.reduce_sum(sigma_k_pos, axis=[-1]) \n",
    "#             , tf.reduce_sum(sigma0_pos, axis=[-1]) ,\n",
    "#         tf.einsum('i, i  -> i', mu_k, mu_k)\n",
    "#             , tf.einsum(', -> ', mu0, mu0)\n",
    "#             ,- 2 * tf.einsum('i, -> i', mu_k, mu0))\n",
    "    d = 1\n",
    "    z_k_log_prob = (\n",
    "        - 1/2 * d * np.log(2*np.pi) \n",
    "        - 1/2 * d * tf.math.log(tau_k_sq)\n",
    "        - 1/2/tau_k_sq * (\n",
    "            tf.reduce_sum(sigma_k_pos, axis=[-1]) \n",
    "            + tf.reduce_sum(sigma0_pos, axis=[-1]) \n",
    "            + tf.einsum('i, i  -> i', mu_k, mu_k)\n",
    "            + tf.einsum(', -> ', mu0, mu0)\n",
    "            - 2 * tf.einsum('i, -> i', mu_k, mu0)))\n",
    "\n",
    "    return -1* z_k_log_prob\n",
    "    #return -1 * tf.multiply(1, tf.reduce_sum(z_k_log_prob))"
   ]
  },
  {
   "cell_type": "code",
   "execution_count": 1022,
   "metadata": {},
   "outputs": [
    {
     "data": {
      "text/plain": [
       "<tf.Tensor: shape=(1,), dtype=float32, numpy=array([1.9824027], dtype=float32)>"
      ]
     },
     "execution_count": 1022,
     "metadata": {},
     "output_type": "execute_result"
    }
   ],
   "source": [
    "z_k_kl_loss_fn()"
   ]
  },
  {
   "cell_type": "code",
   "execution_count": 1023,
   "metadata": {},
   "outputs": [],
   "source": [
    "def z_k_kl_loss_fn(): \n",
    "    #tau_k = self.sample_posterior(self.tau_k_mu, var_activation(self.tau_k_sigma))  \n",
    "    #tau_k = tfd.Normal([-1,2,2], 0.1).sample()\n",
    "    #tau_k_sq = tau_k ** 2 \n",
    "    tau_k_sq = 1\n",
    "    z0 = tfd.Normal(1., tf.nn.softplus(0.1)).sample()\n",
    "    z0 = 0.\n",
    "    print(z0, tau_k_sq)\n",
    "    return tfd.kl_divergence(tfd.Normal([-1.,1.,1.], tf.nn.softplus(-2.)), tfd.Normal(z0, tau_k_sq))\n",
    "    \n"
   ]
  },
  {
   "cell_type": "code",
   "execution_count": 1024,
   "metadata": {},
   "outputs": [
    {
     "name": "stdout",
     "output_type": "stream",
     "text": [
      "0.0 1\n"
     ]
    },
    {
     "data": {
      "text/plain": [
       "<tf.Tensor: shape=(3,), dtype=float32, numpy=array([2.0721903, 2.0721903, 2.0721903], dtype=float32)>"
      ]
     },
     "execution_count": 1024,
     "metadata": {},
     "output_type": "execute_result"
    }
   ],
   "source": [
    "z_k_kl_loss_fn()"
   ]
  },
  {
   "cell_type": "code",
   "execution_count": 1047,
   "metadata": {},
   "outputs": [],
   "source": [
    "batch_size=25\n",
    "num_batches = np.ceil(len(x_train) / batch_size)\n",
    "count_dict = Counter(gid_train.numpy())\n",
    "group_train_sizes = np.array([count_dict[i] for i in range(ng)])\n",
    "# I think this is actually not correct\n",
    "#group_kl_weights = group_train_sizes / num_batches"
   ]
  },
  {
   "cell_type": "code",
   "execution_count": 1048,
   "metadata": {},
   "outputs": [],
   "source": [
    "gid = Input(shape=[1], dtype=tf.int32, batch_size=batch_size)\n",
    "x_hier = HierarchicalVariableLayer(\n",
    "    variable_shape=(1,), \n",
    "    num_groups=tf.convert_to_tensor(ng),\n",
    "    # Make sure this prior weight stays updated\n",
    "#     prior_kl_weight=tf.convert_to_tensor(num_batches, dtype=tf.float32),\n",
    "#     group_kl_weights=tf.convert_to_tensor(group_kl_weights, dtype=tf.float32))\n",
    "    kl_weight=tf.convert_to_tensor(1/num_batches, dtype=tf.float32))\n",
    "out = x_hier(gid)\n",
    "model = Model(\n",
    "    inputs=gid, \n",
    "    outputs=out)"
   ]
  },
  {
   "cell_type": "code",
   "execution_count": 1049,
   "metadata": {},
   "outputs": [],
   "source": [
    "mse = tf.keras.losses.MeanSquaredError(\n",
    "    reduction=tf.keras.losses.Reduction.SUM)\n",
    "model.compile(\n",
    "    optimizer=tf.keras.optimizers.Adam(learning_rate=0.1), \n",
    "    loss=mse,\n",
    "    metrics=['mse'])"
   ]
  },
  {
   "cell_type": "code",
   "execution_count": 1050,
   "metadata": {},
   "outputs": [
    {
     "name": "stdout",
     "output_type": "stream",
     "text": [
      "WARNING:tensorflow:Model failed to serialize as JSON. Ignoring... Layer HierarchicalVariableLayer has arguments in `__init__` and therefore must override `get_config`.\n",
      "Epoch 1/100\n",
      "2/2 [==============================] - 0s 3ms/step - loss: 105.0995 - mse: 3.3316 - z0_kl_loss: 4.0324 - tau_k_kl_loss: 0.3758 - z_k_kl_loss: 6.4968\n",
      "Epoch 2/100\n",
      "2/2 [==============================] - 0s 2ms/step - loss: 90.2470 - mse: 2.8154 - z0_kl_loss: 3.9335 - tau_k_kl_loss: 0.4716 - z_k_kl_loss: 5.5259\n",
      "Epoch 3/100\n",
      "2/2 [==============================] - 0s 2ms/step - loss: 79.2320 - mse: 2.4474 - z0_kl_loss: 3.8351 - tau_k_kl_loss: 0.5914 - z_k_kl_loss: 4.5975\n",
      "Epoch 4/100\n",
      "2/2 [==============================] - 0s 2ms/step - loss: 70.2974 - mse: 2.1162 - z0_kl_loss: 3.7383 - tau_k_kl_loss: 0.7327 - z_k_kl_loss: 4.2252\n",
      "Epoch 5/100\n",
      "2/2 [==============================] - 0s 2ms/step - loss: 66.3367 - mse: 1.8280 - z0_kl_loss: 3.6475 - tau_k_kl_loss: 0.8445 - z_k_kl_loss: 5.8269\n",
      "Epoch 6/100\n",
      "2/2 [==============================] - 0s 2ms/step - loss: 62.4880 - mse: 1.6195 - z0_kl_loss: 3.5742 - tau_k_kl_loss: 0.8121 - z_k_kl_loss: 6.6133\n",
      "Epoch 7/100\n",
      "2/2 [==============================] - 0s 2ms/step - loss: 56.4253 - mse: 1.4071 - z0_kl_loss: 3.5134 - tau_k_kl_loss: 0.7219 - z_k_kl_loss: 6.3889\n",
      "Epoch 8/100\n",
      "2/2 [==============================] - 0s 2ms/step - loss: 52.6110 - mse: 1.2586 - z0_kl_loss: 3.4530 - tau_k_kl_loss: 0.6279 - z_k_kl_loss: 6.4921\n",
      "Epoch 9/100\n",
      "2/2 [==============================] - 0s 2ms/step - loss: 48.2856 - mse: 1.0713 - z0_kl_loss: 3.3874 - tau_k_kl_loss: 0.5464 - z_k_kl_loss: 6.8177\n",
      "Epoch 10/100\n",
      "2/2 [==============================] - 0s 2ms/step - loss: 46.0081 - mse: 0.9609 - z0_kl_loss: 3.3159 - tau_k_kl_loss: 0.4803 - z_k_kl_loss: 7.1968\n",
      "Epoch 11/100\n",
      "2/2 [==============================] - 0s 3ms/step - loss: 42.8228 - mse: 0.8147 - z0_kl_loss: 3.2391 - tau_k_kl_loss: 0.4279 - z_k_kl_loss: 7.5608\n",
      "Epoch 12/100\n",
      "2/2 [==============================] - 0s 2ms/step - loss: 40.5727 - mse: 0.7079 - z0_kl_loss: 3.1584 - tau_k_kl_loss: 0.3865 - z_k_kl_loss: 7.8931\n",
      "Epoch 13/100\n",
      "2/2 [==============================] - 0s 2ms/step - loss: 38.8800 - mse: 0.6252 - z0_kl_loss: 3.0752 - tau_k_kl_loss: 0.3536 - z_k_kl_loss: 8.1965\n",
      "Epoch 14/100\n",
      "2/2 [==============================] - 0s 2ms/step - loss: 37.1732 - mse: 0.5438 - z0_kl_loss: 2.9909 - tau_k_kl_loss: 0.3268 - z_k_kl_loss: 8.4715\n",
      "Epoch 15/100\n",
      "2/2 [==============================] - 0s 2ms/step - loss: 35.5519 - mse: 0.4674 - z0_kl_loss: 2.9068 - tau_k_kl_loss: 0.3044 - z_k_kl_loss: 8.7220\n",
      "Epoch 16/100\n",
      "2/2 [==============================] - 0s 2ms/step - loss: 34.4187 - mse: 0.4120 - z0_kl_loss: 2.8241 - tau_k_kl_loss: 0.2849 - z_k_kl_loss: 8.9498\n",
      "Epoch 17/100\n",
      "2/2 [==============================] - 0s 2ms/step - loss: 33.4780 - mse: 0.3658 - z0_kl_loss: 2.7441 - tau_k_kl_loss: 0.2670 - z_k_kl_loss: 9.1557\n",
      "Epoch 18/100\n",
      "2/2 [==============================] - 0s 2ms/step - loss: 32.8323 - mse: 0.3326 - z0_kl_loss: 2.6677 - tau_k_kl_loss: 0.2499 - z_k_kl_loss: 9.3406\n",
      "Epoch 19/100\n",
      "2/2 [==============================] - 0s 2ms/step - loss: 32.2608 - mse: 0.3036 - z0_kl_loss: 2.5961 - tau_k_kl_loss: 0.2330 - z_k_kl_loss: 9.5060\n",
      "Epoch 20/100\n",
      "2/2 [==============================] - 0s 2ms/step - loss: 31.7827 - mse: 0.2793 - z0_kl_loss: 2.5298 - tau_k_kl_loss: 0.2159 - z_k_kl_loss: 9.6545\n",
      "Epoch 21/100\n",
      "2/2 [==============================] - 0s 3ms/step - loss: 31.3152 - mse: 0.2565 - z0_kl_loss: 2.4695 - tau_k_kl_loss: 0.1985 - z_k_kl_loss: 9.7839\n",
      "Epoch 22/100\n",
      "2/2 [==============================] - 0s 2ms/step - loss: 31.0184 - mse: 0.2415 - z0_kl_loss: 2.4153 - tau_k_kl_loss: 0.1810 - z_k_kl_loss: 9.8941\n",
      "Epoch 23/100\n",
      "2/2 [==============================] - 0s 2ms/step - loss: 30.8569 - mse: 0.2325 - z0_kl_loss: 2.3673 - tau_k_kl_loss: 0.1637 - z_k_kl_loss: 9.9913\n",
      "Epoch 24/100\n",
      "2/2 [==============================] - 0s 2ms/step - loss: 30.5470 - mse: 0.2181 - z0_kl_loss: 2.3253 - tau_k_kl_loss: 0.1468 - z_k_kl_loss: 10.0747\n",
      "Epoch 25/100\n",
      "2/2 [==============================] - 0s 2ms/step - loss: 30.4228 - mse: 0.2116 - z0_kl_loss: 2.2887 - tau_k_kl_loss: 0.1308 - z_k_kl_loss: 10.1472\n",
      "Epoch 26/100\n",
      "2/2 [==============================] - 0s 2ms/step - loss: 30.3246 - mse: 0.2062 - z0_kl_loss: 2.2570 - tau_k_kl_loss: 0.1161 - z_k_kl_loss: 10.2118\n",
      "Epoch 27/100\n",
      "2/2 [==============================] - 0s 2ms/step - loss: 30.2378 - mse: 0.2016 - z0_kl_loss: 2.2296 - tau_k_kl_loss: 0.1029 - z_k_kl_loss: 10.2667\n",
      "Epoch 28/100\n",
      "2/2 [==============================] - 0s 2ms/step - loss: 30.2688 - mse: 0.2017 - z0_kl_loss: 2.2060 - tau_k_kl_loss: 0.0913 - z_k_kl_loss: 10.3157\n",
      "Epoch 29/100\n",
      "2/2 [==============================] - 0s 2ms/step - loss: 30.2150 - mse: 0.1985 - z0_kl_loss: 2.1857 - tau_k_kl_loss: 0.0815 - z_k_kl_loss: 10.3590\n",
      "Epoch 30/100\n",
      "2/2 [==============================] - 0s 2ms/step - loss: 30.2491 - mse: 0.1991 - z0_kl_loss: 2.1682 - tau_k_kl_loss: 0.0734 - z_k_kl_loss: 10.3948\n",
      "Epoch 31/100\n",
      "2/2 [==============================] - 0s 3ms/step - loss: 30.1404 - mse: 0.1942 - z0_kl_loss: 2.1531 - tau_k_kl_loss: 0.0669 - z_k_kl_loss: 10.4231\n",
      "Epoch 32/100\n",
      "2/2 [==============================] - 0s 2ms/step - loss: 30.1800 - mse: 0.1953 - z0_kl_loss: 2.1403 - tau_k_kl_loss: 0.0619 - z_k_kl_loss: 10.4471\n",
      "Epoch 33/100\n",
      "2/2 [==============================] - 0s 2ms/step - loss: 30.1703 - mse: 0.1945 - z0_kl_loss: 2.1294 - tau_k_kl_loss: 0.0581 - z_k_kl_loss: 10.4664\n",
      "Epoch 34/100\n",
      "2/2 [==============================] - 0s 2ms/step - loss: 30.1370 - mse: 0.1930 - z0_kl_loss: 2.1204 - tau_k_kl_loss: 0.0554 - z_k_kl_loss: 10.4804\n",
      "Epoch 35/100\n",
      "2/2 [==============================] - 0s 1ms/step - loss: 30.1561 - mse: 0.1936 - z0_kl_loss: 2.1133 - tau_k_kl_loss: 0.0536 - z_k_kl_loss: 10.4909\n",
      "Epoch 36/100\n",
      "2/2 [==============================] - 0s 2ms/step - loss: 30.1343 - mse: 0.1928 - z0_kl_loss: 2.1080 - tau_k_kl_loss: 0.0525 - z_k_kl_loss: 10.4964\n",
      "Epoch 37/100\n",
      "2/2 [==============================] - 0s 2ms/step - loss: 30.1743 - mse: 0.1946 - z0_kl_loss: 2.1044 - tau_k_kl_loss: 0.0519 - z_k_kl_loss: 10.4981\n",
      "Epoch 38/100\n",
      "2/2 [==============================] - 0s 2ms/step - loss: 30.1738 - mse: 0.1948 - z0_kl_loss: 2.1025 - tau_k_kl_loss: 0.0517 - z_k_kl_loss: 10.4980\n",
      "Epoch 39/100\n",
      "2/2 [==============================] - 0s 2ms/step - loss: 30.1770 - mse: 0.1952 - z0_kl_loss: 2.1022 - tau_k_kl_loss: 0.0516 - z_k_kl_loss: 10.4943\n",
      "Epoch 40/100\n",
      "2/2 [==============================] - 0s 2ms/step - loss: 30.1798 - mse: 0.1958 - z0_kl_loss: 2.1035 - tau_k_kl_loss: 0.0516 - z_k_kl_loss: 10.4873\n",
      "Epoch 41/100\n",
      "2/2 [==============================] - 0s 3ms/step - loss: 30.1857 - mse: 0.1965 - z0_kl_loss: 2.1062 - tau_k_kl_loss: 0.0516 - z_k_kl_loss: 10.4787\n",
      "Epoch 42/100\n",
      "2/2 [==============================] - 0s 2ms/step - loss: 30.1046 - mse: 0.1936 - z0_kl_loss: 2.1101 - tau_k_kl_loss: 0.0515 - z_k_kl_loss: 10.4702\n",
      "Epoch 43/100\n",
      "2/2 [==============================] - 0s 2ms/step - loss: 30.0759 - mse: 0.1928 - z0_kl_loss: 2.1149 - tau_k_kl_loss: 0.0514 - z_k_kl_loss: 10.4612\n",
      "Epoch 44/100\n",
      "2/2 [==============================] - 0s 2ms/step - loss: 30.1110 - mse: 0.1946 - z0_kl_loss: 2.1205 - tau_k_kl_loss: 0.0512 - z_k_kl_loss: 10.4515\n",
      "Epoch 45/100\n",
      "2/2 [==============================] - 0s 2ms/step - loss: 30.1160 - mse: 0.1951 - z0_kl_loss: 2.1265 - tau_k_kl_loss: 0.0510 - z_k_kl_loss: 10.4414\n",
      "Epoch 46/100\n",
      "2/2 [==============================] - 0s 2ms/step - loss: 30.1452 - mse: 0.1967 - z0_kl_loss: 2.1327 - tau_k_kl_loss: 0.0508 - z_k_kl_loss: 10.4299\n",
      "Epoch 47/100\n",
      "2/2 [==============================] - 0s 2ms/step - loss: 30.1429 - mse: 0.1971 - z0_kl_loss: 2.1388 - tau_k_kl_loss: 0.0506 - z_k_kl_loss: 10.4183\n",
      "Epoch 48/100\n",
      "2/2 [==============================] - 0s 2ms/step - loss: 30.1432 - mse: 0.1975 - z0_kl_loss: 2.1447 - tau_k_kl_loss: 0.0505 - z_k_kl_loss: 10.4076\n",
      "Epoch 49/100\n",
      "2/2 [==============================] - 0s 2ms/step - loss: 30.1284 - mse: 0.1972 - z0_kl_loss: 2.1502 - tau_k_kl_loss: 0.0505 - z_k_kl_loss: 10.3989\n",
      "Epoch 50/100\n",
      "2/2 [==============================] - 0s 2ms/step - loss: 30.1111 - mse: 0.1966 - z0_kl_loss: 2.1552 - tau_k_kl_loss: 0.0507 - z_k_kl_loss: 10.3924\n",
      "Epoch 51/100\n",
      "2/2 [==============================] - 0s 3ms/step - loss: 30.1348 - mse: 0.1979 - z0_kl_loss: 2.1596 - tau_k_kl_loss: 0.0509 - z_k_kl_loss: 10.3826\n",
      "Epoch 52/100\n",
      "2/2 [==============================] - 0s 2ms/step - loss: 30.1417 - mse: 0.1988 - z0_kl_loss: 2.1634 - tau_k_kl_loss: 0.0512 - z_k_kl_loss: 10.3719\n",
      "Epoch 53/100\n",
      "2/2 [==============================] - 0s 2ms/step - loss: 30.0862 - mse: 0.1968 - z0_kl_loss: 2.1666 - tau_k_kl_loss: 0.0515 - z_k_kl_loss: 10.3652\n",
      "Epoch 54/100\n",
      "2/2 [==============================] - 0s 1ms/step - loss: 30.0924 - mse: 0.1972 - z0_kl_loss: 2.1692 - tau_k_kl_loss: 0.0519 - z_k_kl_loss: 10.3600\n",
      "Epoch 55/100\n",
      "2/2 [==============================] - 0s 1ms/step - loss: 30.0842 - mse: 0.1970 - z0_kl_loss: 2.1714 - tau_k_kl_loss: 0.0523 - z_k_kl_loss: 10.3563\n",
      "Epoch 56/100\n",
      "2/2 [==============================] - 0s 2ms/step - loss: 30.1234 - mse: 0.1985 - z0_kl_loss: 2.1731 - tau_k_kl_loss: 0.0526 - z_k_kl_loss: 10.3550\n",
      "Epoch 57/100\n",
      "2/2 [==============================] - 0s 1ms/step - loss: 30.1247 - mse: 0.1985 - z0_kl_loss: 2.1746 - tau_k_kl_loss: 0.0528 - z_k_kl_loss: 10.3533\n",
      "Epoch 58/100\n",
      "2/2 [==============================] - 0s 1ms/step - loss: 30.0874 - mse: 0.1972 - z0_kl_loss: 2.1757 - tau_k_kl_loss: 0.0529 - z_k_kl_loss: 10.3501\n",
      "Epoch 59/100\n",
      "2/2 [==============================] - 0s 1ms/step - loss: 30.1077 - mse: 0.1982 - z0_kl_loss: 2.1767 - tau_k_kl_loss: 0.0529 - z_k_kl_loss: 10.3464\n",
      "Epoch 60/100\n",
      "2/2 [==============================] - 0s 1ms/step - loss: 30.0931 - mse: 0.1979 - z0_kl_loss: 2.1773 - tau_k_kl_loss: 0.0528 - z_k_kl_loss: 10.3421\n",
      "Epoch 61/100\n",
      "2/2 [==============================] - 0s 2ms/step - loss: 30.1008 - mse: 0.1984 - z0_kl_loss: 2.1778 - tau_k_kl_loss: 0.0527 - z_k_kl_loss: 10.3393\n",
      "Epoch 62/100\n",
      "2/2 [==============================] - 0s 2ms/step - loss: 30.1382 - mse: 0.1999 - z0_kl_loss: 2.1781 - tau_k_kl_loss: 0.0526 - z_k_kl_loss: 10.3392\n",
      "Epoch 63/100\n",
      "2/2 [==============================] - 0s 1ms/step - loss: 30.1162 - mse: 0.1988 - z0_kl_loss: 2.1782 - tau_k_kl_loss: 0.0525 - z_k_kl_loss: 10.3423\n",
      "Epoch 64/100\n",
      "2/2 [==============================] - 0s 2ms/step - loss: 30.1048 - mse: 0.1982 - z0_kl_loss: 2.1782 - tau_k_kl_loss: 0.0525 - z_k_kl_loss: 10.3442\n",
      "Epoch 65/100\n",
      "2/2 [==============================] - 0s 1ms/step - loss: 30.1286 - mse: 0.1992 - z0_kl_loss: 2.1780 - tau_k_kl_loss: 0.0524 - z_k_kl_loss: 10.3444\n",
      "Epoch 66/100\n",
      "2/2 [==============================] - 0s 2ms/step - loss: 30.1203 - mse: 0.1988 - z0_kl_loss: 2.1778 - tau_k_kl_loss: 0.0523 - z_k_kl_loss: 10.3449\n",
      "Epoch 67/100\n",
      "2/2 [==============================] - 0s 1ms/step - loss: 30.1423 - mse: 0.1996 - z0_kl_loss: 2.1774 - tau_k_kl_loss: 0.0521 - z_k_kl_loss: 10.3469\n",
      "Epoch 68/100\n",
      "2/2 [==============================] - 0s 2ms/step - loss: 30.1302 - mse: 0.1990 - z0_kl_loss: 2.1771 - tau_k_kl_loss: 0.0520 - z_k_kl_loss: 10.3484\n",
      "Epoch 69/100\n",
      "2/2 [==============================] - 0s 1ms/step - loss: 30.1350 - mse: 0.1992 - z0_kl_loss: 2.1767 - tau_k_kl_loss: 0.0519 - z_k_kl_loss: 10.3486\n",
      "Epoch 70/100\n",
      "2/2 [==============================] - 0s 2ms/step - loss: 30.0991 - mse: 0.1977 - z0_kl_loss: 2.1763 - tau_k_kl_loss: 0.0518 - z_k_kl_loss: 10.3501\n",
      "Epoch 71/100\n",
      "2/2 [==============================] - 0s 3ms/step - loss: 30.1115 - mse: 0.1982 - z0_kl_loss: 2.1758 - tau_k_kl_loss: 0.0518 - z_k_kl_loss: 10.3509\n",
      "Epoch 72/100\n",
      "2/2 [==============================] - 0s 1ms/step - loss: 30.1177 - mse: 0.1985 - z0_kl_loss: 2.1754 - tau_k_kl_loss: 0.0517 - z_k_kl_loss: 10.3506\n",
      "Epoch 73/100\n",
      "2/2 [==============================] - 0s 2ms/step - loss: 30.1219 - mse: 0.1987 - z0_kl_loss: 2.1751 - tau_k_kl_loss: 0.0517 - z_k_kl_loss: 10.3507\n",
      "Epoch 74/100\n",
      "2/2 [==============================] - 0s 1ms/step - loss: 30.0741 - mse: 0.1968 - z0_kl_loss: 2.1747 - tau_k_kl_loss: 0.0516 - z_k_kl_loss: 10.3511\n",
      "Epoch 75/100\n",
      "2/2 [==============================] - 0s 1ms/step - loss: 30.0783 - mse: 0.1970 - z0_kl_loss: 2.1744 - tau_k_kl_loss: 0.0517 - z_k_kl_loss: 10.3503\n",
      "Epoch 76/100\n",
      "2/2 [==============================] - 0s 1ms/step - loss: 30.1357 - mse: 0.1995 - z0_kl_loss: 2.1742 - tau_k_kl_loss: 0.0517 - z_k_kl_loss: 10.3483\n",
      "Epoch 77/100\n",
      "2/2 [==============================] - 0s 1ms/step - loss: 30.0726 - mse: 0.1971 - z0_kl_loss: 2.1741 - tau_k_kl_loss: 0.0518 - z_k_kl_loss: 10.3473\n",
      "Epoch 78/100\n",
      "2/2 [==============================] - 0s 1ms/step - loss: 30.0849 - mse: 0.1975 - z0_kl_loss: 2.1740 - tau_k_kl_loss: 0.0519 - z_k_kl_loss: 10.3482\n",
      "Epoch 79/100\n",
      "2/2 [==============================] - 0s 1ms/step - loss: 30.0833 - mse: 0.1974 - z0_kl_loss: 2.1741 - tau_k_kl_loss: 0.0520 - z_k_kl_loss: 10.3480\n",
      "Epoch 80/100\n",
      "2/2 [==============================] - 0s 1ms/step - loss: 30.0826 - mse: 0.1973 - z0_kl_loss: 2.1742 - tau_k_kl_loss: 0.0520 - z_k_kl_loss: 10.3486\n",
      "Epoch 81/100\n",
      "2/2 [==============================] - 0s 3ms/step - loss: 30.0795 - mse: 0.1971 - z0_kl_loss: 2.1745 - tau_k_kl_loss: 0.0521 - z_k_kl_loss: 10.3490\n",
      "Epoch 82/100\n",
      "2/2 [==============================] - 0s 1ms/step - loss: 30.1242 - mse: 0.1992 - z0_kl_loss: 2.1748 - tau_k_kl_loss: 0.0521 - z_k_kl_loss: 10.3456\n",
      "Epoch 83/100\n",
      "2/2 [==============================] - 0s 1ms/step - loss: 30.0915 - mse: 0.1980 - z0_kl_loss: 2.1751 - tau_k_kl_loss: 0.0521 - z_k_kl_loss: 10.3441\n",
      "Epoch 84/100\n",
      "2/2 [==============================] - 0s 2ms/step - loss: 30.1007 - mse: 0.1983 - z0_kl_loss: 2.1755 - tau_k_kl_loss: 0.0521 - z_k_kl_loss: 10.3446\n",
      "Epoch 85/100\n",
      "2/2 [==============================] - 0s 1ms/step - loss: 30.1178 - mse: 0.1988 - z0_kl_loss: 2.1758 - tau_k_kl_loss: 0.0522 - z_k_kl_loss: 10.3458\n",
      "Epoch 86/100\n",
      "2/2 [==============================] - 0s 1ms/step - loss: 30.1062 - mse: 0.1983 - z0_kl_loss: 2.1761 - tau_k_kl_loss: 0.0522 - z_k_kl_loss: 10.3463\n",
      "Epoch 87/100\n",
      "2/2 [==============================] - 0s 1ms/step - loss: 30.0968 - mse: 0.1978 - z0_kl_loss: 2.1764 - tau_k_kl_loss: 0.0522 - z_k_kl_loss: 10.3470\n",
      "Epoch 88/100\n",
      "2/2 [==============================] - 0s 2ms/step - loss: 30.0884 - mse: 0.1973 - z0_kl_loss: 2.1766 - tau_k_kl_loss: 0.0521 - z_k_kl_loss: 10.3495\n",
      "Epoch 89/100\n",
      "2/2 [==============================] - 0s 1ms/step - loss: 30.1444 - mse: 0.1992 - z0_kl_loss: 2.1768 - tau_k_kl_loss: 0.0521 - z_k_kl_loss: 10.3527\n",
      "Epoch 90/100\n",
      "2/2 [==============================] - 0s 2ms/step - loss: 30.1139 - mse: 0.1980 - z0_kl_loss: 2.1769 - tau_k_kl_loss: 0.0520 - z_k_kl_loss: 10.3536\n",
      "Epoch 91/100\n",
      "2/2 [==============================] - 0s 3ms/step - loss: 30.0679 - mse: 0.1962 - z0_kl_loss: 2.1769 - tau_k_kl_loss: 0.0518 - z_k_kl_loss: 10.3526\n",
      "Epoch 92/100\n",
      "2/2 [==============================] - 0s 2ms/step - loss: 30.0860 - mse: 0.1971 - z0_kl_loss: 2.1768 - tau_k_kl_loss: 0.0517 - z_k_kl_loss: 10.3507\n",
      "Epoch 93/100\n",
      "2/2 [==============================] - 0s 2ms/step - loss: 30.0642 - mse: 0.1965 - z0_kl_loss: 2.1765 - tau_k_kl_loss: 0.0516 - z_k_kl_loss: 10.3483\n",
      "Epoch 94/100\n",
      "2/2 [==============================] - 0s 2ms/step - loss: 30.1019 - mse: 0.1981 - z0_kl_loss: 2.1762 - tau_k_kl_loss: 0.0516 - z_k_kl_loss: 10.3470\n",
      "Epoch 95/100\n",
      "2/2 [==============================] - 0s 2ms/step - loss: 30.1250 - mse: 0.1990 - z0_kl_loss: 2.1758 - tau_k_kl_loss: 0.0517 - z_k_kl_loss: 10.3481\n",
      "Epoch 96/100\n",
      "2/2 [==============================] - 0s 1ms/step - loss: 30.1530 - mse: 0.2000 - z0_kl_loss: 2.1755 - tau_k_kl_loss: 0.0519 - z_k_kl_loss: 10.3490\n",
      "Epoch 97/100\n",
      "2/2 [==============================] - 0s 2ms/step - loss: 30.1282 - mse: 0.1992 - z0_kl_loss: 2.1752 - tau_k_kl_loss: 0.0520 - z_k_kl_loss: 10.3473\n",
      "Epoch 98/100\n",
      "2/2 [==============================] - 0s 1ms/step - loss: 30.0969 - mse: 0.1981 - z0_kl_loss: 2.1750 - tau_k_kl_loss: 0.0521 - z_k_kl_loss: 10.3450\n",
      "Epoch 99/100\n",
      "2/2 [==============================] - 0s 1ms/step - loss: 30.0943 - mse: 0.1981 - z0_kl_loss: 2.1749 - tau_k_kl_loss: 0.0522 - z_k_kl_loss: 10.3436\n",
      "Epoch 100/100\n",
      "2/2 [==============================] - 0s 1ms/step - loss: 30.1203 - mse: 0.1991 - z0_kl_loss: 2.1750 - tau_k_kl_loss: 0.0523 - z_k_kl_loss: 10.3435\n"
     ]
    },
    {
     "data": {
      "text/plain": [
       "<tensorflow.python.keras.callbacks.History at 0x7fca796782d0>"
      ]
     },
     "execution_count": 1050,
     "metadata": {},
     "output_type": "execute_result"
    }
   ],
   "source": [
    "import datetime\n",
    "current_time = datetime.datetime.now().strftime(\"%Y%m%d-%H%M%S\")\n",
    "model.fit(x=gid_train, \n",
    "          y=x_train, \n",
    "          batch_size=batch_size, \n",
    "          epochs=100, \n",
    "          #verbose=False,\n",
    "          callbacks=[tf.keras.callbacks.TensorBoard(log_dir='../experiments/parameter_est/' + current_time, \n",
    "                                                    profile_batch='5',\n",
    "                                                    histogram_freq=10)])"
   ]
  },
  {
   "cell_type": "code",
   "execution_count": 34,
   "metadata": {},
   "outputs": [],
   "source": [
    "#--host localhost"
   ]
  },
  {
   "cell_type": "code",
   "execution_count": 974,
   "metadata": {},
   "outputs": [
    {
     "data": {
      "text/html": [
       "\n",
       "      <iframe id=\"tensorboard-frame-80de23a90097e1c6\" width=\"100%\" height=\"800\" frameborder=\"0\">\n",
       "      </iframe>\n",
       "      <script>\n",
       "        (function() {\n",
       "          const frame = document.getElementById(\"tensorboard-frame-80de23a90097e1c6\");\n",
       "          const url = new URL(\"/\", window.location);\n",
       "          url.port = 6008;\n",
       "          frame.src = url;\n",
       "        })();\n",
       "      </script>\n",
       "  "
      ],
      "text/plain": [
       "<IPython.core.display.HTML object>"
      ]
     },
     "metadata": {},
     "output_type": "display_data"
    }
   ],
   "source": [
    "%tensorboard --logdir=../experiments/parameter_est/ "
   ]
  },
  {
   "cell_type": "code",
   "execution_count": 975,
   "metadata": {},
   "outputs": [],
   "source": [
    "def hierarchical_estimator_error(pred, test):\n",
    "    return np.abs(pred - np.mean(test))"
   ]
  },
  {
   "cell_type": "code",
   "execution_count": 1051,
   "metadata": {},
   "outputs": [
    {
     "name": "stdout",
     "output_type": "stream",
     "text": [
      "Baseline estimator per group: 0.24614668\n",
      "Hierarchical estimator per group: 0.4300878\n",
      "Baseline estimator per group: 0.023810059\n",
      "Hierarchical estimator per group: 0.00587973\n",
      "Baseline estimator per group: 0.065476894\n",
      "Hierarchical estimator per group: 0.033417463\n",
      "Baseline estimator per group: 0.40621316\n",
      "Hierarchical estimator per group: 0.4464631\n",
      "Baseline estimator per group: 0.31369454\n",
      "Hierarchical estimator per group: 0.3300223\n",
      "Baseline estimator per group: 0.16790938\n",
      "Hierarchical estimator per group: 0.19196707\n",
      "Baseline estimator per group: 0.028253317\n",
      "Hierarchical estimator per group: 0.18059921\n",
      "Baseline estimator per group: 0.367454\n",
      "Hierarchical estimator per group: 0.2943706\n",
      "Baseline estimator per group: 0.0071002245\n",
      "Hierarchical estimator per group: 0.014726609\n",
      "Baseline estimator per group: 0.06261778\n",
      "Hierarchical estimator per group: 0.032185733\n"
     ]
    }
   ],
   "source": [
    "for i in range(ng):\n",
    "    train = get_segments(x_train, gid_train, i)\n",
    "    test = get_segments(x_test, gid_test, i)\n",
    "    print('Baseline estimator per group:', mean_estimator_error(train, test))\n",
    "    print('Hierarchical estimator per group:', hierarchical_estimator_error(\n",
    "        model.get_weights()[0][i,0], test))"
   ]
  },
  {
   "cell_type": "code",
   "execution_count": 1052,
   "metadata": {},
   "outputs": [
    {
     "data": {
      "text/plain": [
       "[array([[ 3.770542  ],\n",
       "        [ 0.49348873],\n",
       "        [-2.0392046 ],\n",
       "        [-0.9103699 ],\n",
       "        [ 0.36734965],\n",
       "        [ 0.5442452 ],\n",
       "        [-2.7121506 ],\n",
       "        [ 1.2008336 ],\n",
       "        [ 0.4318366 ],\n",
       "        [ 0.2832278 ]], dtype=float32), array([[-5.1138377],\n",
       "        [-5.835897 ],\n",
       "        [-5.6490517],\n",
       "        [-6.784661 ],\n",
       "        [-6.6830845],\n",
       "        [-6.4983187],\n",
       "        [-4.926761 ],\n",
       "        [-5.0217986],\n",
       "        [-6.1543636],\n",
       "        [-4.746539 ]], dtype=float32), array([0.15041177], dtype=float32), array([0.17162338], dtype=float32), array([0.68814236], dtype=float32), array([0.15417106], dtype=float32), 0.0, 100.0, 1.0, 1.0]"
      ]
     },
     "execution_count": 1052,
     "metadata": {},
     "output_type": "execute_result"
    }
   ],
   "source": [
    "model.get_weights()"
   ]
  },
  {
   "cell_type": "code",
   "execution_count": 1053,
   "metadata": {},
   "outputs": [
    {
     "name": "stdout",
     "output_type": "stream",
     "text": [
      "3.954483\n",
      "0.51141906\n",
      "-2.138099\n",
      "-0.9506198\n",
      "0.38367742\n",
      "0.56830287\n",
      "-2.8644965\n",
      "1.273917\n",
      "0.439463\n",
      "0.31365985\n"
     ]
    }
   ],
   "source": [
    "for i in range(ng):\n",
    "    print(np.mean(get_segments(x_train, gid_train, i)))"
   ]
  },
  {
   "cell_type": "code",
   "execution_count": 1054,
   "metadata": {},
   "outputs": [
    {
     "data": {
      "text/plain": [
       "0.14917071"
      ]
     },
     "execution_count": 1054,
     "metadata": {},
     "output_type": "execute_result"
    }
   ],
   "source": [
    "np.mean([np.mean(get_segments(x_train, gid_train, i)) for i in range(ng)])"
   ]
  },
  {
   "cell_type": "code",
   "execution_count": 1055,
   "metadata": {},
   "outputs": [
    {
     "data": {
      "text/plain": [
       "[<tf.Tensor: shape=(), dtype=float32, numpy=0.9272164>,\n",
       " <tf.Tensor: shape=(), dtype=float32, numpy=2.276844>,\n",
       " <tf.Tensor: shape=(10,), dtype=float32, numpy=\n",
       " array([ 4.289809  ,  0.56151044, -2.057742  , -1.2611173 ,  0.62570345,\n",
       "         0.6008022 , -2.8858562 ,  0.7954581 ,  0.58332413,  0.34865123],\n",
       "       dtype=float32)>]"
      ]
     },
     "execution_count": 1055,
     "metadata": {},
     "output_type": "execute_result"
    }
   ],
   "source": [
    "gen[:-1]"
   ]
  },
  {
   "cell_type": "code",
   "execution_count": null,
   "metadata": {},
   "outputs": [],
   "source": []
  },
  {
   "cell_type": "code",
   "execution_count": 1059,
   "metadata": {},
   "outputs": [
    {
     "data": {
      "image/png": "[encoded data removed]",
      "text/plain": [
       "<Figure size 936x360 with 2 Axes>"
      ]
     },
     "metadata": {
      "needs_background": "light"
     },
     "output_type": "display_data"
    }
   ],
   "source": [
    "fig, axes =plt.subplots(1,2, figsize=(13,5))\n",
    "for i in range(ng):\n",
    "    \n",
    "    axes[0].scatter(get_segments(x_train, gid_train, i), [i]*len(get_segments(x_train, gid_train, i)))\n",
    "    axes[0].scatter(model.get_weights()[0][i,0], i, c='black')\n",
    "    axes[1].scatter(get_segments(x_test, gid_test, i), [i]*len(get_segments(x_test, gid_test, i)))\n",
    "    "
   ]
  },
  {
   "cell_type": "markdown",
   "metadata": {},
   "source": [
    "## Regression"
   ]
  },
  {
   "cell_type": "code",
   "execution_count": 1060,
   "metadata": {},
   "outputs": [],
   "source": [
    "class MyMultilevelDense(tf.keras.layers.Layer):\n",
    "\n",
    "    def __init__(self, units, num_groups,\n",
    "                 multilevel_weights=True, \n",
    "                 multilevel_bias=True,\n",
    "                 group_kl_weights=1.,\n",
    "                 activation=None,\n",
    "                 use_bias=True,\n",
    "                 **kwargs):\n",
    "        super(MyMultilevelDense, self).__init__(**kwargs)\n",
    "        self.units = int(units)\n",
    "        self.num_groups = num_groups\n",
    "        self.multilevel_weights = multilevel_weights\n",
    "        self.multilevel_bias = multilevel_bias\n",
    "        self.group_kl_weights = group_kl_weights\n",
    "        self.activation = tf.keras.activations.get(activation)\n",
    "        self.use_bias = use_bias\n",
    "#         self.input_spec = [\n",
    "#             tf.keras.layers.InputSpec(min_ndim=2),\n",
    "#             tf.keras.layers.InputSpec(ndim=1)]\n",
    "        \n",
    "    def build(self, input_shape):\n",
    "        \n",
    "        print(input_shape)\n",
    "        x_input_shape, gid_input_shape = input_shape\n",
    "        last_dim = x_input_shape[-1]\n",
    "        print(self.units, last_dim)\n",
    "#         self.input_spec = [\n",
    "#             tf.keras.layers.InputSpec(min_ndim=2, axes={-1: last_dim}),\n",
    "#             tf.keras.layers.InputSpec(ndim=1)]\n",
    "        \n",
    "        self.w = HierarchicalVariableLayer(\n",
    "            variable_shape=[self.units, last_dim],\n",
    "            num_groups=self.num_groups, \n",
    "            kl_weight=self.group_kl_weights,\n",
    "            name='kernel')\n",
    "        \n",
    "        #if self.multilevel_bias:\n",
    "        self.b = HierarchicalVariableLayer(\n",
    "            variable_shape=[self.units],\n",
    "            num_groups=self.num_groups, \n",
    "            kl_weight=self.group_kl_weights,\n",
    "            name='bias')\n",
    "        \n",
    "        super(MyMultilevelDense, self).build(input_shape)\n",
    "     \n",
    "    @tf.function\n",
    "    def call(self, inputs):\n",
    "        \n",
    "        #import ipdb; ipdb.set_trace()\n",
    "        \n",
    "        x, gid = inputs\n",
    "        #print(x)\n",
    "        batch_size, num_features = x.shape\n",
    "        # Sanity checks\n",
    "        #assert len(x.shape) >= 2, \"Data is incorrect shape!\"\n",
    "        #assert len(gid.shape) == 1, \"gid should be flat vector!\"\n",
    "        \n",
    "        w = self.w(gid)\n",
    "        b = self.b(gid)\n",
    "            \n",
    "        # B: batch size, p: num_features, u: num_units\n",
    "        einsum_matrix_mult = '{},Bp->Bu'.format(\n",
    "            'Bup' if self.multilevel_weights else 'up')\n",
    "        outputs = tf.einsum(einsum_matrix_mult, w, x)\n",
    "\n",
    "        # Sanity checks\n",
    "        target_shape = (batch_size, self.units)\n",
    "        msg = \"output is shape {}, when should be shape {}\".format(outputs.shape, target_shape)\n",
    "        assert outputs.shape == target_shape, msg\n",
    "        assert len(outputs.shape) == 2, \"Output is wrong shape!\"\n",
    "\n",
    "        if self.use_bias:\n",
    "            #outputs = tf.nn.bias_add(outputs, b)\n",
    "            outputs = outputs + b\n",
    "\n",
    "        if self.activation is not None:\n",
    "            outputs = self.activation(outputs)\n",
    "\n",
    "        return outputs"
   ]
  },
  {
   "cell_type": "code",
   "execution_count": 1061,
   "metadata": {},
   "outputs": [
    {
     "name": "stdout",
     "output_type": "stream",
     "text": [
      "[[3, 4], [3]]\n",
      "2 4\n"
     ]
    }
   ],
   "source": [
    "ml_dense = MyMultilevelDense(2, 5)\n",
    "ml_dense.build([[3,4], [3]])"
   ]
  },
  {
   "cell_type": "code",
   "execution_count": 439,
   "metadata": {},
   "outputs": [
    {
     "name": "stdout",
     "output_type": "stream",
     "text": [
      "CPU times: user 516 ms, sys: 7.41 ms, total: 523 ms\n",
      "Wall time: 522 ms\n"
     ]
    },
    {
     "data": {
      "text/plain": [
       "<tf.Tensor: shape=(3, 2), dtype=float32, numpy=\n",
       "array([[ 0.10893169, -0.05610539],\n",
       "       [ 0.12497821, -0.04415904],\n",
       "       [ 0.06597684,  0.02686396]], dtype=float32)>"
      ]
     },
     "execution_count": 439,
     "metadata": {},
     "output_type": "execute_result"
    }
   ],
   "source": [
    "%%time\n",
    "#ml_dense([tf.zeros([3], dtype=np.float32), tf.convert_to_tensor([1,1,3])])\n",
    "ml_dense([tf.zeros([3,4], dtype=np.float32), tf.convert_to_tensor([1,1,3])])"
   ]
  },
  {
   "cell_type": "code",
   "execution_count": 440,
   "metadata": {},
   "outputs": [
    {
     "name": "stdout",
     "output_type": "stream",
     "text": [
      "kernel/mu_k:0                                     (5, 8)\n",
      "kernel/sigma_k:0                                  (5, 8)\n",
      "kernel/mu0:0                                      (8,)\n",
      "kernel/sigma0:0                                   (8,)\n",
      "kernel/tau_k_mu:0                                 (5, 8)\n",
      "kernel/tau_k_sigma:0                              (5, 8)\n",
      "bias/mu_k:0                                       (5, 2)\n",
      "bias/sigma_k:0                                    (5, 2)\n",
      "bias/mu0:0                                        (2,)\n",
      "bias/sigma0:0                                     (2,)\n",
      "bias/tau_k_mu:0                                   (5, 2)\n",
      "bias/tau_k_sigma:0                                (5, 2)\n"
     ]
    }
   ],
   "source": [
    "for w in ml_dense.trainable_weights:\n",
    "    print('{:50}{}'.format(w.name, w.shape))"
   ]
  },
  {
   "cell_type": "code",
   "execution_count": 441,
   "metadata": {},
   "outputs": [
    {
     "data": {
      "text/plain": [
       "<tf.Variable 'kernel/mu_k:0' shape=(5, 8) dtype=float32, numpy=\n",
       "array([[ 1.8501416e-03,  1.7296432e-02, -2.0775227e-02, -2.3526764e-02,\n",
       "         2.7267812e-02, -3.7185002e-02, -6.7756720e-02, -1.0620358e-01],\n",
       "       [-2.4482163e-02,  1.0088761e-04,  2.5464961e-02,  5.5881571e-02,\n",
       "         1.1971504e-02, -6.2160981e-03,  4.8162326e-02, -5.9795447e-02],\n",
       "       [ 1.0677747e-02,  5.4472174e-02, -4.6662588e-02, -4.6387635e-02,\n",
       "        -1.3321842e-02,  5.7152171e-02, -1.0693427e-01,  3.9643988e-02],\n",
       "       [-2.4431769e-03, -8.4535154e-03, -4.2101458e-02,  1.2946784e-03,\n",
       "         1.0733221e-02, -2.4324371e-02,  1.2822822e-01,  5.3705242e-02],\n",
       "       [-1.4718369e-03, -7.3936194e-02, -6.3229525e-03,  4.0745344e-03,\n",
       "        -4.0680684e-02, -3.3157025e-02,  1.4526195e-02,  2.7020663e-02]],\n",
       "      dtype=float32)>"
      ]
     },
     "execution_count": 441,
     "metadata": {},
     "output_type": "execute_result"
    }
   ],
   "source": [
    "ml_dense.w.mu_k"
   ]
  },
  {
   "cell_type": "code",
   "execution_count": 442,
   "metadata": {},
   "outputs": [
    {
     "data": {
      "text/plain": [
       "[<tf.Tensor: shape=(), dtype=float32, numpy=0.9272164>,\n",
       " <tf.Tensor: shape=(), dtype=float32, numpy=2.276844>,\n",
       " <tf.Tensor: shape=(10,), dtype=float32, numpy=\n",
       " array([ 4.289809  ,  0.56151044, -2.057742  , -1.2611173 ,  0.62570345,\n",
       "         0.6008022 , -2.8858562 ,  0.7954581 ,  0.58332413,  0.34865123],\n",
       "       dtype=float32)>]"
      ]
     },
     "execution_count": 442,
     "metadata": {},
     "output_type": "execute_result"
    }
   ],
   "source": [
    "gen[:-1]"
   ]
  },
  {
   "cell_type": "code",
   "execution_count": 443,
   "metadata": {},
   "outputs": [
    {
     "name": "stdout",
     "output_type": "stream",
     "text": [
      "[[90, 1], [90]]\n",
      "1 1\n"
     ]
    }
   ],
   "source": [
    "ml_dense = MyMultilevelDense(1, 10)\n",
    "ml_dense.build([[90,1], [90]])"
   ]
  },
  {
   "cell_type": "code",
   "execution_count": 447,
   "metadata": {},
   "outputs": [
    {
     "name": "stdout",
     "output_type": "stream",
     "text": [
      "CPU times: user 2 µs, sys: 3 µs, total: 5 µs\n",
      "Wall time: 9.06 µs\n"
     ]
    }
   ],
   "source": [
    "%%time\n",
    "#ml_dense([tf.zeros([3], dtype=np.float32), tf.convert_to_tensor([1,1,3])])\n",
    "#ml_dense([x_train, gid_train])"
   ]
  },
  {
   "cell_type": "code",
   "execution_count": 1062,
   "metadata": {},
   "outputs": [],
   "source": [
    "model = tf.keras.Sequential([\n",
    "    MyMultilevelDense(units=1, num_groups=5)])"
   ]
  },
  {
   "cell_type": "code",
   "execution_count": 1095,
   "metadata": {},
   "outputs": [
    {
     "name": "stdout",
     "output_type": "stream",
     "text": [
      "[TensorShape([50, 1]), TensorShape([50, 1])]\n",
      "1 1\n"
     ]
    }
   ],
   "source": [
    "x = Input(shape=[1], dtype=tf.float32, batch_size=50)\n",
    "gid = Input(shape=[1], dtype=tf.int32, batch_size=50)\n",
    "mldense = MyMultilevelDense(units=1, num_groups=10)\n",
    "out = mldense([x,gid])\n",
    "model = Model(\n",
    "    inputs=[\n",
    "        #[...,tf.newaxis]\n",
    "        x, gid], \n",
    "    outputs=out)"
   ]
  },
  {
   "cell_type": "code",
   "execution_count": 1096,
   "metadata": {},
   "outputs": [],
   "source": [
    "mse = tf.keras.losses.MeanSquaredError(\n",
    "    reduction=tf.keras.losses.Reduction.SUM)\n",
    "model.compile(\n",
    "    optimizer=tf.keras.optimizers.Adam(learning_rate=.03), \n",
    "    loss=mse,\n",
    "    metrics=['mse'])\n",
    "current_time = datetime.datetime.now().strftime(\"%Y%m%d-%H%M%S\")\n"
   ]
  },
  {
   "cell_type": "code",
   "execution_count": 1097,
   "metadata": {},
   "outputs": [
    {
     "name": "stdout",
     "output_type": "stream",
     "text": [
      "WARNING:tensorflow:Model failed to serialize as JSON. Ignoring... Layer MyMultilevelDense has arguments in `__init__` and therefore must override `get_config`.\n",
      "Epoch 1/100\n"
     ]
    },
    {
     "name": "stderr",
     "output_type": "stream",
     "text": [
      "/Users/milesturpin/miniconda3/envs/latent2/lib/python3.7/site-packages/tensorflow/python/framework/indexed_slices.py:434: UserWarning: Converting sparse IndexedSlices to a dense Tensor of unknown shape. This may consume a large amount of memory.\n",
      "  \"Converting sparse IndexedSlices to a dense Tensor of unknown shape. \"\n"
     ]
    },
    {
     "name": "stdout",
     "output_type": "stream",
     "text": [
      "1/1 [==============================] - 0s 8ms/step - loss: 918.8531 - mse: 16.7631 - z0_kl_loss: 8.1143 - tau_k_kl_loss: 0.7098 - z_k_kl_loss: 11.1830\n",
      "Epoch 2/100\n",
      "1/1 [==============================] - 0s 2ms/step - loss: 891.7833 - mse: 16.2448 - z0_kl_loss: 8.0845 - tau_k_kl_loss: 0.7336 - z_k_kl_loss: 10.8971\n",
      "Epoch 3/100\n",
      "1/1 [==============================] - 0s 2ms/step - loss: 861.3592 - mse: 15.6596 - z0_kl_loss: 8.0548 - tau_k_kl_loss: 0.7585 - z_k_kl_loss: 10.6137\n",
      "Epoch 4/100\n",
      "1/1 [==============================] - 0s 2ms/step - loss: 834.2944 - mse: 15.1418 - z0_kl_loss: 8.0251 - tau_k_kl_loss: 0.7845 - z_k_kl_loss: 10.3208\n",
      "Epoch 5/100\n",
      "1/1 [==============================] - ETA: 0s - loss: 805.2383 - mse: 14.5845 - z0_kl_loss: 7.9955 - tau_k_kl_loss: 0.8116 - z_k_kl_loss: 10.0182WARNING:tensorflow:Method (on_train_batch_end) is slow compared to the batch update (0.125816). Check your callbacks.\n",
      "1/1 [==============================] - 0s 3ms/step - loss: 805.2383 - mse: 14.5845 - z0_kl_loss: 7.9955 - tau_k_kl_loss: 0.8116 - z_k_kl_loss: 10.0182\n",
      "Epoch 6/100\n",
      "1/1 [==============================] - 0s 2ms/step - loss: 775.8379 - mse: 14.0206 - z0_kl_loss: 7.9658 - tau_k_kl_loss: 0.8398 - z_k_kl_loss: 9.7063\n",
      "Epoch 7/100\n",
      "1/1 [==============================] - 0s 2ms/step - loss: 753.6207 - mse: 13.6004 - z0_kl_loss: 7.9362 - tau_k_kl_loss: 0.8691 - z_k_kl_loss: 9.3846\n",
      "Epoch 8/100\n",
      "1/1 [==============================] - 0s 2ms/step - loss: 724.5295 - mse: 13.0430 - z0_kl_loss: 7.9067 - tau_k_kl_loss: 0.8996 - z_k_kl_loss: 9.0526\n",
      "Epoch 9/100\n",
      "1/1 [==============================] - 0s 2ms/step - loss: 699.5627 - mse: 12.5682 - z0_kl_loss: 7.8772 - tau_k_kl_loss: 0.9312 - z_k_kl_loss: 8.7098\n",
      "Epoch 10/100\n",
      "1/1 [==============================] - 0s 2ms/step - loss: 673.3148 - mse: 12.0678 - z0_kl_loss: 7.8477 - tau_k_kl_loss: 0.9639 - z_k_kl_loss: 8.3554\n",
      "Epoch 11/100\n",
      "1/1 [==============================] - 0s 7ms/step - loss: 651.9503 - mse: 11.6650 - z0_kl_loss: 7.8184 - tau_k_kl_loss: 0.9978 - z_k_kl_loss: 7.9883\n",
      "Epoch 12/100\n",
      "1/1 [==============================] - 0s 3ms/step - loss: 626.2894 - mse: 11.1761 - z0_kl_loss: 7.7891 - tau_k_kl_loss: 1.0329 - z_k_kl_loss: 7.6079\n",
      "Epoch 13/100\n",
      "1/1 [==============================] - 0s 2ms/step - loss: 603.5198 - mse: 10.7446 - z0_kl_loss: 7.7600 - tau_k_kl_loss: 1.0692 - z_k_kl_loss: 7.2132\n",
      "Epoch 14/100\n",
      "1/1 [==============================] - 0s 2ms/step - loss: 584.9232 - mse: 10.3961 - z0_kl_loss: 7.7310 - tau_k_kl_loss: 1.1067 - z_k_kl_loss: 6.8029\n",
      "Epoch 15/100\n",
      "1/1 [==============================] - 0s 2ms/step - loss: 565.9022 - mse: 10.0382 - z0_kl_loss: 7.7023 - tau_k_kl_loss: 1.1455 - z_k_kl_loss: 6.3762\n",
      "Epoch 16/100\n",
      "1/1 [==============================] - 0s 2ms/step - loss: 543.6844 - mse: 9.6152 - z0_kl_loss: 7.6737 - tau_k_kl_loss: 1.1855 - z_k_kl_loss: 5.9317\n",
      "Epoch 17/100\n",
      "1/1 [==============================] - 0s 2ms/step - loss: 523.6790 - mse: 9.2346 - z0_kl_loss: 7.6454 - tau_k_kl_loss: 1.2269 - z_k_kl_loss: 5.4684\n",
      "Epoch 18/100\n",
      "1/1 [==============================] - 0s 2ms/step - loss: 506.5305 - mse: 8.9089 - z0_kl_loss: 7.6175 - tau_k_kl_loss: 1.2697 - z_k_kl_loss: 4.9853\n",
      "Epoch 19/100\n",
      "1/1 [==============================] - 0s 2ms/step - loss: 487.4288 - mse: 8.5410 - z0_kl_loss: 7.5901 - tau_k_kl_loss: 1.3139 - z_k_kl_loss: 4.4815\n",
      "Epoch 20/100\n",
      "1/1 [==============================] - 0s 2ms/step - loss: 472.5606 - mse: 8.2539 - z0_kl_loss: 7.5632 - tau_k_kl_loss: 1.3595 - z_k_kl_loss: 3.9568\n",
      "Epoch 21/100\n",
      "1/1 [==============================] - 0s 7ms/step - loss: 456.8182 - mse: 7.9450 - z0_kl_loss: 7.5371 - tau_k_kl_loss: 1.4066 - z_k_kl_loss: 3.4118\n",
      "Epoch 22/100\n",
      "1/1 [==============================] - 0s 2ms/step - loss: 442.3278 - mse: 7.6568 - z0_kl_loss: 7.5119 - tau_k_kl_loss: 1.4552 - z_k_kl_loss: 2.8491\n",
      "Epoch 23/100\n",
      "1/1 [==============================] - 0s 2ms/step - loss: 430.6969 - mse: 7.4224 - z0_kl_loss: 7.4881 - tau_k_kl_loss: 1.5052 - z_k_kl_loss: 2.2734\n",
      "Epoch 24/100\n",
      "1/1 [==============================] - 0s 2ms/step - loss: 415.7029 - mse: 7.1197 - z0_kl_loss: 7.4661 - tau_k_kl_loss: 1.5566 - z_k_kl_loss: 1.6938\n",
      "Epoch 25/100\n",
      "1/1 [==============================] - 0s 2ms/step - loss: 400.4399 - mse: 6.8131 - z0_kl_loss: 7.4467 - tau_k_kl_loss: 1.6093 - z_k_kl_loss: 1.1293\n",
      "Epoch 26/100\n",
      "1/1 [==============================] - 0s 2ms/step - loss: 389.8013 - mse: 6.6015 - z0_kl_loss: 7.4308 - tau_k_kl_loss: 1.6628 - z_k_kl_loss: 0.6126\n",
      "Epoch 27/100\n",
      "1/1 [==============================] - 0s 2ms/step - loss: 378.8954 - mse: 6.3854 - z0_kl_loss: 7.4199 - tau_k_kl_loss: 1.7163 - z_k_kl_loss: 0.2013\n",
      "Epoch 28/100\n",
      "1/1 [==============================] - 0s 2ms/step - loss: 367.3468 - mse: 6.1528 - z0_kl_loss: 7.4158 - tau_k_kl_loss: 1.7678 - z_k_kl_loss: -0.0103\n",
      "Epoch 29/100\n",
      "1/1 [==============================] - 0s 2ms/step - loss: 356.9140 - mse: 5.9332 - z0_kl_loss: 7.4197 - tau_k_kl_loss: 1.8125 - z_k_kl_loss: 0.0955\n",
      "Epoch 30/100\n",
      "1/1 [==============================] - 0s 2ms/step - loss: 347.4074 - mse: 5.7227 - z0_kl_loss: 7.4318 - tau_k_kl_loss: 1.8412 - z_k_kl_loss: 0.4989\n",
      "Epoch 31/100\n",
      "1/1 [==============================] - 0s 8ms/step - loss: 339.3297 - mse: 5.5477 - z0_kl_loss: 7.4506 - tau_k_kl_loss: 1.8472 - z_k_kl_loss: 0.7738\n",
      "Epoch 32/100\n",
      "1/1 [==============================] - 0s 3ms/step - loss: 329.7449 - mse: 5.3620 - z0_kl_loss: 7.4742 - tau_k_kl_loss: 1.8340 - z_k_kl_loss: 0.5881\n",
      "Epoch 33/100\n",
      "1/1 [==============================] - 0s 2ms/step - loss: 319.8256 - mse: 5.1803 - z0_kl_loss: 7.5013 - tau_k_kl_loss: 1.8086 - z_k_kl_loss: 0.1406\n",
      "Epoch 34/100\n",
      "1/1 [==============================] - 0s 3ms/step - loss: 310.8655 - mse: 5.0165 - z0_kl_loss: 7.5307 - tau_k_kl_loss: 1.7766 - z_k_kl_loss: -0.2762\n",
      "Epoch 35/100\n",
      "1/1 [==============================] - 0s 3ms/step - loss: 301.9564 - mse: 4.8470 - z0_kl_loss: 7.5614 - tau_k_kl_loss: 1.7419 - z_k_kl_loss: -0.5342\n",
      "Epoch 36/100\n",
      "1/1 [==============================] - 0s 2ms/step - loss: 294.0957 - mse: 4.6919 - z0_kl_loss: 7.5926 - tau_k_kl_loss: 1.7079 - z_k_kl_loss: -0.6398\n",
      "Epoch 37/100\n",
      "1/1 [==============================] - 0s 2ms/step - loss: 287.8035 - mse: 4.5639 - z0_kl_loss: 7.6236 - tau_k_kl_loss: 1.6765 - z_k_kl_loss: -0.6485\n",
      "Epoch 38/100\n",
      "1/1 [==============================] - 0s 3ms/step - loss: 280.3495 - mse: 4.4105 - z0_kl_loss: 7.6541 - tau_k_kl_loss: 1.6490 - z_k_kl_loss: -0.6147\n",
      "Epoch 39/100\n",
      "1/1 [==============================] - 0s 3ms/step - loss: 272.9687 - mse: 4.2579 - z0_kl_loss: 7.6836 - tau_k_kl_loss: 1.6260 - z_k_kl_loss: -0.5750\n",
      "Epoch 40/100\n",
      "1/1 [==============================] - 0s 2ms/step - loss: 267.3648 - mse: 4.1412 - z0_kl_loss: 7.7120 - tau_k_kl_loss: 1.6076 - z_k_kl_loss: -0.5496\n",
      "Epoch 41/100\n",
      "1/1 [==============================] - 0s 7ms/step - loss: 261.1907 - mse: 4.0138 - z0_kl_loss: 7.7393 - tau_k_kl_loss: 1.5939 - z_k_kl_loss: -0.5492\n",
      "Epoch 42/100\n",
      "1/1 [==============================] - 0s 2ms/step - loss: 255.7039 - mse: 3.9011 - z0_kl_loss: 7.7654 - tau_k_kl_loss: 1.5846 - z_k_kl_loss: -0.5772\n",
      "Epoch 43/100\n",
      "1/1 [==============================] - 0s 2ms/step - loss: 249.3891 - mse: 3.7727 - z0_kl_loss: 7.7903 - tau_k_kl_loss: 1.5794 - z_k_kl_loss: -0.6320\n",
      "Epoch 44/100\n",
      "1/1 [==============================] - 0s 2ms/step - loss: 244.1338 - mse: 3.6664 - z0_kl_loss: 7.8143 - tau_k_kl_loss: 1.5778 - z_k_kl_loss: -0.7085\n",
      "Epoch 45/100\n",
      "1/1 [==============================] - 0s 2ms/step - loss: 238.5343 - mse: 3.5536 - z0_kl_loss: 7.8373 - tau_k_kl_loss: 1.5793 - z_k_kl_loss: -0.7968\n",
      "Epoch 46/100\n",
      "1/1 [==============================] - 0s 2ms/step - loss: 233.5639 - mse: 3.4534 - z0_kl_loss: 7.8597 - tau_k_kl_loss: 1.5833 - z_k_kl_loss: -0.8835\n",
      "Epoch 47/100\n",
      "1/1 [==============================] - 0s 2ms/step - loss: 228.7151 - mse: 3.3549 - z0_kl_loss: 7.8817 - tau_k_kl_loss: 1.5888 - z_k_kl_loss: -0.9528\n",
      "Epoch 48/100\n",
      "1/1 [==============================] - 0s 2ms/step - loss: 224.0388 - mse: 3.2587 - z0_kl_loss: 7.9034 - tau_k_kl_loss: 1.5950 - z_k_kl_loss: -0.9889\n",
      "Epoch 49/100\n",
      "1/1 [==============================] - 0s 2ms/step - loss: 219.0849 - mse: 3.1553 - z0_kl_loss: 7.9252 - tau_k_kl_loss: 1.6005 - z_k_kl_loss: -0.9826\n",
      "Epoch 50/100\n",
      "1/1 [==============================] - 0s 2ms/step - loss: 215.5778 - mse: 3.0794 - z0_kl_loss: 7.9473 - tau_k_kl_loss: 1.6038 - z_k_kl_loss: -0.9360\n",
      "Epoch 51/100\n",
      "1/1 [==============================] - 0s 7ms/step - loss: 211.2576 - mse: 2.9867 - z0_kl_loss: 7.9699 - tau_k_kl_loss: 1.6033 - z_k_kl_loss: -0.8678\n",
      "Epoch 52/100\n",
      "1/1 [==============================] - 0s 3ms/step - loss: 206.9898 - mse: 2.8957 - z0_kl_loss: 7.9931 - tau_k_kl_loss: 1.5978 - z_k_kl_loss: -0.8094\n",
      "Epoch 53/100\n",
      "1/1 [==============================] - 0s 2ms/step - loss: 204.1667 - mse: 2.8353 - z0_kl_loss: 8.0170 - tau_k_kl_loss: 1.5870 - z_k_kl_loss: -0.7876\n",
      "Epoch 54/100\n",
      "1/1 [==============================] - 0s 2ms/step - loss: 200.1908 - mse: 2.7538 - z0_kl_loss: 8.0413 - tau_k_kl_loss: 1.5711 - z_k_kl_loss: -0.8059\n",
      "Epoch 55/100\n",
      "1/1 [==============================] - 0s 2ms/step - loss: 196.4498 - mse: 2.6781 - z0_kl_loss: 8.0658 - tau_k_kl_loss: 1.5513 - z_k_kl_loss: -0.8434\n",
      "Epoch 56/100\n",
      "1/1 [==============================] - 0s 2ms/step - loss: 192.7685 - mse: 2.6034 - z0_kl_loss: 8.0902 - tau_k_kl_loss: 1.5292 - z_k_kl_loss: -0.8743\n",
      "Epoch 57/100\n",
      "1/1 [==============================] - 0s 2ms/step - loss: 189.8792 - mse: 2.5440 - z0_kl_loss: 8.1143 - tau_k_kl_loss: 1.5064 - z_k_kl_loss: -0.8855\n",
      "Epoch 58/100\n",
      "1/1 [==============================] - 0s 2ms/step - loss: 186.9229 - mse: 2.4825 - z0_kl_loss: 8.1378 - tau_k_kl_loss: 1.4841 - z_k_kl_loss: -0.8754\n",
      "Epoch 59/100\n",
      "1/1 [==============================] - 0s 2ms/step - loss: 183.8426 - mse: 2.4180 - z0_kl_loss: 8.1604 - tau_k_kl_loss: 1.4635 - z_k_kl_loss: -0.8503\n",
      "Epoch 60/100\n",
      "1/1 [==============================] - 0s 2ms/step - loss: 180.5143 - mse: 2.3483 - z0_kl_loss: 8.1820 - tau_k_kl_loss: 1.4450 - z_k_kl_loss: -0.8192\n",
      "Epoch 61/100\n",
      "1/1 [==============================] - 0s 7ms/step - loss: 177.9568 - mse: 2.2941 - z0_kl_loss: 8.2026 - tau_k_kl_loss: 1.4293 - z_k_kl_loss: -0.7898\n",
      "Epoch 62/100\n",
      "1/1 [==============================] - 0s 2ms/step - loss: 175.2812 - mse: 2.2379 - z0_kl_loss: 8.2221 - tau_k_kl_loss: 1.4163 - z_k_kl_loss: -0.7662\n",
      "Epoch 63/100\n",
      "1/1 [==============================] - 0s 2ms/step - loss: 172.3922 - mse: 2.1777 - z0_kl_loss: 8.2405 - tau_k_kl_loss: 1.4059 - z_k_kl_loss: -0.7508\n",
      "Epoch 64/100\n",
      "1/1 [==============================] - 0s 2ms/step - loss: 169.9563 - mse: 2.1268 - z0_kl_loss: 8.2579 - tau_k_kl_loss: 1.3980 - z_k_kl_loss: -0.7415\n",
      "Epoch 65/100\n",
      "1/1 [==============================] - 0s 2ms/step - loss: 167.6355 - mse: 2.0785 - z0_kl_loss: 8.2744 - tau_k_kl_loss: 1.3920 - z_k_kl_loss: -0.7358\n",
      "Epoch 66/100\n",
      "1/1 [==============================] - 0s 2ms/step - loss: 165.3493 - mse: 2.0309 - z0_kl_loss: 8.2900 - tau_k_kl_loss: 1.3874 - z_k_kl_loss: -0.7301\n",
      "Epoch 67/100\n",
      "1/1 [==============================] - 0s 2ms/step - loss: 163.1107 - mse: 1.9842 - z0_kl_loss: 8.3049 - tau_k_kl_loss: 1.3836 - z_k_kl_loss: -0.7214\n",
      "Epoch 68/100\n",
      "1/1 [==============================] - 0s 2ms/step - loss: 161.6729 - mse: 1.9534 - z0_kl_loss: 8.3193 - tau_k_kl_loss: 1.3799 - z_k_kl_loss: -0.7089\n",
      "Epoch 69/100\n",
      "1/1 [==============================] - 0s 2ms/step - loss: 158.5284 - mse: 1.8885 - z0_kl_loss: 8.3331 - tau_k_kl_loss: 1.3755 - z_k_kl_loss: -0.6927\n",
      "Epoch 70/100\n",
      "1/1 [==============================] - 0s 2ms/step - loss: 156.7357 - mse: 1.8508 - z0_kl_loss: 8.3465 - tau_k_kl_loss: 1.3698 - z_k_kl_loss: -0.6766\n",
      "Epoch 71/100\n",
      "1/1 [==============================] - 0s 7ms/step - loss: 154.9976 - mse: 1.8145 - z0_kl_loss: 8.3597 - tau_k_kl_loss: 1.3624 - z_k_kl_loss: -0.6658\n",
      "Epoch 72/100\n",
      "1/1 [==============================] - 0s 2ms/step - loss: 152.8321 - mse: 1.7702 - z0_kl_loss: 8.3725 - tau_k_kl_loss: 1.3530 - z_k_kl_loss: -0.6627\n",
      "Epoch 73/100\n",
      "1/1 [==============================] - 0s 2ms/step - loss: 151.1642 - mse: 1.7363 - z0_kl_loss: 8.3851 - tau_k_kl_loss: 1.3418 - z_k_kl_loss: -0.6686\n",
      "Epoch 74/100\n",
      "1/1 [==============================] - 0s 2ms/step - loss: 149.1895 - mse: 1.6966 - z0_kl_loss: 8.3973 - tau_k_kl_loss: 1.3291 - z_k_kl_loss: -0.6809\n",
      "Epoch 75/100\n",
      "1/1 [==============================] - 0s 3ms/step - loss: 147.3610 - mse: 1.6601 - z0_kl_loss: 8.4092 - tau_k_kl_loss: 1.3154 - z_k_kl_loss: -0.6960\n",
      "Epoch 76/100\n",
      "1/1 [==============================] - 0s 2ms/step - loss: 145.5882 - mse: 1.6249 - z0_kl_loss: 8.4207 - tau_k_kl_loss: 1.3015 - z_k_kl_loss: -0.7115\n",
      "Epoch 77/100\n",
      "1/1 [==============================] - 0s 2ms/step - loss: 143.7716 - mse: 1.5887 - z0_kl_loss: 8.4318 - tau_k_kl_loss: 1.2878 - z_k_kl_loss: -0.7267\n",
      "Epoch 78/100\n",
      "1/1 [==============================] - 0s 3ms/step - loss: 142.5274 - mse: 1.5641 - z0_kl_loss: 8.4423 - tau_k_kl_loss: 1.2750 - z_k_kl_loss: -0.7423\n",
      "Epoch 79/100\n",
      "1/1 [==============================] - 0s 2ms/step - loss: 140.8628 - mse: 1.5312 - z0_kl_loss: 8.4523 - tau_k_kl_loss: 1.2634 - z_k_kl_loss: -0.7597\n",
      "Epoch 80/100\n",
      "1/1 [==============================] - 0s 2ms/step - loss: 139.6442 - mse: 1.5073 - z0_kl_loss: 8.4617 - tau_k_kl_loss: 1.2534 - z_k_kl_loss: -0.7806\n",
      "Epoch 81/100\n",
      "1/1 [==============================] - 0s 6ms/step - loss: 138.4253 - mse: 1.4836 - z0_kl_loss: 8.4706 - tau_k_kl_loss: 1.2449 - z_k_kl_loss: -0.8056\n",
      "Epoch 82/100\n",
      "1/1 [==============================] - 0s 2ms/step - loss: 136.4723 - mse: 1.4454 - z0_kl_loss: 8.4790 - tau_k_kl_loss: 1.2379 - z_k_kl_loss: -0.8353\n",
      "Epoch 83/100\n",
      "1/1 [==============================] - 0s 2ms/step - loss: 135.2873 - mse: 1.4227 - z0_kl_loss: 8.4870 - tau_k_kl_loss: 1.2323 - z_k_kl_loss: -0.8693\n",
      "Epoch 84/100\n",
      "1/1 [==============================] - 0s 2ms/step - loss: 133.6335 - mse: 1.3908 - z0_kl_loss: 8.4946 - tau_k_kl_loss: 1.2278 - z_k_kl_loss: -0.9065\n",
      "Epoch 85/100\n",
      "1/1 [==============================] - 0s 2ms/step - loss: 132.8374 - mse: 1.3762 - z0_kl_loss: 8.5019 - tau_k_kl_loss: 1.2239 - z_k_kl_loss: -0.9470\n",
      "Epoch 86/100\n",
      "1/1 [==============================] - 0s 2ms/step - loss: 131.1247 - mse: 1.3434 - z0_kl_loss: 8.5090 - tau_k_kl_loss: 1.2202 - z_k_kl_loss: -0.9898\n",
      "Epoch 87/100\n",
      "1/1 [==============================] - 0s 2ms/step - loss: 130.0761 - mse: 1.3241 - z0_kl_loss: 8.5158 - tau_k_kl_loss: 1.2164 - z_k_kl_loss: -1.0360\n",
      "Epoch 88/100\n",
      "1/1 [==============================] - 0s 2ms/step - loss: 128.9356 - mse: 1.3031 - z0_kl_loss: 8.5227 - tau_k_kl_loss: 1.2121 - z_k_kl_loss: -1.0860\n",
      "Epoch 89/100\n",
      "1/1 [==============================] - 0s 2ms/step - loss: 127.4633 - mse: 1.2757 - z0_kl_loss: 8.5294 - tau_k_kl_loss: 1.2071 - z_k_kl_loss: -1.1405\n",
      "Epoch 90/100\n",
      "1/1 [==============================] - 0s 2ms/step - loss: 126.2519 - mse: 1.2538 - z0_kl_loss: 8.5362 - tau_k_kl_loss: 1.2013 - z_k_kl_loss: -1.2004\n",
      "Epoch 91/100\n",
      "1/1 [==============================] - 0s 7ms/step - loss: 125.3152 - mse: 1.2377 - z0_kl_loss: 8.5430 - tau_k_kl_loss: 1.1947 - z_k_kl_loss: -1.2662\n",
      "Epoch 92/100\n",
      "1/1 [==============================] - 0s 3ms/step - loss: 124.5420 - mse: 1.2251 - z0_kl_loss: 8.5498 - tau_k_kl_loss: 1.1877 - z_k_kl_loss: -1.3366\n",
      "Epoch 93/100\n",
      "1/1 [==============================] - 0s 2ms/step - loss: 123.1675 - mse: 1.2006 - z0_kl_loss: 8.5566 - tau_k_kl_loss: 1.1805 - z_k_kl_loss: -1.4110\n",
      "Epoch 94/100\n",
      "1/1 [==============================] - 0s 3ms/step - loss: 122.2483 - mse: 1.1854 - z0_kl_loss: 8.5634 - tau_k_kl_loss: 1.1736 - z_k_kl_loss: -1.4891\n",
      "Epoch 95/100\n",
      "1/1 [==============================] - 0s 2ms/step - loss: 121.3578 - mse: 1.1709 - z0_kl_loss: 8.5702 - tau_k_kl_loss: 1.1672 - z_k_kl_loss: -1.5709\n",
      "Epoch 96/100\n",
      "1/1 [==============================] - 0s 2ms/step - loss: 120.3025 - mse: 1.1534 - z0_kl_loss: 8.5771 - tau_k_kl_loss: 1.1617 - z_k_kl_loss: -1.6578\n",
      "Epoch 97/100\n",
      "1/1 [==============================] - 0s 2ms/step - loss: 119.2733 - mse: 1.1365 - z0_kl_loss: 8.5839 - tau_k_kl_loss: 1.1572 - z_k_kl_loss: -1.7504\n",
      "Epoch 98/100\n",
      "1/1 [==============================] - 0s 2ms/step - loss: 118.1479 - mse: 1.1180 - z0_kl_loss: 8.5908 - tau_k_kl_loss: 1.1537 - z_k_kl_loss: -1.8493\n",
      "Epoch 99/100\n",
      "1/1 [==============================] - 0s 2ms/step - loss: 117.0884 - mse: 1.1009 - z0_kl_loss: 8.5977 - tau_k_kl_loss: 1.1513 - z_k_kl_loss: -1.9542\n",
      "Epoch 100/100\n",
      "1/1 [==============================] - 0s 2ms/step - loss: 116.0231 - mse: 1.0840 - z0_kl_loss: 8.6048 - tau_k_kl_loss: 1.1496 - z_k_kl_loss: -2.0653\n"
     ]
    },
    {
     "data": {
      "text/plain": [
       "<tensorflow.python.keras.callbacks.History at 0x7fca79ead5d0>"
      ]
     },
     "execution_count": 1097,
     "metadata": {},
     "output_type": "execute_result"
    }
   ],
   "source": [
    "current_time = datetime.datetime.now().strftime(\"%Y%m%d-%H%M%S\")\n",
    "np.random.seed(4)\n",
    "model.fit(x=[x_train, gid_train], \n",
    "          y=(x_train*0.2+4.+ 0.2*np.random.randn(len(x_train))[...,tf.newaxis]), \n",
    "          batch_size=50, \n",
    "          epochs=100, \n",
    "         callbacks=[tf.keras.callbacks.TensorBoard(log_dir='../experiments/reg/' + current_time, \n",
    "                                                    profile_batch='5',\n",
    "                                                    histogram_freq=10)])\n"
   ]
  },
  {
   "cell_type": "code",
   "execution_count": 1098,
   "metadata": {},
   "outputs": [
    {
     "name": "stdout",
     "output_type": "stream",
     "text": [
      "kernel/mu_k:0\n",
      "[[ 0.83441734]\n",
      " [ 2.089071  ]\n",
      " [-1.0097547 ]\n",
      " [-1.4385335 ]\n",
      " [ 1.9560344 ]\n",
      " [ 1.840174  ]\n",
      " [-0.5332895 ]\n",
      " [ 1.6452571 ]\n",
      " [ 2.0518682 ]\n",
      " [ 1.6336436 ]]\n",
      "\n",
      "\n",
      "kernel/sigma_k:0\n",
      "[[-4.2714143]\n",
      " [-4.354477 ]\n",
      " [-4.2537813]\n",
      " [-4.658683 ]\n",
      " [-4.2990494]\n",
      " [-4.482695 ]\n",
      " [-4.246948 ]\n",
      " [-3.850448 ]\n",
      " [-4.52718  ]\n",
      " [-4.375024 ]]\n",
      "\n",
      "\n",
      "kernel/mu0:0\n",
      "[0.905346]\n",
      "\n",
      "\n",
      "kernel/sigma0:0\n",
      "[-1.3389193]\n",
      "\n",
      "\n",
      "kernel/tau_k_mu:0\n",
      "[0.893217]\n",
      "\n",
      "\n",
      "kernel/tau_k_sigma:0\n",
      "[-0.04631918]\n",
      "\n",
      "\n",
      "bias/mu_k:0\n",
      "[[1.697501 ]\n",
      " [2.0516033]\n",
      " [1.692329 ]\n",
      " [1.9410629]\n",
      " [2.0961673]\n",
      " [2.0109098]\n",
      " [1.8323202]\n",
      " [1.8839426]\n",
      " [2.0744405]\n",
      " [2.1101747]]\n",
      "\n",
      "\n",
      "bias/sigma_k:0\n",
      "[[-5.561151 ]\n",
      " [-5.4070964]\n",
      " [-5.5803094]\n",
      " [-5.774615 ]\n",
      " [-5.1737623]\n",
      " [-5.1256876]\n",
      " [-5.8266478]\n",
      " [-5.3643117]\n",
      " [-5.3757563]\n",
      " [-5.3647223]]\n",
      "\n",
      "\n",
      "bias/mu0:0\n",
      "[1.9376873]\n",
      "\n",
      "\n",
      "bias/sigma0:0\n",
      "[-4.5012784]\n",
      "\n",
      "\n",
      "bias/tau_k_mu:0\n",
      "[-0.02452884]\n",
      "\n",
      "\n",
      "bias/tau_k_sigma:0\n",
      "[-0.886723]\n",
      "\n",
      "\n",
      "kernel/z0_prior_mean:0\n",
      "0.0\n",
      "\n",
      "\n",
      "kernel/z0_prior_variance:0\n",
      "100.0\n",
      "\n",
      "\n",
      "kernel/tau_k_prior_mean:0\n",
      "1.0\n",
      "\n",
      "\n",
      "kernel/tau_k_prior_variance:0\n",
      "1.0\n",
      "\n",
      "\n",
      "bias/z0_prior_mean:0\n",
      "0.0\n",
      "\n",
      "\n",
      "bias/z0_prior_variance:0\n",
      "100.0\n",
      "\n",
      "\n",
      "bias/tau_k_prior_mean:0\n",
      "1.0\n",
      "\n",
      "\n",
      "bias/tau_k_prior_variance:0\n",
      "1.0\n",
      "\n",
      "\n"
     ]
    }
   ],
   "source": [
    "for w in model.weights:\n",
    "    print(w.name) \n",
    "    print(w.numpy())\n",
    "    print('\\n')"
   ]
  },
  {
   "cell_type": "code",
   "execution_count": 1094,
   "metadata": {},
   "outputs": [
    {
     "data": {
      "image/png": "[encoded data removed]",
      "text/plain": [
       "<Figure size 432x288 with 1 Axes>"
      ]
     },
     "metadata": {
      "needs_background": "light"
     },
     "output_type": "display_data"
    }
   ],
   "source": [
    "np.random.seed(4)\n",
    "for i in range(ng):\n",
    "    tmp = get_segments(x_train, gid_train, i)\n",
    "    plt.scatter(tmp,tmp*0.2+4.+0.2*np.random.randn(len(tmp))[...,tf.newaxis])"
   ]
  },
  {
   "cell_type": "code",
   "execution_count": 1092,
   "metadata": {},
   "outputs": [
    {
     "data": {
      "text/html": [
       "\n",
       "      <iframe id=\"tensorboard-frame-6269c1dfe7ef4164\" width=\"100%\" height=\"800\" frameborder=\"0\">\n",
       "      </iframe>\n",
       "      <script>\n",
       "        (function() {\n",
       "          const frame = document.getElementById(\"tensorboard-frame-6269c1dfe7ef4164\");\n",
       "          const url = new URL(\"/\", window.location);\n",
       "          url.port = 6008;\n",
       "          frame.src = url;\n",
       "        })();\n",
       "      </script>\n",
       "  "
      ],
      "text/plain": [
       "<IPython.core.display.HTML object>"
      ]
     },
     "metadata": {},
     "output_type": "display_data"
    }
   ],
   "source": [
    "%tensorboard --logdir=../experiments/reg/ "
   ]
  },
  {
   "cell_type": "code",
   "execution_count": null,
   "metadata": {},
   "outputs": [],
   "source": []
  },
  {
   "cell_type": "code",
   "execution_count": null,
   "metadata": {},
   "outputs": [],
   "source": []
  },
  {
   "cell_type": "code",
   "execution_count": null,
   "metadata": {},
   "outputs": [],
   "source": []
  }
 ],
 "metadata": {
  "kernelspec": {
   "display_name": "Python 3",
   "language": "python",
   "name": "python3"
  },
  "language_info": {
   "codemirror_mode": {
    "name": "ipython",
    "version": 3
   },
   "file_extension": ".py",
   "mimetype": "text/x-python",
   "name": "python",
   "nbconvert_exporter": "python",
   "pygments_lexer": "ipython3",
   "version": "3.7.4"
  }
 },
 "nbformat": 4,
 "nbformat_minor": 4
}
