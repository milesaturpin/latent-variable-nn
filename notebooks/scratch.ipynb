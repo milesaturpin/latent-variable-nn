{
 "cells": [
  {
   "cell_type": "code",
   "execution_count": 13,
   "metadata": {},
   "outputs": [],
   "source": [
    "import tensorflow as tf\n",
    "import tensorflow_probability as tfp\n",
    "import numpy as np\n",
    "\n",
    "tfd = tfp.distributions\n",
    "\n"
   ]
  },
  {
   "cell_type": "code",
   "execution_count": 43,
   "metadata": {},
   "outputs": [
    {
     "data": {
      "text/plain": [
       "0.5413248546129181"
      ]
     },
     "execution_count": 43,
     "metadata": {},
     "output_type": "execute_result"
    }
   ],
   "source": [
    "c = np.log(np.expm1(1.))\n",
    "c"
   ]
  },
  {
   "cell_type": "code",
   "execution_count": 42,
   "metadata": {},
   "outputs": [
    {
     "data": {
      "text/plain": [
       "<tf.Tensor: id=927, shape=(12, 4), dtype=float64, numpy=\n",
       "array([[ 0.36703832, -1.70379857, -1.10698914,  1.16562992],\n",
       "       [ 0.20900578, -0.28255743,  0.11396599,  0.43205455],\n",
       "       [ 0.05073713,  0.49162993,  0.15200601, -0.08125023],\n",
       "       [ 0.22375872, -0.09579545, -0.0381696 ,  0.29882579],\n",
       "       [ 0.17290477,  0.12262933, -0.19743183, -0.08979189],\n",
       "       [-0.66357466, -0.88756377,  0.34494701, -0.0289138 ],\n",
       "       [-1.50206008,  0.01201194,  0.25424973, -2.25047018],\n",
       "       [ 0.02100421,  0.01596982,  0.06085757, -0.02537529],\n",
       "       [ 0.2533604 ,  0.02516034, -0.34893812,  0.13302887],\n",
       "       [ 0.04456626,  0.42969639, -0.965884  ,  0.27591499],\n",
       "       [-3.48460223, -1.29490439,  0.74429302,  1.13171027],\n",
       "       [-0.73885167,  0.69469092, -0.25126293, -0.60388343]])>"
      ]
     },
     "execution_count": 42,
     "metadata": {},
     "output_type": "execute_result"
    }
   ],
   "source": [
    "w = tf.Variable(np.random.randn(12,4,1))\n",
    "x = tf.Variable(np.random.randn(12,1))\n",
    "einsum_matrix_mult = 'Bup,Bp->Bu'.format('Bup')\n",
    "#x = tf.einsum(einsum_matrix_mult, w, x)\n",
    "tf.einsum(einsum_matrix_mult, w, x)"
   ]
  },
  {
   "cell_type": "code",
   "execution_count": 10,
   "metadata": {},
   "outputs": [],
   "source": [
    "n=4\n",
    "c=1\n",
    "posterior = tf.keras.Sequential([\n",
    "            tfp.layers.VariableLayer([20,2 * n]),\n",
    "            tfp.layers.DistributionLambda(lambda t: tfd.Independent(\n",
    "                tfd.Normal(loc=t[..., :n],\n",
    "                           scale=1e-5 + tf.nn.softplus(c + t[..., n:])),\n",
    "                reinterpreted_batch_ndims=1)),\n",
    "        ])"
   ]
  },
  {
   "cell_type": "code",
   "execution_count": 20,
   "metadata": {},
   "outputs": [
    {
     "data": {
      "text/plain": [
       "<tfp.distributions.Independent 'Independentsequential_1/distribution_lambda_1/Normal/' batch_shape=[20] event_shape=[4] dtype=float32>"
      ]
     },
     "execution_count": 20,
     "metadata": {},
     "output_type": "execute_result"
    }
   ],
   "source": [
    "posterior(3)"
   ]
  },
  {
   "cell_type": "code",
   "execution_count": 19,
   "metadata": {},
   "outputs": [
    {
     "data": {
      "text/plain": [
       "<tfp.distributions.Independent 'Independentsequential_1/distribution_lambda_1/Normal/' batch_shape=[20] event_shape=[4] dtype=float32>"
      ]
     },
     "execution_count": 19,
     "metadata": {},
     "output_type": "execute_result"
    }
   ],
   "source": [
    "tf.gather(posterior(3), np.array([2]))"
   ]
  },
  {
   "cell_type": "code",
   "execution_count": 30,
   "metadata": {},
   "outputs": [
    {
     "data": {
      "text/plain": [
       "<tf.Tensor: id=790, shape=(2,), dtype=float32, numpy=array([1.167518, 1.167518], dtype=float32)>"
      ]
     },
     "execution_count": 30,
     "metadata": {},
     "output_type": "execute_result"
    }
   ],
   "source": [
    "tfd.kl_divergence(tfd.Normal([0.,0.],tf.nn.softplus([1.,1.])), tfd.Normal(3.,tf.nn.softplus(2.)))"
   ]
  },
  {
   "cell_type": "code",
   "execution_count": 28,
   "metadata": {},
   "outputs": [],
   "source": [
    "def compute_kl( mu1, sigma1, mu2, sigma2):\n",
    "    sigma1_plus = tf.nn.softplus(sigma1)\n",
    "    sigma2_plus = tf.nn.softplus(sigma2)\n",
    "    kl = (\n",
    "        tf.math.log(sigma2_plus/sigma1_plus)\n",
    "        + (sigma1_plus**2 + (mu1-mu2)**2)/(2*sigma2_plus**2)\n",
    "        - 0.5)\n",
    "\n",
    "    return kl"
   ]
  },
  {
   "cell_type": "code",
   "execution_count": 34,
   "metadata": {},
   "outputs": [
    {
     "data": {
      "text/plain": [
       "<tf.Tensor: id=829, shape=(2,), dtype=float32, numpy=array([1.167518, 1.167518], dtype=float32)>"
      ]
     },
     "execution_count": 34,
     "metadata": {},
     "output_type": "execute_result"
    }
   ],
   "source": [
    "compute_kl(np.array([0.,0.],dtype=np.float32),np.array([1.,1.],dtype=np.float32),3.,2.)"
   ]
  },
  {
   "cell_type": "code",
   "execution_count": null,
   "metadata": {},
   "outputs": [],
   "source": []
  }
 ],
 "metadata": {
  "kernelspec": {
   "display_name": "Python 3",
   "language": "python",
   "name": "python3"
  },
  "language_info": {
   "codemirror_mode": {
    "name": "ipython",
    "version": 3
   },
   "file_extension": ".py",
   "mimetype": "text/x-python",
   "name": "python",
   "nbconvert_exporter": "python",
   "pygments_lexer": "ipython3",
   "version": "3.7.4"
  }
 },
 "nbformat": 4,
 "nbformat_minor": 4
}
