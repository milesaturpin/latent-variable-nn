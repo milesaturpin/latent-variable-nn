{
 "cells": [
  {
   "cell_type": "code",
   "execution_count": 118,
   "metadata": {},
   "outputs": [],
   "source": [
    "import os\n",
    "import string\n",
    "import numpy as np\n",
    "import matplotlib.pyplot as plt\n",
    "import tensorflow as tf\n",
    "import tensorflow_probability as tfp\n",
    "from tensorflow.keras.utils import to_categorical\n",
    "from tensorflow.keras.layers import Input, Dense, Lambda, Conv2D, Flatten, MaxPooling2D, Conv2DTranspose, Reshape, concatenate\n",
    "from tensorflow.keras.models import Model, Sequential\n",
    "\n",
    "tfd = tfp.distributions"
   ]
  },
  {
   "cell_type": "code",
   "execution_count": 263,
   "metadata": {},
   "outputs": [],
   "source": [
    "data_size = 'small'\n",
    "data_path = os.path.join('..', 'data', 'femnist', data_size)\n",
    "x_train = np.load(f'../data/femnist/{data_size}/x_train.npy')\n",
    "y_train = np.load(f'../data/femnist/{data_size}/y_train.npy')\n",
    "y_train = to_categorical(y_train)\n",
    "gid_train = np.load(f'../data/femnist/{data_size}/gid_train.npy')\n",
    "x_test = np.load(f'../data/femnist/{data_size}/x_test.npy')\n",
    "y_test = np.load(f'../data/femnist/{data_size}/y_test.npy')\n",
    "y_test = to_categorical(y_test)\n",
    "gid_test = np.load(f'../data/femnist/{data_size}/gid_test.npy')\n",
    "\n",
    "x_train[x_train >= .5] = 1.\n",
    "x_train[x_train < .5] = 0.\n",
    "x_test[x_test >= .5] = 1.\n",
    "x_test[x_test < .5] = 0."
   ]
  },
  {
   "cell_type": "code",
   "execution_count": 264,
   "metadata": {},
   "outputs": [
    {
     "data": {
      "text/plain": [
       "[dtype('float32'),\n",
       " dtype('float32'),\n",
       " dtype('float32'),\n",
       " dtype('int32'),\n",
       " dtype('float32'),\n",
       " dtype('float32'),\n",
       " dtype('float32'),\n",
       " dtype('int32')]"
      ]
     },
     "execution_count": 264,
     "metadata": {},
     "output_type": "execute_result"
    }
   ],
   "source": [
    "[x.dtype for x in [x_train, y_train, y_train, gid_train, x_test, y_test, y_test, gid_test]]"
   ]
  },
  {
   "cell_type": "code",
   "execution_count": 265,
   "metadata": {},
   "outputs": [
    {
     "data": {
      "text/plain": [
       "((35535, 784), (35535, 62))"
      ]
     },
     "execution_count": 265,
     "metadata": {},
     "output_type": "execute_result"
    }
   ],
   "source": [
    "x_train.shape, y_train.shape"
   ]
  },
  {
   "cell_type": "code",
   "execution_count": null,
   "metadata": {},
   "outputs": [],
   "source": []
  },
  {
   "cell_type": "code",
   "execution_count": 399,
   "metadata": {},
   "outputs": [],
   "source": [
    "def var_posterior(args):\n",
    "    mu, log_sigma = args\n",
    "    posterior = tfd.MultivariateNormalDiag(\n",
    "        loc=mu,  \n",
    "        #scale_diag=tf.exp(log_sigma / 2)\n",
    "        scale_diag=tf.nn.softplus(log_sigma + 0.55)\n",
    "    )\n",
    "    return posterior"
   ]
  },
  {
   "cell_type": "markdown",
   "metadata": {},
   "source": [
    "## VAE"
   ]
  },
  {
   "cell_type": "code",
   "execution_count": 474,
   "metadata": {},
   "outputs": [],
   "source": [
    "z_dim = 10\n",
    "\n",
    "# Encoder\n",
    "X = Input(shape=(784,))\n",
    "x = Reshape(target_shape=(28,28,1))(X)\n",
    "x = Conv2D(filters=32, kernel_size=3, strides=(2, 2), activation='relu')(x)\n",
    "x = Conv2D(filters=64, kernel_size=3, strides=(2, 2), activation='relu')(x)\n",
    "x = Flatten()(x)\n",
    "#x = Dense(512)(X)\n",
    "mu = Dense(z_dim)(x)\n",
    "log_sigma = Dense(z_dim)(x)\n",
    "\n",
    "encoder = Model(inputs=X, outputs=[mu, log_sigma])\n",
    "\n",
    "# Decoder\n",
    "z = Input(shape=(z_dim,))\n",
    "x = Dense(units=7*7*32, activation='relu')(z)\n",
    "x = Reshape(target_shape=(7, 7, 32))(x)\n",
    "x = Conv2DTranspose(filters=64, kernel_size=3, strides=(2, 2), padding=\"SAME\", activation='relu')(x)\n",
    "x = Conv2DTranspose(filters=32, kernel_size=3, strides=(2, 2), padding=\"SAME\", activation='relu')(x)\n",
    "# No activation\n",
    "x = Conv2DTranspose(filters=1, kernel_size=3, strides=(1, 1), padding=\"SAME\")(x)\n",
    "x = tf.nn.sigmoid(x)\n",
    "x_recon = Flatten()(x)\n",
    "#x = Dense(512)(z)\n",
    "#x_recon = Dense(784)(z)\n",
    "\n",
    "decoder = Model(inputs=z, outputs=x_recon)\n",
    "\n",
    "# VAE\n",
    "X = Input(shape=(784,))\n",
    "mu, log_sigma = encoder(X)\n",
    "z = Lambda(lambda args: var_posterior(args).sample())([mu, log_sigma])\n",
    "x_recon = decoder(z)\n",
    "VAE = Model(inputs=X, outputs=x_recon)"
   ]
  },
  {
   "cell_type": "code",
   "execution_count": 466,
   "metadata": {},
   "outputs": [
    {
     "name": "stdout",
     "output_type": "stream",
     "text": [
      "35535/35535 [==============================] - 22s 623us/sample - loss: 0.2143\n"
     ]
    },
    {
     "data": {
      "text/plain": [
       "<tensorflow.python.keras.callbacks.History at 0xb705ba978>"
      ]
     },
     "execution_count": 466,
     "metadata": {},
     "output_type": "execute_result"
    }
   ],
   "source": [
    "# TODO: make better\n",
    "batch_size = 400\n",
    "\n",
    "def vae_loss(y_true, y_pred):\n",
    "    \"\"\" Calculate loss = reconstruction loss + KL loss for each data in minibatch \"\"\"\n",
    "    # E[log P(X|z)]\n",
    "    recon = tf.keras.losses.binary_crossentropy(y_true, y_pred)\n",
    "    # D_KL(Q(z|X) || P(z|X)); calculate in closed from as both dist. are Gaussian\n",
    "    z_prior = tfd.MultivariateNormalDiag(\n",
    "        loc=np.zeros((z_dim,), dtype=np.float32), \n",
    "        scale_diag=np.ones((z_dim,), dtype=np.float32))\n",
    "    \n",
    "    kl = tfd.kl_divergence(var_posterior([mu, log_sigma]), z_prior)\n",
    "    #kl = z_prior.log_prob(var_posterior([mu, log_sigma]).sample())\n",
    "    \n",
    "    minibatch_factor = batch_size / x_train.shape[0]\n",
    "    return recon + kl * minibatch_factor\n",
    "\n",
    "optimizer = tf.keras.optimizers.Adam(learning_rate=0.001)\n",
    "#loss_fn = tf.keras.losses.BinaryCrossentropy()\n",
    "VAE.compile(optimizer=optimizer, loss=vae_loss)\n",
    "\n",
    "VAE.fit(x=x_train[:100000], y=x_train[:100000], batch_size=batch_size, epochs=1)"
   ]
  },
  {
   "cell_type": "code",
   "execution_count": 467,
   "metadata": {},
   "outputs": [
    {
     "name": "stdout",
     "output_type": "stream",
     "text": [
      "Model: \"model_176\"\n",
      "__________________________________________________________________________________________________\n",
      "Layer (type)                    Output Shape         Param #     Connected to                     \n",
      "==================================================================================================\n",
      "input_230 (InputLayer)          [(None, 784)]        0                                            \n",
      "__________________________________________________________________________________________________\n",
      "model_174 (Model)               [(None, 10), (None,  23956       input_230[0][0]                  \n",
      "__________________________________________________________________________________________________\n",
      "lambda_56 (Lambda)              (None, 10)           0           model_174[1][0]                  \n",
      "                                                                 model_174[1][1]                  \n",
      "__________________________________________________________________________________________________\n",
      "model_175 (Model)               (None, 784)          54497       lambda_56[0][0]                  \n",
      "==================================================================================================\n",
      "Total params: 78,453\n",
      "Trainable params: 78,453\n",
      "Non-trainable params: 0\n",
      "__________________________________________________________________________________________________\n"
     ]
    }
   ],
   "source": [
    "VAE.summary()"
   ]
  },
  {
   "cell_type": "code",
   "execution_count": 468,
   "metadata": {},
   "outputs": [
    {
     "data": {
      "text/plain": [
       "<tf.Tensor: id=478123, shape=(2, 10), dtype=float32, numpy=\n",
       "array([[-0.30681145, -0.21224268, -0.2819363 , -0.4138584 , -0.14393419,\n",
       "        -0.06950907, -0.1124088 , -0.31358206,  0.00221568, -0.34418556],\n",
       "       [-0.3068115 , -0.21224268, -0.28193632, -0.41385838, -0.14393419,\n",
       "        -0.06950908, -0.1124088 , -0.31358206,  0.00221567, -0.34418556]],\n",
       "      dtype=float32)>"
      ]
     },
     "execution_count": 468,
     "metadata": {},
     "output_type": "execute_result"
    }
   ],
   "source": [
    "encoder(x_train[:2])[1]"
   ]
  },
  {
   "cell_type": "code",
   "execution_count": 469,
   "metadata": {},
   "outputs": [
    {
     "data": {
      "text/plain": [
       "<tf.Tensor: id=478268, shape=(2, 784), dtype=float32, numpy=\n",
       "array([[0.95666933, 0.9928971 , 0.99702096, ..., 0.99982977, 0.99942946,\n",
       "        0.993613  ],\n",
       "       [0.95666933, 0.9928971 , 0.99702096, ..., 0.99982977, 0.99942946,\n",
       "        0.993613  ]], dtype=float32)>"
      ]
     },
     "execution_count": 469,
     "metadata": {},
     "output_type": "execute_result"
    }
   ],
   "source": [
    "decoder(encoder(x_train[:2]))"
   ]
  },
  {
   "cell_type": "code",
   "execution_count": 470,
   "metadata": {},
   "outputs": [],
   "source": [
    "latent_means = encoder(x_train[:1000])[1]\n",
    "from sklearn.decomposition import PCA\n",
    "from sklearn.manifold import TSNE\n",
    "\n",
    "pca = PCA()\n",
    "pca_latent_means = pca.fit_transform(latent_means)\n",
    "#tsne = TSNE()\n",
    "#tsne_latent_means = tsne.fit_transform(latent_means)"
   ]
  },
  {
   "cell_type": "code",
   "execution_count": 471,
   "metadata": {},
   "outputs": [
    {
     "data": {
      "text/plain": [
       "<matplotlib.collections.PathCollection at 0xb724b3c88>"
      ]
     },
     "execution_count": 471,
     "metadata": {},
     "output_type": "execute_result"
    },
    {
     "data": {
      "image/png": "[encoded data removed]",
      "text/plain": [
       "<Figure size 432x288 with 1 Axes>"
      ]
     },
     "metadata": {
      "needs_background": "light"
     },
     "output_type": "display_data"
    }
   ],
   "source": [
    "plt.scatter(pca_latent_means[:,0],pca_latent_means[:,1], s=5, c=y_train[:1000].argmax(axis=1))"
   ]
  },
  {
   "cell_type": "code",
   "execution_count": 472,
   "metadata": {},
   "outputs": [
    {
     "data": {
      "image/png": "[encoded data removed]",
      "text/plain": [
       "<Figure size 432x288 with 1 Axes>"
      ]
     },
     "metadata": {
      "needs_background": "light"
     },
     "output_type": "display_data"
    }
   ],
   "source": [
    "gen = decoder(\n",
    "    tfd.MultivariateNormalDiag(\n",
    "        loc=np.zeros((1,z_dim), dtype=np.float32), \n",
    "        scale_diag=np.ones((1,z_dim), dtype=np.float32)).sample())\n",
    "\n",
    "# `1 -` to reverse color\n",
    "plt.imshow(1 - gen.numpy().reshape((28,28)),\n",
    "    cmap='gray');"
   ]
  },
  {
   "cell_type": "code",
   "execution_count": 473,
   "metadata": {},
   "outputs": [
    {
     "data": {
      "image/png": "[encoded data removed]",
      "text/plain": [
       "<Figure size 432x288 with 1 Axes>"
      ]
     },
     "metadata": {
      "needs_background": "light"
     },
     "output_type": "display_data"
    }
   ],
   "source": [
    "# `1 -` to reverse color\n",
    "plt.imshow(1 - decoder(encoder(x_train[:2]))[1].numpy().reshape((28,28)),\n",
    "    cmap='gray');"
   ]
  },
  {
   "cell_type": "code",
   "execution_count": 207,
   "metadata": {},
   "outputs": [
    {
     "data": {
      "text/plain": [
       "[(3, 3, 1, 32),\n",
       " (32,),\n",
       " (3, 3, 32, 64),\n",
       " (64,),\n",
       " (2304, 10),\n",
       " (10,),\n",
       " (2304, 10),\n",
       " (10,),\n",
       " (10, 1568),\n",
       " (1568,),\n",
       " (3, 3, 64, 32),\n",
       " (64,),\n",
       " (3, 3, 32, 64),\n",
       " (32,),\n",
       " (3, 3, 1, 32),\n",
       " (1,)]"
      ]
     },
     "execution_count": 207,
     "metadata": {},
     "output_type": "execute_result"
    }
   ],
   "source": [
    "[x.shape for x in VAE.get_weights()]"
   ]
  },
  {
   "cell_type": "markdown",
   "metadata": {},
   "source": [
    "## MLP CVAE"
   ]
  },
  {
   "cell_type": "code",
   "execution_count": 475,
   "metadata": {},
   "outputs": [],
   "source": [
    "z_dim = 20\n",
    "\n",
    "# Encoder\n",
    "X = Input(shape=(784,))\n",
    "cond = Input(shape=(62,))\n",
    "encoder_inputs = concatenate([X, cond])\n",
    "x = Dense(512, activation='relu')(encoder_inputs)\n",
    "mu = Dense(z_dim, activation='linear')(x)\n",
    "log_sigma = Dense(z_dim, activation='linear')(x)\n",
    "\n",
    "encoder = Model(inputs=[X, cond], outputs=[mu, log_sigma])\n",
    "\n",
    "# Decoder\n",
    "z = Input(shape=(z_dim,))\n",
    "z_cond = concatenate([z, cond])\n",
    "x = Dense(512, activation='relu')(z_cond)\n",
    "decoder_out = Dense(784+62, activation='sigmoid')(x)\n",
    "x_recon, y_recon = tf.split(decoder_out, [784, 62], 1)\n",
    "\n",
    "decoder = Model(inputs=[z, cond], outputs=[x_recon, y_recon])\n",
    "\n",
    "# CVAE\n",
    "X = Input(shape=(784,))\n",
    "cond = Input(shape=(62,))\n",
    "mu, log_sigma = encoder([X, cond])\n",
    "z = Lambda(lambda args: var_posterior(args).sample())([mu, log_sigma])\n",
    "x_recon, y_recon = decoder([z, cond])\n",
    "\n",
    "CVAE = Model(inputs=[X, cond], outputs=[x_recon, y_recon])"
   ]
  },
  {
   "cell_type": "code",
   "execution_count": 476,
   "metadata": {},
   "outputs": [],
   "source": [
    "optimizer = tf.keras.optimizers.Adam(learning_rate=0.004)\n",
    "loss_fn = tf.keras.losses.BinaryCrossentropy()\n",
    "CVAE.compile(optimizer=optimizer, loss=loss_fn)"
   ]
  },
  {
   "cell_type": "code",
   "execution_count": 477,
   "metadata": {},
   "outputs": [
    {
     "name": "stdout",
     "output_type": "stream",
     "text": [
      "Epoch 1/10\n",
      "35535/35535 [==============================] - 5s 128us/sample - loss: 0.1120 - model_181_loss: 0.0376\n",
      "Epoch 2/10\n",
      "35535/35535 [==============================] - 4s 109us/sample - loss: 0.0456 - model_181_loss: 0.0011\n",
      "Epoch 3/10\n",
      "35535/35535 [==============================] - 4s 124us/sample - loss: 0.0352 - model_181_loss: 3.9483e-04\n",
      "Epoch 4/10\n",
      "35535/35535 [==============================] - 4s 125us/sample - loss: 0.0302 - model_181_loss: 2.4809e-04\n",
      "Epoch 5/10\n",
      "35535/35535 [==============================] - 4s 115us/sample - loss: 0.0273 - model_181_loss: 1.7024e-04\n",
      "Epoch 6/10\n",
      "35535/35535 [==============================] - 5s 129us/sample - loss: 0.0253 - model_181_loss: 1.2510e-04\n",
      "Epoch 7/10\n",
      "35535/35535 [==============================] - 4s 118us/sample - loss: 0.0242 - model_181_loss: 1.0286e-04\n",
      "Epoch 8/10\n",
      "35535/35535 [==============================] - 4s 124us/sample - loss: 0.0230 - model_181_loss: 8.4183e-05\n",
      "Epoch 9/10\n",
      "35535/35535 [==============================] - 5s 129us/sample - loss: 0.0220 - model_181_loss: 6.8950e-05\n",
      "Epoch 10/10\n",
      "35535/35535 [==============================] - 5s 130us/sample - loss: 0.0214 - model_181_loss: 5.9930e-05\n"
     ]
    },
    {
     "data": {
      "text/plain": [
       "<tensorflow.python.keras.callbacks.History at 0xb72f08f60>"
      ]
     },
     "execution_count": 477,
     "metadata": {},
     "output_type": "execute_result"
    }
   ],
   "source": [
    "CVAE.fit(x=[x_train,y_train], y=[x_train,y_train], batch_size=200, epochs=10)"
   ]
  },
  {
   "cell_type": "code",
   "execution_count": 478,
   "metadata": {},
   "outputs": [],
   "source": [
    "def generate_class(y_conds):\n",
    "    return decoder([\n",
    "        tfd.Normal(loc=np.zeros((1,z_dim), dtype=np.float32), scale=np.ones((1,z_dim), dtype=np.float32)).sample(), \n",
    "        to_categorical(np.array(y_conds, dtype=np.float32), num_classes=62)])"
   ]
  },
  {
   "cell_type": "code",
   "execution_count": 479,
   "metadata": {},
   "outputs": [],
   "source": [
    "labels = string.digits + string.ascii_uppercase + string.ascii_lowercase "
   ]
  },
  {
   "cell_type": "code",
   "execution_count": 505,
   "metadata": {},
   "outputs": [
    {
     "name": "stdout",
     "output_type": "stream",
     "text": [
      "A\n"
     ]
    },
    {
     "data": {
      "image/png": "[encoded data removed]",
      "text/plain": [
       "<Figure size 432x288 with 1 Axes>"
      ]
     },
     "metadata": {
      "needs_background": "light"
     },
     "output_type": "display_data"
    }
   ],
   "source": [
    "y_conds = [10]\n",
    "idx = 0\n",
    "print(labels[y_conds[idx]])\n",
    "# `1 -` to reverse color\n",
    "plt.imshow(1 - generate_class(y_conds)[idx].numpy().reshape((28,28)),\n",
    "    cmap='gray');"
   ]
  },
  {
   "cell_type": "markdown",
   "metadata": {},
   "source": [
    "## CNN CVAE"
   ]
  },
  {
   "cell_type": "code",
   "execution_count": null,
   "metadata": {},
   "outputs": [],
   "source": []
  }
 ],
 "metadata": {
  "kernelspec": {
   "display_name": "latent",
   "language": "python",
   "name": "latent"
  },
  "language_info": {
   "codemirror_mode": {
    "name": "ipython",
    "version": 3
   },
   "file_extension": ".py",
   "mimetype": "text/x-python",
   "name": "python",
   "nbconvert_exporter": "python",
   "pygments_lexer": "ipython3",
   "version": "3.5.6"
  }
 },
 "nbformat": 4,
 "nbformat_minor": 2
}
