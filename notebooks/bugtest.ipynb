{
 "cells": [
  {
   "cell_type": "code",
   "execution_count": 420,
   "metadata": {},
   "outputs": [],
   "source": [
    "import tensorflow as tf\n",
    "import tensorflow_probability as tfp\n",
    "tfd = tfp.distributions \n",
    "import numpy as np\n",
    "\n",
    "from tensorflow.keras.models import Model\n",
    "from tensorflow.keras.layers import Dense, Input"
   ]
  },
  {
   "cell_type": "code",
   "execution_count": 421,
   "metadata": {},
   "outputs": [
    {
     "data": {
      "text/plain": [
       "<tf.Tensor: shape=(10, 1), dtype=float64, numpy=\n",
       "array([[ 3.4109625 ],\n",
       "       [-0.76112431],\n",
       "       [ 0.48006925],\n",
       "       [-1.83191827],\n",
       "       [ 1.08969601],\n",
       "       [-1.26720735],\n",
       "       [-1.65296943],\n",
       "       [-0.02976456],\n",
       "       [ 3.31460695],\n",
       "       [ 0.80289594]])>"
      ]
     },
     "execution_count": 421,
     "metadata": {},
     "output_type": "execute_result"
    }
   ],
   "source": [
    "tf.matmul(np.random.randn(10,3), np.random.randn(3,1))"
   ]
  },
  {
   "cell_type": "code",
   "execution_count": 422,
   "metadata": {},
   "outputs": [
    {
     "data": {
      "text/plain": [
       "<tf.Tensor: shape=(20, 10), dtype=float32, numpy=\n",
       "array([[ 5.1593208e-01,  2.6104140e-01,  8.6369559e-02,  2.4951875e-01,\n",
       "         1.6564128e-01,  1.3348212e+00, -7.9781890e-02, -3.5307246e-01,\n",
       "         5.4648530e-01, -6.1291951e-01],\n",
       "       [-1.0573052e-01,  5.8942366e-02, -6.6476643e-01,  5.8033776e-01,\n",
       "         4.3039382e-01, -2.5066190e+00,  1.8957260e-01,  1.2130514e+00,\n",
       "        -7.9454148e-01,  1.5436103e+00],\n",
       "       [ 1.2663823e+00,  7.9205292e-01, -6.5879077e-01,  1.4622597e+00,\n",
       "         1.0314589e+00,  2.7123299e-01,  3.7285637e-02,  6.6845578e-01,\n",
       "         4.2283610e-01,  4.0383461e-01],\n",
       "       [ 3.7207988e-01,  3.4152952e-01, -8.1977254e-01,  1.0407503e+00,\n",
       "         7.5242907e-01, -2.0814068e+00,  1.7859469e-01,  1.3003315e+00,\n",
       "        -5.3631562e-01,  1.4909524e+00],\n",
       "       [ 8.0117995e-01,  2.8915757e-01,  8.0288547e-01, -2.6517391e-01,\n",
       "        -2.2268820e-01,  4.3807673e+00, -3.0292287e-01, -1.7272242e+00,\n",
       "         1.5540621e+00, -2.4173419e+00],\n",
       "       [ 1.7577991e+00,  1.0594336e+00, -6.8438923e-01,  1.8051866e+00,\n",
       "         1.2666333e+00,  1.1703819e+00, -9.8295771e-03,  5.2231061e-01,\n",
       "         8.2957536e-01,  5.6415748e-02],\n",
       "       [-8.5789531e-02, -3.1404436e-01,  1.5431297e+00, -1.5614448e+00,\n",
       "        -1.1452079e+00,  5.1530576e+00, -4.0368167e-01, -2.6869495e+00,\n",
       "         1.5520291e+00, -3.3112233e+00],\n",
       "       [-9.8651484e-02,  1.0150065e-01, -8.8788712e-01,  8.0266124e-01,\n",
       "         5.9362966e-01, -3.2623992e+00,  2.4852565e-01,  1.6036295e+00,\n",
       "        -1.0236492e+00,  2.0267518e+00],\n",
       "       [-7.8987789e-01, -4.7744834e-01,  3.1550685e-01, -8.1895196e-01,\n",
       "        -5.7489049e-01, -4.9840519e-01,  2.2827485e-03, -2.4875773e-01,\n",
       "        -3.6436528e-01, -4.2821653e-02],\n",
       "       [-3.9250168e-01, -2.2132964e-01,  6.5154642e-02, -3.1753197e-01,\n",
       "        -2.1992052e-01, -5.6386995e-01,  2.5662849e-02,  3.7912354e-02,\n",
       "        -2.7770805e-01,  1.7951204e-01],\n",
       "       [-2.4426641e-01, -1.5432898e-02, -6.6331834e-01,  4.8929214e-01,\n",
       "         3.6823496e-01, -2.7800062e+00,  2.0439914e-01,  1.2644204e+00,\n",
       "        -9.1529053e-01,  1.6541926e+00],\n",
       "       [-6.4368263e-02, -1.3498935e-01,  5.7864827e-01, -6.0634857e-01,\n",
       "        -4.4363964e-01,  1.8676095e+00, -1.4783789e-01, -9.9502933e-01,\n",
       "         5.5356580e-01, -1.2152151e+00],\n",
       "       [-6.0454702e-01, -4.7902414e-01,  8.9523685e-01, -1.2648015e+00,\n",
       "        -9.0914333e-01,  1.8747022e+00, -1.7326702e-01, -1.3428833e+00,\n",
       "         4.1073468e-01, -1.4654423e+00],\n",
       "       [ 2.8531277e-01,  3.6185244e-01, -1.2038976e+00,  1.3594797e+00,\n",
       "         9.8979938e-01, -3.5814064e+00,  2.9095572e-01,  2.0112669e+00,\n",
       "        -1.0180887e+00,  2.4039843e+00],\n",
       "       [ 1.6935148e+00,  9.8957461e-01, -4.8030007e-01,  1.5644244e+00,\n",
       "         1.0918165e+00,  1.7455300e+00, -5.7405427e-02,  1.8754861e-01,\n",
       "         9.8811656e-01, -3.3804649e-01],\n",
       "       [-2.1712729e-01, -6.1944455e-02, -3.1208447e-01,  1.6408217e-01,\n",
       "         1.2816072e-01, -1.5133379e+00,  1.0739170e-01,  6.3467658e-01,\n",
       "        -5.2084219e-01,  8.6220187e-01],\n",
       "       [ 1.2797712e+00,  1.0796956e+00, -2.2729142e+00,  3.0461442e+00,\n",
       "         2.1956704e+00, -5.2723160e+00,  4.6792376e-01,  3.5087380e+00,\n",
       "        -1.2679831e+00,  3.9300859e+00],\n",
       "       [ 1.8159004e+00,  1.1061003e+00, -7.7404767e-01,  1.9302758e+00,\n",
       "         1.3566061e+00,  9.7771752e-01,  7.7916537e-03,  6.5775251e-01,\n",
       "         7.8628260e-01,  2.0518777e-01],\n",
       "       [ 7.7767026e-01,  5.2202940e-01, -6.0965496e-01,  1.0981126e+00,\n",
       "         7.8058708e-01, -5.4125172e-01,  7.7802762e-02,  7.7205491e-01,\n",
       "         4.3312162e-02,  6.9745201e-01],\n",
       "       [ 2.1627325e-01,  1.8252337e-01, -3.8446283e-01,  5.1512527e-01,\n",
       "         3.7130895e-01, -8.9221215e-01,  7.9171106e-02,  5.9357983e-01,\n",
       "        -2.1465527e-01,  6.6493696e-01]], dtype=float32)>"
      ]
     },
     "execution_count": 422,
     "metadata": {},
     "output_type": "execute_result"
    }
   ],
   "source": [
    "tf.einsum('Bi,ji-> Bj', tf.random.normal((20,2)), tf.random.normal((10,2)))"
   ]
  },
  {
   "cell_type": "code",
   "execution_count": 423,
   "metadata": {},
   "outputs": [],
   "source": [
    "class MyDense(tf.keras.layers.Layer):\n",
    "    \n",
    "    def __init__(self, units, **kwargs):\n",
    "        super(MyDense, self).__init__(**kwargs)\n",
    "        self.units = units\n",
    "        \n",
    "    def build(self, input_shape):\n",
    "        last_dim = input_shape[-1]\n",
    "        self.kernel = self.add_weight(\n",
    "            shape=(self.units,last_dim),\n",
    "            initializer='random_normal', name='kernel')\n",
    "        self.bias = self.add_weight(\n",
    "            shape=(self.units,),\n",
    "            initializer='zeros', name='bias')\n",
    "        \n",
    "        super(MyDense, self).build(input_shape)\n",
    "    \n",
    "    @tf.function\n",
    "    def call(self, x):\n",
    "        self.add_loss(lambda: tf.reduce_sum(tf.square(self.kernel)))\n",
    "        return tf.einsum('Bi, ji -> Bj', x, self.kernel) + self.bias\n",
    "        #return tf.matmul(x, self.kernel, transpose_b=True)"
   ]
  },
  {
   "cell_type": "code",
   "execution_count": 424,
   "metadata": {},
   "outputs": [],
   "source": [
    "class MyModel(tf.keras.Model):\n",
    "\n",
    "    def __init__(self, *args, **kwargs):\n",
    "        super(MyModel, self).__init__(*args, **kwargs)\n",
    "\n",
    "        #self.dense = MyDense(10)\n",
    "        self.dense = MyDense(1)\n",
    "    \n",
    "    @tf.function\n",
    "    def call(self, x):\n",
    "        #print(self.losses)\n",
    "        #x = self.dense(x)\n",
    "        out = self.dense(x)\n",
    "        return out"
   ]
  },
  {
   "cell_type": "code",
   "execution_count": 425,
   "metadata": {},
   "outputs": [],
   "source": [
    "x = tf.random.normal([20,2])\n",
    "y = tf.random.normal([20,1])"
   ]
  },
  {
   "cell_type": "code",
   "execution_count": 426,
   "metadata": {},
   "outputs": [],
   "source": [
    "model = MyModel()"
   ]
  },
  {
   "cell_type": "code",
   "execution_count": 427,
   "metadata": {},
   "outputs": [],
   "source": [
    "#model.build((20,2))"
   ]
  },
  {
   "cell_type": "code",
   "execution_count": 428,
   "metadata": {},
   "outputs": [],
   "source": [
    "#model.summary()"
   ]
  },
  {
   "cell_type": "code",
   "execution_count": 429,
   "metadata": {},
   "outputs": [],
   "source": [
    "#model.call(x)"
   ]
  },
  {
   "cell_type": "code",
   "execution_count": 430,
   "metadata": {},
   "outputs": [
    {
     "data": {
      "text/plain": [
       "[]"
      ]
     },
     "execution_count": 430,
     "metadata": {},
     "output_type": "execute_result"
    }
   ],
   "source": [
    "model.losses"
   ]
  },
  {
   "cell_type": "code",
   "execution_count": 431,
   "metadata": {},
   "outputs": [],
   "source": [
    "loss_fn = tf.keras.losses.MeanSquaredError(\n",
    "    reduction=tf.keras.losses.Reduction.SUM)\n",
    "optimizer = tf.keras.optimizers.SGD(learning_rate=.01)"
   ]
  },
  {
   "cell_type": "code",
   "execution_count": 432,
   "metadata": {},
   "outputs": [],
   "source": [
    "def train(x, y, model, loss_fn, optimizer, epochs):\n",
    "    train_size = len(x)\n",
    "    for epoch in range(epochs):\n",
    "\n",
    "        # Needed so that I can call tape.gradient multiple times\n",
    "        with tf.GradientTape(persistent=True) as tape:\n",
    "            \n",
    "            print('before')\n",
    "            print(model.losses)\n",
    "            \n",
    "            #model.call(x)\n",
    "            pred = model(x)\n",
    "            loss = loss_fn(y, pred)\n",
    "            print('after')\n",
    "            print(loss)\n",
    "            print(model.losses)\n",
    "\n",
    "\n",
    "\n",
    "            weight_decay = model.losses\n",
    "            #print(model.losses)\n",
    "            \n",
    "            total_loss = loss + weight_decay \n",
    "            #model.losses\n",
    "\n",
    "        loss_grads = tape.gradient(total_loss, model.trainable_weights)\n",
    "        optimizer.apply_gradients(zip(loss_grads, model.trainable_weights))"
   ]
  },
  {
   "cell_type": "code",
   "execution_count": 433,
   "metadata": {},
   "outputs": [
    {
     "name": "stdout",
     "output_type": "stream",
     "text": [
      "before\n",
      "[]\n",
      "after\n",
      "tf.Tensor(22.471128, shape=(), dtype=float32)\n",
      "[<tf.Tensor: shape=(), dtype=float32, numpy=0.0011562583>]\n",
      "before\n",
      "[<tf.Tensor: shape=(), dtype=float32, numpy=0.0039412044>]\n",
      "after\n",
      "tf.Tensor(22.195353, shape=(), dtype=float32)\n",
      "[<tf.Tensor: shape=(), dtype=float32, numpy=0.0039412044>]\n",
      "before\n",
      "[<tf.Tensor: shape=(), dtype=float32, numpy=0.0057871793>]\n",
      "after\n",
      "tf.Tensor(22.16725, shape=(), dtype=float32)\n",
      "[<tf.Tensor: shape=(), dtype=float32, numpy=0.0057871793>]\n"
     ]
    }
   ],
   "source": [
    "train(x,y, model, loss_fn, optimizer, 3)"
   ]
  },
  {
   "cell_type": "code",
   "execution_count": 419,
   "metadata": {},
   "outputs": [
    {
     "data": {
      "text/plain": [
       "[<tf.Tensor: shape=(), dtype=float32, numpy=0.00482824>]"
      ]
     },
     "execution_count": 419,
     "metadata": {},
     "output_type": "execute_result"
    }
   ],
   "source": [
    "model.losses"
   ]
  },
  {
   "cell_type": "code",
   "execution_count": null,
   "metadata": {},
   "outputs": [],
   "source": []
  },
  {
   "cell_type": "code",
   "execution_count": 401,
   "metadata": {},
   "outputs": [],
   "source": [
    "inputs = Input(shape=(10,))\n",
    "x = MyDense(10)(inputs)\n",
    "outputs = Dense(1)(x)\n",
    "model = Model(inputs, outputs)\n",
    "# Weight regularization.\n",
    "#model.add_loss(lambda: tf.reduce_mean(x.kernel))"
   ]
  },
  {
   "cell_type": "markdown",
   "metadata": {},
   "source": [
    "### TFP"
   ]
  },
  {
   "cell_type": "code",
   "execution_count": null,
   "metadata": {},
   "outputs": [],
   "source": []
  },
  {
   "cell_type": "code",
   "execution_count": 2,
   "metadata": {},
   "outputs": [
    {
     "data": {
      "text/plain": [
       "'0.12.0-dev20200719'"
      ]
     },
     "execution_count": 2,
     "metadata": {},
     "output_type": "execute_result"
    }
   ],
   "source": [
    "tfp.__version__"
   ]
  },
  {
   "cell_type": "code",
   "execution_count": 7,
   "metadata": {},
   "outputs": [],
   "source": [
    "num_groups = 3.\n",
    "joint_model = tfd.JointDistributionSequential([\n",
    "    tfd.Normal(loc=0., scale=1., name='z_0'),       \n",
    "    tfd.HalfCauchy(loc=tf.zeros([3]), scale=2., name='lambda_k'),\n",
    "    lambda lambda_k, z_0: tfd.MultivariateNormalDiag( # z_k ~ MVN(z_0, lambda_k)\n",
    "        loc=z_0[...,tf.newaxis],\n",
    "        scale_diag=lambda_k,\n",
    "        name='z_k'),\n",
    "])"
   ]
  },
  {
   "cell_type": "code",
   "execution_count": 13,
   "metadata": {},
   "outputs": [],
   "source": [
    "num_groups = 3.\n",
    "joint_model = tfd.JointDistributionSequential([\n",
    "    tfd.Normal(loc=0., scale=1., name='z_0'),       \n",
    "    tfd.Independent(tfd.HalfCauchy(loc=tf.zeros([3]), scale=2., name='lambda_k'), reinterpreted_batch_ndims=1),\n",
    "    lambda lambda_k, z_0: tfd.MultivariateNormalDiag( # z_k ~ MVN(z_0, lambda_k)\n",
    "        loc=z_0[...,tf.newaxis],\n",
    "        scale_diag=lambda_k,\n",
    "        name='z_k'),\n",
    "])"
   ]
  },
  {
   "cell_type": "code",
   "execution_count": 29,
   "metadata": {},
   "outputs": [],
   "source": [
    "def affine(x, kernel_diag, bias=tf.zeros([])):\n",
    "    \"\"\"`kernel_diag * x + bias` with broadcasting.\"\"\"\n",
    "    kernel_diag = tf.ones_like(x) * kernel_diag\n",
    "    bias = tf.ones_like(x) * bias\n",
    "    return x * kernel_diag + bias"
   ]
  },
  {
   "cell_type": "code",
   "execution_count": 32,
   "metadata": {},
   "outputs": [],
   "source": [
    "num_groups = 3\n",
    "joint_model = tfd.JointDistributionSequential([\n",
    "    tfd.Normal(loc=0., scale=1., name='z_0'),       \n",
    "    tfd.HalfCauchy(loc=tf.zeros([3]), scale=2., name='lambda_k'),\n",
    "    lambda lambda_k, z_0: tfd.MultivariateNormalDiag( # z_k ~ MVN(z_0, lambda_k)\n",
    "        loc=affine(tf.ones([num_groups]), z_0[...,tf.newaxis]),\n",
    "        scale_diag=lambda_k,\n",
    "        name='z_k'),\n",
    "])"
   ]
  },
  {
   "cell_type": "code",
   "execution_count": 14,
   "metadata": {},
   "outputs": [
    {
     "data": {
      "text/plain": [
       "<tfp.distributions.JointDistributionSequential 'JointDistributionSequential' batch_shape=[[], [], []] event_shape=[[], [3], [3]] dtype=[float32, float32, float32]>"
      ]
     },
     "execution_count": 14,
     "metadata": {},
     "output_type": "execute_result"
    }
   ],
   "source": [
    "joint_model"
   ]
  },
  {
   "cell_type": "code",
   "execution_count": 15,
   "metadata": {},
   "outputs": [
    {
     "data": {
      "text/plain": [
       "[<tf.Tensor: shape=(1,), dtype=float32, numpy=array([-0.6760397], dtype=float32)>,\n",
       " <tf.Tensor: shape=(1, 3), dtype=float32, numpy=array([[26.191511  ,  0.46299776,  0.58484864]], dtype=float32)>,\n",
       " <tf.Tensor: shape=(1, 3), dtype=float32, numpy=array([[-12.368133  ,  -0.30241722,  -0.7617348 ]], dtype=float32)>]"
      ]
     },
     "execution_count": 15,
     "metadata": {},
     "output_type": "execute_result"
    }
   ],
   "source": [
    "joint_model.sample(1)"
   ]
  },
  {
   "cell_type": "code",
   "execution_count": 16,
   "metadata": {},
   "outputs": [
    {
     "data": {
      "text/plain": [
       "<tf.Tensor: shape=(4,), dtype=float32, numpy=array([-17.527115, -22.11274 , -16.917967, -20.59402 ], dtype=float32)>"
      ]
     },
     "execution_count": 16,
     "metadata": {},
     "output_type": "execute_result"
    }
   ],
   "source": [
    "joint_model.log_prob(joint_model.sample())\n",
    "# ERROR \n",
    "joint_model.log_prob(joint_model.sample(4))"
   ]
  },
  {
   "cell_type": "code",
   "execution_count": 17,
   "metadata": {},
   "outputs": [],
   "source": [
    "from tensorflow.keras.layers import Dense"
   ]
  },
  {
   "cell_type": "code",
   "execution_count": 111,
   "metadata": {},
   "outputs": [],
   "source": [
    "class TestLayer(tf.keras.layers.Layer):\n",
    "    \n",
    "    def __init__(self, units, **kwargs):\n",
    "        super(TestLayer, self).__init__(**kwargs)\n",
    "        self.units=units\n",
    "        \n",
    "        \n",
    "    def build(self, input_shape):\n",
    "        self.dense = Dense(self.units)\n",
    "        \n",
    "    @tf.function  \n",
    "    def call(self, x):\n",
    "        \n",
    "        out = self.dense(x)\n",
    "        #import ipdb; ipdb.set_trace()\n",
    "        self.add_loss(lambda: tf.reduce_sum(tf.square(self.dense.kernel)))\n",
    "        #self.add_loss(tf.reduce_sum(x))\n",
    "        return out"
   ]
  },
  {
   "cell_type": "code",
   "execution_count": 112,
   "metadata": {},
   "outputs": [],
   "source": [
    "# model = tf.keras.models.Sequential([\n",
    "#     TestLayer(1)\n",
    "# ])\n",
    "xi = tf.keras.layers.Input(shape=[1], batch_size=10)\n",
    "layer = TestLayer(1)\n",
    "out = layer(xi)\n",
    "model = tf.keras.models.Model(inputs=xi, outputs=out)\n",
    "\n",
    "model.compile(optimizer=tf.keras.optimizers.SGD(learning_rate=0.1), loss='mse', metrics='mse')"
   ]
  },
  {
   "cell_type": "code",
   "execution_count": 113,
   "metadata": {},
   "outputs": [],
   "source": [
    "import numpy as np\n",
    "np.random.seed(4)\n",
    "x = tf.convert_to_tensor(np.random.randn(10))[..., tf.newaxis]\n",
    "y = tf.convert_to_tensor(2*x + 0.5 + 0.1*np.random.randn(10))[..., tf.newaxis]"
   ]
  },
  {
   "cell_type": "code",
   "execution_count": 114,
   "metadata": {},
   "outputs": [
    {
     "name": "stdout",
     "output_type": "stream",
     "text": [
      "Epoch 1/10\n",
      "1/1 [==============================] - 0s 970us/step - loss: 4.2890 - mse: 3.7650\n",
      "Epoch 2/10\n",
      "1/1 [==============================] - 0s 634us/step - loss: 2.3826 - mse: 2.3826\n",
      "Epoch 3/10\n",
      "1/1 [==============================] - 0s 558us/step - loss: 1.9696 - mse: 1.8592\n",
      "Epoch 4/10\n",
      "1/1 [==============================] - 0s 674us/step - loss: 1.8757 - mse: 1.6362\n",
      "Epoch 5/10\n",
      "1/1 [==============================] - 0s 716us/step - loss: 1.8515 - mse: 1.5333\n",
      "Epoch 6/10\n",
      "1/1 [==============================] - 0s 552us/step - loss: 1.8435 - mse: 1.4831\n",
      "Epoch 7/10\n",
      "1/1 [==============================] - 0s 685us/step - loss: 1.8399 - mse: 1.4572\n",
      "Epoch 8/10\n",
      "1/1 [==============================] - 0s 586us/step - loss: 1.8380 - mse: 1.4431\n",
      "Epoch 9/10\n",
      "1/1 [==============================] - 0s 674us/step - loss: 1.8368 - mse: 1.4349\n",
      "Epoch 10/10\n",
      "1/1 [==============================] - 0s 617us/step - loss: 1.8360 - mse: 1.4298\n"
     ]
    },
    {
     "data": {
      "text/plain": [
       "<tensorflow.python.keras.callbacks.History at 0x7fc700328790>"
      ]
     },
     "execution_count": 114,
     "metadata": {},
     "output_type": "execute_result"
    }
   ],
   "source": [
    "\n",
    "model.fit(x,y, batch_size=10, epochs=10)"
   ]
  },
  {
   "cell_type": "code",
   "execution_count": null,
   "metadata": {},
   "outputs": [],
   "source": []
  }
 ],
 "metadata": {
  "kernelspec": {
   "display_name": "Python 3",
   "language": "python",
   "name": "python3"
  },
  "language_info": {
   "codemirror_mode": {
    "name": "ipython",
    "version": 3
   },
   "file_extension": ".py",
   "mimetype": "text/x-python",
   "name": "python",
   "nbconvert_exporter": "python",
   "pygments_lexer": "ipython3",
   "version": "3.7.4"
  }
 },
 "nbformat": 4,
 "nbformat_minor": 4
}
