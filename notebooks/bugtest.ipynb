{
 "cells": [
  {
   "cell_type": "code",
   "execution_count": 1,
   "metadata": {},
   "outputs": [],
   "source": [
    "import tensorflow as tf\n",
    "import tensorflow_probability as tfp\n",
    "tfd = tfp.distributions "
   ]
  },
  {
   "cell_type": "code",
   "execution_count": 2,
   "metadata": {},
   "outputs": [
    {
     "data": {
      "text/plain": [
       "'0.12.0-dev20200719'"
      ]
     },
     "execution_count": 2,
     "metadata": {},
     "output_type": "execute_result"
    }
   ],
   "source": [
    "tfp.__version__"
   ]
  },
  {
   "cell_type": "code",
   "execution_count": 7,
   "metadata": {},
   "outputs": [],
   "source": [
    "num_groups = 3.\n",
    "joint_model = tfd.JointDistributionSequential([\n",
    "    tfd.Normal(loc=0., scale=1., name='z_0'),       \n",
    "    tfd.HalfCauchy(loc=tf.zeros([3]), scale=2., name='lambda_k'),\n",
    "    lambda lambda_k, z_0: tfd.MultivariateNormalDiag( # z_k ~ MVN(z_0, lambda_k)\n",
    "        loc=z_0[...,tf.newaxis],\n",
    "        scale_diag=lambda_k,\n",
    "        name='z_k'),\n",
    "])"
   ]
  },
  {
   "cell_type": "code",
   "execution_count": 13,
   "metadata": {},
   "outputs": [],
   "source": [
    "num_groups = 3.\n",
    "joint_model = tfd.JointDistributionSequential([\n",
    "    tfd.Normal(loc=0., scale=1., name='z_0'),       \n",
    "    tfd.Independent(tfd.HalfCauchy(loc=tf.zeros([3]), scale=2., name='lambda_k'), reinterpreted_batch_ndims=1),\n",
    "    lambda lambda_k, z_0: tfd.MultivariateNormalDiag( # z_k ~ MVN(z_0, lambda_k)\n",
    "        loc=z_0[...,tf.newaxis],\n",
    "        scale_diag=lambda_k,\n",
    "        name='z_k'),\n",
    "])"
   ]
  },
  {
   "cell_type": "code",
   "execution_count": 29,
   "metadata": {},
   "outputs": [],
   "source": [
    "def affine(x, kernel_diag, bias=tf.zeros([])):\n",
    "    \"\"\"`kernel_diag * x + bias` with broadcasting.\"\"\"\n",
    "    kernel_diag = tf.ones_like(x) * kernel_diag\n",
    "    bias = tf.ones_like(x) * bias\n",
    "    return x * kernel_diag + bias"
   ]
  },
  {
   "cell_type": "code",
   "execution_count": 32,
   "metadata": {},
   "outputs": [],
   "source": [
    "num_groups = 3\n",
    "joint_model = tfd.JointDistributionSequential([\n",
    "    tfd.Normal(loc=0., scale=1., name='z_0'),       \n",
    "    tfd.HalfCauchy(loc=tf.zeros([3]), scale=2., name='lambda_k'),\n",
    "    lambda lambda_k, z_0: tfd.MultivariateNormalDiag( # z_k ~ MVN(z_0, lambda_k)\n",
    "        loc=affine(tf.ones([num_groups]), z_0[...,tf.newaxis]),\n",
    "        scale_diag=lambda_k,\n",
    "        name='z_k'),\n",
    "])"
   ]
  },
  {
   "cell_type": "code",
   "execution_count": 14,
   "metadata": {},
   "outputs": [
    {
     "data": {
      "text/plain": [
       "<tfp.distributions.JointDistributionSequential 'JointDistributionSequential' batch_shape=[[], [], []] event_shape=[[], [3], [3]] dtype=[float32, float32, float32]>"
      ]
     },
     "execution_count": 14,
     "metadata": {},
     "output_type": "execute_result"
    }
   ],
   "source": [
    "joint_model"
   ]
  },
  {
   "cell_type": "code",
   "execution_count": 15,
   "metadata": {},
   "outputs": [
    {
     "data": {
      "text/plain": [
       "[<tf.Tensor: shape=(1,), dtype=float32, numpy=array([-0.6760397], dtype=float32)>,\n",
       " <tf.Tensor: shape=(1, 3), dtype=float32, numpy=array([[26.191511  ,  0.46299776,  0.58484864]], dtype=float32)>,\n",
       " <tf.Tensor: shape=(1, 3), dtype=float32, numpy=array([[-12.368133  ,  -0.30241722,  -0.7617348 ]], dtype=float32)>]"
      ]
     },
     "execution_count": 15,
     "metadata": {},
     "output_type": "execute_result"
    }
   ],
   "source": [
    "joint_model.sample(1)"
   ]
  },
  {
   "cell_type": "code",
   "execution_count": 16,
   "metadata": {},
   "outputs": [
    {
     "data": {
      "text/plain": [
       "<tf.Tensor: shape=(4,), dtype=float32, numpy=array([-17.527115, -22.11274 , -16.917967, -20.59402 ], dtype=float32)>"
      ]
     },
     "execution_count": 16,
     "metadata": {},
     "output_type": "execute_result"
    }
   ],
   "source": [
    "joint_model.log_prob(joint_model.sample())\n",
    "# ERROR \n",
    "joint_model.log_prob(joint_model.sample(4))"
   ]
  },
  {
   "cell_type": "code",
   "execution_count": 17,
   "metadata": {},
   "outputs": [],
   "source": [
    "from tensorflow.keras.layers import Dense"
   ]
  },
  {
   "cell_type": "code",
   "execution_count": 111,
   "metadata": {},
   "outputs": [],
   "source": [
    "class TestLayer(tf.keras.layers.Layer):\n",
    "    \n",
    "    def __init__(self, units, **kwargs):\n",
    "        super(TestLayer, self).__init__(**kwargs)\n",
    "        self.units=units\n",
    "        \n",
    "        \n",
    "    def build(self, input_shape):\n",
    "        self.dense = Dense(self.units)\n",
    "        \n",
    "    @tf.function  \n",
    "    def call(self, x):\n",
    "        \n",
    "        out = self.dense(x)\n",
    "        #import ipdb; ipdb.set_trace()\n",
    "        self.add_loss(lambda: tf.reduce_sum(tf.square(self.dense.kernel)))\n",
    "        #self.add_loss(tf.reduce_sum(x))\n",
    "        return out"
   ]
  },
  {
   "cell_type": "code",
   "execution_count": 112,
   "metadata": {},
   "outputs": [],
   "source": [
    "# model = tf.keras.models.Sequential([\n",
    "#     TestLayer(1)\n",
    "# ])\n",
    "xi = tf.keras.layers.Input(shape=[1], batch_size=10)\n",
    "layer = TestLayer(1)\n",
    "out = layer(xi)\n",
    "model = tf.keras.models.Model(inputs=xi, outputs=out)\n",
    "\n",
    "model.compile(optimizer=tf.keras.optimizers.SGD(learning_rate=0.1), loss='mse', metrics='mse')"
   ]
  },
  {
   "cell_type": "code",
   "execution_count": 113,
   "metadata": {},
   "outputs": [],
   "source": [
    "import numpy as np\n",
    "np.random.seed(4)\n",
    "x = tf.convert_to_tensor(np.random.randn(10))[..., tf.newaxis]\n",
    "y = tf.convert_to_tensor(2*x + 0.5 + 0.1*np.random.randn(10))[..., tf.newaxis]"
   ]
  },
  {
   "cell_type": "code",
   "execution_count": 114,
   "metadata": {},
   "outputs": [
    {
     "name": "stdout",
     "output_type": "stream",
     "text": [
      "Epoch 1/10\n",
      "1/1 [==============================] - 0s 970us/step - loss: 4.2890 - mse: 3.7650\n",
      "Epoch 2/10\n",
      "1/1 [==============================] - 0s 634us/step - loss: 2.3826 - mse: 2.3826\n",
      "Epoch 3/10\n",
      "1/1 [==============================] - 0s 558us/step - loss: 1.9696 - mse: 1.8592\n",
      "Epoch 4/10\n",
      "1/1 [==============================] - 0s 674us/step - loss: 1.8757 - mse: 1.6362\n",
      "Epoch 5/10\n",
      "1/1 [==============================] - 0s 716us/step - loss: 1.8515 - mse: 1.5333\n",
      "Epoch 6/10\n",
      "1/1 [==============================] - 0s 552us/step - loss: 1.8435 - mse: 1.4831\n",
      "Epoch 7/10\n",
      "1/1 [==============================] - 0s 685us/step - loss: 1.8399 - mse: 1.4572\n",
      "Epoch 8/10\n",
      "1/1 [==============================] - 0s 586us/step - loss: 1.8380 - mse: 1.4431\n",
      "Epoch 9/10\n",
      "1/1 [==============================] - 0s 674us/step - loss: 1.8368 - mse: 1.4349\n",
      "Epoch 10/10\n",
      "1/1 [==============================] - 0s 617us/step - loss: 1.8360 - mse: 1.4298\n"
     ]
    },
    {
     "data": {
      "text/plain": [
       "<tensorflow.python.keras.callbacks.History at 0x7fc700328790>"
      ]
     },
     "execution_count": 114,
     "metadata": {},
     "output_type": "execute_result"
    }
   ],
   "source": [
    "\n",
    "model.fit(x,y, batch_size=10, epochs=10)"
   ]
  },
  {
   "cell_type": "code",
   "execution_count": null,
   "metadata": {},
   "outputs": [],
   "source": []
  }
 ],
 "metadata": {
  "kernelspec": {
   "display_name": "Python 3",
   "language": "python",
   "name": "python3"
  },
  "language_info": {
   "codemirror_mode": {
    "name": "ipython",
    "version": 3
   },
   "file_extension": ".py",
   "mimetype": "text/x-python",
   "name": "python",
   "nbconvert_exporter": "python",
   "pygments_lexer": "ipython3",
   "version": "3.7.4"
  }
 },
 "nbformat": 4,
 "nbformat_minor": 4
}
